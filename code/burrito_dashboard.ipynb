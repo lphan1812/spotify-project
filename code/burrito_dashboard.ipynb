{
 "cells": [
  {
   "cell_type": "markdown",
   "id": "43200517-69e1-41e9-a9df-762d0b5623db",
   "metadata": {
    "tags": []
   },
   "source": [
    "### Run the following commands in the terminal before you start\n",
    "source activate base\n",
    "\n",
    "cd /Users/lphan/Documents/Spotify/spotify_dashboard\n",
    "\n",
    "source bin/activate\n",
    "\n",
    "jupyter lab"
   ]
  },
  {
   "cell_type": "code",
   "execution_count": 1,
   "id": "bdaf857c-1313-443d-80d8-8f5f412c8bd9",
   "metadata": {},
   "outputs": [],
   "source": [
    "import os\n",
    "os.chdir('/Users/lphan/Documents/Spotify/spotify_dashboard')"
   ]
  },
  {
   "cell_type": "code",
   "execution_count": 2,
   "id": "18916004-5231-4c87-8f7e-039c4c25f4ba",
   "metadata": {
    "tags": []
   },
   "outputs": [
    {
     "data": {
      "application/javascript": "(function(root) {\n  function now() {\n    return new Date();\n  }\n\n  var force = true;\n\n  if (typeof root._bokeh_onload_callbacks === \"undefined\" || force === true) {\n    root._bokeh_onload_callbacks = [];\n    root._bokeh_is_loading = undefined;\n  }\n\n  if (typeof (root._bokeh_timeout) === \"undefined\" || force === true) {\n    root._bokeh_timeout = Date.now() + 5000;\n    root._bokeh_failed_load = false;\n  }\n\n  function run_callbacks() {\n    try {\n      root._bokeh_onload_callbacks.forEach(function(callback) {\n        if (callback != null)\n          callback();\n      });\n    } finally {\n      delete root._bokeh_onload_callbacks\n    }\n    console.debug(\"Bokeh: all callbacks have finished\");\n  }\n\n  function load_libs(css_urls, js_urls, js_modules, callback) {\n    if (css_urls == null) css_urls = [];\n    if (js_urls == null) js_urls = [];\n    if (js_modules == null) js_modules = [];\n\n    root._bokeh_onload_callbacks.push(callback);\n    if (root._bokeh_is_loading > 0) {\n      console.debug(\"Bokeh: BokehJS is being loaded, scheduling callback at\", now());\n      return null;\n    }\n    if (js_urls.length === 0 && js_modules.length === 0) {\n      run_callbacks();\n      return null;\n    }\n    console.debug(\"Bokeh: BokehJS not loaded, scheduling load and callback at\", now());\n\n    function on_load() {\n      root._bokeh_is_loading--;\n      if (root._bokeh_is_loading === 0) {\n        console.debug(\"Bokeh: all BokehJS libraries/stylesheets loaded\");\n        run_callbacks()\n      }\n    }\n\n    function on_error() {\n      console.error(\"failed to load \" + url);\n    }\n\n    for (var i = 0; i < css_urls.length; i++) {\n      var url = css_urls[i];\n      const element = document.createElement(\"link\");\n      element.onload = on_load;\n      element.onerror = on_error;\n      element.rel = \"stylesheet\";\n      element.type = \"text/css\";\n      element.href = url;\n      console.debug(\"Bokeh: injecting link tag for BokehJS stylesheet: \", url);\n      document.body.appendChild(element);\n    }\n\n    var skip = [];\n    if (window.requirejs) {\n      window.requirejs.config({'packages': {}, 'paths': {'tabulator': 'https://cdn.jsdelivr.net/npm/tabulator-tables@5.3.2/dist/js/tabulator', 'moment': 'https://cdn.jsdelivr.net/npm/luxon/build/global/luxon.min', 'gridstack': 'https://cdn.jsdelivr.net/npm/gridstack@4.2.5/dist/gridstack-h5', 'notyf': 'https://cdn.jsdelivr.net/npm/notyf@3/notyf.min'}, 'shim': {'gridstack': {'exports': 'GridStack'}}});\n      require([\"tabulator\"], function(Tabulator) {\n\twindow.Tabulator = Tabulator\n\ton_load()\n      })\n      require([\"moment\"], function(moment) {\n\twindow.moment = moment\n\ton_load()\n      })\n      require([\"gridstack\"], function(GridStack) {\n\twindow.GridStack = GridStack\n\ton_load()\n      })\n      require([\"notyf\"], function() {\n\ton_load()\n      })\n      root._bokeh_is_loading = css_urls.length + 4;\n    } else {\n      root._bokeh_is_loading = css_urls.length + js_urls.length + js_modules.length;\n    }    if (((window['Tabulator'] !== undefined) && (!(window['Tabulator'] instanceof HTMLElement))) || window.requirejs) {\n      var urls = ['https://cdn.holoviz.org/panel/0.14.4/dist/bundled/datatabulator/tabulator-tables@5.3.2/dist/js/tabulator.js'];\n      for (var i = 0; i < urls.length; i++) {\n        skip.push(urls[i])\n      }\n    }    if (((window['moment'] !== undefined) && (!(window['moment'] instanceof HTMLElement))) || window.requirejs) {\n      var urls = ['https://cdn.holoviz.org/panel/0.14.4/dist/bundled/datatabulator/luxon/build/global/luxon.min.js'];\n      for (var i = 0; i < urls.length; i++) {\n        skip.push(urls[i])\n      }\n    }    if (((window['GridStack'] !== undefined) && (!(window['GridStack'] instanceof HTMLElement))) || window.requirejs) {\n      var urls = ['https://cdn.holoviz.org/panel/0.14.4/dist/bundled/gridstack/gridstack@4.2.5/dist/gridstack-h5.js'];\n      for (var i = 0; i < urls.length; i++) {\n        skip.push(urls[i])\n      }\n    }    if (((window['Notyf'] !== undefined) && (!(window['Notyf'] instanceof HTMLElement))) || window.requirejs) {\n      var urls = ['https://cdn.holoviz.org/panel/0.14.4/dist/bundled/notificationarea/notyf@3/notyf.min.js'];\n      for (var i = 0; i < urls.length; i++) {\n        skip.push(urls[i])\n      }\n    }    for (var i = 0; i < js_urls.length; i++) {\n      var url = js_urls[i];\n      if (skip.indexOf(url) >= 0) {\n\tif (!window.requirejs) {\n\t  on_load();\n\t}\n\tcontinue;\n      }\n      var element = document.createElement('script');\n      element.onload = on_load;\n      element.onerror = on_error;\n      element.async = false;\n      element.src = url;\n      console.debug(\"Bokeh: injecting script tag for BokehJS library: \", url);\n      document.head.appendChild(element);\n    }\n    for (var i = 0; i < js_modules.length; i++) {\n      var url = js_modules[i];\n      if (skip.indexOf(url) >= 0) {\n\tif (!window.requirejs) {\n\t  on_load();\n\t}\n\tcontinue;\n      }\n      var element = document.createElement('script');\n      element.onload = on_load;\n      element.onerror = on_error;\n      element.async = false;\n      element.src = url;\n      element.type = \"module\";\n      console.debug(\"Bokeh: injecting script tag for BokehJS library: \", url);\n      document.head.appendChild(element);\n    }\n    if (!js_urls.length && !js_modules.length) {\n      on_load()\n    }\n  };\n\n  function inject_raw_css(css) {\n    const element = document.createElement(\"style\");\n    element.appendChild(document.createTextNode(css));\n    document.body.appendChild(element);\n  }\n\n  var js_urls = [\"https://cdn.holoviz.org/panel/0.14.4/dist/bundled/datatabulator/tabulator-tables@5.3.2/dist/js/tabulator.js\", \"https://cdn.holoviz.org/panel/0.14.4/dist/bundled/datatabulator/luxon/build/global/luxon.min.js\", \"https://cdn.bokeh.org/bokeh/release/bokeh-2.4.3.min.js\", \"https://cdn.bokeh.org/bokeh/release/bokeh-gl-2.4.3.min.js\", \"https://cdn.bokeh.org/bokeh/release/bokeh-widgets-2.4.3.min.js\", \"https://cdn.bokeh.org/bokeh/release/bokeh-tables-2.4.3.min.js\", \"https://cdn.bokeh.org/bokeh/release/bokeh-mathjax-2.4.3.min.js\", \"https://unpkg.com/@holoviz/panel@0.14.4/dist/panel.min.js\"];\n  var js_modules = [];\n  var css_urls = [\"https://cdn.holoviz.org/panel/0.14.4/dist/bundled/datatabulator/tabulator-tables@5.3.2/dist/css/tabulator_simple.min.css\", \"https://cdn.holoviz.org/panel/0.14.4/dist/css/debugger.css\", \"https://cdn.holoviz.org/panel/0.14.4/dist/css/alerts.css\", \"https://cdn.holoviz.org/panel/0.14.4/dist/css/card.css\", \"https://cdn.holoviz.org/panel/0.14.4/dist/css/widgets.css\", \"https://cdn.holoviz.org/panel/0.14.4/dist/css/markdown.css\", \"https://cdn.holoviz.org/panel/0.14.4/dist/css/json.css\", \"https://cdn.holoviz.org/panel/0.14.4/dist/css/loading.css\", \"https://cdn.holoviz.org/panel/0.14.4/dist/css/dataframe.css\"];\n  var inline_js = [    function(Bokeh) {\n      inject_raw_css(\"\\n    .bk.pn-loading.arc:before {\\n      background-image: url(\\\"data:image/svg+xml;base64,PHN2ZyB4bWxucz0iaHR0cDovL3d3dy53My5vcmcvMjAwMC9zdmciIHN0eWxlPSJtYXJnaW46IGF1dG87IGJhY2tncm91bmQ6IG5vbmU7IGRpc3BsYXk6IGJsb2NrOyBzaGFwZS1yZW5kZXJpbmc6IGF1dG87IiB2aWV3Qm94PSIwIDAgMTAwIDEwMCIgcHJlc2VydmVBc3BlY3RSYXRpbz0ieE1pZFlNaWQiPiAgPGNpcmNsZSBjeD0iNTAiIGN5PSI1MCIgZmlsbD0ibm9uZSIgc3Ryb2tlPSIjYzNjM2MzIiBzdHJva2Utd2lkdGg9IjEwIiByPSIzNSIgc3Ryb2tlLWRhc2hhcnJheT0iMTY0LjkzMzYxNDMxMzQ2NDE1IDU2Ljk3Nzg3MTQzNzgyMTM4Ij4gICAgPGFuaW1hdGVUcmFuc2Zvcm0gYXR0cmlidXRlTmFtZT0idHJhbnNmb3JtIiB0eXBlPSJyb3RhdGUiIHJlcGVhdENvdW50PSJpbmRlZmluaXRlIiBkdXI9IjFzIiB2YWx1ZXM9IjAgNTAgNTA7MzYwIDUwIDUwIiBrZXlUaW1lcz0iMDsxIj48L2FuaW1hdGVUcmFuc2Zvcm0+ICA8L2NpcmNsZT48L3N2Zz4=\\\");\\n      background-size: auto calc(min(50%, 400px));\\n    }\\n    \");\n    },    function(Bokeh) {\n      Bokeh.set_log_level(\"info\");\n    },\nfunction(Bokeh) {} // ensure no trailing comma for IE\n  ];\n\n  function run_inline_js() {\n    if ((root.Bokeh !== undefined) || (force === true)) {\n      for (var i = 0; i < inline_js.length; i++) {\n        inline_js[i].call(root, root.Bokeh);\n      }} else if (Date.now() < root._bokeh_timeout) {\n      setTimeout(run_inline_js, 100);\n    } else if (!root._bokeh_failed_load) {\n      console.log(\"Bokeh: BokehJS failed to load within specified timeout.\");\n      root._bokeh_failed_load = true;\n    }\n  }\n\n  if (root._bokeh_is_loading === 0) {\n    console.debug(\"Bokeh: BokehJS loaded, going straight to plotting\");\n    run_inline_js();\n  } else {\n    load_libs(css_urls, js_urls, js_modules, function() {\n      console.debug(\"Bokeh: BokehJS plotting callback run at\", now());\n      run_inline_js();\n    });\n  }\n}(window));",
      "application/vnd.holoviews_load.v0+json": ""
     },
     "metadata": {},
     "output_type": "display_data"
    },
    {
     "data": {
      "application/javascript": "\nif ((window.PyViz === undefined) || (window.PyViz instanceof HTMLElement)) {\n  window.PyViz = {comms: {}, comm_status:{}, kernels:{}, receivers: {}, plot_index: []}\n}\n\n\n    function JupyterCommManager() {\n    }\n\n    JupyterCommManager.prototype.register_target = function(plot_id, comm_id, msg_handler) {\n      if (window.comm_manager || ((window.Jupyter !== undefined) && (Jupyter.notebook.kernel != null))) {\n        var comm_manager = window.comm_manager || Jupyter.notebook.kernel.comm_manager;\n        comm_manager.register_target(comm_id, function(comm) {\n          comm.on_msg(msg_handler);\n        });\n      } else if ((plot_id in window.PyViz.kernels) && (window.PyViz.kernels[plot_id])) {\n        window.PyViz.kernels[plot_id].registerCommTarget(comm_id, function(comm) {\n          comm.onMsg = msg_handler;\n        });\n      } else if (typeof google != 'undefined' && google.colab.kernel != null) {\n        google.colab.kernel.comms.registerTarget(comm_id, (comm) => {\n          var messages = comm.messages[Symbol.asyncIterator]();\n          function processIteratorResult(result) {\n            var message = result.value;\n            console.log(message)\n            var content = {data: message.data, comm_id};\n            var buffers = []\n            for (var buffer of message.buffers || []) {\n              buffers.push(new DataView(buffer))\n            }\n            var metadata = message.metadata || {};\n            var msg = {content, buffers, metadata}\n            msg_handler(msg);\n            return messages.next().then(processIteratorResult);\n          }\n          return messages.next().then(processIteratorResult);\n        })\n      }\n    }\n\n    JupyterCommManager.prototype.get_client_comm = function(plot_id, comm_id, msg_handler) {\n      if (comm_id in window.PyViz.comms) {\n        return window.PyViz.comms[comm_id];\n      } else if (window.comm_manager || ((window.Jupyter !== undefined) && (Jupyter.notebook.kernel != null))) {\n        var comm_manager = window.comm_manager || Jupyter.notebook.kernel.comm_manager;\n        var comm = comm_manager.new_comm(comm_id, {}, {}, {}, comm_id);\n        if (msg_handler) {\n          comm.on_msg(msg_handler);\n        }\n      } else if ((plot_id in window.PyViz.kernels) && (window.PyViz.kernels[plot_id])) {\n        var comm = window.PyViz.kernels[plot_id].connectToComm(comm_id);\n        comm.open();\n        if (msg_handler) {\n          comm.onMsg = msg_handler;\n        }\n      } else if (typeof google != 'undefined' && google.colab.kernel != null) {\n        var comm_promise = google.colab.kernel.comms.open(comm_id)\n        comm_promise.then((comm) => {\n          window.PyViz.comms[comm_id] = comm;\n          if (msg_handler) {\n            var messages = comm.messages[Symbol.asyncIterator]();\n            function processIteratorResult(result) {\n              var message = result.value;\n              var content = {data: message.data};\n              var metadata = message.metadata || {comm_id};\n              var msg = {content, metadata}\n              msg_handler(msg);\n              return messages.next().then(processIteratorResult);\n            }\n            return messages.next().then(processIteratorResult);\n          }\n        }) \n        var sendClosure = (data, metadata, buffers, disposeOnDone) => {\n          return comm_promise.then((comm) => {\n            comm.send(data, metadata, buffers, disposeOnDone);\n          });\n        };\n        var comm = {\n          send: sendClosure\n        };\n      }\n      window.PyViz.comms[comm_id] = comm;\n      return comm;\n    }\n    window.PyViz.comm_manager = new JupyterCommManager();\n    \n\n\nvar JS_MIME_TYPE = 'application/javascript';\nvar HTML_MIME_TYPE = 'text/html';\nvar EXEC_MIME_TYPE = 'application/vnd.holoviews_exec.v0+json';\nvar CLASS_NAME = 'output';\n\n/**\n * Render data to the DOM node\n */\nfunction render(props, node) {\n  var div = document.createElement(\"div\");\n  var script = document.createElement(\"script\");\n  node.appendChild(div);\n  node.appendChild(script);\n}\n\n/**\n * Handle when a new output is added\n */\nfunction handle_add_output(event, handle) {\n  var output_area = handle.output_area;\n  var output = handle.output;\n  if ((output.data == undefined) || (!output.data.hasOwnProperty(EXEC_MIME_TYPE))) {\n    return\n  }\n  var id = output.metadata[EXEC_MIME_TYPE][\"id\"];\n  var toinsert = output_area.element.find(\".\" + CLASS_NAME.split(' ')[0]);\n  if (id !== undefined) {\n    var nchildren = toinsert.length;\n    var html_node = toinsert[nchildren-1].children[0];\n    html_node.innerHTML = output.data[HTML_MIME_TYPE];\n    var scripts = [];\n    var nodelist = html_node.querySelectorAll(\"script\");\n    for (var i in nodelist) {\n      if (nodelist.hasOwnProperty(i)) {\n        scripts.push(nodelist[i])\n      }\n    }\n\n    scripts.forEach( function (oldScript) {\n      var newScript = document.createElement(\"script\");\n      var attrs = [];\n      var nodemap = oldScript.attributes;\n      for (var j in nodemap) {\n        if (nodemap.hasOwnProperty(j)) {\n          attrs.push(nodemap[j])\n        }\n      }\n      attrs.forEach(function(attr) { newScript.setAttribute(attr.name, attr.value) });\n      newScript.appendChild(document.createTextNode(oldScript.innerHTML));\n      oldScript.parentNode.replaceChild(newScript, oldScript);\n    });\n    if (JS_MIME_TYPE in output.data) {\n      toinsert[nchildren-1].children[1].textContent = output.data[JS_MIME_TYPE];\n    }\n    output_area._hv_plot_id = id;\n    if ((window.Bokeh !== undefined) && (id in Bokeh.index)) {\n      window.PyViz.plot_index[id] = Bokeh.index[id];\n    } else {\n      window.PyViz.plot_index[id] = null;\n    }\n  } else if (output.metadata[EXEC_MIME_TYPE][\"server_id\"] !== undefined) {\n    var bk_div = document.createElement(\"div\");\n    bk_div.innerHTML = output.data[HTML_MIME_TYPE];\n    var script_attrs = bk_div.children[0].attributes;\n    for (var i = 0; i < script_attrs.length; i++) {\n      toinsert[toinsert.length - 1].childNodes[1].setAttribute(script_attrs[i].name, script_attrs[i].value);\n    }\n    // store reference to server id on output_area\n    output_area._bokeh_server_id = output.metadata[EXEC_MIME_TYPE][\"server_id\"];\n  }\n}\n\n/**\n * Handle when an output is cleared or removed\n */\nfunction handle_clear_output(event, handle) {\n  var id = handle.cell.output_area._hv_plot_id;\n  var server_id = handle.cell.output_area._bokeh_server_id;\n  if (((id === undefined) || !(id in PyViz.plot_index)) && (server_id !== undefined)) { return; }\n  var comm = window.PyViz.comm_manager.get_client_comm(\"hv-extension-comm\", \"hv-extension-comm\", function () {});\n  if (server_id !== null) {\n    comm.send({event_type: 'server_delete', 'id': server_id});\n    return;\n  } else if (comm !== null) {\n    comm.send({event_type: 'delete', 'id': id});\n  }\n  delete PyViz.plot_index[id];\n  if ((window.Bokeh !== undefined) & (id in window.Bokeh.index)) {\n    var doc = window.Bokeh.index[id].model.document\n    doc.clear();\n    const i = window.Bokeh.documents.indexOf(doc);\n    if (i > -1) {\n      window.Bokeh.documents.splice(i, 1);\n    }\n  }\n}\n\n/**\n * Handle kernel restart event\n */\nfunction handle_kernel_cleanup(event, handle) {\n  delete PyViz.comms[\"hv-extension-comm\"];\n  window.PyViz.plot_index = {}\n}\n\n/**\n * Handle update_display_data messages\n */\nfunction handle_update_output(event, handle) {\n  handle_clear_output(event, {cell: {output_area: handle.output_area}})\n  handle_add_output(event, handle)\n}\n\nfunction register_renderer(events, OutputArea) {\n  function append_mime(data, metadata, element) {\n    // create a DOM node to render to\n    var toinsert = this.create_output_subarea(\n    metadata,\n    CLASS_NAME,\n    EXEC_MIME_TYPE\n    );\n    this.keyboard_manager.register_events(toinsert);\n    // Render to node\n    var props = {data: data, metadata: metadata[EXEC_MIME_TYPE]};\n    render(props, toinsert[0]);\n    element.append(toinsert);\n    return toinsert\n  }\n\n  events.on('output_added.OutputArea', handle_add_output);\n  events.on('output_updated.OutputArea', handle_update_output);\n  events.on('clear_output.CodeCell', handle_clear_output);\n  events.on('delete.Cell', handle_clear_output);\n  events.on('kernel_ready.Kernel', handle_kernel_cleanup);\n\n  OutputArea.prototype.register_mime_type(EXEC_MIME_TYPE, append_mime, {\n    safe: true,\n    index: 0\n  });\n}\n\nif (window.Jupyter !== undefined) {\n  try {\n    var events = require('base/js/events');\n    var OutputArea = require('notebook/js/outputarea').OutputArea;\n    if (OutputArea.prototype.mime_types().indexOf(EXEC_MIME_TYPE) == -1) {\n      register_renderer(events, OutputArea);\n    }\n  } catch(err) {\n  }\n}\n",
      "application/vnd.holoviews_load.v0+json": ""
     },
     "metadata": {},
     "output_type": "display_data"
    },
    {
     "data": {
      "text/html": [
       "<style>.bk-root, .bk-root .bk:before, .bk-root .bk:after {\n",
       "  font-family: var(--jp-ui-font-size1);\n",
       "  font-size: var(--jp-ui-font-size1);\n",
       "  color: var(--jp-ui-font-color1);\n",
       "}\n",
       "</style>"
      ]
     },
     "metadata": {},
     "output_type": "display_data"
    }
   ],
   "source": [
    "# Packages\n",
    "# For Cleaning and basic functions\n",
    "import pandas as pd\n",
    "import numpy as np\n",
    "import requests\n",
    "import json\n",
    "\n",
    "# # Connecting to Spotify API\n",
    "# import spotipy\n",
    "# from spotipy.oauth2 import SpotifyClientCredentials\n",
    "\n",
    "# For Machine Learning\n",
    "from sklearn import preprocessing\n",
    "scaler = preprocessing.MinMaxScaler()\n",
    "import plotly.graph_objs as go\n",
    "from sklearn.preprocessing import MinMaxScaler\n",
    "from sklearn.linear_model import LogisticRegression\n",
    "from sklearn import preprocessing\n",
    "from sklearn.model_selection import train_test_split\n",
    "import sklearn.metrics as metrics\n",
    "\n",
    "#for visualizations and images pulling\n",
    "from PIL import Image\n",
    "import requests\n",
    "from io import BytesIO\n",
    "from wordcloud import WordCloud\n",
    "import matplotlib.pyplot as plt\n",
    "import plotly.express as px\n",
    "import panel as pn\n",
    "pn.extension('tabulator')\n",
    "pn.extension(sizing_mode = 'stretch_width')\n",
    "import plotly.io as pio\n",
    "import hvplot.pandas\n",
    "import holoviews as hv\n",
    "# df = pd.read_csv(\"https://raw.githubusercontent.com/owid/co2-data/master/owid-co2-data.csv\")\n",
    "# cache data to improve dashboard performance\n"
   ]
  },
  {
   "cell_type": "code",
   "execution_count": 3,
   "id": "af100af1-b26f-496f-a6d9-17a4a82d807e",
   "metadata": {
    "tags": []
   },
   "outputs": [],
   "source": [
    "#pip install matplotlib\n",
    "#pip install wordcloud \n",
    "#pip install -U scikit-learn"
   ]
  },
  {
   "cell_type": "code",
   "execution_count": 4,
   "id": "f53d1d9f-5cf3-4003-9106-b50eb63a6592",
   "metadata": {
    "tags": []
   },
   "outputs": [],
   "source": [
    "#these are downloaded files from a separate cleaning job that we did\n",
    "mood = \"https://raw.githubusercontent.com/lphan1812/spotify-project/main/data_for_dashboard/mood_data.csv\"\n",
    "user_six_mos = 'https://raw.githubusercontent.com/lphan1812/spotify-project/main/data_for_dashboard/franklin_six_months.csv'\n",
    "user_audiofeature = 'https://raw.githubusercontent.com/lphan1812/spotify-project/main/data_for_dashboard/franklin_audio_features.csv'\n",
    "user_genres = \"https://raw.githubusercontent.com/lphan1812/spotify-project/main/data_for_dashboard/franklin_6mo_genres.csv\""
   ]
  },
  {
   "cell_type": "code",
   "execution_count": 5,
   "id": "a07ad17d-ee85-408a-b3a6-cfa1a137b4c3",
   "metadata": {
    "tags": []
   },
   "outputs": [],
   "source": [
    "# audio_genres = pd.merge(user_audiofeature, user_genres[['track_uri','genres']], on='track_uri', how='left')\n",
    "# audio_genres"
   ]
  },
  {
   "cell_type": "code",
   "execution_count": 6,
   "id": "ed868c23-10c0-4ffc-b182-b09882dd45b5",
   "metadata": {
    "tags": []
   },
   "outputs": [],
   "source": [
    "mood_data = pd.read_csv(mood)\n",
    "user_six_mos = pd.read_csv(user_six_mos)\n",
    "user_features = pd.read_csv(user_audiofeature)\n",
    "user_genres = pd.read_csv(user_genres)\n",
    "# singer-songerwriter is not necessarily a genre\n",
    "user_genres = user_genres[~(user_genres['genres'] == 'singer-songwriter')]\n"
   ]
  },
  {
   "cell_type": "code",
   "execution_count": 7,
   "id": "84782d73-648f-43b0-b5ca-7054c3d2a41d",
   "metadata": {
    "tags": []
   },
   "outputs": [
    {
     "data": {
      "text/html": [
       "<div>\n",
       "<style scoped>\n",
       "    .dataframe tbody tr th:only-of-type {\n",
       "        vertical-align: middle;\n",
       "    }\n",
       "\n",
       "    .dataframe tbody tr th {\n",
       "        vertical-align: top;\n",
       "    }\n",
       "\n",
       "    .dataframe thead th {\n",
       "        text-align: right;\n",
       "    }\n",
       "</style>\n",
       "<table border=\"1\" class=\"dataframe\">\n",
       "  <thead>\n",
       "    <tr style=\"text-align: right;\">\n",
       "      <th></th>\n",
       "      <th>Unnamed: 0</th>\n",
       "      <th>artist</th>\n",
       "      <th>album</th>\n",
       "      <th>track_name</th>\n",
       "      <th>track_id</th>\n",
       "      <th>danceability</th>\n",
       "      <th>energy</th>\n",
       "      <th>key</th>\n",
       "      <th>loudness</th>\n",
       "      <th>mode</th>\n",
       "      <th>...</th>\n",
       "      <th>instrumentalness</th>\n",
       "      <th>liveness</th>\n",
       "      <th>valence</th>\n",
       "      <th>tempo</th>\n",
       "      <th>duration_ms</th>\n",
       "      <th>time_signature</th>\n",
       "      <th>acousticness</th>\n",
       "      <th>popularity</th>\n",
       "      <th>album_release_date</th>\n",
       "      <th>vibe</th>\n",
       "    </tr>\n",
       "  </thead>\n",
       "  <tbody>\n",
       "    <tr>\n",
       "      <th>0</th>\n",
       "      <td>0</td>\n",
       "      <td>Miley Cyrus</td>\n",
       "      <td>Flowers</td>\n",
       "      <td>Flowers</td>\n",
       "      <td>0yLdNVWF3Srea0uzk55zFn</td>\n",
       "      <td>0.707</td>\n",
       "      <td>0.681</td>\n",
       "      <td>0</td>\n",
       "      <td>-4.325</td>\n",
       "      <td>1</td>\n",
       "      <td>...</td>\n",
       "      <td>0.000005</td>\n",
       "      <td>0.0322</td>\n",
       "      <td>0.646</td>\n",
       "      <td>117.999</td>\n",
       "      <td>200455</td>\n",
       "      <td>4</td>\n",
       "      <td>0.06320</td>\n",
       "      <td>98</td>\n",
       "      <td>1/13/23</td>\n",
       "      <td>upbeat</td>\n",
       "    </tr>\n",
       "    <tr>\n",
       "      <th>1</th>\n",
       "      <td>1</td>\n",
       "      <td>Rema</td>\n",
       "      <td>Calm Down (with Selena Gomez)</td>\n",
       "      <td>Calm Down (with Selena Gomez)</td>\n",
       "      <td>0WtM2NBVQNNJLh6scP13H8</td>\n",
       "      <td>0.801</td>\n",
       "      <td>0.806</td>\n",
       "      <td>11</td>\n",
       "      <td>-5.206</td>\n",
       "      <td>1</td>\n",
       "      <td>...</td>\n",
       "      <td>0.000669</td>\n",
       "      <td>0.1140</td>\n",
       "      <td>0.802</td>\n",
       "      <td>106.999</td>\n",
       "      <td>239318</td>\n",
       "      <td>4</td>\n",
       "      <td>0.38200</td>\n",
       "      <td>95</td>\n",
       "      <td>8/25/22</td>\n",
       "      <td>upbeat</td>\n",
       "    </tr>\n",
       "    <tr>\n",
       "      <th>2</th>\n",
       "      <td>2</td>\n",
       "      <td>David Guetta</td>\n",
       "      <td>I'm Good (Blue)</td>\n",
       "      <td>I'm Good (Blue)</td>\n",
       "      <td>4uUG5RXrOk84mYEfFvj3cK</td>\n",
       "      <td>0.561</td>\n",
       "      <td>0.965</td>\n",
       "      <td>7</td>\n",
       "      <td>-3.673</td>\n",
       "      <td>0</td>\n",
       "      <td>...</td>\n",
       "      <td>0.000007</td>\n",
       "      <td>0.3710</td>\n",
       "      <td>0.304</td>\n",
       "      <td>128.040</td>\n",
       "      <td>175238</td>\n",
       "      <td>4</td>\n",
       "      <td>0.00383</td>\n",
       "      <td>94</td>\n",
       "      <td>8/26/22</td>\n",
       "      <td>upbeat</td>\n",
       "    </tr>\n",
       "    <tr>\n",
       "      <th>3</th>\n",
       "      <td>3</td>\n",
       "      <td>Stephen Sanchez</td>\n",
       "      <td>Until I Found You (Em Beihold Version)</td>\n",
       "      <td>Until I Found You (with Em Beihold) - Em Beiho...</td>\n",
       "      <td>1Y3LN4zO1Edc2EluIoSPJN</td>\n",
       "      <td>0.551</td>\n",
       "      <td>0.550</td>\n",
       "      <td>10</td>\n",
       "      <td>-5.339</td>\n",
       "      <td>1</td>\n",
       "      <td>...</td>\n",
       "      <td>0.000000</td>\n",
       "      <td>0.2020</td>\n",
       "      <td>0.342</td>\n",
       "      <td>101.190</td>\n",
       "      <td>176440</td>\n",
       "      <td>3</td>\n",
       "      <td>0.77700</td>\n",
       "      <td>93</td>\n",
       "      <td>4/22/22</td>\n",
       "      <td>upbeat</td>\n",
       "    </tr>\n",
       "    <tr>\n",
       "      <th>4</th>\n",
       "      <td>4</td>\n",
       "      <td>OneRepublic</td>\n",
       "      <td>I Ain’t Worried (Music From The Motion Picture...</td>\n",
       "      <td>I Ain't Worried</td>\n",
       "      <td>4h9wh7iOZ0GGn8QVp4RAOB</td>\n",
       "      <td>0.704</td>\n",
       "      <td>0.797</td>\n",
       "      <td>0</td>\n",
       "      <td>-5.927</td>\n",
       "      <td>1</td>\n",
       "      <td>...</td>\n",
       "      <td>0.000745</td>\n",
       "      <td>0.0546</td>\n",
       "      <td>0.825</td>\n",
       "      <td>139.994</td>\n",
       "      <td>148486</td>\n",
       "      <td>4</td>\n",
       "      <td>0.08260</td>\n",
       "      <td>93</td>\n",
       "      <td>5/13/22</td>\n",
       "      <td>upbeat</td>\n",
       "    </tr>\n",
       "    <tr>\n",
       "      <th>...</th>\n",
       "      <td>...</td>\n",
       "      <td>...</td>\n",
       "      <td>...</td>\n",
       "      <td>...</td>\n",
       "      <td>...</td>\n",
       "      <td>...</td>\n",
       "      <td>...</td>\n",
       "      <td>...</td>\n",
       "      <td>...</td>\n",
       "      <td>...</td>\n",
       "      <td>...</td>\n",
       "      <td>...</td>\n",
       "      <td>...</td>\n",
       "      <td>...</td>\n",
       "      <td>...</td>\n",
       "      <td>...</td>\n",
       "      <td>...</td>\n",
       "      <td>...</td>\n",
       "      <td>...</td>\n",
       "      <td>...</td>\n",
       "      <td>...</td>\n",
       "    </tr>\n",
       "    <tr>\n",
       "      <th>2774</th>\n",
       "      <td>2774</td>\n",
       "      <td>Joy Crookes</td>\n",
       "      <td>Don't Let Me Down (Demo)</td>\n",
       "      <td>Don't Let Me Down - Demo</td>\n",
       "      <td>1VwPTHAfPvcL1ZubK6qabL</td>\n",
       "      <td>0.696</td>\n",
       "      <td>0.140</td>\n",
       "      <td>9</td>\n",
       "      <td>-11.509</td>\n",
       "      <td>1</td>\n",
       "      <td>...</td>\n",
       "      <td>0.000354</td>\n",
       "      <td>0.1480</td>\n",
       "      <td>0.203</td>\n",
       "      <td>80.831</td>\n",
       "      <td>195535</td>\n",
       "      <td>3</td>\n",
       "      <td>0.81800</td>\n",
       "      <td>54</td>\n",
       "      <td>11/29/18</td>\n",
       "      <td>chill</td>\n",
       "    </tr>\n",
       "    <tr>\n",
       "      <th>2775</th>\n",
       "      <td>2775</td>\n",
       "      <td>Lee Fields &amp; The Expressions</td>\n",
       "      <td>My World</td>\n",
       "      <td>Honey Dove</td>\n",
       "      <td>1emxi7e5EWFsJmwSKTuUDH</td>\n",
       "      <td>0.487</td>\n",
       "      <td>0.497</td>\n",
       "      <td>4</td>\n",
       "      <td>-5.776</td>\n",
       "      <td>0</td>\n",
       "      <td>...</td>\n",
       "      <td>0.167000</td>\n",
       "      <td>0.1090</td>\n",
       "      <td>0.195</td>\n",
       "      <td>160.317</td>\n",
       "      <td>246573</td>\n",
       "      <td>4</td>\n",
       "      <td>0.12400</td>\n",
       "      <td>53</td>\n",
       "      <td>6/2/09</td>\n",
       "      <td>chill</td>\n",
       "    </tr>\n",
       "    <tr>\n",
       "      <th>2776</th>\n",
       "      <td>2776</td>\n",
       "      <td>Charlotte Day Wilson</td>\n",
       "      <td>ALPHA</td>\n",
       "      <td>Mountains</td>\n",
       "      <td>4JvEicQI7CxOJxuI0xtpim</td>\n",
       "      <td>0.540</td>\n",
       "      <td>0.399</td>\n",
       "      <td>10</td>\n",
       "      <td>-9.127</td>\n",
       "      <td>1</td>\n",
       "      <td>...</td>\n",
       "      <td>0.023900</td>\n",
       "      <td>0.3680</td>\n",
       "      <td>0.141</td>\n",
       "      <td>117.976</td>\n",
       "      <td>249334</td>\n",
       "      <td>4</td>\n",
       "      <td>0.77000</td>\n",
       "      <td>53</td>\n",
       "      <td>7/9/21</td>\n",
       "      <td>chill</td>\n",
       "    </tr>\n",
       "    <tr>\n",
       "      <th>2777</th>\n",
       "      <td>2777</td>\n",
       "      <td>Raveena</td>\n",
       "      <td>Shanti</td>\n",
       "      <td>Love Child</td>\n",
       "      <td>7xlhCrF1qme2kFUmynnaQq</td>\n",
       "      <td>0.907</td>\n",
       "      <td>0.338</td>\n",
       "      <td>7</td>\n",
       "      <td>-10.944</td>\n",
       "      <td>1</td>\n",
       "      <td>...</td>\n",
       "      <td>0.032200</td>\n",
       "      <td>0.0418</td>\n",
       "      <td>0.848</td>\n",
       "      <td>95.989</td>\n",
       "      <td>163072</td>\n",
       "      <td>4</td>\n",
       "      <td>0.45400</td>\n",
       "      <td>53</td>\n",
       "      <td>12/6/17</td>\n",
       "      <td>chill</td>\n",
       "    </tr>\n",
       "    <tr>\n",
       "      <th>2778</th>\n",
       "      <td>2778</td>\n",
       "      <td>Son Little</td>\n",
       "      <td>Son Little (Deluxe Edition)</td>\n",
       "      <td>Lay Down</td>\n",
       "      <td>3x8IsQzb1KhPPo6zNGzzL1</td>\n",
       "      <td>0.467</td>\n",
       "      <td>0.257</td>\n",
       "      <td>5</td>\n",
       "      <td>-10.123</td>\n",
       "      <td>1</td>\n",
       "      <td>...</td>\n",
       "      <td>0.000000</td>\n",
       "      <td>0.1180</td>\n",
       "      <td>0.255</td>\n",
       "      <td>106.605</td>\n",
       "      <td>228000</td>\n",
       "      <td>3</td>\n",
       "      <td>0.77500</td>\n",
       "      <td>53</td>\n",
       "      <td>10/16/15</td>\n",
       "      <td>chill</td>\n",
       "    </tr>\n",
       "  </tbody>\n",
       "</table>\n",
       "<p>2779 rows × 21 columns</p>\n",
       "</div>"
      ],
      "text/plain": [
       "      Unnamed: 0                        artist   \n",
       "0              0                   Miley Cyrus  \\\n",
       "1              1                          Rema   \n",
       "2              2                  David Guetta   \n",
       "3              3               Stephen Sanchez   \n",
       "4              4                   OneRepublic   \n",
       "...          ...                           ...   \n",
       "2774        2774                   Joy Crookes   \n",
       "2775        2775  Lee Fields & The Expressions   \n",
       "2776        2776          Charlotte Day Wilson   \n",
       "2777        2777                       Raveena   \n",
       "2778        2778                    Son Little   \n",
       "\n",
       "                                                  album   \n",
       "0                                               Flowers  \\\n",
       "1                         Calm Down (with Selena Gomez)   \n",
       "2                                       I'm Good (Blue)   \n",
       "3                Until I Found You (Em Beihold Version)   \n",
       "4     I Ain’t Worried (Music From The Motion Picture...   \n",
       "...                                                 ...   \n",
       "2774                           Don't Let Me Down (Demo)   \n",
       "2775                                           My World   \n",
       "2776                                              ALPHA   \n",
       "2777                                             Shanti   \n",
       "2778                        Son Little (Deluxe Edition)   \n",
       "\n",
       "                                             track_name   \n",
       "0                                               Flowers  \\\n",
       "1                         Calm Down (with Selena Gomez)   \n",
       "2                                       I'm Good (Blue)   \n",
       "3     Until I Found You (with Em Beihold) - Em Beiho...   \n",
       "4                                       I Ain't Worried   \n",
       "...                                                 ...   \n",
       "2774                           Don't Let Me Down - Demo   \n",
       "2775                                         Honey Dove   \n",
       "2776                                          Mountains   \n",
       "2777                                         Love Child   \n",
       "2778                                           Lay Down   \n",
       "\n",
       "                    track_id  danceability  energy  key  loudness  mode  ...   \n",
       "0     0yLdNVWF3Srea0uzk55zFn         0.707   0.681    0    -4.325     1  ...  \\\n",
       "1     0WtM2NBVQNNJLh6scP13H8         0.801   0.806   11    -5.206     1  ...   \n",
       "2     4uUG5RXrOk84mYEfFvj3cK         0.561   0.965    7    -3.673     0  ...   \n",
       "3     1Y3LN4zO1Edc2EluIoSPJN         0.551   0.550   10    -5.339     1  ...   \n",
       "4     4h9wh7iOZ0GGn8QVp4RAOB         0.704   0.797    0    -5.927     1  ...   \n",
       "...                      ...           ...     ...  ...       ...   ...  ...   \n",
       "2774  1VwPTHAfPvcL1ZubK6qabL         0.696   0.140    9   -11.509     1  ...   \n",
       "2775  1emxi7e5EWFsJmwSKTuUDH         0.487   0.497    4    -5.776     0  ...   \n",
       "2776  4JvEicQI7CxOJxuI0xtpim         0.540   0.399   10    -9.127     1  ...   \n",
       "2777  7xlhCrF1qme2kFUmynnaQq         0.907   0.338    7   -10.944     1  ...   \n",
       "2778  3x8IsQzb1KhPPo6zNGzzL1         0.467   0.257    5   -10.123     1  ...   \n",
       "\n",
       "      instrumentalness  liveness  valence    tempo  duration_ms   \n",
       "0             0.000005    0.0322    0.646  117.999       200455  \\\n",
       "1             0.000669    0.1140    0.802  106.999       239318   \n",
       "2             0.000007    0.3710    0.304  128.040       175238   \n",
       "3             0.000000    0.2020    0.342  101.190       176440   \n",
       "4             0.000745    0.0546    0.825  139.994       148486   \n",
       "...                ...       ...      ...      ...          ...   \n",
       "2774          0.000354    0.1480    0.203   80.831       195535   \n",
       "2775          0.167000    0.1090    0.195  160.317       246573   \n",
       "2776          0.023900    0.3680    0.141  117.976       249334   \n",
       "2777          0.032200    0.0418    0.848   95.989       163072   \n",
       "2778          0.000000    0.1180    0.255  106.605       228000   \n",
       "\n",
       "      time_signature  acousticness  popularity  album_release_date    vibe  \n",
       "0                  4       0.06320          98             1/13/23  upbeat  \n",
       "1                  4       0.38200          95             8/25/22  upbeat  \n",
       "2                  4       0.00383          94             8/26/22  upbeat  \n",
       "3                  3       0.77700          93             4/22/22  upbeat  \n",
       "4                  4       0.08260          93             5/13/22  upbeat  \n",
       "...              ...           ...         ...                 ...     ...  \n",
       "2774               3       0.81800          54            11/29/18   chill  \n",
       "2775               4       0.12400          53              6/2/09   chill  \n",
       "2776               4       0.77000          53              7/9/21   chill  \n",
       "2777               4       0.45400          53             12/6/17   chill  \n",
       "2778               3       0.77500          53            10/16/15   chill  \n",
       "\n",
       "[2779 rows x 21 columns]"
      ]
     },
     "execution_count": 7,
     "metadata": {},
     "output_type": "execute_result"
    }
   ],
   "source": [
    "mood_data"
   ]
  },
  {
   "cell_type": "markdown",
   "id": "fec3fead-4810-4188-a576-318ab8f6dceb",
   "metadata": {},
   "source": [
    "## Train and test models to label mood to the user's playlist"
   ]
  },
  {
   "cell_type": "code",
   "execution_count": 8,
   "id": "b90078e9-eb41-4cdc-93e1-84e70413385c",
   "metadata": {
    "tags": []
   },
   "outputs": [],
   "source": [
    "# Drops NAs so it can be put into the sklearn model\n",
    "mood_data = mood_data.dropna()\n",
    "user_data = user_features.dropna()"
   ]
  },
  {
   "cell_type": "code",
   "execution_count": 9,
   "id": "e0b25b90-3429-45e4-99ea-9686c8b2f248",
   "metadata": {
    "tags": []
   },
   "outputs": [
    {
     "data": {
      "text/html": [
       "<div>\n",
       "<style scoped>\n",
       "    .dataframe tbody tr th:only-of-type {\n",
       "        vertical-align: middle;\n",
       "    }\n",
       "\n",
       "    .dataframe tbody tr th {\n",
       "        vertical-align: top;\n",
       "    }\n",
       "\n",
       "    .dataframe thead th {\n",
       "        text-align: right;\n",
       "    }\n",
       "</style>\n",
       "<table border=\"1\" class=\"dataframe\">\n",
       "  <thead>\n",
       "    <tr style=\"text-align: right;\">\n",
       "      <th></th>\n",
       "      <th>track_uri</th>\n",
       "      <th>popularity</th>\n",
       "      <th>danceability</th>\n",
       "      <th>energy</th>\n",
       "      <th>loudness</th>\n",
       "      <th>valence</th>\n",
       "      <th>speechiness</th>\n",
       "      <th>instrumentalness</th>\n",
       "      <th>tempo</th>\n",
       "    </tr>\n",
       "  </thead>\n",
       "  <tbody>\n",
       "    <tr>\n",
       "      <th>0</th>\n",
       "      <td>4FFSK1xgCLkTZJLUERLZKG</td>\n",
       "      <td>61</td>\n",
       "      <td>0.712</td>\n",
       "      <td>0.440</td>\n",
       "      <td>-11.566</td>\n",
       "      <td>0.312</td>\n",
       "      <td>0.0413</td>\n",
       "      <td>0.000000</td>\n",
       "      <td>123.958</td>\n",
       "    </tr>\n",
       "    <tr>\n",
       "      <th>1</th>\n",
       "      <td>5enxwA8aAbwZbf5qCHORXi</td>\n",
       "      <td>85</td>\n",
       "      <td>0.631</td>\n",
       "      <td>0.518</td>\n",
       "      <td>-8.771</td>\n",
       "      <td>0.205</td>\n",
       "      <td>0.0303</td>\n",
       "      <td>0.000000</td>\n",
       "      <td>93.023</td>\n",
       "    </tr>\n",
       "    <tr>\n",
       "      <th>2</th>\n",
       "      <td>0T482F5L30d7ChNbLqsKa7</td>\n",
       "      <td>43</td>\n",
       "      <td>0.414</td>\n",
       "      <td>0.235</td>\n",
       "      <td>-15.252</td>\n",
       "      <td>0.137</td>\n",
       "      <td>0.0429</td>\n",
       "      <td>0.907000</td>\n",
       "      <td>144.467</td>\n",
       "    </tr>\n",
       "    <tr>\n",
       "      <th>3</th>\n",
       "      <td>3EZTyh1wJEmreJH1aULPCj</td>\n",
       "      <td>62</td>\n",
       "      <td>0.323</td>\n",
       "      <td>0.106</td>\n",
       "      <td>-10.374</td>\n",
       "      <td>0.158</td>\n",
       "      <td>0.0323</td>\n",
       "      <td>0.000059</td>\n",
       "      <td>91.455</td>\n",
       "    </tr>\n",
       "    <tr>\n",
       "      <th>4</th>\n",
       "      <td>5Mw9bXG1dLNhbjofkVS2oR</td>\n",
       "      <td>69</td>\n",
       "      <td>0.262</td>\n",
       "      <td>0.361</td>\n",
       "      <td>-10.187</td>\n",
       "      <td>0.056</td>\n",
       "      <td>0.0333</td>\n",
       "      <td>0.002680</td>\n",
       "      <td>126.786</td>\n",
       "    </tr>\n",
       "    <tr>\n",
       "      <th>...</th>\n",
       "      <td>...</td>\n",
       "      <td>...</td>\n",
       "      <td>...</td>\n",
       "      <td>...</td>\n",
       "      <td>...</td>\n",
       "      <td>...</td>\n",
       "      <td>...</td>\n",
       "      <td>...</td>\n",
       "      <td>...</td>\n",
       "    </tr>\n",
       "    <tr>\n",
       "      <th>831</th>\n",
       "      <td>2cOUlop2ZakjOKe4WinesN</td>\n",
       "      <td>77</td>\n",
       "      <td>0.735</td>\n",
       "      <td>0.425</td>\n",
       "      <td>-6.648</td>\n",
       "      <td>0.848</td>\n",
       "      <td>0.0464</td>\n",
       "      <td>0.000000</td>\n",
       "      <td>85.896</td>\n",
       "    </tr>\n",
       "    <tr>\n",
       "      <th>832</th>\n",
       "      <td>0k6LV1ohcK2hlNPwu1nVw9</td>\n",
       "      <td>63</td>\n",
       "      <td>0.641</td>\n",
       "      <td>0.512</td>\n",
       "      <td>-4.935</td>\n",
       "      <td>0.395</td>\n",
       "      <td>0.0285</td>\n",
       "      <td>0.000000</td>\n",
       "      <td>116.059</td>\n",
       "    </tr>\n",
       "    <tr>\n",
       "      <th>833</th>\n",
       "      <td>6yhLR2sVn1IfsScVrR4ocr</td>\n",
       "      <td>60</td>\n",
       "      <td>0.416</td>\n",
       "      <td>0.341</td>\n",
       "      <td>-10.749</td>\n",
       "      <td>0.776</td>\n",
       "      <td>0.0391</td>\n",
       "      <td>0.000000</td>\n",
       "      <td>177.229</td>\n",
       "    </tr>\n",
       "    <tr>\n",
       "      <th>834</th>\n",
       "      <td>4pbG9SUmWIvsROVLF0zF9s</td>\n",
       "      <td>74</td>\n",
       "      <td>0.490</td>\n",
       "      <td>0.715</td>\n",
       "      <td>-5.549</td>\n",
       "      <td>0.866</td>\n",
       "      <td>0.0476</td>\n",
       "      <td>0.000000</td>\n",
       "      <td>130.726</td>\n",
       "    </tr>\n",
       "    <tr>\n",
       "      <th>835</th>\n",
       "      <td>6h2YXTAX6QN83w0gOTjDZa</td>\n",
       "      <td>44</td>\n",
       "      <td>0.473</td>\n",
       "      <td>0.468</td>\n",
       "      <td>-7.439</td>\n",
       "      <td>0.448</td>\n",
       "      <td>0.0503</td>\n",
       "      <td>0.000000</td>\n",
       "      <td>119.680</td>\n",
       "    </tr>\n",
       "  </tbody>\n",
       "</table>\n",
       "<p>836 rows × 9 columns</p>\n",
       "</div>"
      ],
      "text/plain": [
       "                  track_uri  popularity  danceability  energy  loudness   \n",
       "0    4FFSK1xgCLkTZJLUERLZKG          61         0.712   0.440   -11.566  \\\n",
       "1    5enxwA8aAbwZbf5qCHORXi          85         0.631   0.518    -8.771   \n",
       "2    0T482F5L30d7ChNbLqsKa7          43         0.414   0.235   -15.252   \n",
       "3    3EZTyh1wJEmreJH1aULPCj          62         0.323   0.106   -10.374   \n",
       "4    5Mw9bXG1dLNhbjofkVS2oR          69         0.262   0.361   -10.187   \n",
       "..                      ...         ...           ...     ...       ...   \n",
       "831  2cOUlop2ZakjOKe4WinesN          77         0.735   0.425    -6.648   \n",
       "832  0k6LV1ohcK2hlNPwu1nVw9          63         0.641   0.512    -4.935   \n",
       "833  6yhLR2sVn1IfsScVrR4ocr          60         0.416   0.341   -10.749   \n",
       "834  4pbG9SUmWIvsROVLF0zF9s          74         0.490   0.715    -5.549   \n",
       "835  6h2YXTAX6QN83w0gOTjDZa          44         0.473   0.468    -7.439   \n",
       "\n",
       "     valence  speechiness  instrumentalness    tempo  \n",
       "0      0.312       0.0413          0.000000  123.958  \n",
       "1      0.205       0.0303          0.000000   93.023  \n",
       "2      0.137       0.0429          0.907000  144.467  \n",
       "3      0.158       0.0323          0.000059   91.455  \n",
       "4      0.056       0.0333          0.002680  126.786  \n",
       "..       ...          ...               ...      ...  \n",
       "831    0.848       0.0464          0.000000   85.896  \n",
       "832    0.395       0.0285          0.000000  116.059  \n",
       "833    0.776       0.0391          0.000000  177.229  \n",
       "834    0.866       0.0476          0.000000  130.726  \n",
       "835    0.448       0.0503          0.000000  119.680  \n",
       "\n",
       "[836 rows x 9 columns]"
      ]
     },
     "execution_count": 9,
     "metadata": {},
     "output_type": "execute_result"
    }
   ],
   "source": [
    "user_data"
   ]
  },
  {
   "cell_type": "markdown",
   "id": "dc829392-4f05-4983-90ac-a7f6a2f5685c",
   "metadata": {},
   "source": [
    "### Logistic regression"
   ]
  },
  {
   "cell_type": "code",
   "execution_count": 10,
   "id": "1e8ede30-dad7-4fda-a4bd-3fa6cd68c3fa",
   "metadata": {
    "tags": []
   },
   "outputs": [
    {
     "name": "stdout",
     "output_type": "stream",
     "text": [
      "The accuracy of the model is: 0.7230215827338129\n"
     ]
    }
   ],
   "source": [
    "# subset the relevant columns\n",
    "mood_features = mood_data[['valence', 'danceability', 'tempo', 'energy','loudness','speechiness','instrumentalness','popularity']]\n",
    "user_features = user_data[['valence', 'danceability', 'tempo', 'energy','loudness','speechiness','instrumentalness','popularity']]\n",
    "\n",
    "# scale audio features to standardize the metrics\n",
    "scaler = preprocessing.MinMaxScaler()\n",
    "mood_features_scaled = pd.DataFrame(scaler.fit_transform(mood_features), columns=mood_features.columns)\n",
    "user_features_scaled = pd.DataFrame(scaler.fit_transform(user_features), columns=user_features.columns)\n",
    "\n",
    "mood_target = mood_data['vibe']\n",
    "\n",
    "# split the data into training and testing sets\n",
    "X_train, X_test, y_train, y_test = train_test_split(mood_features_scaled, mood_target, test_size=0.2, random_state=42)\n",
    "\n",
    "# create a logistic regression model and train it\n",
    "logreg = LogisticRegression(multi_class='multinomial', solver='lbfgs', max_iter=500)\n",
    "logreg.fit(X_train, y_train)\n",
    "\n",
    "# make predictions on the user data\n",
    "user_pred = logreg.predict(user_features_scaled)\n",
    "\n",
    "# calculate the accuracy of the model on the test set\n",
    "y_pred = logreg.predict(X_test)\n",
    "accuracy = metrics.accuracy_score(y_test, y_pred)\n",
    "print(\"The accuracy of the model is:\", accuracy)\n"
   ]
  },
  {
   "cell_type": "markdown",
   "id": "a5f700ea-615f-472d-826f-0bda439a7e00",
   "metadata": {},
   "source": [
    "### Random Forest --- Best model"
   ]
  },
  {
   "cell_type": "code",
   "execution_count": 11,
   "id": "aff10e5c-101a-4495-854c-c379d4c63667",
   "metadata": {
    "tags": []
   },
   "outputs": [
    {
     "name": "stdout",
     "output_type": "stream",
     "text": [
      "The accuracy of the model is: 0.8165467625899281\n"
     ]
    }
   ],
   "source": [
    "# import required libraries\n",
    "from sklearn.ensemble import RandomForestClassifier\n",
    "from sklearn.model_selection import train_test_split\n",
    "from sklearn import metrics\n",
    "\n",
    "# subset the relevant columns\n",
    "mood_features = mood_data[['valence', 'danceability', 'tempo', 'energy','loudness','speechiness','instrumentalness','popularity']]\n",
    "user_features = user_data[['valence', 'danceability', 'tempo', 'energy','loudness','speechiness','instrumentalness','popularity']]\n",
    "\n",
    "# scale audio features to standardize the metrics\n",
    "scaler = preprocessing.MinMaxScaler()\n",
    "mood_features_scaled = pd.DataFrame(scaler.fit_transform(mood_features), columns=mood_features.columns)\n",
    "user_features_scaled = pd.DataFrame(scaler.fit_transform(user_features), columns=user_features.columns)\n",
    "\n",
    "mood_target = mood_data['vibe']\n",
    "\n",
    "# split the data into training and testing sets\n",
    "X_train, X_test, y_train, y_test = train_test_split(mood_features_scaled, mood_target, test_size=0.2, random_state=42)\n",
    "\n",
    "# create a random forest classifier and train it\n",
    "rfc = RandomForestClassifier(n_estimators=100, random_state=42)\n",
    "rfc.fit(X_train, y_train)\n",
    "\n",
    "# make predictions on the user data\n",
    "best_user_pred = rfc.predict(user_features_scaled)\n",
    "\n",
    "# calculate the accuracy of the model on the test set\n",
    "best_y_pred = rfc.predict(X_test)\n",
    "best_accuracy = metrics.accuracy_score(y_test, best_y_pred)\n",
    "print(\"The accuracy of the model is:\", best_accuracy)\n"
   ]
  },
  {
   "cell_type": "markdown",
   "id": "24fbd699-b990-4483-9c97-27fab1ca0bc2",
   "metadata": {},
   "source": [
    "### Decision Tree"
   ]
  },
  {
   "cell_type": "code",
   "execution_count": 12,
   "id": "8cfeca7d-3a31-47ab-8f9d-cb2adf7c9557",
   "metadata": {
    "tags": []
   },
   "outputs": [
    {
     "name": "stdout",
     "output_type": "stream",
     "text": [
      "The accuracy of the decision tree model is: 0.7446043165467626\n"
     ]
    }
   ],
   "source": [
    "from sklearn.tree import DecisionTreeClassifier\n",
    "from sklearn import metrics\n",
    "\n",
    "# split the data into training and testing sets\n",
    "X_train, X_test, y_train, y_test = train_test_split(mood_features_scaled, mood_target, test_size=0.2, random_state=42)\n",
    "\n",
    "# create a decision tree classifier model and train it\n",
    "dt = DecisionTreeClassifier(random_state=42)\n",
    "dt.fit(X_train, y_train)\n",
    "\n",
    "# make predictions on the user data\n",
    "user_pred = dt.predict(user_features_scaled)\n",
    "\n",
    "# calculate the accuracy of the model on the test set\n",
    "y_pred = dt.predict(X_test)\n",
    "accuracy = metrics.accuracy_score(y_test, y_pred)\n",
    "print(\"The accuracy of the decision tree model is:\", accuracy)\n"
   ]
  },
  {
   "cell_type": "markdown",
   "id": "019107d6-6748-47ed-9acd-e704b56d8266",
   "metadata": {},
   "source": [
    "### Neural Networks"
   ]
  },
  {
   "cell_type": "code",
   "execution_count": 13,
   "id": "ef2740bb-920b-4f7a-8c77-9139e17749dc",
   "metadata": {
    "tags": []
   },
   "outputs": [
    {
     "name": "stdout",
     "output_type": "stream",
     "text": [
      "The accuracy of the neural network model is: 0.7859712230215827\n"
     ]
    }
   ],
   "source": [
    "from sklearn.neural_network import MLPClassifier\n",
    "\n",
    "# split the data into training and testing sets\n",
    "X_train, X_test, y_train, y_test = train_test_split(mood_features_scaled, mood_target, test_size=0.2, random_state=42)\n",
    "\n",
    "# create a neural network classifier model and train it\n",
    "nn = MLPClassifier(hidden_layer_sizes=(100,), activation='relu', solver='adam', max_iter=500)\n",
    "nn.fit(X_train, y_train)\n",
    "\n",
    "# make predictions on the user data\n",
    "user_pred = nn.predict(user_features_scaled)\n",
    "\n",
    "# calculate the accuracy of the model on the test set\n",
    "y_pred = nn.predict(X_test)\n",
    "accuracy = metrics.accuracy_score(y_test, y_pred)\n",
    "print(\"The accuracy of the neural network model is:\", accuracy)\n"
   ]
  },
  {
   "cell_type": "code",
   "execution_count": 14,
   "id": "6b3ef6b0-3a19-42f4-a577-8f3b66f382a5",
   "metadata": {
    "tags": []
   },
   "outputs": [
    {
     "name": "stdout",
     "output_type": "stream",
     "text": [
      "Upbeat percent: 24 %\n",
      "Sad percent: 37 %\n",
      "Chill percent: 39 %\n",
      "The accuracy of the model is: 0.8165467625899281\n"
     ]
    }
   ],
   "source": [
    "### Calculate the proportion of different moods within the user's playlist\n",
    "\n",
    "total = len(best_user_pred)\n",
    "upbeat_count = np.count_nonzero(best_user_pred == 'upbeat')\n",
    "upbeat_per = round((upbeat_count / total) * 100)\n",
    "\n",
    "sad_count = np.count_nonzero(best_user_pred == 'sad')\n",
    "sad_per = round((sad_count / total) * 100)\n",
    "\n",
    "chill_count = np.count_nonzero(best_user_pred == 'chill')\n",
    "chill_per = round((chill_count / total) * 100)\n",
    "\n",
    "print(\"Upbeat percent:\", upbeat_per, \"%\")\n",
    "print(\"Sad percent:\", sad_per , \"%\")\n",
    "print(\"Chill percent:\", chill_per, \"%\")\n",
    "\n",
    "print(\"The accuracy of the model is:\", best_accuracy)"
   ]
  },
  {
   "cell_type": "code",
   "execution_count": 15,
   "id": "dc054667-62b4-4a2f-954e-2ba4b2fbb890",
   "metadata": {
    "tags": []
   },
   "outputs": [],
   "source": [
    "user_data['predicted_mood'] = best_user_pred"
   ]
  },
  {
   "cell_type": "code",
   "execution_count": 17,
   "id": "289ac50c-07a6-4afb-b132-49e9a1622e2f",
   "metadata": {
    "tags": []
   },
   "outputs": [],
   "source": [
    "# prediction_songs = pd.merge(user_data, time[['master_metadata_track_name','track_uri','master_metadata_album_artist_name']], on = 'track_uri', how = 'left')\n",
    "# prediction_songs = prediction_songs.drop_duplicates()\n",
    "# prediction_songs.to_csv('predictions_test.csv')"
   ]
  },
  {
   "cell_type": "code",
   "execution_count": 18,
   "id": "31630e45-05d5-45b2-8e25-ce3c0f8a1b5c",
   "metadata": {
    "tags": []
   },
   "outputs": [
    {
     "name": "stdout",
     "output_type": "stream",
     "text": [
      "Upbeat percent: 24 %\n",
      "Sad percent: 37 %\n",
      "Chill percent: 39 %\n"
     ]
    }
   ],
   "source": [
    "import numpy as np\n",
    "\n",
    "mood_categories = ['upbeat', 'sad', 'chill']\n",
    "total = len(best_user_pred)\n",
    "\n",
    "for mood_category in mood_categories:\n",
    "    mood_count = np.count_nonzero(best_user_pred == mood_category)\n",
    "    mood_per = round((mood_count / total) * 100)\n",
    "    print(mood_category.capitalize(), \"percent:\", mood_per, \"%\")"
   ]
  },
  {
   "cell_type": "code",
   "execution_count": 20,
   "id": "7972b5d7-700a-449a-89c3-3336751639c6",
   "metadata": {
    "tags": []
   },
   "outputs": [],
   "source": [
    "time = pd.read_csv('https://raw.githubusercontent.com/lphan1812/spotify-project/main/franklin_six_months.csv')\n",
    "# Convert msPlayed into minutes listened\n",
    "time = pd.merge(time, user_data, on='track_uri', how='left')\n",
    "time['Minutes Listened'] = time['ms_played'] / 60000\n",
    "\n",
    "# Convert End Time (UTC) to End Time (Adj) in the user's time zone\n",
    "time['End Time (Adj)'] = pd.to_datetime(time['ts'])\n",
    "time.loc[time['End Time (Adj)'] < '2020-03-08', 'End Time (Adj)'] -= pd.Timedelta(hours=5)\n",
    "time.loc[(time['End Time (Adj)'] >= '2020-03-08') & (time['End Time (Adj)'] < '2020-11-01'), 'End Time (Adj)'] -= pd.Timedelta(hours=4)\n",
    "time.loc[time['End Time (Adj)'] >= '2020-11-01', 'End Time (Adj)'] -= pd.Timedelta(hours=5)\n",
    "\n",
    "# Extract the day of the week from the End Time (Adj) column\n",
    "time['Day of Week'] = time['End Time (Adj)'].dt.day_name()"
   ]
  },
  {
   "cell_type": "code",
   "execution_count": 22,
   "id": "3fff7039-09f6-4c2d-b506-57e02324281c",
   "metadata": {
    "tags": []
   },
   "outputs": [],
   "source": [
    "franklins_mood = time.groupby(['predicted_mood'])['Minutes Listened'].sum().reset_index()"
   ]
  },
  {
   "cell_type": "code",
   "execution_count": 26,
   "id": "e5fd8ef2-0203-46fc-a08b-14af290b7c9a",
   "metadata": {
    "tags": []
   },
   "outputs": [],
   "source": [
    "total_minutes = franklins_mood['Minutes Listened'].sum()\n",
    "\n",
    "# Calculate the percentage of each mood's minutes per total\n",
    "franklins_mood['Percentage'] = round((franklins_mood['Minutes Listened'] / total_minutes) * 100)\n",
    "franklins_mood['Percentage']=franklins_mood['Percentage'].apply(lambda x: int(round(x)))\n",
    "franklins_mood\n",
    "upbeat_per = int(franklins_mood.loc[franklins_mood['predicted_mood'] == 'upbeat', 'Percentage'].sum())\n",
    "# , sad_per, chill_per\n",
    "sad_per = int(franklins_mood.loc[franklins_mood['predicted_mood'] == 'sad', 'Percentage'].sum())\n",
    "chill_per = int(franklins_mood.loc[franklins_mood['predicted_mood'] == 'chill', 'Percentage'].sum())"
   ]
  },
  {
   "cell_type": "markdown",
   "id": "7580680a-a9f0-4ffe-9e34-173056b0e62b",
   "metadata": {
    "tags": []
   },
   "source": [
    "### Get images that represent different moods and assign the appropriate cat to the user's data"
   ]
  },
  {
   "cell_type": "code",
   "execution_count": 27,
   "id": "f35880e2-148b-4a6d-9f53-e7840441f153",
   "metadata": {
    "tags": []
   },
   "outputs": [],
   "source": [
    "## PREDEFINE COLOR CODE USED IN THE DASHBOARD\n",
    "# the predefined are color provided by Spotiy\n",
    "pre_defined_bgcolor = '#191414'\n",
    "# \"#d5e7e1\"\n",
    "\n",
    "pre_defined_green ='#1db954'\n",
    "# '#2d856a'\n",
    "\n",
    "titlecol ='#ffffff'\n",
    "darkgray = '#212121'\n",
    "midgray ='#535353'\n",
    "lightgray ='#b3b3b3'\n",
    "pale ='#d5e7e1'\n",
    "\n",
    "# pre_defined_bgcolor ='#2d856a'\n",
    "# predefineed_green = \"#a2c3d1\""
   ]
  },
  {
   "cell_type": "code",
   "execution_count": 28,
   "id": "d659a1ee-fe23-4519-9c74-74a769562c65",
   "metadata": {
    "tags": []
   },
   "outputs": [],
   "source": [
    "\n",
    "# Define image URLs\n",
    "upbeat_image_url = 'https://github.com/lphan1812/spotify-project/blob/main/upbeat_img.jpg?raw=true'\n",
    "sad_image_url = 'https://github.com/lphan1812/spotify-project/blob/main/sad_img.jpg?raw=true'\n",
    "chill_image_url = 'https://github.com/lphan1812/spotify-project/blob/main/chill_chillupbeat.png?raw=true'\n",
    "confused_url = 'https://github.com/lphan1812/spotify-project/blob/main/confused_cat.png?raw=true'\n",
    "\n",
    "# Read images from URLs\n",
    "response = requests.get(upbeat_image_url)\n",
    "upbeat_image = Image.open(BytesIO(response.content))\n",
    "\n",
    "response = requests.get(sad_image_url)\n",
    "sad_image = Image.open(BytesIO(response.content))\n",
    "\n",
    "response = requests.get(chill_image_url)\n",
    "chill_image = Image.open(BytesIO(response.content))\n",
    "\n",
    "response = requests.get(confused_url)\n",
    "confused_image = Image.open(BytesIO(response.content))"
   ]
  },
  {
   "cell_type": "code",
   "execution_count": 30,
   "id": "d3ae63cb-7175-4ee2-965b-04bdbee90bb0",
   "metadata": {
    "tags": []
   },
   "outputs": [
    {
     "data": {
      "image/png": "[encoded data removed]",
      "text/plain": [
       "<Figure size 640x480 with 1 Axes>"
      ]
     },
     "metadata": {},
     "output_type": "display_data"
    }
   ],
   "source": [
    "# Find the highest percentage\n",
    "max_percent = max(upbeat_per, sad_per, chill_per)\n",
    "\n",
    "style = {'font-family': 'Andale Mono','font-size': '12px', 'color':titlecol}\n",
    "# Find the highest percentage category\n",
    "max_per = max(upbeat_per, sad_per, chill_per)\n",
    "if (upbeat_per < 50 and sad_per <50 and chill_per < 50): \n",
    "    image_file = confused_image\n",
    "    category = 'chaotic'\n",
    "    punchline = pn.pane.Markdown(\"# Jeez.. your moods are all over the place. Happy. Chill. Emo. Whatever. Just pick one!\",style=style)\n",
    "    if max_per == upbeat_per:\n",
    "        narrative = pn.pane.Markdown(\"# Although you're a confused cat cus you've been having mixed feelings, you did have the upbeat side that was more dominant compared to others.\",style=style)\n",
    "    # if upbeat_per < sad_per and upbeat_per < chill_per :\n",
    "    #     narrative = pn.pane.Markdown(f\"# Although you're a confused cat cus you've been having mixed feelings, your dominant vibes are generally mellow and sad and you enjoyed a good {t_artist}'s song.\",style=style)\n",
    "elif max_per == upbeat_per:\n",
    "    image_file = upbeat_image\n",
    "    category = 'upbeat'\n",
    "    punchline = pn.pane.Markdown(\"# Let me grab a chair and then you tell me all about the party last night!\",style=style)\n",
    "    narrative = pn.pane.Markdown(\"# You're an upbeat cat and you like to have fun and enjoy yourselves\",style=style)\n",
    "elif max_per == sad_per:\n",
    "    image_file = sad_image\n",
    "    category = 'sad'\n",
    "    punchline = pn.pane.Markdown(\"# Ooops.. Is this not the right time? I'll come back once you finish crying!\",style=style)\n",
    "    narrative = pn.pane.Markdown(\"# You're an sad cat and you like to have fun and enjoy yourselves in the past 6 months.\",style=style)\n",
    "else:\n",
    "    image_file = chill_image\n",
    "    category = 'chill'\n",
    "    punchline = pn.pane.Markdown(\"# Ah yes, the classic 'I'm so cool, I only listen to lo-fi beats vibe.' It's okay. Same here. We're chillin\",style=style)\n",
    "\n",
    "# Load and display the image\n",
    "# image = plt.imread(image_file, format = None)\n",
    "plt.imshow(image_file)\n",
    "plt.axis('off')\n",
    "plt.title(f\"You're {category}\")\n",
    "plt.show()\n"
   ]
  },
  {
   "cell_type": "code",
   "execution_count": 33,
   "id": "e912ddc9-1c35-4685-9271-bdb8f72fee24",
   "metadata": {
    "tags": []
   },
   "outputs": [
    {
     "data": {},
     "metadata": {},
     "output_type": "display_data"
    },
    {
     "data": {
      "application/vnd.holoviews_exec.v0+json": "",
      "text/html": [
       "<div id='1002'>\n",
       "  <div class=\"bk-root\" id=\"93fb7d9c-ec2f-489e-a564-e62c3265d2e3\" data-root-id=\"1002\"></div>\n",
       "</div>\n",
       "<script type=\"application/javascript\">(function(root) {\n",
       "  function embed_document(root) {\n",
       "    var docs_json = {\"cb286241-e64a-42c6-a97b-24ce6e6a1d97\":{\"defs\":[{\"extends\":null,\"module\":null,\"name\":\"ReactiveHTML1\",\"overrides\":[],\"properties\":[]},{\"extends\":null,\"module\":null,\"name\":\"FlexBox1\",\"overrides\":[],\"properties\":[{\"default\":\"flex-start\",\"kind\":null,\"name\":\"align_content\"},{\"default\":\"flex-start\",\"kind\":null,\"name\":\"align_items\"},{\"default\":\"row\",\"kind\":null,\"name\":\"flex_direction\"},{\"default\":\"wrap\",\"kind\":null,\"name\":\"flex_wrap\"},{\"default\":\"flex-start\",\"kind\":null,\"name\":\"justify_content\"}]},{\"extends\":null,\"module\":null,\"name\":\"GridStack1\",\"overrides\":[],\"properties\":[{\"default\":\"warn\",\"kind\":null,\"name\":\"mode\"},{\"default\":null,\"kind\":null,\"name\":\"ncols\"},{\"default\":null,\"kind\":null,\"name\":\"nrows\"},{\"default\":true,\"kind\":null,\"name\":\"allow_resize\"},{\"default\":true,\"kind\":null,\"name\":\"allow_drag\"},{\"default\":[],\"kind\":null,\"name\":\"state\"}]},{\"extends\":null,\"module\":null,\"name\":\"click1\",\"overrides\":[],\"properties\":[{\"default\":\"\",\"kind\":null,\"name\":\"terminal_output\"},{\"default\":\"\",\"kind\":null,\"name\":\"debug_name\"},{\"default\":0,\"kind\":null,\"name\":\"clears\"}]},{\"extends\":null,\"module\":null,\"name\":\"NotificationAreaBase1\",\"overrides\":[],\"properties\":[{\"default\":\"bottom-right\",\"kind\":null,\"name\":\"position\"},{\"default\":0,\"kind\":null,\"name\":\"_clear\"}]},{\"extends\":null,\"module\":null,\"name\":\"NotificationArea1\",\"overrides\":[],\"properties\":[{\"default\":[],\"kind\":null,\"name\":\"notifications\"},{\"default\":\"bottom-right\",\"kind\":null,\"name\":\"position\"},{\"default\":0,\"kind\":null,\"name\":\"_clear\"},{\"default\":[{\"background\":\"#ffc107\",\"icon\":{\"className\":\"fas fa-exclamation-triangle\",\"color\":\"white\",\"tagName\":\"i\"},\"type\":\"warning\"},{\"background\":\"#007bff\",\"icon\":{\"className\":\"fas fa-info-circle\",\"color\":\"white\",\"tagName\":\"i\"},\"type\":\"info\"}],\"kind\":null,\"name\":\"types\"}]},{\"extends\":null,\"module\":null,\"name\":\"Notification\",\"overrides\":[],\"properties\":[{\"default\":null,\"kind\":null,\"name\":\"background\"},{\"default\":3000,\"kind\":null,\"name\":\"duration\"},{\"default\":null,\"kind\":null,\"name\":\"icon\"},{\"default\":\"\",\"kind\":null,\"name\":\"message\"},{\"default\":null,\"kind\":null,\"name\":\"notification_type\"},{\"default\":false,\"kind\":null,\"name\":\"_destroyed\"}]},{\"extends\":null,\"module\":null,\"name\":\"TemplateActions1\",\"overrides\":[],\"properties\":[{\"default\":0,\"kind\":null,\"name\":\"open_modal\"},{\"default\":0,\"kind\":null,\"name\":\"close_modal\"}]},{\"extends\":null,\"module\":null,\"name\":\"MaterialTemplateActions1\",\"overrides\":[],\"properties\":[{\"default\":0,\"kind\":null,\"name\":\"open_modal\"},{\"default\":0,\"kind\":null,\"name\":\"close_modal\"}]}],\"roots\":{\"references\":[{\"attributes\":{\"client_comm_id\":\"8a81b3a0acc54ddbb76e9a5c97807774\",\"comm_id\":\"4586de12cafc40ceade275eba2310060\",\"plot_id\":\"1002\"},\"id\":\"1003\",\"type\":\"panel.models.comm_manager.CommManager\"},{\"attributes\":{\"css_classes\":[\"markdown\"],\"margin\":[5,5,5,5],\"name\":\"Markdown00784\",\"sizing_mode\":\"stretch_width\",\"style\":{\"color\":\"#ffffff\",\"font-family\":\"Andale Mono\",\"font-size\":\"12px\"},\"text\":\"&lt;h1&gt;Jeez.. your moods are all over the place. Happy. Chill. Emo. Whatever. Just pick one!&lt;/h1&gt;\"},\"id\":\"1002\",\"type\":\"panel.models.markup.HTML\"},{\"attributes\":{\"reload\":false},\"id\":\"1004\",\"type\":\"panel.models.location.Location\"}],\"root_ids\":[\"1002\",\"1003\",\"1004\"]},\"title\":\"Bokeh Application\",\"version\":\"2.4.3\"}};\n",
       "    var render_items = [{\"docid\":\"cb286241-e64a-42c6-a97b-24ce6e6a1d97\",\"root_ids\":[\"1002\"],\"roots\":{\"1002\":\"93fb7d9c-ec2f-489e-a564-e62c3265d2e3\"}}];\n",
       "    root.Bokeh.embed.embed_items_notebook(docs_json, render_items);\n",
       "    for (const render_item of render_items) {\n",
       "      for (const root_id of render_item.root_ids) {\n",
       "\tconst id_el = document.getElementById(root_id)\n",
       "\tif (id_el.children.length && (id_el.children[0].className === 'bk-root')) {\n",
       "\t  const root_el = id_el.children[0]\n",
       "\t  root_el.id = root_el.id + '-rendered'\n",
       "\t}\n",
       "      }\n",
       "    }\n",
       "  }\n",
       "  if (root.Bokeh !== undefined && root.Bokeh.Panel !== undefined && ( root['Tabulator'] !== undefined)) {\n",
       "    embed_document(root);\n",
       "  } else {\n",
       "    var attempts = 0;\n",
       "    var timer = setInterval(function(root) {\n",
       "      if (root.Bokeh !== undefined && root.Bokeh.Panel !== undefined && (root['Tabulator'] !== undefined)) {\n",
       "        clearInterval(timer);\n",
       "        embed_document(root);\n",
       "      } else if (document.readyState == \"complete\") {\n",
       "        attempts++;\n",
       "        if (attempts > 200) {\n",
       "          clearInterval(timer);\n",
       "          console.log(\"Bokeh: ERROR: Unable to run BokehJS code because BokehJS library is missing\");\n",
       "        }\n",
       "      }\n",
       "    }, 25, root)\n",
       "  }\n",
       "})(window);</script>"
      ],
      "text/plain": [
       "Markdown(str, sizing_mode='stretch_width', style={'font-family': 'Andale Mo...})"
      ]
     },
     "execution_count": 33,
     "metadata": {
      "application/vnd.holoviews_exec.v0+json": {
       "id": "1002"
      }
     },
     "output_type": "execute_result"
    }
   ],
   "source": [
    "punchline"
   ]
  },
  {
   "cell_type": "markdown",
   "id": "da1f2746-354b-479f-ba37-7633a0265fb9",
   "metadata": {},
   "source": [
    "# Create visualizations"
   ]
  },
  {
   "cell_type": "markdown",
   "id": "f4620419-9885-47f3-96db-4f4e0fb994e6",
   "metadata": {},
   "source": [
    "### Audio Features"
   ]
  },
  {
   "cell_type": "code",
   "execution_count": 34,
   "id": "76dc63c2-850e-4375-a26e-81c288e0ea56",
   "metadata": {
    "tags": []
   },
   "outputs": [],
   "source": [
    "my_features = mood_data[['danceability', 'energy', 'loudness','speechiness',\n",
    "                             'valence', 'tempo', 'popularity']]\n",
    "\n",
    "music_feature_me = pd.DataFrame(scaler.fit_transform(my_features), columns=my_features.columns)"
   ]
  },
  {
   "cell_type": "code",
   "execution_count": 35,
   "id": "1c591843-e464-4fbd-933a-27f20afbabd9",
   "metadata": {
    "tags": []
   },
   "outputs": [],
   "source": [
    "#allow plotly to show up in jupyter lab\n",
    "pio.renderers.default = 'iframe'"
   ]
  },
  {
   "cell_type": "code",
   "execution_count": 36,
   "id": "a13e2edd-805d-4d6c-b60f-347273267471",
   "metadata": {
    "tags": []
   },
   "outputs": [
    {
     "data": {
      "text/html": [
       "<iframe\n",
       "    scrolling=\"no\"\n",
       "    width=\"100%\"\n",
       "    height=\"545px\"\n",
       "    src=\"iframe_figures/figure_36.html\"\n",
       "    frameborder=\"0\"\n",
       "    allowfullscreen\n",
       "></iframe>\n"
      ]
     },
     "metadata": {},
     "output_type": "display_data"
    }
   ],
   "source": [
    "radarchart = go.Figure(data=go.Scatterpolar(\n",
    "    r=list(round(music_feature_me.median(),2)),\n",
    "    theta=['Danceability', 'Energy', 'Loudness', 'Speechiness', 'Valence','Tempo','Popularity'],\n",
    "    fill='toself',\n",
    "    # fillcolor = '#1ed760',\n",
    "    line=dict(color=pre_defined_green)\n",
    "))\n",
    "\n",
    "# Update chart layout\n",
    "radarchart.update_layout(\n",
    "    polar=dict(\n",
    "        bgcolor=pre_defined_bgcolor,\n",
    "        radialaxis=dict(\n",
    "            visible=True,\n",
    "            range=[0,1],\n",
    "            gridcolor = lightgray,\n",
    "            tickfont=dict(color=pre_defined_green)\n",
    "        )),\n",
    "    showlegend=False,\n",
    "        title={\n",
    "        'text': \"YOUR AUDIO FEATURES\", \n",
    "        'x': 0.5, \n",
    "        'y': 0.98, \n",
    "        'xanchor': 'center',\n",
    "        'yanchor': 'top',\n",
    "        'font': {'color': titlecol,'family': 'Andale Mono', 'size':25}\n",
    "    },\n",
    "    margin=dict(l=0, r=0, t=60, b=0),\n",
    "    font=dict(size=14, color=titlecol),\n",
    "    # plot_bgcolor='#191414',\n",
    "    paper_bgcolor=pre_defined_bgcolor\n",
    ")\n",
    "\n",
    "radarchart.show()\n"
   ]
  },
  {
   "cell_type": "code",
   "execution_count": 37,
   "id": "f2d5ac26-7384-4d23-9be8-6b1399b0bb9c",
   "metadata": {
    "tags": []
   },
   "outputs": [
    {
     "name": "stdout",
     "output_type": "stream",
     "text": [
      "Percentage of popular songs: 65.82%\n"
     ]
    }
   ],
   "source": [
    "\n",
    "num_popular_songs = sum(1 for score in my_features['popularity'] if score > 60)\n",
    "percent_popular_songs = num_popular_songs / len(my_features['popularity']) * 100\n",
    "print(f\"Percentage of popular songs: {percent_popular_songs:.2f}%\")"
   ]
  },
  {
   "cell_type": "code",
   "execution_count": 38,
   "id": "0a2f974c-1bb1-4dbe-a1c6-4f0f6f6f7008",
   "metadata": {
    "tags": []
   },
   "outputs": [],
   "source": [
    "popularity = pd.DataFrame()\n",
    "popularity['popularity'] = my_features['popularity']\n",
    "popularity['popularity_label'] = my_features['popularity'].apply(lambda x: 'Basic' if x >= 60 else 'Lowkey')"
   ]
  },
  {
   "cell_type": "code",
   "execution_count": 39,
   "id": "a52c5f94-70b1-473b-b65d-a9c78b4c872f",
   "metadata": {
    "tags": []
   },
   "outputs": [],
   "source": [
    "text = pn.pane.Markdown(\"<div style='text-align: center;'>..what's more</div>\",style={'font-family': 'Andale Mono', 'font-size': '25px', 'color':titlecol})"
   ]
  },
  {
   "cell_type": "code",
   "execution_count": 41,
   "id": "435a47e2-dd25-4c6e-ab44-ae3b0fe39600",
   "metadata": {
    "tags": []
   },
   "outputs": [
    {
     "data": {
      "text/html": [
       "<iframe\n",
       "    scrolling=\"no\"\n",
       "    width=\"320px\"\n",
       "    height=\"320\"\n",
       "    src=\"iframe_figures/figure_41.html\"\n",
       "    frameborder=\"0\"\n",
       "    allowfullscreen\n",
       "></iframe>\n"
      ]
     },
     "metadata": {},
     "output_type": "display_data"
    }
   ],
   "source": [
    "if percent_popular_songs >=60:\n",
    "    basicness = \"AND OH.. YA BASIC!\"\n",
    "else:\n",
    "    basicness = \"Huh.. YOU'RE PRETTY LOWKEY\"\n",
    "    \n",
    "basic_gauge = go.Figure(go.Indicator(\n",
    "    mode = \"gauge+number\",\n",
    "    value = percent_popular_songs,\n",
    "        gauge = {\n",
    "        'axis': {'range': [None, 100], 'tickwidth': 1, 'tickcolor': \"darkblue\"},\n",
    "        'bar': {'color': pre_defined_green},\n",
    "        'bgcolor': titlecol,\n",
    "        'borderwidth': 1},number={'suffix': \"% POPULAR\"},\n",
    "    domain = {'x': [0, 1], 'y': [0, 1]},\n",
    "        title={\n",
    "        'text': \"  \"+ basicness,   \n",
    "        'font': {'color': titlecol,'family': 'Andale Mono', 'size':18}}\n",
    "            ))\n",
    "basic_gauge.update_layout(paper_bgcolor = pre_defined_bgcolor, font = {'color': pre_defined_green,'family': 'Andale Mono', 'size':18}\n",
    "                          ,height=300,\n",
    "                        width = 300\n",
    "                          ,margin = dict(l=30,r=50,t=0,b=0)\n",
    "                         )\n",
    "\n",
    "# fig.show()\n",
    "basic_gauge.show()"
   ]
  },
  {
   "cell_type": "markdown",
   "id": "ce3cd591-3eec-48e2-aefc-42930fef927f",
   "metadata": {
    "tags": []
   },
   "source": [
    "## Genres"
   ]
  },
  {
   "cell_type": "code",
   "execution_count": 42,
   "id": "f0db8538-fa2d-414d-95ec-9f48ad32de99",
   "metadata": {
    "tags": []
   },
   "outputs": [],
   "source": [
    "plotly_template = pn.widgets.Select(options=sorted(pio.templates))"
   ]
  },
  {
   "cell_type": "code",
   "execution_count": 43,
   "id": "36f0cceb-5ed2-43ae-af01-c5d2aaf5a9e2",
   "metadata": {
    "tags": []
   },
   "outputs": [],
   "source": [
    "# group the DataFrame by the 'fruit' column and count the number of occurrences of each fruit\n",
    "freq = user_six_mos.groupby('master_metadata_album_artist_name').size().reset_index(name='count').sort_values('count',ascending=False)\n",
    "freq_top = freq.head(40)\n",
    "# convert the 'freq' DataFrame to a dictionary to use as input to the WordCloud object\n",
    "freq_dict = dict(zip(freq_top['master_metadata_album_artist_name'], freq_top['count']))\n"
   ]
  },
  {
   "cell_type": "code",
   "execution_count": 44,
   "id": "c5d66baf-4fdc-434c-ba42-58aa7ae892f5",
   "metadata": {
    "tags": []
   },
   "outputs": [],
   "source": [
    "# freq2 = user_six_mos.groupby('master_metadata_album_artist_name').size().reset_index(name='count').sort_values('count',ascending=False)\n",
    "for i in range(10):\n",
    "    if 'Taylor Swift' in freq_top.iloc[i]['master_metadata_album_artist_name']:\n",
    "        top_artist = \"We got ourself a SWIFTIE\"\n",
    "        t_artist = freq_top.iloc[i]['master_metadata_album_artist_name']\n",
    "    elif 'SZA' in freq_top.iloc[i]['master_metadata_album_artist_name']:\n",
    "        top_artist = \"LMAO SZA\"\n",
    "        t_artist = freq_top.iloc[i]['master_metadata_album_artist_name']\n",
    "    elif 'Nicki Minaj' in freq_top.iloc[i]['master_metadata_album_artist_name']:\n",
    "        top_artist = \"Are you a Nicki Fan?..am I a Nicki Fan?..pull up in the Sri Lanka whattt\"\n",
    "        t_artist = freq_top.iloc[i]['master_metadata_album_artist_name']\n",
    "        break\n",
    "    elif i==0:\n",
    "        top_artist = str(freq_top.iloc[i][\"master_metadata_album_artist_name\"])\n",
    "        t_artist = freq_top.iloc[i]['master_metadata_album_artist_name']\n",
    "        # print(artist)\n",
    "# artist_titles "
   ]
  },
  {
   "cell_type": "code",
   "execution_count": 45,
   "id": "566126a5-6c4c-4c1a-ba4e-1c282ab4d708",
   "metadata": {
    "tags": []
   },
   "outputs": [
    {
     "data": {
      "text/plain": [
       "'Taylor Swift'"
      ]
     },
     "execution_count": 45,
     "metadata": {},
     "output_type": "execute_result"
    }
   ],
   "source": [
    "t_artist"
   ]
  },
  {
   "cell_type": "code",
   "execution_count": 50,
   "id": "7a7115a0-8f7e-4770-b276-4f00fd3e8e25",
   "metadata": {
    "tags": []
   },
   "outputs": [
    {
     "data": {
      "text/html": [
       "<iframe\n",
       "    scrolling=\"no\"\n",
       "    width=\"100%\"\n",
       "    height=\"545px\"\n",
       "    src=\"iframe_figures/figure_50.html\"\n",
       "    frameborder=\"0\"\n",
       "    allowfullscreen\n",
       "></iframe>\n"
      ]
     },
     "metadata": {},
     "output_type": "display_data"
    }
   ],
   "source": [
    "# create a WordCloud object with relative scaling set to 0\n",
    "wordcloud = WordCloud(width=1000, height=500, relative_scaling=0,colormap='Greens',background_color=pre_defined_bgcolor).generate_from_frequencies(freq_dict)\n",
    "# convert the WordCloud object into an image that can be plotted in Plotly\n",
    "img = wordcloud.to_image()\n",
    "\n",
    "# create a Plotly figure and add the word cloud image to it\n",
    "artist_chart = px.imshow(img)\n",
    "artist_chart.update_layout(\n",
    "    title={\n",
    "        'text': \"'\"+top_artist+\"'\",\n",
    "        'y':0.95,\n",
    "        'x':0.5,\n",
    "        'xanchor': 'center',\n",
    "        'yanchor': 'top',\n",
    "        'font': {'color': titlecol,'family': 'Andale Mono', 'size':25}},\n",
    "        # title_font_color='black',\n",
    "    margin={'l': 0, 'r': 0, 'b': 0, 't': 60},\n",
    "    xaxis=dict(visible=False),\n",
    "    yaxis = dict(visible=False))\n",
    "\n",
    "# show the Plotly figure\n",
    "artist_chart.update_layout(paper_bgcolor=pre_defined_bgcolor)\n",
    "artist_chart.show()"
   ]
  },
  {
   "cell_type": "markdown",
   "id": "d96a3cb0-4ad7-4bef-842d-2d0640469d60",
   "metadata": {},
   "source": [
    "## Day of week"
   ]
  },
  {
   "cell_type": "code",
   "execution_count": 51,
   "id": "89bdcd2d-62ec-485d-8060-fd0676a32d3b",
   "metadata": {
    "tags": []
   },
   "outputs": [],
   "source": [
    "time = pd.read_csv('https://raw.githubusercontent.com/lphan1812/spotify-project/main/franklin_six_months.csv')\n",
    "# Convert msPlayed into minutes listened\n",
    "time = pd.merge(time, user_data, on='track_uri', how='left')\n",
    "time['Minutes Listened'] = time['ms_played'] / 60000\n",
    "\n",
    "# Convert End Time (UTC) to End Time (Adj) in the user's time zone\n",
    "time['End Time (Adj)'] = pd.to_datetime(time['ts'])\n",
    "time.loc[time['End Time (Adj)'] < '2020-03-08', 'End Time (Adj)'] -= pd.Timedelta(hours=5)\n",
    "time.loc[(time['End Time (Adj)'] >= '2020-03-08') & (time['End Time (Adj)'] < '2020-11-01'), 'End Time (Adj)'] -= pd.Timedelta(hours=4)\n",
    "time.loc[time['End Time (Adj)'] >= '2020-11-01', 'End Time (Adj)'] -= pd.Timedelta(hours=5)\n",
    "\n",
    "# Extract the day of the week from the End Time (Adj) column\n",
    "time['Day of Week'] = time['End Time (Adj)'].dt.day_name()\n",
    "\n"
   ]
  },
  {
   "cell_type": "code",
   "execution_count": 52,
   "id": "82aba9eb-c978-4f77-ba75-fcd1e612eea8",
   "metadata": {
    "tags": []
   },
   "outputs": [],
   "source": [
    "# Group the data by day of week and predicted mood, and calculate the total minutes for each group\n",
    "day_mood_minutes = time.groupby(['Day of Week', 'predicted_mood'])['Minutes Listened'].sum().reset_index()\n",
    "\n",
    "# calculate the total minutes per day of week\n",
    "total_minutes_per_day = day_mood_minutes.groupby('Day of Week')['Minutes Listened'].sum().reset_index()\n",
    "\n",
    "# calculate the percentage of mood on each day of week\n",
    "day_mood_minutes = day_mood_minutes.merge(total_minutes_per_day, on='Day of Week', suffixes=('', '_total'))\n",
    "day_mood_minutes['mood_percentage'] = day_mood_minutes['Minutes Listened'] / day_mood_minutes['Minutes Listened_total'] * 100\n"
   ]
  },
  {
   "cell_type": "code",
   "execution_count": 54,
   "id": "557d60b6-99ed-4f08-bd38-9b4e7c0a6583",
   "metadata": {
    "tags": []
   },
   "outputs": [
    {
     "data": {
      "text/html": [
       "<iframe\n",
       "    scrolling=\"no\"\n",
       "    width=\"100%\"\n",
       "    height=\"545px\"\n",
       "    src=\"iframe_figures/figure_54.html\"\n",
       "    frameborder=\"0\"\n",
       "    allowfullscreen\n",
       "></iframe>\n"
      ]
     },
     "metadata": {},
     "output_type": "display_data"
    }
   ],
   "source": [
    "# Create a stacked bar chart to visualize the results\n",
    "dayofweek = px.bar(day_mood_minutes, x='Day of Week', y='Minutes Listened', color='predicted_mood', \n",
    "                     category_orders={'Day of Week': ['Sunday', 'Monday', 'Tuesday', 'Wednesday', 'Thursday', 'Friday', 'Saturday']}, \n",
    "                     barmode='stack',\n",
    "                     text=day_mood_minutes['mood_percentage'].round(1).astype(str) + '%',\n",
    "                    \n",
    "                     # text = round(day_mood_minutes[''],0).astype(str) + '%' ,\n",
    "             color_discrete_map={\n",
    "                            'chill': titlecol,\n",
    "                            'upbeat': pre_defined_green,\n",
    "                            'sad': lightgray\n",
    "                        }\n",
    ")\n",
    "dayofweek.update_layout(\n",
    "    title={\n",
    "        'text': \"MUSIC USAGE AND MOOD THROUGHOUT THE WEEK\", \n",
    "        'x': 0.5, \n",
    "        'y': 0.95, \n",
    "        'xanchor': 'center',\n",
    "        'yanchor': 'top',\n",
    "        'font': {'color': 'white','family': 'Andale Mono', 'size':25}\n",
    "    },\n",
    "        xaxis_title=\"Day of Week\", \n",
    "    yaxis_title=\"Minutes\",\n",
    "    # showlegend=False,\n",
    "    plot_bgcolor=pre_defined_bgcolor,\n",
    "    paper_bgcolor=pre_defined_bgcolor,\n",
    "    font_color=titlecol,\n",
    "    yaxis_gridcolor=midgray,legend=dict(\n",
    "        title = \"\",\n",
    "        orientation='h',\n",
    "        yanchor='bottom',\n",
    "        y=0.92,\n",
    "        xanchor='center',\n",
    "        x=0.5\n",
    "    # color_discrete_sequence=[titlecol, pre_defined_green, lightgray]\n",
    "))\n",
    "\n",
    "# stacked_bar.update_xaxes(range=[0, 100], showgrid=False, showticklabels=False)\n",
    "# stacked_bar.update_yaxes(showticklabels=False, showgrid=False)\n",
    "\n",
    "# stacked_bar.update_layout(legend=dict(yanchor=\"bottom\", y=0.99,  x=0.01))\n",
    "\n",
    "dayofweek.show()\n"
   ]
  },
  {
   "cell_type": "code",
   "execution_count": 55,
   "id": "92e0089f-f749-49fd-967c-a6b80dd00f88",
   "metadata": {
    "tags": []
   },
   "outputs": [
    {
     "data": {
      "text/html": [
       "<iframe\n",
       "    scrolling=\"no\"\n",
       "    width=\"100%\"\n",
       "    height=\"545px\"\n",
       "    src=\"iframe_figures/figure_55.html\"\n",
       "    frameborder=\"0\"\n",
       "    allowfullscreen\n",
       "></iframe>\n"
      ]
     },
     "metadata": {},
     "output_type": "display_data"
    }
   ],
   "source": [
    "# Filter the rows where skipped is True and group by track name\n",
    "skipped_tracks = time[time['skipped'] == True].groupby('master_metadata_track_name').count()\n",
    "\n",
    "# Sort by the number of skips in descending order and select the top 10\n",
    "top_skipped_tracks = skipped_tracks.sort_values(by='skipped', ascending=True).tail(10)\n",
    "\n",
    "# Plot the top 10 skipped tracks using a horizontal bar chart\n",
    "skip = px.bar(top_skipped_tracks, x='skipped', y=top_skipped_tracks.index, orientation='h', color_discrete_sequence=[pre_defined_green])\n",
    "# Update the chart layout to remove the y-axis title\n",
    "skip.update_layout(yaxis_title='',\n",
    "                    xaxis_title = \"# of Times Skipped\",\n",
    "                      title={\n",
    "        'text': \"You must be SICK of these songs..\", \n",
    "        'x': 0.5, \n",
    "        'y': 0.95, \n",
    "        'xanchor': 'center',\n",
    "        'yanchor': 'top',\n",
    "        'font': {'color': titlecol,'family': 'Andale Mono', 'size':25}\n",
    "    },\n",
    "                  plot_bgcolor=pre_defined_bgcolor,\n",
    "                  paper_bgcolor=pre_defined_bgcolor,\n",
    "                  font_color=titlecol,\n",
    "                  xaxis_gridcolor=darkgray\n",
    ")\n",
    "skip.show()\n"
   ]
  },
  {
   "cell_type": "code",
   "execution_count": 56,
   "id": "52f6d100-f5fe-435d-aeab-bf90913525c9",
   "metadata": {
    "tags": []
   },
   "outputs": [
    {
     "data": {
      "text/html": [
       "<iframe\n",
       "    scrolling=\"no\"\n",
       "    width=\"100%\"\n",
       "    height=\"545px\"\n",
       "    src=\"iframe_figures/figure_56.html\"\n",
       "    frameborder=\"0\"\n",
       "    allowfullscreen\n",
       "></iframe>\n"
      ]
     },
     "metadata": {},
     "output_type": "display_data"
    }
   ],
   "source": [
    "track_list_ms = time.groupby(['master_metadata_track_name'],as_index=False).sum('ms_played').sort_values('ms_played',ascending = False)\n",
    "\n",
    "#track_list_ms = pd.merge(track_list_ms, time[['master_metadata_track_name', 'master_metadata_album_artist_name','album','track_uri']].drop_duplicates(),how='inner',on=['track_uri'])\n",
    "\n",
    "track_list_ms['minutes'] = round(track_list_ms['ms_played']/60000,1)\n",
    "track_list_ms['hours'] = round(track_list_ms['minutes']/60,1)\n",
    "\n",
    "### most played songs\n",
    "top_10_tracks = track_list_ms.head(10)\n",
    "top_10_tracks\n",
    "#top_10_tracks[['trackName','artistName','msPlayed','minutes','hours']]\n",
    "\n",
    "# Sort the DataFrame by the 'minutes' column in descending order\n",
    "top_10_tracks = top_10_tracks.sort_values(by=\"minutes\", ascending=True)\n",
    "\n",
    "tracks = px.bar(top_10_tracks, x=\"minutes\", y=\"master_metadata_track_name\", orientation=\"h\", color_discrete_sequence=[pre_defined_green])\n",
    "\n",
    "# Set the chart title and axis labels\n",
    "tracks.update_layout(\n",
    "    title={\n",
    "        'text': \"TOP TRACKS\", \n",
    "        'x': 0.5, \n",
    "        'y': 0.95, \n",
    "        'xanchor': 'center',\n",
    "        'yanchor': 'top',\n",
    "        'font': {'color': titlecol,'family': 'Andale Mono', 'size':25}\n",
    "    },\n",
    "    xaxis_title=\"Minutes Played\",\n",
    "    yaxis_title=\"\",\n",
    "                  plot_bgcolor=pre_defined_bgcolor,\n",
    "                  paper_bgcolor=pre_defined_bgcolor,\n",
    "                  font_color=titlecol,\n",
    "                  xaxis_gridcolor=darkgray\n",
    ")\n",
    "tracks.show()"
   ]
  },
  {
   "cell_type": "code",
   "execution_count": 57,
   "id": "6de97ff0-a963-4db0-a2cd-23a2de4aeaf2",
   "metadata": {
    "tags": []
   },
   "outputs": [
    {
     "data": {
      "text/html": [
       "<iframe\n",
       "    scrolling=\"no\"\n",
       "    width=\"100%\"\n",
       "    height=\"545px\"\n",
       "    src=\"iframe_figures/figure_57.html\"\n",
       "    frameborder=\"0\"\n",
       "    allowfullscreen\n",
       "></iframe>\n"
      ]
     },
     "metadata": {},
     "output_type": "display_data"
    }
   ],
   "source": [
    "genre = pd.read_csv(\"https://raw.githubusercontent.com/lphan1812/spotify-project/main/franklin_6mo_genres.csv\")\n",
    "genre\n",
    "top_genres = genre.groupby('genres').size().reset_index(name='count').sort_values('count',ascending=False)\n",
    "top_genres = top_genres.loc[top_genres['genres'] != 'singer-songwriter']\n",
    "\n",
    "top_genres_10=top_genres.sort_values(by=\"count\", ascending=True).tail(10)\n",
    "\n",
    "genres = px.bar(top_genres_10, x='count', y='genres',orientation=\"h\", color_discrete_sequence=[pre_defined_green])\n",
    "# genres.update_layout(\n",
    "#                 title={\n",
    "#                         'text': \"TOP GENRES\", \n",
    "#                         'x': 0.5, \n",
    "#                         'y': 0.95, \n",
    "#                         'xanchor': 'center',\n",
    "#                         'yanchor': 'top',\n",
    "#                         'font': {'color': titlecol,'family': 'Andale Mono', 'size':25}\n",
    "#                     },\n",
    "#                   xaxis_title=\"\",\n",
    "#                   yaxis_title=\"\",\n",
    "#                   plot_bgcolor=pre_defined_bgcolor,\n",
    "#                   paper_bgcolor=pre_defined_bgcolor,\n",
    "#                   font_color=titlecol,\n",
    "#                   yaxis_gridcolor=midgray\n",
    "# )\n",
    "genres.update_layout(\n",
    "    title={\n",
    "        'text': \"TOP GENRES\", \n",
    "        'x': 0.5, \n",
    "        'y': 0.95, \n",
    "        'xanchor': 'center',\n",
    "        'yanchor': 'top',\n",
    "        'font': {'color': titlecol,'family': 'Andale Mono', 'size':25}\n",
    "    },\n",
    "    xaxis_title=\"Minutes Played\",\n",
    "    yaxis_title=\"\",\n",
    "                  plot_bgcolor=pre_defined_bgcolor,\n",
    "                  paper_bgcolor=pre_defined_bgcolor,\n",
    "                  font_color=titlecol,\n",
    "                  xaxis_gridcolor=darkgray\n",
    ")\n",
    "# tracks.show()\n",
    "genres.show()"
   ]
  },
  {
   "cell_type": "markdown",
   "id": "346bbc76-b2c1-4d22-baed-fe0165d7a45c",
   "metadata": {},
   "source": [
    "## Narative"
   ]
  },
  {
   "cell_type": "markdown",
   "id": "cb877bd6-87d9-4b86-8977-fda9ea85c540",
   "metadata": {},
   "source": [
    "# About the authors"
   ]
  },
  {
   "cell_type": "code",
   "execution_count": 58,
   "id": "f3f26141-83c9-40e3-9056-aae7c88a76f4",
   "metadata": {
    "tags": []
   },
   "outputs": [],
   "source": [
    "barb_and_linh = pd.read_csv('barblinh.csv')"
   ]
  },
  {
   "cell_type": "markdown",
   "id": "fd86fa13-81d9-4663-ac8f-b23ced257ca0",
   "metadata": {},
   "source": [
    "### Get vibe for barb and linh"
   ]
  },
  {
   "cell_type": "code",
   "execution_count": 59,
   "id": "d73d44a1-0680-411a-83b7-b9bd6f3f2334",
   "metadata": {
    "tags": []
   },
   "outputs": [
    {
     "name": "stdout",
     "output_type": "stream",
     "text": [
      "The accuracy of the model is: 0.8165467625899281\n"
     ]
    }
   ],
   "source": [
    "# subset the relevant columns\n",
    "mood_features = mood_data[['valence', 'danceability', 'tempo', 'energy','loudness','speechiness','instrumentalness','popularity']]\n",
    "authors_features = barb_and_linh[['valence', 'danceability', 'tempo', 'energy','loudness','speechiness','instrumentalness','popularity']]\n",
    "\n",
    "# scale audio features to standardize the metrics\n",
    "scaler = preprocessing.MinMaxScaler()\n",
    "mood_features_scaled = pd.DataFrame(scaler.fit_transform(mood_features), columns=mood_features.columns)\n",
    "authors_features_scaled = pd.DataFrame(scaler.fit_transform(authors_features), columns=authors_features.columns)\n",
    "\n",
    "mood_target = mood_data['vibe']\n",
    "\n",
    "# split the data into training and testing sets\n",
    "X_train, X_test, y_train, y_test = train_test_split(mood_features_scaled, mood_target, test_size=0.2, random_state=42)\n",
    "\n",
    "# create a random forest classifier and train it\n",
    "rfc = RandomForestClassifier(n_estimators=100, random_state=42)\n",
    "rfc.fit(X_train, y_train)\n",
    "\n",
    "# make predictions on the user data\n",
    "authorsbest_user_pred = rfc.predict(authors_features_scaled)\n",
    "\n",
    "# calculate the accuracy of the model on the test set\n",
    "authorsbest_y_pred = rfc.predict(X_test)\n",
    "authorsbest_accuracy = metrics.accuracy_score(y_test, authorsbest_y_pred)\n",
    "print(\"The accuracy of the model is:\", authorsbest_accuracy)"
   ]
  },
  {
   "cell_type": "code",
   "execution_count": 60,
   "id": "df41cc77-85b9-4850-946a-e9489c164d8d",
   "metadata": {
    "tags": []
   },
   "outputs": [],
   "source": [
    "barb_and_linh['predicted_mood']=authorsbest_user_pred"
   ]
  },
  {
   "cell_type": "code",
   "execution_count": 61,
   "id": "47ba1603-c05a-4877-847a-fd1015e4ca30",
   "metadata": {
    "tags": []
   },
   "outputs": [
    {
     "name": "stdout",
     "output_type": "stream",
     "text": [
      "Upbeat percent: 32 %\n",
      "Sad percent: 15 %\n",
      "Chill percent: 53 %\n",
      "The accuracy of the model is: 0.8165467625899281\n"
     ]
    }
   ],
   "source": [
    "### Calculate the proportion of different moods within the user's playlist\n",
    "\n",
    "authorstotal = len(authorsbest_user_pred)\n",
    "authorsupbeat_count = np.count_nonzero(authorsbest_user_pred == 'upbeat')\n",
    "authorsupbeat_per = round((authorsupbeat_count / authorstotal) * 100)\n",
    "\n",
    "authorssad_count = np.count_nonzero(authorsbest_user_pred == 'sad')\n",
    "authorssad_per = round((authorssad_count / authorstotal) * 100)\n",
    "\n",
    "authorschill_count = np.count_nonzero(authorsbest_user_pred == 'chill')\n",
    "authorschill_per = round((authorschill_count / authorstotal) * 100)\n",
    "\n",
    "print(\"Upbeat percent:\", authorsupbeat_per, \"%\")\n",
    "print(\"Sad percent:\", authorssad_per , \"%\")\n",
    "print(\"Chill percent:\", authorschill_per, \"%\")\n",
    "\n",
    "print(\"The accuracy of the model is:\", authorsbest_accuracy)"
   ]
  },
  {
   "cell_type": "code",
   "execution_count": 63,
   "id": "89156ade-6f3a-4148-b05f-8426a44d5cc7",
   "metadata": {
    "tags": []
   },
   "outputs": [
    {
     "data": {
      "text/html": [
       "<div>\n",
       "<style scoped>\n",
       "    .dataframe tbody tr th:only-of-type {\n",
       "        vertical-align: middle;\n",
       "    }\n",
       "\n",
       "    .dataframe tbody tr th {\n",
       "        vertical-align: top;\n",
       "    }\n",
       "\n",
       "    .dataframe thead th {\n",
       "        text-align: right;\n",
       "    }\n",
       "</style>\n",
       "<table border=\"1\" class=\"dataframe\">\n",
       "  <thead>\n",
       "    <tr style=\"text-align: right;\">\n",
       "      <th></th>\n",
       "      <th>predicted_mood</th>\n",
       "      <th>owner</th>\n",
       "      <th>count</th>\n",
       "    </tr>\n",
       "  </thead>\n",
       "  <tbody>\n",
       "    <tr>\n",
       "      <th>1</th>\n",
       "      <td>chill</td>\n",
       "      <td>Linh</td>\n",
       "      <td>185</td>\n",
       "    </tr>\n",
       "    <tr>\n",
       "      <th>0</th>\n",
       "      <td>chill</td>\n",
       "      <td>Barb</td>\n",
       "      <td>144</td>\n",
       "    </tr>\n",
       "    <tr>\n",
       "      <th>4</th>\n",
       "      <td>upbeat</td>\n",
       "      <td>Barb</td>\n",
       "      <td>123</td>\n",
       "    </tr>\n",
       "    <tr>\n",
       "      <th>3</th>\n",
       "      <td>sad</td>\n",
       "      <td>Linh</td>\n",
       "      <td>78</td>\n",
       "    </tr>\n",
       "    <tr>\n",
       "      <th>5</th>\n",
       "      <td>upbeat</td>\n",
       "      <td>Linh</td>\n",
       "      <td>74</td>\n",
       "    </tr>\n",
       "    <tr>\n",
       "      <th>2</th>\n",
       "      <td>sad</td>\n",
       "      <td>Barb</td>\n",
       "      <td>13</td>\n",
       "    </tr>\n",
       "  </tbody>\n",
       "</table>\n",
       "</div>"
      ],
      "text/plain": [
       "  predicted_mood owner  count\n",
       "1          chill  Linh    185\n",
       "0          chill  Barb    144\n",
       "4         upbeat  Barb    123\n",
       "3            sad  Linh     78\n",
       "5         upbeat  Linh     74\n",
       "2            sad  Barb     13"
      ]
     },
     "execution_count": 63,
     "metadata": {},
     "output_type": "execute_result"
    }
   ],
   "source": [
    "authors_mood = barb_and_linh.groupby(['predicted_mood','owner']).size().reset_index(name='count').sort_values('count',ascending=False)\n",
    "authors_mood"
   ]
  },
  {
   "cell_type": "code",
   "execution_count": 64,
   "id": "5b87cd18-78a0-4c4f-be91-f9b510186cec",
   "metadata": {},
   "outputs": [],
   "source": [
    "authors_mood = barb_and_linh.groupby(['predicted_mood','owner']).size().reset_index(name='count').sort_values('count',ascending=False)"
   ]
  },
  {
   "cell_type": "code",
   "execution_count": 43,
   "id": "5280d1ad-74d2-4e21-9b47-84f6b6156705",
   "metadata": {
    "tags": []
   },
   "outputs": [],
   "source": [
    "# authors_mood = barb_and_linh.groupby(['predicted_mood','owner']).size().reset_index(name='count').sort_values('count',ascending=False)"
   ]
  },
  {
   "cell_type": "code",
   "execution_count": 65,
   "id": "5bc95038-9139-417c-9238-f437b1c5512c",
   "metadata": {
    "tags": []
   },
   "outputs": [
    {
     "data": {
      "image/png": "[encoded data removed]",
      "text/plain": [
       "<PIL.JpegImagePlugin.JpegImageFile image mode=RGB size=387x341>"
      ]
     },
     "execution_count": 65,
     "metadata": {},
     "output_type": "execute_result"
    }
   ],
   "source": [
    "# Find the highest percentage\n",
    "authorsmax_percent = max(authorsupbeat_per, authorssad_per, authorschill_per)\n",
    "\n",
    "style = {'font-family': 'Andale Mono','font-size': '10px'}\n",
    "# Find the highest percentage category\n",
    "authorsmax_per = max(authorsupbeat_per, authorssad_per, authorschill_per)\n",
    "if (authorsupbeat_per < 50 and authorssad_per <50 and authorschill_per < 50): \n",
    "    authorsimage_file = confused_image\n",
    "    authorscategory = 'chaotic'\n",
    "    authorspunchline = pn.pane.Markdown(\"# Jeez.. your moods are all over the place. Happy. Chill. Emo. Whatever. Just pick one!\",style=style)\n",
    "    \n",
    "elif authorsmax_per == authorsupbeat_per:\n",
    "    authorsimage_file = upbeat_image\n",
    "    authorscategory = 'upbeat'\n",
    "    authorspunchline = pn.pane.Markdown(\"# Congratulations, you're not depressed!!!\",style=style)\n",
    "elif authorsmax_per == authorssad_per:\n",
    "    authorsimage_file = sad_image\n",
    "    authorscategory = 'sad'\n",
    "    authorspunchline = pn.pane.Markdown(\"# LMAO who hurt you?\",style=style)\n",
    "else:\n",
    "    authorsimage_file = chill_image\n",
    "    authorscategory = 'chill'\n",
    "    authorspunchline = pn.pane.Markdown(\"# Ah yes, the classic 'I'm so cool, I only listen to lo-fi beats vibe.' It's okay. Same here. We're chillin!\",style=style)\n",
    "\n",
    "authorsimage_file"
   ]
  },
  {
   "cell_type": "code",
   "execution_count": 66,
   "id": "8422d657-f7d6-493e-93a4-4e1220a792f1",
   "metadata": {
    "tags": []
   },
   "outputs": [
    {
     "data": {},
     "metadata": {},
     "output_type": "display_data"
    },
    {
     "data": {
      "application/vnd.holoviews_exec.v0+json": "",
      "text/html": [
       "<div id='1005'>\n",
       "  <div class=\"bk-root\" id=\"3e008f62-48bb-4f11-ab66-a3d11fefb9c4\" data-root-id=\"1005\"></div>\n",
       "</div>\n",
       "<script type=\"application/javascript\">(function(root) {\n",
       "  function embed_document(root) {\n",
       "    var docs_json = {\"e19a162b-a36c-4763-9ff0-54f10669d299\":{\"defs\":[{\"extends\":null,\"module\":null,\"name\":\"ReactiveHTML1\",\"overrides\":[],\"properties\":[]},{\"extends\":null,\"module\":null,\"name\":\"FlexBox1\",\"overrides\":[],\"properties\":[{\"default\":\"flex-start\",\"kind\":null,\"name\":\"align_content\"},{\"default\":\"flex-start\",\"kind\":null,\"name\":\"align_items\"},{\"default\":\"row\",\"kind\":null,\"name\":\"flex_direction\"},{\"default\":\"wrap\",\"kind\":null,\"name\":\"flex_wrap\"},{\"default\":\"flex-start\",\"kind\":null,\"name\":\"justify_content\"}]},{\"extends\":null,\"module\":null,\"name\":\"GridStack1\",\"overrides\":[],\"properties\":[{\"default\":\"warn\",\"kind\":null,\"name\":\"mode\"},{\"default\":null,\"kind\":null,\"name\":\"ncols\"},{\"default\":null,\"kind\":null,\"name\":\"nrows\"},{\"default\":true,\"kind\":null,\"name\":\"allow_resize\"},{\"default\":true,\"kind\":null,\"name\":\"allow_drag\"},{\"default\":[],\"kind\":null,\"name\":\"state\"}]},{\"extends\":null,\"module\":null,\"name\":\"click1\",\"overrides\":[],\"properties\":[{\"default\":\"\",\"kind\":null,\"name\":\"terminal_output\"},{\"default\":\"\",\"kind\":null,\"name\":\"debug_name\"},{\"default\":0,\"kind\":null,\"name\":\"clears\"}]},{\"extends\":null,\"module\":null,\"name\":\"NotificationAreaBase1\",\"overrides\":[],\"properties\":[{\"default\":\"bottom-right\",\"kind\":null,\"name\":\"position\"},{\"default\":0,\"kind\":null,\"name\":\"_clear\"}]},{\"extends\":null,\"module\":null,\"name\":\"NotificationArea1\",\"overrides\":[],\"properties\":[{\"default\":[],\"kind\":null,\"name\":\"notifications\"},{\"default\":\"bottom-right\",\"kind\":null,\"name\":\"position\"},{\"default\":0,\"kind\":null,\"name\":\"_clear\"},{\"default\":[{\"background\":\"#ffc107\",\"icon\":{\"className\":\"fas fa-exclamation-triangle\",\"color\":\"white\",\"tagName\":\"i\"},\"type\":\"warning\"},{\"background\":\"#007bff\",\"icon\":{\"className\":\"fas fa-info-circle\",\"color\":\"white\",\"tagName\":\"i\"},\"type\":\"info\"}],\"kind\":null,\"name\":\"types\"}]},{\"extends\":null,\"module\":null,\"name\":\"Notification\",\"overrides\":[],\"properties\":[{\"default\":null,\"kind\":null,\"name\":\"background\"},{\"default\":3000,\"kind\":null,\"name\":\"duration\"},{\"default\":null,\"kind\":null,\"name\":\"icon\"},{\"default\":\"\",\"kind\":null,\"name\":\"message\"},{\"default\":null,\"kind\":null,\"name\":\"notification_type\"},{\"default\":false,\"kind\":null,\"name\":\"_destroyed\"}]},{\"extends\":null,\"module\":null,\"name\":\"TemplateActions1\",\"overrides\":[],\"properties\":[{\"default\":0,\"kind\":null,\"name\":\"open_modal\"},{\"default\":0,\"kind\":null,\"name\":\"close_modal\"}]},{\"extends\":null,\"module\":null,\"name\":\"MaterialTemplateActions1\",\"overrides\":[],\"properties\":[{\"default\":0,\"kind\":null,\"name\":\"open_modal\"},{\"default\":0,\"kind\":null,\"name\":\"close_modal\"}]}],\"roots\":{\"references\":[{\"attributes\":{\"css_classes\":[\"markdown\"],\"margin\":[5,5,5,5],\"name\":\"Markdown00792\",\"sizing_mode\":\"stretch_width\",\"style\":{\"font-family\":\"Andale Mono\",\"font-size\":\"10px\"},\"text\":\"&lt;h1&gt;Ah yes, the classic &amp;lsquo;I&amp;rsquo;m so cool, I only listen to lo-fi beats vibe.&amp;rsquo; It&amp;rsquo;s okay. Same here. We&amp;rsquo;re chillin!&lt;/h1&gt;\"},\"id\":\"1005\",\"type\":\"panel.models.markup.HTML\"},{\"attributes\":{\"client_comm_id\":\"1968b49a527c4dce946474902e9eeafc\",\"comm_id\":\"5f9a2af57486461a8038118b1cb8c1c1\",\"plot_id\":\"1005\"},\"id\":\"1006\",\"type\":\"panel.models.comm_manager.CommManager\"}],\"root_ids\":[\"1005\",\"1006\"]},\"title\":\"Bokeh Application\",\"version\":\"2.4.3\"}};\n",
       "    var render_items = [{\"docid\":\"e19a162b-a36c-4763-9ff0-54f10669d299\",\"root_ids\":[\"1005\"],\"roots\":{\"1005\":\"3e008f62-48bb-4f11-ab66-a3d11fefb9c4\"}}];\n",
       "    root.Bokeh.embed.embed_items_notebook(docs_json, render_items);\n",
       "    for (const render_item of render_items) {\n",
       "      for (const root_id of render_item.root_ids) {\n",
       "\tconst id_el = document.getElementById(root_id)\n",
       "\tif (id_el.children.length && (id_el.children[0].className === 'bk-root')) {\n",
       "\t  const root_el = id_el.children[0]\n",
       "\t  root_el.id = root_el.id + '-rendered'\n",
       "\t}\n",
       "      }\n",
       "    }\n",
       "  }\n",
       "  if (root.Bokeh !== undefined && root.Bokeh.Panel !== undefined && ( root['Tabulator'] !== undefined)) {\n",
       "    embed_document(root);\n",
       "  } else {\n",
       "    var attempts = 0;\n",
       "    var timer = setInterval(function(root) {\n",
       "      if (root.Bokeh !== undefined && root.Bokeh.Panel !== undefined && (root['Tabulator'] !== undefined)) {\n",
       "        clearInterval(timer);\n",
       "        embed_document(root);\n",
       "      } else if (document.readyState == \"complete\") {\n",
       "        attempts++;\n",
       "        if (attempts > 200) {\n",
       "          clearInterval(timer);\n",
       "          console.log(\"Bokeh: ERROR: Unable to run BokehJS code because BokehJS library is missing\");\n",
       "        }\n",
       "      }\n",
       "    }, 25, root)\n",
       "  }\n",
       "})(window);</script>"
      ],
      "text/plain": [
       "Markdown(str, sizing_mode='stretch_width', style={'font-family': 'Andale Mo...})"
      ]
     },
     "execution_count": 66,
     "metadata": {
      "application/vnd.holoviews_exec.v0+json": {
       "id": "1005"
      }
     },
     "output_type": "execute_result"
    }
   ],
   "source": [
    "authorspunchline"
   ]
  },
  {
   "cell_type": "code",
   "execution_count": 67,
   "id": "bfb21cdf-5b52-4a18-a83e-5e51b27e9799",
   "metadata": {
    "tags": []
   },
   "outputs": [
    {
     "name": "stdout",
     "output_type": "stream",
     "text": [
      "Similarity score between your friend and you: 0.9733398809223068\n"
     ]
    }
   ],
   "source": [
    "from sklearn.cluster import KMeans\n",
    "from sklearn.preprocessing import StandardScaler\n",
    "from sklearn.metrics.pairwise import cosine_similarity\n",
    "\n",
    "# Combine friend's and your listening data into a single data frame\n",
    "combined_data = pd.concat([user_data, barb_and_linh])\n",
    "\n",
    "# Normalize the audio features\n",
    "scaler = StandardScaler()\n",
    "# normalized_data = pd.DataFrame(scaler.fit_transform(combined_data.iloc[:, 1:]), columns=combined_data.columns[1:])\n",
    "scaled_features = combined_data[['valence', 'danceability', 'tempo', 'energy','loudness','speechiness','instrumentalness','popularity']]\n",
    "# user_features = user_data[['valence', 'danceability', 'tempo', 'energy','loudness','speechiness','instrumentalness','popularity']]\n",
    "\n",
    "# scale audio features to standardize the metrics\n",
    "scaler = preprocessing.MinMaxScaler()\n",
    "normalized_data = pd.DataFrame(scaler.fit_transform(scaled_features), columns=scaled_features.columns)\n",
    "# user_features_scaled = pd.DataFrame(scaler.fit_transform(user_features), columns=user_features.columns)\n",
    "\n",
    "similarity_matrix = cosine_similarity(normalized_data)\n",
    "\n",
    "# Get the similarity score between your friend and you\n",
    "friend_index = 0  # Index of your friend's listening data in the combined data frame\n",
    "your_index = 1    # Index of your listening data in the combined data frame\n",
    "similarity_score = similarity_matrix[friend_index, your_index]\n",
    "\n",
    "print(\"Similarity score between your friend and you:\", similarity_score)\n"
   ]
  },
  {
   "cell_type": "code",
   "execution_count": 68,
   "id": "c94451ab-e70a-4092-8347-06967ef6190e",
   "metadata": {
    "tags": []
   },
   "outputs": [
    {
     "data": {
      "text/html": [
       "<div>\n",
       "<style scoped>\n",
       "    .dataframe tbody tr th:only-of-type {\n",
       "        vertical-align: middle;\n",
       "    }\n",
       "\n",
       "    .dataframe tbody tr th {\n",
       "        vertical-align: top;\n",
       "    }\n",
       "\n",
       "    .dataframe thead th {\n",
       "        text-align: right;\n",
       "    }\n",
       "</style>\n",
       "<table border=\"1\" class=\"dataframe\">\n",
       "  <thead>\n",
       "    <tr style=\"text-align: right;\">\n",
       "      <th></th>\n",
       "      <th>Energy</th>\n",
       "      <th>Basicness</th>\n",
       "    </tr>\n",
       "  </thead>\n",
       "  <tbody>\n",
       "    <tr>\n",
       "      <th>0</th>\n",
       "      <td>75%</td>\n",
       "      <td>100%</td>\n",
       "    </tr>\n",
       "  </tbody>\n",
       "</table>\n",
       "</div>"
      ],
      "text/plain": [
       "  Energy Basicness\n",
       "0    75%      100%"
      ]
     },
     "execution_count": 68,
     "metadata": {},
     "output_type": "execute_result"
    }
   ],
   "source": [
    "\n",
    "energy_franklin_mean = user_data['energy'].mean()\n",
    "energy_barb_and_linh_mean = barb_and_linh['energy'].mean()\n",
    "energy_match = round((energy_franklin_mean / energy_barb_and_linh_mean) * 100)\n",
    "\n",
    "if energy_match > 100:\n",
    "    energy_match = 100\n",
    "    \n",
    "popularity_franklin_mean = user_data['popularity'].mean()\n",
    "popularity_barb_and_linh_mean = barb_and_linh['popularity'].mean()\n",
    "popularity_match = round((popularity_franklin_mean / popularity_barb_and_linh_mean) * 100)\n",
    "\n",
    "if popularity_match > 100:\n",
    "    popularity_match = 100\n",
    "\n",
    "match = pd.DataFrame({'Energy': [f'{energy_match}%'], 'Basicness': [f'{popularity_match}%']})\n",
    "\n",
    "match"
   ]
  },
  {
   "cell_type": "code",
   "execution_count": 70,
   "id": "6e03c774-5ed4-49ab-aa70-954fe7224034",
   "metadata": {
    "tags": []
   },
   "outputs": [],
   "source": [
    "# mport panel as pn\n",
    "energy = f'{energy_match}%'\n",
    "popularity = f'{popularity_match}%'\n",
    "\n",
    "# Create a Panel Markdown with different text fonts\n",
    "markdown_content = f\"\"\"\n",
    "<span style=\"font-family: Andale Mono; font-size: 20px; color: #ffffff;\">But most importantly, how compatible are you to Barb and Linh? \n",
    "\n",
    "<span style=\"font-family: Andale Mono; font-size: 30px; color: #1DB954;\">{energy}<span style=\"font-family: Andale Mono; font-size: 15px; color: #ffffff;\"> matched our energy</span>\n",
    "<span style=\"font-family:  Andale Mono; font-size: 30px; color: #1DB954;\">{popularity}<span style=\"font-family: Andale Mono; font-size: 15px; color: #ffffff;\"> matched our basicness</span>\n",
    "\n",
    "\"\"\"\n",
    "\n",
    "# Create a Panel layout with the Markdown\n",
    "matching = pn.Column(\n",
    "    pn.pane.Markdown(markdown_content, style={'white-space': 'pre-wrap'})\n",
    ")\n",
    "\n",
    "# Display the layout\n",
    "# matching.show()"
   ]
  },
  {
   "cell_type": "markdown",
   "id": "803fad69-a4fc-4262-b57a-0d7c2a4b3e6e",
   "metadata": {
    "tags": []
   },
   "source": [
    "## Song Recommendations"
   ]
  },
  {
   "cell_type": "code",
   "execution_count": 71,
   "id": "fb4cf991-8b81-4663-be02-8f45ae5ed837",
   "metadata": {
    "tags": []
   },
   "outputs": [],
   "source": [
    "# define a function to get the Spotify link for a track URI\n",
    "def get_spotify_link(df, track_uri_column='track_uri', spotify_link_column='spotify_link'):\n",
    "    df[spotify_link_column] = 'https://open.spotify.com/track/' + df[track_uri_column] + \"/\"\n",
    "    return df\n",
    "barb_and_linh = get_spotify_link(barb_and_linh).iloc[:,1:]"
   ]
  },
  {
   "cell_type": "code",
   "execution_count": 72,
   "id": "b23b3a9a-adce-4eb9-a582-05354a6caa33",
   "metadata": {
    "tags": []
   },
   "outputs": [
    {
     "data": {
      "text/html": [
       "<div>\n",
       "<style scoped>\n",
       "    .dataframe tbody tr th:only-of-type {\n",
       "        vertical-align: middle;\n",
       "    }\n",
       "\n",
       "    .dataframe tbody tr th {\n",
       "        vertical-align: top;\n",
       "    }\n",
       "\n",
       "    .dataframe thead th {\n",
       "        text-align: right;\n",
       "    }\n",
       "</style>\n",
       "<table border=\"1\" class=\"dataframe\">\n",
       "  <thead>\n",
       "    <tr style=\"text-align: right;\">\n",
       "      <th></th>\n",
       "      <th>track_uri</th>\n",
       "      <th>popularity</th>\n",
       "      <th>danceability</th>\n",
       "      <th>energy</th>\n",
       "      <th>loudness</th>\n",
       "      <th>valence</th>\n",
       "      <th>speechiness</th>\n",
       "      <th>instrumentalness</th>\n",
       "      <th>tempo</th>\n",
       "      <th>predicted_mood</th>\n",
       "      <th>chill</th>\n",
       "      <th>sad</th>\n",
       "      <th>upbeat</th>\n",
       "    </tr>\n",
       "  </thead>\n",
       "  <tbody>\n",
       "    <tr>\n",
       "      <th>0</th>\n",
       "      <td>4FFSK1xgCLkTZJLUERLZKG</td>\n",
       "      <td>61</td>\n",
       "      <td>0.712</td>\n",
       "      <td>0.440</td>\n",
       "      <td>-11.566</td>\n",
       "      <td>0.312</td>\n",
       "      <td>0.0413</td>\n",
       "      <td>0.000000</td>\n",
       "      <td>123.958</td>\n",
       "      <td>chill</td>\n",
       "      <td>1</td>\n",
       "      <td>0</td>\n",
       "      <td>0</td>\n",
       "    </tr>\n",
       "    <tr>\n",
       "      <th>1</th>\n",
       "      <td>5enxwA8aAbwZbf5qCHORXi</td>\n",
       "      <td>85</td>\n",
       "      <td>0.631</td>\n",
       "      <td>0.518</td>\n",
       "      <td>-8.771</td>\n",
       "      <td>0.205</td>\n",
       "      <td>0.0303</td>\n",
       "      <td>0.000000</td>\n",
       "      <td>93.023</td>\n",
       "      <td>upbeat</td>\n",
       "      <td>0</td>\n",
       "      <td>0</td>\n",
       "      <td>1</td>\n",
       "    </tr>\n",
       "    <tr>\n",
       "      <th>2</th>\n",
       "      <td>0T482F5L30d7ChNbLqsKa7</td>\n",
       "      <td>43</td>\n",
       "      <td>0.414</td>\n",
       "      <td>0.235</td>\n",
       "      <td>-15.252</td>\n",
       "      <td>0.137</td>\n",
       "      <td>0.0429</td>\n",
       "      <td>0.907000</td>\n",
       "      <td>144.467</td>\n",
       "      <td>sad</td>\n",
       "      <td>0</td>\n",
       "      <td>1</td>\n",
       "      <td>0</td>\n",
       "    </tr>\n",
       "    <tr>\n",
       "      <th>3</th>\n",
       "      <td>3EZTyh1wJEmreJH1aULPCj</td>\n",
       "      <td>62</td>\n",
       "      <td>0.323</td>\n",
       "      <td>0.106</td>\n",
       "      <td>-10.374</td>\n",
       "      <td>0.158</td>\n",
       "      <td>0.0323</td>\n",
       "      <td>0.000059</td>\n",
       "      <td>91.455</td>\n",
       "      <td>sad</td>\n",
       "      <td>0</td>\n",
       "      <td>1</td>\n",
       "      <td>0</td>\n",
       "    </tr>\n",
       "    <tr>\n",
       "      <th>4</th>\n",
       "      <td>5Mw9bXG1dLNhbjofkVS2oR</td>\n",
       "      <td>69</td>\n",
       "      <td>0.262</td>\n",
       "      <td>0.361</td>\n",
       "      <td>-10.187</td>\n",
       "      <td>0.056</td>\n",
       "      <td>0.0333</td>\n",
       "      <td>0.002680</td>\n",
       "      <td>126.786</td>\n",
       "      <td>sad</td>\n",
       "      <td>0</td>\n",
       "      <td>1</td>\n",
       "      <td>0</td>\n",
       "    </tr>\n",
       "  </tbody>\n",
       "</table>\n",
       "</div>"
      ],
      "text/plain": [
       "                track_uri  popularity  danceability  energy  loudness   \n",
       "0  4FFSK1xgCLkTZJLUERLZKG          61         0.712   0.440   -11.566  \\\n",
       "1  5enxwA8aAbwZbf5qCHORXi          85         0.631   0.518    -8.771   \n",
       "2  0T482F5L30d7ChNbLqsKa7          43         0.414   0.235   -15.252   \n",
       "3  3EZTyh1wJEmreJH1aULPCj          62         0.323   0.106   -10.374   \n",
       "4  5Mw9bXG1dLNhbjofkVS2oR          69         0.262   0.361   -10.187   \n",
       "\n",
       "   valence  speechiness  instrumentalness    tempo predicted_mood  chill  sad   \n",
       "0    0.312       0.0413          0.000000  123.958          chill      1    0  \\\n",
       "1    0.205       0.0303          0.000000   93.023         upbeat      0    0   \n",
       "2    0.137       0.0429          0.907000  144.467            sad      0    1   \n",
       "3    0.158       0.0323          0.000059   91.455            sad      0    1   \n",
       "4    0.056       0.0333          0.002680  126.786            sad      0    1   \n",
       "\n",
       "   upbeat  \n",
       "0       0  \n",
       "1       1  \n",
       "2       0  \n",
       "3       0  \n",
       "4       0  "
      ]
     },
     "execution_count": 72,
     "metadata": {},
     "output_type": "execute_result"
    }
   ],
   "source": [
    "dummy_moods_user = pd.get_dummies(user_data['predicted_mood']).astype(int)\n",
    "user_dummy = pd.concat([user_data, dummy_moods_user], axis=1)\n",
    "\n",
    "user_dummy.head()"
   ]
  },
  {
   "cell_type": "code",
   "execution_count": 73,
   "id": "f3ba6592-042b-4334-9729-622cd83c4611",
   "metadata": {
    "tags": []
   },
   "outputs": [
    {
     "data": {
      "text/html": [
       "<div>\n",
       "<style scoped>\n",
       "    .dataframe tbody tr th:only-of-type {\n",
       "        vertical-align: middle;\n",
       "    }\n",
       "\n",
       "    .dataframe tbody tr th {\n",
       "        vertical-align: top;\n",
       "    }\n",
       "\n",
       "    .dataframe thead th {\n",
       "        text-align: right;\n",
       "    }\n",
       "</style>\n",
       "<table border=\"1\" class=\"dataframe\">\n",
       "  <thead>\n",
       "    <tr style=\"text-align: right;\">\n",
       "      <th></th>\n",
       "      <th>track_uri</th>\n",
       "      <th>popularity</th>\n",
       "      <th>danceability</th>\n",
       "      <th>energy</th>\n",
       "      <th>loudness</th>\n",
       "      <th>valence</th>\n",
       "      <th>speechiness</th>\n",
       "      <th>instrumentalness</th>\n",
       "      <th>tempo</th>\n",
       "      <th>album</th>\n",
       "      <th>trackName</th>\n",
       "      <th>owner</th>\n",
       "      <th>acousticness</th>\n",
       "      <th>genres</th>\n",
       "      <th>artist_uri</th>\n",
       "      <th>predicted_mood</th>\n",
       "      <th>spotify_link</th>\n",
       "      <th>chill</th>\n",
       "      <th>sad</th>\n",
       "      <th>upbeat</th>\n",
       "    </tr>\n",
       "  </thead>\n",
       "  <tbody>\n",
       "    <tr>\n",
       "      <th>0</th>\n",
       "      <td>1nM9BUwYIkDbLABWUHjNZH</td>\n",
       "      <td>28</td>\n",
       "      <td>0.490</td>\n",
       "      <td>0.913</td>\n",
       "      <td>-4.004</td>\n",
       "      <td>0.240</td>\n",
       "      <td>0.0468</td>\n",
       "      <td>0.000049</td>\n",
       "      <td>112.137</td>\n",
       "      <td>ATTENTION: MILEY LIVE</td>\n",
       "      <td>Like a Prayer - Live</td>\n",
       "      <td>Barb</td>\n",
       "      <td>NaN</td>\n",
       "      <td>NaN</td>\n",
       "      <td>NaN</td>\n",
       "      <td>chill</td>\n",
       "      <td>https://open.spotify.com/track/1nM9BUwYIkDbLAB...</td>\n",
       "      <td>1</td>\n",
       "      <td>0</td>\n",
       "      <td>0</td>\n",
       "    </tr>\n",
       "    <tr>\n",
       "      <th>1</th>\n",
       "      <td>4dFKEyGrwmIimMqwYleFOR</td>\n",
       "      <td>64</td>\n",
       "      <td>0.880</td>\n",
       "      <td>0.777</td>\n",
       "      <td>-4.465</td>\n",
       "      <td>0.880</td>\n",
       "      <td>0.2560</td>\n",
       "      <td>0.000000</td>\n",
       "      <td>132.982</td>\n",
       "      <td>Super Freaky Girl</td>\n",
       "      <td>Super Freaky Girl (with JT &amp; BIA feat. Katie G...</td>\n",
       "      <td>Barb</td>\n",
       "      <td>NaN</td>\n",
       "      <td>NaN</td>\n",
       "      <td>NaN</td>\n",
       "      <td>upbeat</td>\n",
       "      <td>https://open.spotify.com/track/4dFKEyGrwmIimMq...</td>\n",
       "      <td>0</td>\n",
       "      <td>0</td>\n",
       "      <td>1</td>\n",
       "    </tr>\n",
       "    <tr>\n",
       "      <th>2</th>\n",
       "      <td>65pVi11JqwSZqUuYAqLP36</td>\n",
       "      <td>56</td>\n",
       "      <td>0.718</td>\n",
       "      <td>0.890</td>\n",
       "      <td>-3.798</td>\n",
       "      <td>0.741</td>\n",
       "      <td>0.0553</td>\n",
       "      <td>0.000000</td>\n",
       "      <td>111.967</td>\n",
       "      <td>HELLO Chapter 1: Hello, Stranger</td>\n",
       "      <td>Movie Star</td>\n",
       "      <td>Barb</td>\n",
       "      <td>NaN</td>\n",
       "      <td>NaN</td>\n",
       "      <td>NaN</td>\n",
       "      <td>chill</td>\n",
       "      <td>https://open.spotify.com/track/65pVi11JqwSZqUu...</td>\n",
       "      <td>1</td>\n",
       "      <td>0</td>\n",
       "      <td>0</td>\n",
       "    </tr>\n",
       "    <tr>\n",
       "      <th>3</th>\n",
       "      <td>45eY7Qi2PDUs8WJEhjGWdN</td>\n",
       "      <td>72</td>\n",
       "      <td>0.808</td>\n",
       "      <td>0.661</td>\n",
       "      <td>-6.237</td>\n",
       "      <td>0.804</td>\n",
       "      <td>0.0395</td>\n",
       "      <td>0.000000</td>\n",
       "      <td>107.992</td>\n",
       "      <td>Ramenez la coupe à la maison</td>\n",
       "      <td>Ramenez la coupe à la maison</td>\n",
       "      <td>Barb</td>\n",
       "      <td>NaN</td>\n",
       "      <td>NaN</td>\n",
       "      <td>NaN</td>\n",
       "      <td>upbeat</td>\n",
       "      <td>https://open.spotify.com/track/45eY7Qi2PDUs8WJ...</td>\n",
       "      <td>0</td>\n",
       "      <td>0</td>\n",
       "      <td>1</td>\n",
       "    </tr>\n",
       "    <tr>\n",
       "      <th>4</th>\n",
       "      <td>0j55p8YRAPG8yajtNyjt6A</td>\n",
       "      <td>68</td>\n",
       "      <td>0.690</td>\n",
       "      <td>0.621</td>\n",
       "      <td>-3.583</td>\n",
       "      <td>0.497</td>\n",
       "      <td>0.0600</td>\n",
       "      <td>0.000028</td>\n",
       "      <td>66.858</td>\n",
       "      <td>Hold You</td>\n",
       "      <td>Hold You - Hold Yuh</td>\n",
       "      <td>Barb</td>\n",
       "      <td>NaN</td>\n",
       "      <td>NaN</td>\n",
       "      <td>NaN</td>\n",
       "      <td>chill</td>\n",
       "      <td>https://open.spotify.com/track/0j55p8YRAPG8yaj...</td>\n",
       "      <td>1</td>\n",
       "      <td>0</td>\n",
       "      <td>0</td>\n",
       "    </tr>\n",
       "  </tbody>\n",
       "</table>\n",
       "</div>"
      ],
      "text/plain": [
       "                track_uri  popularity  danceability  energy  loudness   \n",
       "0  1nM9BUwYIkDbLABWUHjNZH          28         0.490   0.913    -4.004  \\\n",
       "1  4dFKEyGrwmIimMqwYleFOR          64         0.880   0.777    -4.465   \n",
       "2  65pVi11JqwSZqUuYAqLP36          56         0.718   0.890    -3.798   \n",
       "3  45eY7Qi2PDUs8WJEhjGWdN          72         0.808   0.661    -6.237   \n",
       "4  0j55p8YRAPG8yajtNyjt6A          68         0.690   0.621    -3.583   \n",
       "\n",
       "   valence  speechiness  instrumentalness    tempo   \n",
       "0    0.240       0.0468          0.000049  112.137  \\\n",
       "1    0.880       0.2560          0.000000  132.982   \n",
       "2    0.741       0.0553          0.000000  111.967   \n",
       "3    0.804       0.0395          0.000000  107.992   \n",
       "4    0.497       0.0600          0.000028   66.858   \n",
       "\n",
       "                              album   \n",
       "0             ATTENTION: MILEY LIVE  \\\n",
       "1                 Super Freaky Girl   \n",
       "2  HELLO Chapter 1: Hello, Stranger   \n",
       "3      Ramenez la coupe à la maison   \n",
       "4                          Hold You   \n",
       "\n",
       "                                           trackName owner  acousticness   \n",
       "0                               Like a Prayer - Live  Barb           NaN  \\\n",
       "1  Super Freaky Girl (with JT & BIA feat. Katie G...  Barb           NaN   \n",
       "2                                         Movie Star  Barb           NaN   \n",
       "3                       Ramenez la coupe à la maison  Barb           NaN   \n",
       "4                                Hold You - Hold Yuh  Barb           NaN   \n",
       "\n",
       "  genres artist_uri predicted_mood   \n",
       "0    NaN        NaN          chill  \\\n",
       "1    NaN        NaN         upbeat   \n",
       "2    NaN        NaN          chill   \n",
       "3    NaN        NaN         upbeat   \n",
       "4    NaN        NaN          chill   \n",
       "\n",
       "                                        spotify_link  chill  sad  upbeat  \n",
       "0  https://open.spotify.com/track/1nM9BUwYIkDbLAB...      1    0       0  \n",
       "1  https://open.spotify.com/track/4dFKEyGrwmIimMq...      0    0       1  \n",
       "2  https://open.spotify.com/track/65pVi11JqwSZqUu...      1    0       0  \n",
       "3  https://open.spotify.com/track/45eY7Qi2PDUs8WJ...      0    0       1  \n",
       "4  https://open.spotify.com/track/0j55p8YRAPG8yaj...      1    0       0  "
      ]
     },
     "execution_count": 73,
     "metadata": {},
     "output_type": "execute_result"
    }
   ],
   "source": [
    "dummy_moods = pd.get_dummies(barb_and_linh['predicted_mood']).astype(int)\n",
    "our_dummies = pd.concat([barb_and_linh, dummy_moods], axis=1)\n",
    "our_dummies.head()\n",
    "# # Dropping the original 'mood' column\n",
    "# data_with_dummies.drop('predicted_mood', axis=1, inplace=True)"
   ]
  },
  {
   "cell_type": "code",
   "execution_count": 74,
   "id": "8255bd65-bff4-4f45-a817-46d2555da8bb",
   "metadata": {
    "tags": []
   },
   "outputs": [
    {
     "data": {
      "text/html": [
       "<div>\n",
       "<style scoped>\n",
       "    .dataframe tbody tr th:only-of-type {\n",
       "        vertical-align: middle;\n",
       "    }\n",
       "\n",
       "    .dataframe tbody tr th {\n",
       "        vertical-align: top;\n",
       "    }\n",
       "\n",
       "    .dataframe thead th {\n",
       "        text-align: right;\n",
       "    }\n",
       "</style>\n",
       "<table border=\"1\" class=\"dataframe\">\n",
       "  <thead>\n",
       "    <tr style=\"text-align: right;\">\n",
       "      <th></th>\n",
       "      <th>trackName</th>\n",
       "      <th>spotify_link</th>\n",
       "    </tr>\n",
       "  </thead>\n",
       "  <tbody>\n",
       "    <tr>\n",
       "      <th>1</th>\n",
       "      <td>Happy Ending</td>\n",
       "      <td>https://open.spotify.com/track/1wl3u4FrzcuBv2L...</td>\n",
       "    </tr>\n",
       "    <tr>\n",
       "      <th>2</th>\n",
       "      <td>The Joker</td>\n",
       "      <td>https://open.spotify.com/track/1bp2IO61zbQrbWN...</td>\n",
       "    </tr>\n",
       "    <tr>\n",
       "      <th>3</th>\n",
       "      <td>Phiến Lá Tĩnh Lặng</td>\n",
       "      <td>https://open.spotify.com/track/69EwGs863aPS8ol...</td>\n",
       "    </tr>\n",
       "    <tr>\n",
       "      <th>4</th>\n",
       "      <td>Thanh Xuan</td>\n",
       "      <td>https://open.spotify.com/track/3b34161QoxLwsqh...</td>\n",
       "    </tr>\n",
       "    <tr>\n",
       "      <th>5</th>\n",
       "      <td>Dịu Dàng Em Đến</td>\n",
       "      <td>https://open.spotify.com/track/63q4o5Nh1ykbhdo...</td>\n",
       "    </tr>\n",
       "  </tbody>\n",
       "</table>\n",
       "</div>"
      ],
      "text/plain": [
       "            trackName                                       spotify_link\n",
       "1        Happy Ending  https://open.spotify.com/track/1wl3u4FrzcuBv2L...\n",
       "2           The Joker  https://open.spotify.com/track/1bp2IO61zbQrbWN...\n",
       "3  Phiến Lá Tĩnh Lặng  https://open.spotify.com/track/69EwGs863aPS8ol...\n",
       "4          Thanh Xuan  https://open.spotify.com/track/3b34161QoxLwsqh...\n",
       "5     Dịu Dàng Em Đến  https://open.spotify.com/track/63q4o5Nh1ykbhdo..."
      ]
     },
     "execution_count": 74,
     "metadata": {},
     "output_type": "execute_result"
    }
   ],
   "source": [
    "from sklearn.metrics.pairwise import cosine_similarity\n",
    "\n",
    "# select the columns you want to use for similarity calculation\n",
    "cols_to_use = ['popularity', 'danceability', 'energy', 'loudness', 'valence', 'speechiness', 'instrumentalness', 'tempo','chill','upbeat','sad']\n",
    "\n",
    "# calculate cosine similarity between your friend's data and your data\n",
    "similarity_matrix = cosine_similarity(user_dummy[cols_to_use], our_dummies[cols_to_use])\n",
    "\n",
    "# find the most similar tracks between your friend's data and your data\n",
    "most_similar_tracks = similarity_matrix.argmax(axis=1)\n",
    "\n",
    "# get the track names and Spotify URLs for the most similar tracks\n",
    "recommendations = our_dummies.loc[most_similar_tracks, ['trackName', 'spotify_link']]\n",
    "recommendations.reset_index(drop=True, inplace=True)\n",
    "\n",
    "# print the top 3 recommendations\n",
    "top_3_recommendations = recommendations\n",
    "top_3_recommendations.index += 1  # Start index from 1 instead of 0\n",
    "\n",
    "# print the top 3 recommendations with their Spotify URLs\n",
    "# print(\"Here are three song recommendations that match your taste from Barb and Linh:\\n\")\n",
    "# print(top_3_recommendations)\n",
    "\n",
    "top_3_recommendations.head()"
   ]
  },
  {
   "cell_type": "code",
   "execution_count": 75,
   "id": "2126eafc-3c67-4f5a-b307-ca783c31634c",
   "metadata": {
    "tags": []
   },
   "outputs": [],
   "source": [
    "mood_dummy = pd.get_dummies(mood_data['vibe']).astype(int).dropna()\n",
    "mood_dummies = pd.concat([mood_data, mood_dummy], axis=1)\n",
    "\n",
    "cols_to_use = ['popularity', 'danceability', 'energy', 'loudness', 'valence', 'speechiness', 'instrumentalness', 'tempo','chill','upbeat','sad']\n",
    "\n",
    "# calculate cosine similarity between your friend's data and your data\n",
    "similarity_matrix = cosine_similarity(user_dummy[cols_to_use], mood_dummies[cols_to_use].dropna())\n",
    "\n",
    "# find the most similar tracks between your friend's data and your data\n",
    "most_similar_tracks = similarity_matrix.argmax(axis=1)\n",
    "\n",
    "# get the track names and Spotify URLs for the most similar tracks\n",
    "recommendations = mood_dummies.loc[most_similar_tracks, ['track_name', 'artist', 'vibe','track_id']]\n",
    "recommendations['similarity_score'] = similarity_matrix.max(axis=1)\n",
    "\n",
    "recommendations.reset_index(drop=True, inplace=True)\n",
    "recommendations = recommendations[~recommendations['track_id'].isin(user_dummy['track_uri'])]\n",
    "\n",
    "# Sort the recommendations by descending similarity scores\n",
    "recommendations = recommendations.sort_values('similarity_score', ascending=False)\n",
    "\n",
    "recommendations.reset_index(drop=True, inplace=True)\n"
   ]
  },
  {
   "cell_type": "code",
   "execution_count": 76,
   "id": "71d655eb-1167-4446-87dd-baa65638bd67",
   "metadata": {
    "tags": []
   },
   "outputs": [],
   "source": [
    "recommendations =get_spotify_link(recommendations,track_uri_column = 'track_id').iloc[:,:]"
   ]
  },
  {
   "cell_type": "code",
   "execution_count": 77,
   "id": "cf3abf2a-a31d-45b8-abb5-512ba02da2e9",
   "metadata": {
    "tags": []
   },
   "outputs": [
    {
     "data": {
      "text/html": [
       "<div>\n",
       "<style scoped>\n",
       "    .dataframe tbody tr th:only-of-type {\n",
       "        vertical-align: middle;\n",
       "    }\n",
       "\n",
       "    .dataframe tbody tr th {\n",
       "        vertical-align: top;\n",
       "    }\n",
       "\n",
       "    .dataframe thead th {\n",
       "        text-align: right;\n",
       "    }\n",
       "</style>\n",
       "<table border=\"1\" class=\"dataframe\">\n",
       "  <thead>\n",
       "    <tr style=\"text-align: right;\">\n",
       "      <th></th>\n",
       "      <th>track_name</th>\n",
       "      <th>artist</th>\n",
       "      <th>vibe</th>\n",
       "      <th>track_id</th>\n",
       "      <th>similarity_score</th>\n",
       "      <th>spotify_link</th>\n",
       "    </tr>\n",
       "  </thead>\n",
       "  <tbody>\n",
       "    <tr>\n",
       "      <th>0</th>\n",
       "      <td>CAN'T STOP THE FEELING! (from DreamWorks Anima...</td>\n",
       "      <td>Trolls</td>\n",
       "      <td>upbeat</td>\n",
       "      <td>1WkMMavIMc4JZ8cfMmxHkI</td>\n",
       "      <td>1.000000</td>\n",
       "      <td>https://open.spotify.com/track/1WkMMavIMc4JZ8c...</td>\n",
       "    </tr>\n",
       "    <tr>\n",
       "      <th>1</th>\n",
       "      <td>Hope Is A Heartache</td>\n",
       "      <td>LÉON</td>\n",
       "      <td>sad</td>\n",
       "      <td>3w1P8nwsVi9vxrGvxYLzAC</td>\n",
       "      <td>0.999999</td>\n",
       "      <td>https://open.spotify.com/track/3w1P8nwsVi9vxrG...</td>\n",
       "    </tr>\n",
       "    <tr>\n",
       "      <th>2</th>\n",
       "      <td>You &amp; I (with Zack Tabudlo)</td>\n",
       "      <td>Diego Gonzalez</td>\n",
       "      <td>chill</td>\n",
       "      <td>2YZRBM2w68HXHgbKaRTlyw</td>\n",
       "      <td>0.999999</td>\n",
       "      <td>https://open.spotify.com/track/2YZRBM2w68HXHgb...</td>\n",
       "    </tr>\n",
       "    <tr>\n",
       "      <th>3</th>\n",
       "      <td>I Can't Swim</td>\n",
       "      <td>Ashley Kutcher</td>\n",
       "      <td>chill</td>\n",
       "      <td>3T7yCHl6ovJaQHsSKQSgVm</td>\n",
       "      <td>0.999999</td>\n",
       "      <td>https://open.spotify.com/track/3T7yCHl6ovJaQHs...</td>\n",
       "    </tr>\n",
       "    <tr>\n",
       "      <th>4</th>\n",
       "      <td>We Can't Stop</td>\n",
       "      <td>Miley Cyrus</td>\n",
       "      <td>upbeat</td>\n",
       "      <td>2y4lAQpi5VTNLu2ldeTdUH</td>\n",
       "      <td>0.999999</td>\n",
       "      <td>https://open.spotify.com/track/2y4lAQpi5VTNLu2...</td>\n",
       "    </tr>\n",
       "    <tr>\n",
       "      <th>...</th>\n",
       "      <td>...</td>\n",
       "      <td>...</td>\n",
       "      <td>...</td>\n",
       "      <td>...</td>\n",
       "      <td>...</td>\n",
       "      <td>...</td>\n",
       "    </tr>\n",
       "    <tr>\n",
       "      <th>706</th>\n",
       "      <td>High Time</td>\n",
       "      <td>Randy Houser</td>\n",
       "      <td>chill</td>\n",
       "      <td>2k3XVSB5S7teKwdOCZ6E99</td>\n",
       "      <td>0.999631</td>\n",
       "      <td>https://open.spotify.com/track/2k3XVSB5S7teKwd...</td>\n",
       "    </tr>\n",
       "    <tr>\n",
       "      <th>707</th>\n",
       "      <td>Element</td>\n",
       "      <td>Pop Smoke</td>\n",
       "      <td>upbeat</td>\n",
       "      <td>57BGVV6wcyhbn3hsjlqEZB</td>\n",
       "      <td>0.999611</td>\n",
       "      <td>https://open.spotify.com/track/57BGVV6wcyhbn3h...</td>\n",
       "    </tr>\n",
       "    <tr>\n",
       "      <th>708</th>\n",
       "      <td>Falling In Love With Love</td>\n",
       "      <td>Drew Milner</td>\n",
       "      <td>chill</td>\n",
       "      <td>22KchPj2ebXOCwdvK4azrZ</td>\n",
       "      <td>0.999536</td>\n",
       "      <td>https://open.spotify.com/track/22KchPj2ebXOCwd...</td>\n",
       "    </tr>\n",
       "    <tr>\n",
       "      <th>709</th>\n",
       "      <td>Koto - piano room</td>\n",
       "      <td>Hideyuki Hashimoto</td>\n",
       "      <td>chill</td>\n",
       "      <td>48Jivh6jAj87eK6lj3FtUo</td>\n",
       "      <td>0.999393</td>\n",
       "      <td>https://open.spotify.com/track/48Jivh6jAj87eK6...</td>\n",
       "    </tr>\n",
       "    <tr>\n",
       "      <th>710</th>\n",
       "      <td>Bring Me Back</td>\n",
       "      <td>Olivia Simons</td>\n",
       "      <td>sad</td>\n",
       "      <td>4IjmclhUwmI4NnitZZkfUb</td>\n",
       "      <td>0.999303</td>\n",
       "      <td>https://open.spotify.com/track/4IjmclhUwmI4Nni...</td>\n",
       "    </tr>\n",
       "  </tbody>\n",
       "</table>\n",
       "<p>711 rows × 6 columns</p>\n",
       "</div>"
      ],
      "text/plain": [
       "                                            track_name              artist   \n",
       "0    CAN'T STOP THE FEELING! (from DreamWorks Anima...              Trolls  \\\n",
       "1                                  Hope Is A Heartache                LÉON   \n",
       "2                          You & I (with Zack Tabudlo)      Diego Gonzalez   \n",
       "3                                         I Can't Swim      Ashley Kutcher   \n",
       "4                                        We Can't Stop         Miley Cyrus   \n",
       "..                                                 ...                 ...   \n",
       "706                                          High Time        Randy Houser   \n",
       "707                                            Element           Pop Smoke   \n",
       "708                          Falling In Love With Love         Drew Milner   \n",
       "709                                  Koto - piano room  Hideyuki Hashimoto   \n",
       "710                                      Bring Me Back       Olivia Simons   \n",
       "\n",
       "       vibe                track_id  similarity_score   \n",
       "0    upbeat  1WkMMavIMc4JZ8cfMmxHkI          1.000000  \\\n",
       "1       sad  3w1P8nwsVi9vxrGvxYLzAC          0.999999   \n",
       "2     chill  2YZRBM2w68HXHgbKaRTlyw          0.999999   \n",
       "3     chill  3T7yCHl6ovJaQHsSKQSgVm          0.999999   \n",
       "4    upbeat  2y4lAQpi5VTNLu2ldeTdUH          0.999999   \n",
       "..      ...                     ...               ...   \n",
       "706   chill  2k3XVSB5S7teKwdOCZ6E99          0.999631   \n",
       "707  upbeat  57BGVV6wcyhbn3hsjlqEZB          0.999611   \n",
       "708   chill  22KchPj2ebXOCwdvK4azrZ          0.999536   \n",
       "709   chill  48Jivh6jAj87eK6lj3FtUo          0.999393   \n",
       "710     sad  4IjmclhUwmI4NnitZZkfUb          0.999303   \n",
       "\n",
       "                                          spotify_link  \n",
       "0    https://open.spotify.com/track/1WkMMavIMc4JZ8c...  \n",
       "1    https://open.spotify.com/track/3w1P8nwsVi9vxrG...  \n",
       "2    https://open.spotify.com/track/2YZRBM2w68HXHgb...  \n",
       "3    https://open.spotify.com/track/3T7yCHl6ovJaQHs...  \n",
       "4    https://open.spotify.com/track/2y4lAQpi5VTNLu2...  \n",
       "..                                                 ...  \n",
       "706  https://open.spotify.com/track/2k3XVSB5S7teKwd...  \n",
       "707  https://open.spotify.com/track/57BGVV6wcyhbn3h...  \n",
       "708  https://open.spotify.com/track/22KchPj2ebXOCwd...  \n",
       "709  https://open.spotify.com/track/48Jivh6jAj87eK6...  \n",
       "710  https://open.spotify.com/track/4IjmclhUwmI4Nni...  \n",
       "\n",
       "[711 rows x 6 columns]"
      ]
     },
     "execution_count": 77,
     "metadata": {},
     "output_type": "execute_result"
    }
   ],
   "source": [
    "recommendations"
   ]
  },
  {
   "cell_type": "markdown",
   "id": "a85202bd-2c9e-41ec-b142-00781e37983c",
   "metadata": {},
   "source": [
    "## Refreshable"
   ]
  },
  {
   "cell_type": "code",
   "execution_count": 88,
   "id": "f095ff7e-ac44-4508-ab59-76476b05fb72",
   "metadata": {
    "tags": []
   },
   "outputs": [],
   "source": [
    "# table = pn.widgets.DataFrame(\n",
    "#     recommendations[['artist', 'track_name','vibe','spotify_link']].iloc[5:10],\n",
    "#     # value=recommendations.head(5),\n",
    "#     index=False,\n",
    "#     # columns=['track_name', 'artist', 'track_id'],\n",
    "#     show_index = False,\n",
    "#     style = style,\n",
    "#     escape=False\n",
    "#     # width=600,\n",
    "#     # height=300\n",
    "# )\n",
    "\n",
    "\n",
    "# # Create a callback function for the refresh button\n",
    "# def refresh_table(event):\n",
    "#     global recommendations\n",
    "#     layout.clear()\n",
    "#     recommendations = recommendations.iloc[10:]  # Get the next 5 songs\n",
    "#     table.value = recommendations[['artist', 'track_name','vibe','spotify_link']].iloc[5:10]     # Update the table with the new songs\n",
    "\n",
    "# # Create a refresh button and link it to the callback function\n",
    "# refresh_button = pn.widgets.Button(name='Refresh')\n",
    "# refresh_button.on_click(refresh_table)\n",
    "\n",
    "# # Create a Panel layout to display the table and refresh button\n",
    "# refreshable = pn.Column(\n",
    "#     table,\n",
    "#     refresh_button\n",
    "# )\n",
    "\n",
    "# # Display the layout\n",
    "# refreshable.show()\n"
   ]
  },
  {
   "cell_type": "markdown",
   "id": "94bbbde9-95a0-4f5b-a66d-fc3d3641e479",
   "metadata": {},
   "source": [
    "## Adding everything to Dashboard"
   ]
  },
  {
   "cell_type": "code",
   "execution_count": 89,
   "id": "7220e9d9-c3d5-4e4a-9fa7-de830c08743e",
   "metadata": {
    "tags": []
   },
   "outputs": [],
   "source": [
    "spotify_logo = \"https://storage.googleapis.com/pr-newsroom-wp/1/2018/11/Spotify_Logo_RGB_Green.png\""
   ]
  },
  {
   "cell_type": "code",
   "execution_count": 90,
   "id": "114d8d15-f632-4f6f-8b7b-7560557bdb0e",
   "metadata": {
    "tags": []
   },
   "outputs": [],
   "source": [
    "spotify_logo_black = 'https://storage.googleapis.com/pr-newsroom-wp/1/2018/11/Spotify_Logo_RGB_Black.png'"
   ]
  },
  {
   "cell_type": "markdown",
   "id": "823485ff-5b68-4cf2-9fdd-04fc22a9a523",
   "metadata": {},
   "source": [
    "### Sidebar content"
   ]
  },
  {
   "cell_type": "code",
   "execution_count": 91,
   "id": "100d03fb-d62d-44fb-913d-a1aa3991c1a3",
   "metadata": {
    "tags": []
   },
   "outputs": [
    {
     "data": {
      "text/html": [
       "<div>\n",
       "<style scoped>\n",
       "    .dataframe tbody tr th:only-of-type {\n",
       "        vertical-align: middle;\n",
       "    }\n",
       "\n",
       "    .dataframe tbody tr th {\n",
       "        vertical-align: top;\n",
       "    }\n",
       "\n",
       "    .dataframe thead th {\n",
       "        text-align: right;\n",
       "    }\n",
       "</style>\n",
       "<table border=\"1\" class=\"dataframe\">\n",
       "  <thead>\n",
       "    <tr style=\"text-align: right;\">\n",
       "      <th></th>\n",
       "      <th>Vibe</th>\n",
       "      <th>Value</th>\n",
       "      <th>x</th>\n",
       "    </tr>\n",
       "  </thead>\n",
       "  <tbody>\n",
       "    <tr>\n",
       "      <th>2</th>\n",
       "      <td>Sad</td>\n",
       "      <td>43</td>\n",
       "      <td>Vibe</td>\n",
       "    </tr>\n",
       "    <tr>\n",
       "      <th>0</th>\n",
       "      <td>Chill</td>\n",
       "      <td>34</td>\n",
       "      <td>Vibe</td>\n",
       "    </tr>\n",
       "    <tr>\n",
       "      <th>1</th>\n",
       "      <td>Upbeat</td>\n",
       "      <td>23</td>\n",
       "      <td>Vibe</td>\n",
       "    </tr>\n",
       "  </tbody>\n",
       "</table>\n",
       "</div>"
      ],
      "text/plain": [
       "     Vibe  Value     x\n",
       "2     Sad     43  Vibe\n",
       "0   Chill     34  Vibe\n",
       "1  Upbeat     23  Vibe"
      ]
     },
     "execution_count": 91,
     "metadata": {},
     "output_type": "execute_result"
    }
   ],
   "source": [
    "vibes = ['Chill', 'Upbeat', 'Sad']\n",
    "values = [chill_per, upbeat_per, sad_per]\n",
    "\n",
    "vibe_df = pd.DataFrame({'Vibe': vibes, 'Value': values}).sort_values(by='Value', ascending = False)\n",
    "vibe_df['x']=\"Vibe\"\n",
    "vibe_df"
   ]
  },
  {
   "cell_type": "code",
   "execution_count": 92,
   "id": "86baa53e-972b-4e41-bd83-f621a68519ff",
   "metadata": {
    "tags": []
   },
   "outputs": [],
   "source": [
    "franklins_mood['x']='vibe'"
   ]
  },
  {
   "cell_type": "code",
   "execution_count": 93,
   "id": "9a4b666a-6a39-4cca-b3c4-fc7eb3bc0459",
   "metadata": {
    "tags": []
   },
   "outputs": [],
   "source": [
    "franklins_mood=franklins_mood.sort_values(by='Percentage', ascending = False)"
   ]
  },
  {
   "cell_type": "code",
   "execution_count": 94,
   "id": "6be4cd12-f240-4a13-b195-1ea95de4f83f",
   "metadata": {
    "tags": []
   },
   "outputs": [
    {
     "data": {
      "text/html": [
       "<iframe\n",
       "    scrolling=\"no\"\n",
       "    width=\"320px\"\n",
       "    height=\"170\"\n",
       "    src=\"iframe_figures/figure_94.html\"\n",
       "    frameborder=\"0\"\n",
       "    allowfullscreen\n",
       "></iframe>\n"
      ]
     },
     "metadata": {},
     "output_type": "display_data"
    }
   ],
   "source": [
    "\n",
    "# vibe_df = px.data.tips()\n",
    "vibe_breakdown = px.bar(franklins_mood, x=\"Percentage\", y=\"x\", color='predicted_mood', orientation='h',\n",
    "             \n",
    "             # hover_data=[\"tip\", \"size\"],\n",
    "             height=150,\n",
    "                        width = 300,\n",
    "             # title='Your Vibe',\n",
    "            barmode='stack',\n",
    "             color_discrete_map={\n",
    "                            'chill': titlecol,\n",
    "                            'upbeat': pre_defined_green,\n",
    "                            'sad': lightgray\n",
    "                        },text=franklins_mood['Percentage'].astype(str) + '%' + \" \" + franklins_mood['predicted_mood'].astype(str)\n",
    "                        # ,\n",
    "            )\n",
    "# vibe_breakdown.update_layout(legend=dict(        title='Your Vibe Breakdown',\n",
    "#         title_font=dict(color=pre_defined_green),\n",
    "        # font=dict(color=pre_defined_green),orientation='h', yanchor='top', y=1.02, xanchor='right', x=1))\n",
    "vibe_breakdown.update_layout(\n",
    "    paper_bgcolor=pre_defined_bgcolor, margin = dict(l=0,r=5,t=60,b=0),\n",
    "    xaxis_title=\"\", \n",
    "    yaxis_title=\"\",\n",
    "    showlegend=False,\n",
    "    plot_bgcolor=pre_defined_bgcolor,\n",
    "    title={\n",
    "        'text': \"You're..\", \n",
    "        'x': 0.5, \n",
    "        'y': 0.8, \n",
    "        'xanchor': 'center',\n",
    "        'yanchor': 'top',\n",
    "        'font': {'color': titlecol,'family': 'Andale Mono', 'size':25}\n",
    "    },\n",
    ")\n",
    "\n",
    "vibe_breakdown.update_xaxes(range=[0, 100], showgrid=False, showticklabels=False)\n",
    "vibe_breakdown.update_yaxes(showticklabels=False, showgrid=False)\n",
    "vibe_breakdown.update_traces(\n",
    "    marker=dict(line=dict(color=lightgray, width=2)),\n",
    "    textposition='inside', \n",
    "    textfont=dict(color=darkgray, size=20)\n",
    ")\n",
    "\n",
    "vibe_breakdown.show()"
   ]
  },
  {
   "cell_type": "code",
   "execution_count": 95,
   "id": "29ed88a7-1074-4d01-bc1a-916c490cfa2c",
   "metadata": {
    "tags": []
   },
   "outputs": [
    {
     "name": "stderr",
     "output_type": "stream",
     "text": [
      "WARNING:param.RadioButtonGroup00843: Setting non-parameter attribute style={'font-family': 'Andale Mono', 'font-size': '25px', 'color': '#ffffff'} using a mechanism intended only for parameters\n"
     ]
    },
    {
     "data": {
      "text/plain": [
       "Watcher(inst=RadioButtonGroup(button_type='success', options=['THE TRACKS', ...], sizing_mode='stretch_width', value='THE TRACKS'), cls=<class 'panel.widgets.select.RadioButtonGroup'>, fn=<function on_click_button at 0x7f8844798e50>, mode='args', onlychanged=True, parameter_names=('value',), what='value', queued=False, precedence=0)"
      ]
     },
     "execution_count": 95,
     "metadata": {},
     "output_type": "execute_result"
    }
   ],
   "source": [
    "##Create a widget to have 2 charts in 1 space\n",
    "\n",
    "radio_button = pn.widgets.RadioButtonGroup(options=['THE TRACKS', 'THE GENRES','THE UGH..'], button_type='success', style = {'font-family': 'Andale Mono', 'font-size': '25px', 'color': '#ffffff'})\n",
    "\n",
    "# Define callback functions\n",
    "def on_click_button(event):\n",
    "    if event.new == 'THE TRACKS':\n",
    "        chart_panel.object = tracks\n",
    "    elif event.new == 'THE GENRES':\n",
    "        chart_panel.object = genres\n",
    "    else:\n",
    "        chart_panel.object = skip\n",
    "\n",
    "# Define chart panels\n",
    "chart_panel = pn.panel(tracks)\n",
    "\n",
    "# Assign callbacks to widgets\n",
    "radio_button.param.watch(on_click_button, 'value')\n"
   ]
  },
  {
   "cell_type": "code",
   "execution_count": 96,
   "id": "4ae824d5-9b5b-4eb0-8593-b82713252c64",
   "metadata": {
    "tags": []
   },
   "outputs": [
    {
     "data": {},
     "metadata": {},
     "output_type": "display_data"
    },
    {
     "data": {
      "application/vnd.holoviews_exec.v0+json": "",
      "text/html": [
       "<div id='1647'>\n",
       "  <div class=\"bk-root\" id=\"5539d50f-3b86-4bf8-81bf-b97620fc447a\" data-root-id=\"1647\"></div>\n",
       "</div>\n",
       "<script type=\"application/javascript\">(function(root) {\n",
       "  function embed_document(root) {\n",
       "    var docs_json = {\"454612e2-8cbf-4e89-b9b9-8a1a047f35c2\":{\"defs\":[{\"extends\":null,\"module\":null,\"name\":\"ReactiveHTML1\",\"overrides\":[],\"properties\":[]},{\"extends\":null,\"module\":null,\"name\":\"FlexBox1\",\"overrides\":[],\"properties\":[{\"default\":\"flex-start\",\"kind\":null,\"name\":\"align_content\"},{\"default\":\"flex-start\",\"kind\":null,\"name\":\"align_items\"},{\"default\":\"row\",\"kind\":null,\"name\":\"flex_direction\"},{\"default\":\"wrap\",\"kind\":null,\"name\":\"flex_wrap\"},{\"default\":\"flex-start\",\"kind\":null,\"name\":\"justify_content\"}]},{\"extends\":null,\"module\":null,\"name\":\"GridStack1\",\"overrides\":[],\"properties\":[{\"default\":\"warn\",\"kind\":null,\"name\":\"mode\"},{\"default\":null,\"kind\":null,\"name\":\"ncols\"},{\"default\":null,\"kind\":null,\"name\":\"nrows\"},{\"default\":true,\"kind\":null,\"name\":\"allow_resize\"},{\"default\":true,\"kind\":null,\"name\":\"allow_drag\"},{\"default\":[],\"kind\":null,\"name\":\"state\"}]},{\"extends\":null,\"module\":null,\"name\":\"click1\",\"overrides\":[],\"properties\":[{\"default\":\"\",\"kind\":null,\"name\":\"terminal_output\"},{\"default\":\"\",\"kind\":null,\"name\":\"debug_name\"},{\"default\":0,\"kind\":null,\"name\":\"clears\"}]},{\"extends\":null,\"module\":null,\"name\":\"NotificationAreaBase1\",\"overrides\":[],\"properties\":[{\"default\":\"bottom-right\",\"kind\":null,\"name\":\"position\"},{\"default\":0,\"kind\":null,\"name\":\"_clear\"}]},{\"extends\":null,\"module\":null,\"name\":\"NotificationArea1\",\"overrides\":[],\"properties\":[{\"default\":[],\"kind\":null,\"name\":\"notifications\"},{\"default\":\"bottom-right\",\"kind\":null,\"name\":\"position\"},{\"default\":0,\"kind\":null,\"name\":\"_clear\"},{\"default\":[{\"background\":\"#ffc107\",\"icon\":{\"className\":\"fas fa-exclamation-triangle\",\"color\":\"white\",\"tagName\":\"i\"},\"type\":\"warning\"},{\"background\":\"#007bff\",\"icon\":{\"className\":\"fas fa-info-circle\",\"color\":\"white\",\"tagName\":\"i\"},\"type\":\"info\"}],\"kind\":null,\"name\":\"types\"}]},{\"extends\":null,\"module\":null,\"name\":\"Notification\",\"overrides\":[],\"properties\":[{\"default\":null,\"kind\":null,\"name\":\"background\"},{\"default\":3000,\"kind\":null,\"name\":\"duration\"},{\"default\":null,\"kind\":null,\"name\":\"icon\"},{\"default\":\"\",\"kind\":null,\"name\":\"message\"},{\"default\":null,\"kind\":null,\"name\":\"notification_type\"},{\"default\":false,\"kind\":null,\"name\":\"_destroyed\"}]},{\"extends\":null,\"module\":null,\"name\":\"TemplateActions1\",\"overrides\":[],\"properties\":[{\"default\":0,\"kind\":null,\"name\":\"open_modal\"},{\"default\":0,\"kind\":null,\"name\":\"close_modal\"}]},{\"extends\":null,\"module\":null,\"name\":\"MaterialTemplateActions1\",\"overrides\":[],\"properties\":[{\"default\":0,\"kind\":null,\"name\":\"open_modal\"},{\"default\":0,\"kind\":null,\"name\":\"close_modal\"}]}],\"roots\":{\"references\":[{\"attributes\":{\"active\":0,\"button_type\":\"success\",\"labels\":[\"THE TRACKS\",\"THE GENRES\",\"THE UGH..\"],\"margin\":[5,10,5,10],\"sizing_mode\":\"stretch_width\"},\"id\":\"1647\",\"type\":\"RadioButtonGroup\"},{\"attributes\":{\"client_comm_id\":\"b67b59b2d5514e6585ca830099278d15\",\"comm_id\":\"781e98cfc68b4cea96bd29eba0980b2d\",\"plot_id\":\"1647\"},\"id\":\"1648\",\"type\":\"panel.models.comm_manager.CommManager\"}],\"root_ids\":[\"1647\",\"1648\"]},\"title\":\"Bokeh Application\",\"version\":\"2.4.3\"}};\n",
       "    var render_items = [{\"docid\":\"454612e2-8cbf-4e89-b9b9-8a1a047f35c2\",\"root_ids\":[\"1647\"],\"roots\":{\"1647\":\"5539d50f-3b86-4bf8-81bf-b97620fc447a\"}}];\n",
       "    root.Bokeh.embed.embed_items_notebook(docs_json, render_items);\n",
       "    for (const render_item of render_items) {\n",
       "      for (const root_id of render_item.root_ids) {\n",
       "\tconst id_el = document.getElementById(root_id)\n",
       "\tif (id_el.children.length && (id_el.children[0].className === 'bk-root')) {\n",
       "\t  const root_el = id_el.children[0]\n",
       "\t  root_el.id = root_el.id + '-rendered'\n",
       "\t}\n",
       "      }\n",
       "    }\n",
       "  }\n",
       "  if (root.Bokeh !== undefined && root.Bokeh.Panel !== undefined && ( root['Tabulator'] !== undefined)) {\n",
       "    embed_document(root);\n",
       "  } else {\n",
       "    var attempts = 0;\n",
       "    var timer = setInterval(function(root) {\n",
       "      if (root.Bokeh !== undefined && root.Bokeh.Panel !== undefined && (root['Tabulator'] !== undefined)) {\n",
       "        clearInterval(timer);\n",
       "        embed_document(root);\n",
       "      } else if (document.readyState == \"complete\") {\n",
       "        attempts++;\n",
       "        if (attempts > 200) {\n",
       "          clearInterval(timer);\n",
       "          console.log(\"Bokeh: ERROR: Unable to run BokehJS code because BokehJS library is missing\");\n",
       "        }\n",
       "      }\n",
       "    }, 25, root)\n",
       "  }\n",
       "})(window);</script>"
      ],
      "text/plain": [
       "RadioButtonGroup(button_type='success', options=['THE TRACKS', ...], sizing_mode='stretch_width', value='THE TRACKS')"
      ]
     },
     "execution_count": 96,
     "metadata": {
      "application/vnd.holoviews_exec.v0+json": {
       "id": "1647"
      }
     },
     "output_type": "execute_result"
    }
   ],
   "source": [
    "radio_button"
   ]
  },
  {
   "cell_type": "code",
   "execution_count": 97,
   "id": "14f59c2d-6c96-4273-afd6-98e9e2ccfe98",
   "metadata": {
    "tags": []
   },
   "outputs": [
    {
     "data": {
      "text/plain": [
       "{'font-family': 'Andale Mono', 'font-size': '10px'}"
      ]
     },
     "execution_count": 97,
     "metadata": {},
     "output_type": "execute_result"
    }
   ],
   "source": [
    "style"
   ]
  },
  {
   "cell_type": "markdown",
   "id": "347073b5-cf61-414f-8fa9-e9dbbd520ff4",
   "metadata": {},
   "source": [
    "## Recommendation button"
   ]
  },
  {
   "cell_type": "code",
   "execution_count": 98,
   "id": "18ba7300-50ba-4bbb-a19d-a133355b360a",
   "metadata": {
    "tags": []
   },
   "outputs": [],
   "source": [
    "recommendations['SPOTIFY LINK']=\"<a href='\" + recommendations[\"spotify_link\"] + \"' target='_blank'>\" + recommendations[\"track_name\"] + \"</a>\"\n",
    "\n",
    "# table2 = pn.pane.DataFrame(\n",
    "#     recommendations[['artist', 'track_name','vibe','Spotify Link']].head(5),\n",
    "#     # value=recommendations.head(5),\n",
    "#     index=False,\n",
    "#     columns=['Artist', 'Track', 'Mood', 'Spotify Link'],\n",
    "#     show_index = False,\n",
    "#     style = {'font-family': 'Andale Mono', 'font-size': '20px' ,'font-weight': 'bold' },\n",
    "#     escape=False,\n",
    "#     # sizing_mode ='stretch_both'\n",
    "# )\n",
    "\n",
    "\n",
    "# # Create a callback function for the refresh button\n",
    "# def refresh_table(event):\n",
    "#     global recommendations\n",
    "#     layout.clear()\n",
    "#     recommendations = recommendations.iloc[6:]  # Get the next 5 songs\n",
    "#     table2.value = recommendations[['artist', 'track_name','vibe','Spotify Link']].head(5)     # Update the table with the new songs\n",
    "\n",
    "# # Create a refresh button and link it to the callback function\n",
    "# refresh_button = pn.widgets.Button(name='Refresh')\n",
    "# refresh_button.on_click(refresh_table)\n",
    "\n",
    "# # Create a Panel layout to display the table and refresh button\n",
    "# clickable = pn.Column(\n",
    "#     # pn.pane.HTML(css, width=0, height=0),\n",
    "#     # pn.pane.Markdown(\"f since style={'font-size': '12px', 'font-family': 'Arial', 'color': 'white', 'background-color': 'black'}\n",
    "#     table2,\n",
    "#     refresh_button\n",
    "# )\n",
    "\n",
    "# # Display the layout\n",
    "# # clickable.show()\n",
    "# clickable.show()"
   ]
  },
  {
   "cell_type": "code",
   "execution_count": 99,
   "id": "72a54dec-6ffc-4d2e-88bc-01193d7c6f59",
   "metadata": {
    "tags": []
   },
   "outputs": [
    {
     "data": {
      "text/html": [
       "<div>\n",
       "<style scoped>\n",
       "    .dataframe tbody tr th:only-of-type {\n",
       "        vertical-align: middle;\n",
       "    }\n",
       "\n",
       "    .dataframe tbody tr th {\n",
       "        vertical-align: top;\n",
       "    }\n",
       "\n",
       "    .dataframe thead th {\n",
       "        text-align: right;\n",
       "    }\n",
       "</style>\n",
       "<table border=\"1\" class=\"dataframe\">\n",
       "  <thead>\n",
       "    <tr style=\"text-align: right;\">\n",
       "      <th></th>\n",
       "      <th>track_name</th>\n",
       "      <th>artist</th>\n",
       "      <th>vibe</th>\n",
       "      <th>track_id</th>\n",
       "      <th>similarity_score</th>\n",
       "      <th>spotify_link</th>\n",
       "      <th>SPOTIFY LINK</th>\n",
       "    </tr>\n",
       "  </thead>\n",
       "  <tbody>\n",
       "    <tr>\n",
       "      <th>0</th>\n",
       "      <td>CAN'T STOP THE FEELING! (from DreamWorks Anima...</td>\n",
       "      <td>Trolls</td>\n",
       "      <td>upbeat</td>\n",
       "      <td>1WkMMavIMc4JZ8cfMmxHkI</td>\n",
       "      <td>1.000000</td>\n",
       "      <td>https://open.spotify.com/track/1WkMMavIMc4JZ8c...</td>\n",
       "      <td>&lt;a href='https://open.spotify.com/track/1WkMMa...</td>\n",
       "    </tr>\n",
       "    <tr>\n",
       "      <th>1</th>\n",
       "      <td>Hope Is A Heartache</td>\n",
       "      <td>LÉON</td>\n",
       "      <td>sad</td>\n",
       "      <td>3w1P8nwsVi9vxrGvxYLzAC</td>\n",
       "      <td>0.999999</td>\n",
       "      <td>https://open.spotify.com/track/3w1P8nwsVi9vxrG...</td>\n",
       "      <td>&lt;a href='https://open.spotify.com/track/3w1P8n...</td>\n",
       "    </tr>\n",
       "    <tr>\n",
       "      <th>2</th>\n",
       "      <td>You &amp; I (with Zack Tabudlo)</td>\n",
       "      <td>Diego Gonzalez</td>\n",
       "      <td>chill</td>\n",
       "      <td>2YZRBM2w68HXHgbKaRTlyw</td>\n",
       "      <td>0.999999</td>\n",
       "      <td>https://open.spotify.com/track/2YZRBM2w68HXHgb...</td>\n",
       "      <td>&lt;a href='https://open.spotify.com/track/2YZRBM...</td>\n",
       "    </tr>\n",
       "    <tr>\n",
       "      <th>3</th>\n",
       "      <td>I Can't Swim</td>\n",
       "      <td>Ashley Kutcher</td>\n",
       "      <td>chill</td>\n",
       "      <td>3T7yCHl6ovJaQHsSKQSgVm</td>\n",
       "      <td>0.999999</td>\n",
       "      <td>https://open.spotify.com/track/3T7yCHl6ovJaQHs...</td>\n",
       "      <td>&lt;a href='https://open.spotify.com/track/3T7yCH...</td>\n",
       "    </tr>\n",
       "    <tr>\n",
       "      <th>4</th>\n",
       "      <td>We Can't Stop</td>\n",
       "      <td>Miley Cyrus</td>\n",
       "      <td>upbeat</td>\n",
       "      <td>2y4lAQpi5VTNLu2ldeTdUH</td>\n",
       "      <td>0.999999</td>\n",
       "      <td>https://open.spotify.com/track/2y4lAQpi5VTNLu2...</td>\n",
       "      <td>&lt;a href='https://open.spotify.com/track/2y4lAQ...</td>\n",
       "    </tr>\n",
       "    <tr>\n",
       "      <th>...</th>\n",
       "      <td>...</td>\n",
       "      <td>...</td>\n",
       "      <td>...</td>\n",
       "      <td>...</td>\n",
       "      <td>...</td>\n",
       "      <td>...</td>\n",
       "      <td>...</td>\n",
       "    </tr>\n",
       "    <tr>\n",
       "      <th>706</th>\n",
       "      <td>High Time</td>\n",
       "      <td>Randy Houser</td>\n",
       "      <td>chill</td>\n",
       "      <td>2k3XVSB5S7teKwdOCZ6E99</td>\n",
       "      <td>0.999631</td>\n",
       "      <td>https://open.spotify.com/track/2k3XVSB5S7teKwd...</td>\n",
       "      <td>&lt;a href='https://open.spotify.com/track/2k3XVS...</td>\n",
       "    </tr>\n",
       "    <tr>\n",
       "      <th>707</th>\n",
       "      <td>Element</td>\n",
       "      <td>Pop Smoke</td>\n",
       "      <td>upbeat</td>\n",
       "      <td>57BGVV6wcyhbn3hsjlqEZB</td>\n",
       "      <td>0.999611</td>\n",
       "      <td>https://open.spotify.com/track/57BGVV6wcyhbn3h...</td>\n",
       "      <td>&lt;a href='https://open.spotify.com/track/57BGVV...</td>\n",
       "    </tr>\n",
       "    <tr>\n",
       "      <th>708</th>\n",
       "      <td>Falling In Love With Love</td>\n",
       "      <td>Drew Milner</td>\n",
       "      <td>chill</td>\n",
       "      <td>22KchPj2ebXOCwdvK4azrZ</td>\n",
       "      <td>0.999536</td>\n",
       "      <td>https://open.spotify.com/track/22KchPj2ebXOCwd...</td>\n",
       "      <td>&lt;a href='https://open.spotify.com/track/22KchP...</td>\n",
       "    </tr>\n",
       "    <tr>\n",
       "      <th>709</th>\n",
       "      <td>Koto - piano room</td>\n",
       "      <td>Hideyuki Hashimoto</td>\n",
       "      <td>chill</td>\n",
       "      <td>48Jivh6jAj87eK6lj3FtUo</td>\n",
       "      <td>0.999393</td>\n",
       "      <td>https://open.spotify.com/track/48Jivh6jAj87eK6...</td>\n",
       "      <td>&lt;a href='https://open.spotify.com/track/48Jivh...</td>\n",
       "    </tr>\n",
       "    <tr>\n",
       "      <th>710</th>\n",
       "      <td>Bring Me Back</td>\n",
       "      <td>Olivia Simons</td>\n",
       "      <td>sad</td>\n",
       "      <td>4IjmclhUwmI4NnitZZkfUb</td>\n",
       "      <td>0.999303</td>\n",
       "      <td>https://open.spotify.com/track/4IjmclhUwmI4Nni...</td>\n",
       "      <td>&lt;a href='https://open.spotify.com/track/4Ijmcl...</td>\n",
       "    </tr>\n",
       "  </tbody>\n",
       "</table>\n",
       "<p>711 rows × 7 columns</p>\n",
       "</div>"
      ],
      "text/plain": [
       "                                            track_name              artist   \n",
       "0    CAN'T STOP THE FEELING! (from DreamWorks Anima...              Trolls  \\\n",
       "1                                  Hope Is A Heartache                LÉON   \n",
       "2                          You & I (with Zack Tabudlo)      Diego Gonzalez   \n",
       "3                                         I Can't Swim      Ashley Kutcher   \n",
       "4                                        We Can't Stop         Miley Cyrus   \n",
       "..                                                 ...                 ...   \n",
       "706                                          High Time        Randy Houser   \n",
       "707                                            Element           Pop Smoke   \n",
       "708                          Falling In Love With Love         Drew Milner   \n",
       "709                                  Koto - piano room  Hideyuki Hashimoto   \n",
       "710                                      Bring Me Back       Olivia Simons   \n",
       "\n",
       "       vibe                track_id  similarity_score   \n",
       "0    upbeat  1WkMMavIMc4JZ8cfMmxHkI          1.000000  \\\n",
       "1       sad  3w1P8nwsVi9vxrGvxYLzAC          0.999999   \n",
       "2     chill  2YZRBM2w68HXHgbKaRTlyw          0.999999   \n",
       "3     chill  3T7yCHl6ovJaQHsSKQSgVm          0.999999   \n",
       "4    upbeat  2y4lAQpi5VTNLu2ldeTdUH          0.999999   \n",
       "..      ...                     ...               ...   \n",
       "706   chill  2k3XVSB5S7teKwdOCZ6E99          0.999631   \n",
       "707  upbeat  57BGVV6wcyhbn3hsjlqEZB          0.999611   \n",
       "708   chill  22KchPj2ebXOCwdvK4azrZ          0.999536   \n",
       "709   chill  48Jivh6jAj87eK6lj3FtUo          0.999393   \n",
       "710     sad  4IjmclhUwmI4NnitZZkfUb          0.999303   \n",
       "\n",
       "                                          spotify_link   \n",
       "0    https://open.spotify.com/track/1WkMMavIMc4JZ8c...  \\\n",
       "1    https://open.spotify.com/track/3w1P8nwsVi9vxrG...   \n",
       "2    https://open.spotify.com/track/2YZRBM2w68HXHgb...   \n",
       "3    https://open.spotify.com/track/3T7yCHl6ovJaQHs...   \n",
       "4    https://open.spotify.com/track/2y4lAQpi5VTNLu2...   \n",
       "..                                                 ...   \n",
       "706  https://open.spotify.com/track/2k3XVSB5S7teKwd...   \n",
       "707  https://open.spotify.com/track/57BGVV6wcyhbn3h...   \n",
       "708  https://open.spotify.com/track/22KchPj2ebXOCwd...   \n",
       "709  https://open.spotify.com/track/48Jivh6jAj87eK6...   \n",
       "710  https://open.spotify.com/track/4IjmclhUwmI4Nni...   \n",
       "\n",
       "                                          SPOTIFY LINK  \n",
       "0    <a href='https://open.spotify.com/track/1WkMMa...  \n",
       "1    <a href='https://open.spotify.com/track/3w1P8n...  \n",
       "2    <a href='https://open.spotify.com/track/2YZRBM...  \n",
       "3    <a href='https://open.spotify.com/track/3T7yCH...  \n",
       "4    <a href='https://open.spotify.com/track/2y4lAQ...  \n",
       "..                                                 ...  \n",
       "706  <a href='https://open.spotify.com/track/2k3XVS...  \n",
       "707  <a href='https://open.spotify.com/track/57BGVV...  \n",
       "708  <a href='https://open.spotify.com/track/22KchP...  \n",
       "709  <a href='https://open.spotify.com/track/48Jivh...  \n",
       "710  <a href='https://open.spotify.com/track/4Ijmcl...  \n",
       "\n",
       "[711 rows x 7 columns]"
      ]
     },
     "execution_count": 99,
     "metadata": {},
     "output_type": "execute_result"
    }
   ],
   "source": [
    "recommendations"
   ]
  },
  {
   "cell_type": "code",
   "execution_count": 101,
   "id": "003d7147-ec98-4c01-aed9-d68d4c0eefc0",
   "metadata": {
    "tags": []
   },
   "outputs": [],
   "source": [
    "new_columns = ['ARTIST', 'TRACK', 'VIBE','SPOTIFY LINK']\n",
    "\n",
    "# Rename the columns of the DataFrame\n",
    "recommendations=recommendations.rename(columns={\"artist\": \"ARTIST\", \"track_name\": \"TRACK\", \"vibe\": \"VIBE\", \"Spotify Link\": \"SPOTIFY LINK\"})"
   ]
  },
  {
   "cell_type": "code",
   "execution_count": 121,
   "id": "24087838-b945-451d-9b84-a79c72ea9f7e",
   "metadata": {
    "tags": []
   },
   "outputs": [
    {
     "data": {
      "text/html": [
       "<style type=\"text/css\">\n",
       "#T_e7ab2 th {\n",
       "  color: white;\n",
       "  background-color: #1db954;\n",
       "  font-weight: bold;\n",
       "  font-family: Andale Mono;\n",
       "  font-size: 18px;\n",
       "}\n",
       "#T_e7ab2 td {\n",
       "  color: #ffffff;\n",
       "  font-family: Andale Mono;\n",
       "  font-size: 15px;\n",
       "}\n",
       "#T_e7ab2_row0_col0, #T_e7ab2_row0_col1, #T_e7ab2_row0_col2, #T_e7ab2_row0_col3, #T_e7ab2_row1_col0, #T_e7ab2_row1_col1, #T_e7ab2_row1_col2, #T_e7ab2_row1_col3, #T_e7ab2_row2_col0, #T_e7ab2_row2_col1, #T_e7ab2_row2_col2, #T_e7ab2_row2_col3, #T_e7ab2_row3_col0, #T_e7ab2_row3_col1, #T_e7ab2_row3_col2, #T_e7ab2_row3_col3, #T_e7ab2_row4_col0, #T_e7ab2_row4_col1, #T_e7ab2_row4_col2, #T_e7ab2_row4_col3, #T_e7ab2_row5_col0, #T_e7ab2_row5_col1, #T_e7ab2_row5_col2, #T_e7ab2_row5_col3 {\n",
       "  font-family: Andale Mono;\n",
       "  font-size: 10px;\n",
       "}\n",
       "</style>\n",
       "<table id=\"T_e7ab2\">\n",
       "  <thead>\n",
       "    <tr>\n",
       "      <th id=\"T_e7ab2_level0_col0\" class=\"col_heading level0 col0\" >ARTIST</th>\n",
       "      <th id=\"T_e7ab2_level0_col1\" class=\"col_heading level0 col1\" >TRACK</th>\n",
       "      <th id=\"T_e7ab2_level0_col2\" class=\"col_heading level0 col2\" >VIBE</th>\n",
       "      <th id=\"T_e7ab2_level0_col3\" class=\"col_heading level0 col3\" >SPOTIFY LINK</th>\n",
       "    </tr>\n",
       "  </thead>\n",
       "  <tbody>\n",
       "    <tr>\n",
       "      <td id=\"T_e7ab2_row0_col0\" class=\"data row0 col0\" >Trolls</td>\n",
       "      <td id=\"T_e7ab2_row0_col1\" class=\"data row0 col1\" >CAN'T STOP THE FEELING! (from DreamWorks Animation's \"TROLLS\")</td>\n",
       "      <td id=\"T_e7ab2_row0_col2\" class=\"data row0 col2\" >upbeat</td>\n",
       "      <td id=\"T_e7ab2_row0_col3\" class=\"data row0 col3\" ><a href='https://open.spotify.com/track/1WkMMavIMc4JZ8cfMmxHkI/' target='_blank'>CAN'T STOP THE FEELING! (from DreamWorks Animation's \"TROLLS\")</a></td>\n",
       "    </tr>\n",
       "    <tr>\n",
       "      <td id=\"T_e7ab2_row1_col0\" class=\"data row1 col0\" >LÉON</td>\n",
       "      <td id=\"T_e7ab2_row1_col1\" class=\"data row1 col1\" >Hope Is A Heartache</td>\n",
       "      <td id=\"T_e7ab2_row1_col2\" class=\"data row1 col2\" >sad</td>\n",
       "      <td id=\"T_e7ab2_row1_col3\" class=\"data row1 col3\" ><a href='https://open.spotify.com/track/3w1P8nwsVi9vxrGvxYLzAC/' target='_blank'>Hope Is A Heartache</a></td>\n",
       "    </tr>\n",
       "    <tr>\n",
       "      <td id=\"T_e7ab2_row2_col0\" class=\"data row2 col0\" >Diego Gonzalez</td>\n",
       "      <td id=\"T_e7ab2_row2_col1\" class=\"data row2 col1\" >You & I (with Zack Tabudlo)</td>\n",
       "      <td id=\"T_e7ab2_row2_col2\" class=\"data row2 col2\" >chill</td>\n",
       "      <td id=\"T_e7ab2_row2_col3\" class=\"data row2 col3\" ><a href='https://open.spotify.com/track/2YZRBM2w68HXHgbKaRTlyw/' target='_blank'>You & I (with Zack Tabudlo)</a></td>\n",
       "    </tr>\n",
       "    <tr>\n",
       "      <td id=\"T_e7ab2_row3_col0\" class=\"data row3 col0\" >Ashley Kutcher</td>\n",
       "      <td id=\"T_e7ab2_row3_col1\" class=\"data row3 col1\" >I Can't Swim</td>\n",
       "      <td id=\"T_e7ab2_row3_col2\" class=\"data row3 col2\" >chill</td>\n",
       "      <td id=\"T_e7ab2_row3_col3\" class=\"data row3 col3\" ><a href='https://open.spotify.com/track/3T7yCHl6ovJaQHsSKQSgVm/' target='_blank'>I Can't Swim</a></td>\n",
       "    </tr>\n",
       "    <tr>\n",
       "      <td id=\"T_e7ab2_row4_col0\" class=\"data row4 col0\" >Miley Cyrus</td>\n",
       "      <td id=\"T_e7ab2_row4_col1\" class=\"data row4 col1\" >We Can't Stop</td>\n",
       "      <td id=\"T_e7ab2_row4_col2\" class=\"data row4 col2\" >upbeat</td>\n",
       "      <td id=\"T_e7ab2_row4_col3\" class=\"data row4 col3\" ><a href='https://open.spotify.com/track/2y4lAQpi5VTNLu2ldeTdUH/' target='_blank'>We Can't Stop</a></td>\n",
       "    </tr>\n",
       "    <tr>\n",
       "      <td id=\"T_e7ab2_row5_col0\" class=\"data row5 col0\" >Jason Derulo</td>\n",
       "      <td id=\"T_e7ab2_row5_col1\" class=\"data row5 col1\" >Acapulco</td>\n",
       "      <td id=\"T_e7ab2_row5_col2\" class=\"data row5 col2\" >upbeat</td>\n",
       "      <td id=\"T_e7ab2_row5_col3\" class=\"data row5 col3\" ><a href='https://open.spotify.com/track/3eJH2nAjvNXdmPfBkALiPZ/' target='_blank'>Acapulco</a></td>\n",
       "    </tr>\n",
       "  </tbody>\n",
       "</table>\n"
      ],
      "text/plain": [
       "<pandas.io.formats.style.Styler at 0x7f8846261370>"
      ]
     },
     "execution_count": 121,
     "metadata": {},
     "output_type": "execute_result"
    }
   ],
   "source": [
    "import pandas as pd\n",
    "import panel as pn\n",
    "\n",
    "# Create a DataFrame with recommendations\n",
    "# recommendations = pd.DataFrame({\n",
    "#     'artist': ['Artist 1', 'Artist 2', 'Artist 3', 'Artist 4', 'Artist 5'],\n",
    "#     'track_name': ['Song 1', 'Song 2', 'Song 3', 'Song 4', 'Song 5'],\n",
    "#     'uri': ['https://spotify.com/1', 'https://spotify.com/2', 'https://spotify.com/3', 'https://spotify.com/4', 'https://spotify.com/5']\n",
    "# })\n",
    "styled_df = recommendations[['ARTIST', 'TRACK', 'VIBE','SPOTIFY LINK']].head(6).style \\\n",
    "    .set_properties(**style) \\\n",
    "    .set_table_styles([{\n",
    "        'selector': 'th',\n",
    "        'props': [\n",
    "            ('color', 'white'),\n",
    "            ('background-color', pre_defined_green),\n",
    "            ('font-weight', 'bold'),\n",
    "            ('font-family', 'Andale Mono'), ('font-size', '18px')\n",
    "            # ('align':'center')\n",
    "        ]\n",
    "    }, {\n",
    "        'selector': 'td',\n",
    "        'props': [('color', titlecol),\n",
    "                 # ('background-color', titlecol),\n",
    "            # ('font-weight', 'bold'),\n",
    "            ('font-family', 'Andale Mono'), ('font-size', '15px')]\n",
    "    }]) \\\n",
    "    .format({'uri': '<a href=\"{0}\" target=\"_blank\">{0}</a>'}).hide()\n",
    "\n",
    "styled_df"
   ]
  },
  {
   "cell_type": "code",
   "execution_count": 104,
   "id": "e15b2fa4-cc85-4946-b5d9-265d23546306",
   "metadata": {},
   "outputs": [],
   "source": [
    "import math\n",
    "\n",
    "# Assuming you have a DataFrame named 'df' and a column named 'column_name'\n",
    "rounded_sum = math.ceil(franklins_mood['Minutes Listened'].sum())\n",
    "total_minutes = round(rounded_sum/1000,1)\n",
    "total_hrs = round(rounded_sum/60,1)"
   ]
  },
  {
   "cell_type": "code",
   "execution_count": 105,
   "id": "361d8ad6-76c0-45ce-8026-2f1b978aaa7d",
   "metadata": {
    "tags": []
   },
   "outputs": [],
   "source": [
    "# energy = f'{energy_match}%'\n",
    "# popularity = f'{popularity_match}%'\n",
    "\n",
    "# Create a Panel Markdown with different text fonts\n",
    "sum_up = f\"\"\"\n",
    "<span style=\"font-family: Andale Mono; font-size: 18px; color: #ffffff;\">In the past 6 months, you've listened to <span style=\"font-family: Andale Mono; font-size: 25px; color: #1DB954;\">{rounded_sum} minutes<span style=\"font-family: Andale Mono; font-size: 18px; color: #ffffff;\"> or <span style=\"font-family: Andale Mono; font-size: 25px; color: #1DB954;\">{total_hrs} hours<span style=\"font-family: Andale Mono; font-size: 18px; color: #ffffff;\">! \n",
    "<span style=\"font-family: Andale Mono; font-size: 18px; color: #ffffff;\">Although you’re a <span style=\"font-family: Andale Mono; font-size: 25px; color: #1DB954;\">CONFUSED CAT <span style=\"font-family: Andale Mono; font-size: 18px; color: #ffffff;\">and have mixed feelings, your dominant vibes are generally sad and chill. You love a good <span style=\"font-family: Andale Mono; font-size: 25px; color: #1DB954;\">{t_artist}<span style=\"font-family: Andale Mono; font-size: 18px; color: #ffffff;\">'s song and enjoy <span style=\"font-family: Andale Mono; font-size: 25px; color: #1DB954;\">Pop<span style=\"font-family: Andale Mono; font-size: 18px; color: #ffffff;\"> music in general.\n",
    "<span style=\"font-family: Andale Mono; font-size: 18px; color: #ffffff;\">You are most <span style=\"font-family: Andale Mono; font-size: 25px; color: #1DB954;\">UPBEAT during weekdays<span style=\"font-family: Andale Mono; font-size: 18px; color: #ffffff;\">, especially, Monday and Tuesday, and you're most <span style=\"font-family: Andale Mono; font-size: 25px; color: #1DB954;\">SAD <span style=\"font-family: Andale Mono; font-size: 18px; color: #ffffff;\">and <span style=\"font-family: Andale Mono; font-size: 25px; color: #1DB954;\">CHILL during the weekends<span style=\"font-family: Andale Mono; font-size: 18px; color: #ffffff;\">.\n",
    "\"\"\"\n",
    "\n",
    "# Create a Panel layout with the Markdown\n",
    "burrito_up = pn.Column(\n",
    "    pn.pane.Markdown(sum_up, style={'white-space': 'pre-wrap'})\n",
    ")\n",
    "\n",
    "# Display the layout\n",
    "# burrito_up.show()"
   ]
  },
  {
   "cell_type": "markdown",
   "id": "67576d07-fcc8-4869-a4a6-2bbf98bcc5d0",
   "metadata": {},
   "source": [
    "# THE BURRITO"
   ]
  },
  {
   "cell_type": "code",
   "execution_count": 122,
   "id": "79f583b6-4fa3-420c-8aea-fc6203ab026a",
   "metadata": {
    "tags": []
   },
   "outputs": [
    {
     "name": "stderr",
     "output_type": "stream",
     "text": [
      "WARNING:param.FastListTemplate01229: Setting non-parameter attribute sizing_mode=stretch_both using a mechanism intended only for parameters\n"
     ]
    },
    {
     "name": "stdout",
     "output_type": "stream",
     "text": [
      "Launching server at http://localhost:50104\n"
     ]
    }
   ],
   "source": [
    "TheBurrito = pn.template.FastListTemplate(\n",
    "    logo = spotify_logo_black,\n",
    "    title= \"YOUR FAVORITE BURRITO...YOU KNOW..LIKE A WRAP (NO PUN INTENDED..HAHA)\", \n",
    "    sidebar=[punchline, \n",
    "             pn.pane.PNG(image_file, sizing_mode='scale_width'),\n",
    "             vibe_breakdown,\n",
    "             # pn.pane.Markdown(\"<div style='text-align: center;'>..what's more</div>\",style={'font-family': 'Andale Mono', 'font-size': '25px', 'color':titlecol}),\n",
    "             # basicness,\n",
    "             basic_gauge,\n",
    "             matching\n",
    "            ],\n",
    "    main=[\n",
    "        pn.Row(pn.Column(radio_button,chart_panel),pn.Column(artist_chart),\n",
    "                           # tracks),\n",
    "             sizing_mode ='stretch_both', background = pre_defined_bgcolor ), \n",
    "        pn.Row( pn.Column(radarchart),\n",
    "                 pn.Column(dayofweek)),   \n",
    "          pn.Row(pn.Column(pn.Row(pn.pane.Markdown(\"<div style='text-align: center;'>SONG RECOMMENDATIONS</div>\",style = {'font-family': 'Andale Mono', 'font-size': '25px','font_weight':'Bold','color':titlecol}))\n",
    "                           , styled_df,refresh_button), \n",
    "                 pn.Column(pn.pane.Markdown(\"<div style='text-align: center;'>TO BURRITO UP</div>\",style = {'font-family': 'Andale Mono', 'font-size': '25px','font_weight':'Bold','color':titlecol})\n",
    "                           ,burrito_up    \n",
    "                           # ,styled_df\n",
    "                           # ,narrative\n",
    "                          ),\n",
    "                 # pn.Column(dayofweek),\n",
    "                 sizing_mode ='stretch_both')\n",
    "],\n",
    "    accent_base_color=pre_defined_bgcolor,\n",
    "    shadow = False,\n",
    "    # background_color ='#191414',\n",
    "    background_color = pre_defined_bgcolor,\n",
    "    header_background=pre_defined_green,\n",
    "    sizing_mode ='stretch_both'\n",
    "\n",
    ")\n",
    "# template.show()\n",
    "TheBurrito.show();"
   ]
  }
 ],
 "metadata": {
  "kernelspec": {
   "display_name": "Python 3 (ipykernel)",
   "language": "python",
   "name": "python3"
  },
  "language_info": {
   "codemirror_mode": {
    "name": "ipython",
    "version": 3
   },
   "file_extension": ".py",
   "mimetype": "text/x-python",
   "name": "python",
   "nbconvert_exporter": "python",
   "pygments_lexer": "ipython3",
   "version": "3.9.13"
  },
  "vscode": {
   "interpreter": {
    "hash": "1542a82b483d5ad2ca83ce0c398d44a22c02bec3316a4ca71b48491dc2ff12f4"
   }
  }
 },
 "nbformat": 4,
 "nbformat_minor": 5
}
