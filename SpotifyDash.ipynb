{
 "cells": [
  {
   "cell_type": "markdown",
   "id": "43200517-69e1-41e9-a9df-762d0b5623db",
   "metadata": {
    "tags": []
   },
   "source": [
    "### Run the following commands in the terminal before you start\n",
    "source activate base\n",
    "\n",
    "cd /Users/lphan/Documents/Spotify/spotify_dashboard\n",
    "\n",
    "source bin/activate\n",
    "\n",
    "jupyter lab"
   ]
  },
  {
   "cell_type": "code",
   "execution_count": null,
   "id": "bdaf857c-1313-443d-80d8-8f5f412c8bd9",
   "metadata": {},
   "outputs": [],
   "source": [
    "import os\n",
    "os.chdir('/Users/lphan/Documents/Spotify/spotify_dashboard')"
   ]
  },
  {
   "cell_type": "code",
   "execution_count": 46,
   "id": "18916004-5231-4c87-8f7e-039c4c25f4ba",
   "metadata": {
    "tags": []
   },
   "outputs": [],
   "source": [
    "# Packages\n",
    "# For Cleaning and basic functions\n",
    "import pandas as pd\n",
    "import numpy as np\n",
    "import requests\n",
    "import json\n",
    "\n",
    "# # Connecting to Spotify API\n",
    "# import spotipy\n",
    "# from spotipy.oauth2 import SpotifyClientCredentials\n",
    "\n",
    "# For Machine Learning\n",
    "from sklearn import preprocessing\n",
    "scaler = preprocessing.MinMaxScaler()\n",
    "import plotly.graph_objs as go\n",
    "from sklearn.preprocessing import MinMaxScaler\n",
    "from sklearn.linear_model import LogisticRegression\n",
    "from sklearn import preprocessing\n",
    "from sklearn.model_selection import train_test_split\n",
    "import sklearn.metrics as metrics\n",
    "\n",
    "#for visualizations and images pulling\n",
    "from PIL import Image\n",
    "import requests\n",
    "from io import BytesIO\n",
    "from wordcloud import WordCloud\n",
    "import matplotlib.pyplot as plt\n",
    "import plotly.express as px\n",
    "import panel as pn\n",
    "pn.extension('tabulator')\n",
    "pn.extension(sizing_mode = 'stretch_width')\n",
    "import plotly.io as pio\n",
    "import hvplot.pandas\n",
    "import holoviews as hv\n",
    "# df = pd.read_csv(\"https://raw.githubusercontent.com/owid/co2-data/master/owid-co2-data.csv\")\n",
    "# cache data to improve dashboard performance\n"
   ]
  },
  {
   "cell_type": "code",
   "execution_count": 47,
   "id": "af100af1-b26f-496f-a6d9-17a4a82d807e",
   "metadata": {
    "tags": []
   },
   "outputs": [],
   "source": [
    "#pip install matplotlib\n",
    "#pip install wordcloud \n",
    "#pip install -U scikit-learn"
   ]
  },
  {
   "cell_type": "code",
   "execution_count": 10,
   "id": "f53d1d9f-5cf3-4003-9106-b50eb63a6592",
   "metadata": {
    "tags": []
   },
   "outputs": [],
   "source": [
    "#these are downloaded files from a separate cleaning job that we did\n",
    "mood = \"https://raw.githubusercontent.com/lphan1812/spotify-project/main/mood_data.csv\"\n",
    "user_six_mos = 'https://raw.githubusercontent.com/lphan1812/spotify-project/main/franklin_six_months.csv'\n",
    "user_audiofeature = 'https://raw.githubusercontent.com/lphan1812/spotify-project/main/franklin_audio_features.csv'\n",
    "user_genres = \"https://raw.githubusercontent.com/lphan1812/spotify-project/main/franklin_6mo_genres.csv\""
   ]
  },
  {
   "cell_type": "code",
   "execution_count": 11,
   "id": "ed868c23-10c0-4ffc-b182-b09882dd45b5",
   "metadata": {
    "tags": []
   },
   "outputs": [],
   "source": [
    "mood_data = pd.read_csv(mood)\n",
    "user_six_mos = pd.read_csv(user_six_mos)\n",
    "user_audiofeature = pd.read_csv(user_audiofeature)\n",
    "user_genres = pd.read_csv(user_genres)\n",
    "# singer-songerwriter is not necessarily a genre\n",
    "user_genres = user_genres[~(user_genres['genres'] == 'singer-songwriter')]\n"
   ]
  },
  {
   "cell_type": "code",
   "execution_count": 12,
   "id": "84782d73-648f-43b0-b5ca-7054c3d2a41d",
   "metadata": {
    "tags": []
   },
   "outputs": [
    {
     "data": {
      "text/html": [
       "<div>\n",
       "<style scoped>\n",
       "    .dataframe tbody tr th:only-of-type {\n",
       "        vertical-align: middle;\n",
       "    }\n",
       "\n",
       "    .dataframe tbody tr th {\n",
       "        vertical-align: top;\n",
       "    }\n",
       "\n",
       "    .dataframe thead th {\n",
       "        text-align: right;\n",
       "    }\n",
       "</style>\n",
       "<table border=\"1\" class=\"dataframe\">\n",
       "  <thead>\n",
       "    <tr style=\"text-align: right;\">\n",
       "      <th></th>\n",
       "      <th>Unnamed: 0</th>\n",
       "      <th>artist</th>\n",
       "      <th>album</th>\n",
       "      <th>track_name</th>\n",
       "      <th>track_id</th>\n",
       "      <th>danceability</th>\n",
       "      <th>energy</th>\n",
       "      <th>key</th>\n",
       "      <th>loudness</th>\n",
       "      <th>mode</th>\n",
       "      <th>...</th>\n",
       "      <th>instrumentalness</th>\n",
       "      <th>liveness</th>\n",
       "      <th>valence</th>\n",
       "      <th>tempo</th>\n",
       "      <th>duration_ms</th>\n",
       "      <th>time_signature</th>\n",
       "      <th>acousticness</th>\n",
       "      <th>popularity</th>\n",
       "      <th>album_release_date</th>\n",
       "      <th>vibe</th>\n",
       "    </tr>\n",
       "  </thead>\n",
       "  <tbody>\n",
       "    <tr>\n",
       "      <th>0</th>\n",
       "      <td>0</td>\n",
       "      <td>Miley Cyrus</td>\n",
       "      <td>Flowers</td>\n",
       "      <td>Flowers</td>\n",
       "      <td>0yLdNVWF3Srea0uzk55zFn</td>\n",
       "      <td>0.707</td>\n",
       "      <td>0.681</td>\n",
       "      <td>0</td>\n",
       "      <td>-4.325</td>\n",
       "      <td>1</td>\n",
       "      <td>...</td>\n",
       "      <td>0.000005</td>\n",
       "      <td>0.0322</td>\n",
       "      <td>0.646</td>\n",
       "      <td>117.999</td>\n",
       "      <td>200455</td>\n",
       "      <td>4</td>\n",
       "      <td>0.06320</td>\n",
       "      <td>98</td>\n",
       "      <td>1/13/23</td>\n",
       "      <td>upbeat</td>\n",
       "    </tr>\n",
       "    <tr>\n",
       "      <th>1</th>\n",
       "      <td>1</td>\n",
       "      <td>Rema</td>\n",
       "      <td>Calm Down (with Selena Gomez)</td>\n",
       "      <td>Calm Down (with Selena Gomez)</td>\n",
       "      <td>0WtM2NBVQNNJLh6scP13H8</td>\n",
       "      <td>0.801</td>\n",
       "      <td>0.806</td>\n",
       "      <td>11</td>\n",
       "      <td>-5.206</td>\n",
       "      <td>1</td>\n",
       "      <td>...</td>\n",
       "      <td>0.000669</td>\n",
       "      <td>0.1140</td>\n",
       "      <td>0.802</td>\n",
       "      <td>106.999</td>\n",
       "      <td>239318</td>\n",
       "      <td>4</td>\n",
       "      <td>0.38200</td>\n",
       "      <td>95</td>\n",
       "      <td>8/25/22</td>\n",
       "      <td>upbeat</td>\n",
       "    </tr>\n",
       "    <tr>\n",
       "      <th>2</th>\n",
       "      <td>2</td>\n",
       "      <td>David Guetta</td>\n",
       "      <td>I'm Good (Blue)</td>\n",
       "      <td>I'm Good (Blue)</td>\n",
       "      <td>4uUG5RXrOk84mYEfFvj3cK</td>\n",
       "      <td>0.561</td>\n",
       "      <td>0.965</td>\n",
       "      <td>7</td>\n",
       "      <td>-3.673</td>\n",
       "      <td>0</td>\n",
       "      <td>...</td>\n",
       "      <td>0.000007</td>\n",
       "      <td>0.3710</td>\n",
       "      <td>0.304</td>\n",
       "      <td>128.040</td>\n",
       "      <td>175238</td>\n",
       "      <td>4</td>\n",
       "      <td>0.00383</td>\n",
       "      <td>94</td>\n",
       "      <td>8/26/22</td>\n",
       "      <td>upbeat</td>\n",
       "    </tr>\n",
       "    <tr>\n",
       "      <th>3</th>\n",
       "      <td>3</td>\n",
       "      <td>Stephen Sanchez</td>\n",
       "      <td>Until I Found You (Em Beihold Version)</td>\n",
       "      <td>Until I Found You (with Em Beihold) - Em Beiho...</td>\n",
       "      <td>1Y3LN4zO1Edc2EluIoSPJN</td>\n",
       "      <td>0.551</td>\n",
       "      <td>0.550</td>\n",
       "      <td>10</td>\n",
       "      <td>-5.339</td>\n",
       "      <td>1</td>\n",
       "      <td>...</td>\n",
       "      <td>0.000000</td>\n",
       "      <td>0.2020</td>\n",
       "      <td>0.342</td>\n",
       "      <td>101.190</td>\n",
       "      <td>176440</td>\n",
       "      <td>3</td>\n",
       "      <td>0.77700</td>\n",
       "      <td>93</td>\n",
       "      <td>4/22/22</td>\n",
       "      <td>upbeat</td>\n",
       "    </tr>\n",
       "    <tr>\n",
       "      <th>4</th>\n",
       "      <td>4</td>\n",
       "      <td>OneRepublic</td>\n",
       "      <td>I Ain’t Worried (Music From The Motion Picture...</td>\n",
       "      <td>I Ain't Worried</td>\n",
       "      <td>4h9wh7iOZ0GGn8QVp4RAOB</td>\n",
       "      <td>0.704</td>\n",
       "      <td>0.797</td>\n",
       "      <td>0</td>\n",
       "      <td>-5.927</td>\n",
       "      <td>1</td>\n",
       "      <td>...</td>\n",
       "      <td>0.000745</td>\n",
       "      <td>0.0546</td>\n",
       "      <td>0.825</td>\n",
       "      <td>139.994</td>\n",
       "      <td>148486</td>\n",
       "      <td>4</td>\n",
       "      <td>0.08260</td>\n",
       "      <td>93</td>\n",
       "      <td>5/13/22</td>\n",
       "      <td>upbeat</td>\n",
       "    </tr>\n",
       "    <tr>\n",
       "      <th>...</th>\n",
       "      <td>...</td>\n",
       "      <td>...</td>\n",
       "      <td>...</td>\n",
       "      <td>...</td>\n",
       "      <td>...</td>\n",
       "      <td>...</td>\n",
       "      <td>...</td>\n",
       "      <td>...</td>\n",
       "      <td>...</td>\n",
       "      <td>...</td>\n",
       "      <td>...</td>\n",
       "      <td>...</td>\n",
       "      <td>...</td>\n",
       "      <td>...</td>\n",
       "      <td>...</td>\n",
       "      <td>...</td>\n",
       "      <td>...</td>\n",
       "      <td>...</td>\n",
       "      <td>...</td>\n",
       "      <td>...</td>\n",
       "      <td>...</td>\n",
       "    </tr>\n",
       "    <tr>\n",
       "      <th>2774</th>\n",
       "      <td>2774</td>\n",
       "      <td>Joy Crookes</td>\n",
       "      <td>Don't Let Me Down (Demo)</td>\n",
       "      <td>Don't Let Me Down - Demo</td>\n",
       "      <td>1VwPTHAfPvcL1ZubK6qabL</td>\n",
       "      <td>0.696</td>\n",
       "      <td>0.140</td>\n",
       "      <td>9</td>\n",
       "      <td>-11.509</td>\n",
       "      <td>1</td>\n",
       "      <td>...</td>\n",
       "      <td>0.000354</td>\n",
       "      <td>0.1480</td>\n",
       "      <td>0.203</td>\n",
       "      <td>80.831</td>\n",
       "      <td>195535</td>\n",
       "      <td>3</td>\n",
       "      <td>0.81800</td>\n",
       "      <td>54</td>\n",
       "      <td>11/29/18</td>\n",
       "      <td>chill</td>\n",
       "    </tr>\n",
       "    <tr>\n",
       "      <th>2775</th>\n",
       "      <td>2775</td>\n",
       "      <td>Lee Fields &amp; The Expressions</td>\n",
       "      <td>My World</td>\n",
       "      <td>Honey Dove</td>\n",
       "      <td>1emxi7e5EWFsJmwSKTuUDH</td>\n",
       "      <td>0.487</td>\n",
       "      <td>0.497</td>\n",
       "      <td>4</td>\n",
       "      <td>-5.776</td>\n",
       "      <td>0</td>\n",
       "      <td>...</td>\n",
       "      <td>0.167000</td>\n",
       "      <td>0.1090</td>\n",
       "      <td>0.195</td>\n",
       "      <td>160.317</td>\n",
       "      <td>246573</td>\n",
       "      <td>4</td>\n",
       "      <td>0.12400</td>\n",
       "      <td>53</td>\n",
       "      <td>6/2/09</td>\n",
       "      <td>chill</td>\n",
       "    </tr>\n",
       "    <tr>\n",
       "      <th>2776</th>\n",
       "      <td>2776</td>\n",
       "      <td>Charlotte Day Wilson</td>\n",
       "      <td>ALPHA</td>\n",
       "      <td>Mountains</td>\n",
       "      <td>4JvEicQI7CxOJxuI0xtpim</td>\n",
       "      <td>0.540</td>\n",
       "      <td>0.399</td>\n",
       "      <td>10</td>\n",
       "      <td>-9.127</td>\n",
       "      <td>1</td>\n",
       "      <td>...</td>\n",
       "      <td>0.023900</td>\n",
       "      <td>0.3680</td>\n",
       "      <td>0.141</td>\n",
       "      <td>117.976</td>\n",
       "      <td>249334</td>\n",
       "      <td>4</td>\n",
       "      <td>0.77000</td>\n",
       "      <td>53</td>\n",
       "      <td>7/9/21</td>\n",
       "      <td>chill</td>\n",
       "    </tr>\n",
       "    <tr>\n",
       "      <th>2777</th>\n",
       "      <td>2777</td>\n",
       "      <td>Raveena</td>\n",
       "      <td>Shanti</td>\n",
       "      <td>Love Child</td>\n",
       "      <td>7xlhCrF1qme2kFUmynnaQq</td>\n",
       "      <td>0.907</td>\n",
       "      <td>0.338</td>\n",
       "      <td>7</td>\n",
       "      <td>-10.944</td>\n",
       "      <td>1</td>\n",
       "      <td>...</td>\n",
       "      <td>0.032200</td>\n",
       "      <td>0.0418</td>\n",
       "      <td>0.848</td>\n",
       "      <td>95.989</td>\n",
       "      <td>163072</td>\n",
       "      <td>4</td>\n",
       "      <td>0.45400</td>\n",
       "      <td>53</td>\n",
       "      <td>12/6/17</td>\n",
       "      <td>chill</td>\n",
       "    </tr>\n",
       "    <tr>\n",
       "      <th>2778</th>\n",
       "      <td>2778</td>\n",
       "      <td>Son Little</td>\n",
       "      <td>Son Little (Deluxe Edition)</td>\n",
       "      <td>Lay Down</td>\n",
       "      <td>3x8IsQzb1KhPPo6zNGzzL1</td>\n",
       "      <td>0.467</td>\n",
       "      <td>0.257</td>\n",
       "      <td>5</td>\n",
       "      <td>-10.123</td>\n",
       "      <td>1</td>\n",
       "      <td>...</td>\n",
       "      <td>0.000000</td>\n",
       "      <td>0.1180</td>\n",
       "      <td>0.255</td>\n",
       "      <td>106.605</td>\n",
       "      <td>228000</td>\n",
       "      <td>3</td>\n",
       "      <td>0.77500</td>\n",
       "      <td>53</td>\n",
       "      <td>10/16/15</td>\n",
       "      <td>chill</td>\n",
       "    </tr>\n",
       "  </tbody>\n",
       "</table>\n",
       "<p>2779 rows × 21 columns</p>\n",
       "</div>"
      ],
      "text/plain": [
       "      Unnamed: 0                        artist   \n",
       "0              0                   Miley Cyrus  \\\n",
       "1              1                          Rema   \n",
       "2              2                  David Guetta   \n",
       "3              3               Stephen Sanchez   \n",
       "4              4                   OneRepublic   \n",
       "...          ...                           ...   \n",
       "2774        2774                   Joy Crookes   \n",
       "2775        2775  Lee Fields & The Expressions   \n",
       "2776        2776          Charlotte Day Wilson   \n",
       "2777        2777                       Raveena   \n",
       "2778        2778                    Son Little   \n",
       "\n",
       "                                                  album   \n",
       "0                                               Flowers  \\\n",
       "1                         Calm Down (with Selena Gomez)   \n",
       "2                                       I'm Good (Blue)   \n",
       "3                Until I Found You (Em Beihold Version)   \n",
       "4     I Ain’t Worried (Music From The Motion Picture...   \n",
       "...                                                 ...   \n",
       "2774                           Don't Let Me Down (Demo)   \n",
       "2775                                           My World   \n",
       "2776                                              ALPHA   \n",
       "2777                                             Shanti   \n",
       "2778                        Son Little (Deluxe Edition)   \n",
       "\n",
       "                                             track_name   \n",
       "0                                               Flowers  \\\n",
       "1                         Calm Down (with Selena Gomez)   \n",
       "2                                       I'm Good (Blue)   \n",
       "3     Until I Found You (with Em Beihold) - Em Beiho...   \n",
       "4                                       I Ain't Worried   \n",
       "...                                                 ...   \n",
       "2774                           Don't Let Me Down - Demo   \n",
       "2775                                         Honey Dove   \n",
       "2776                                          Mountains   \n",
       "2777                                         Love Child   \n",
       "2778                                           Lay Down   \n",
       "\n",
       "                    track_id  danceability  energy  key  loudness  mode  ...   \n",
       "0     0yLdNVWF3Srea0uzk55zFn         0.707   0.681    0    -4.325     1  ...  \\\n",
       "1     0WtM2NBVQNNJLh6scP13H8         0.801   0.806   11    -5.206     1  ...   \n",
       "2     4uUG5RXrOk84mYEfFvj3cK         0.561   0.965    7    -3.673     0  ...   \n",
       "3     1Y3LN4zO1Edc2EluIoSPJN         0.551   0.550   10    -5.339     1  ...   \n",
       "4     4h9wh7iOZ0GGn8QVp4RAOB         0.704   0.797    0    -5.927     1  ...   \n",
       "...                      ...           ...     ...  ...       ...   ...  ...   \n",
       "2774  1VwPTHAfPvcL1ZubK6qabL         0.696   0.140    9   -11.509     1  ...   \n",
       "2775  1emxi7e5EWFsJmwSKTuUDH         0.487   0.497    4    -5.776     0  ...   \n",
       "2776  4JvEicQI7CxOJxuI0xtpim         0.540   0.399   10    -9.127     1  ...   \n",
       "2777  7xlhCrF1qme2kFUmynnaQq         0.907   0.338    7   -10.944     1  ...   \n",
       "2778  3x8IsQzb1KhPPo6zNGzzL1         0.467   0.257    5   -10.123     1  ...   \n",
       "\n",
       "      instrumentalness  liveness  valence    tempo  duration_ms   \n",
       "0             0.000005    0.0322    0.646  117.999       200455  \\\n",
       "1             0.000669    0.1140    0.802  106.999       239318   \n",
       "2             0.000007    0.3710    0.304  128.040       175238   \n",
       "3             0.000000    0.2020    0.342  101.190       176440   \n",
       "4             0.000745    0.0546    0.825  139.994       148486   \n",
       "...                ...       ...      ...      ...          ...   \n",
       "2774          0.000354    0.1480    0.203   80.831       195535   \n",
       "2775          0.167000    0.1090    0.195  160.317       246573   \n",
       "2776          0.023900    0.3680    0.141  117.976       249334   \n",
       "2777          0.032200    0.0418    0.848   95.989       163072   \n",
       "2778          0.000000    0.1180    0.255  106.605       228000   \n",
       "\n",
       "      time_signature  acousticness  popularity  album_release_date    vibe  \n",
       "0                  4       0.06320          98             1/13/23  upbeat  \n",
       "1                  4       0.38200          95             8/25/22  upbeat  \n",
       "2                  4       0.00383          94             8/26/22  upbeat  \n",
       "3                  3       0.77700          93             4/22/22  upbeat  \n",
       "4                  4       0.08260          93             5/13/22  upbeat  \n",
       "...              ...           ...         ...                 ...     ...  \n",
       "2774               3       0.81800          54            11/29/18   chill  \n",
       "2775               4       0.12400          53              6/2/09   chill  \n",
       "2776               4       0.77000          53              7/9/21   chill  \n",
       "2777               4       0.45400          53             12/6/17   chill  \n",
       "2778               3       0.77500          53            10/16/15   chill  \n",
       "\n",
       "[2779 rows x 21 columns]"
      ]
     },
     "execution_count": 12,
     "metadata": {},
     "output_type": "execute_result"
    }
   ],
   "source": [
    "mood_data"
   ]
  },
  {
   "cell_type": "markdown",
   "id": "fec3fead-4810-4188-a576-318ab8f6dceb",
   "metadata": {},
   "source": [
    "## Train and test models to label mood to the user's playlist"
   ]
  },
  {
   "cell_type": "code",
   "execution_count": 13,
   "id": "b90078e9-eb41-4cdc-93e1-84e70413385c",
   "metadata": {
    "tags": []
   },
   "outputs": [],
   "source": [
    "# Drops NAs so it can be put into the sklearn model\n",
    "mood_data = mood_data.dropna()\n",
    "user_data = user_audiofeature.dropna()"
   ]
  },
  {
   "cell_type": "markdown",
   "id": "dc829392-4f05-4983-90ac-a7f6a2f5685c",
   "metadata": {},
   "source": [
    "### Logistic regression"
   ]
  },
  {
   "cell_type": "code",
   "execution_count": 15,
   "id": "1e8ede30-dad7-4fda-a4bd-3fa6cd68c3fa",
   "metadata": {
    "tags": []
   },
   "outputs": [
    {
     "name": "stdout",
     "output_type": "stream",
     "text": [
      "The accuracy of the model is: 0.7230215827338129\n"
     ]
    }
   ],
   "source": [
    "# subset the relevant columns\n",
    "mood_features = mood_data[['valence', 'danceability', 'tempo', 'energy','loudness','speechiness','instrumentalness','popularity']]\n",
    "user_features = user_data[['valence', 'danceability', 'tempo', 'energy','loudness','speechiness','instrumentalness','popularity']]\n",
    "\n",
    "# scale audio features to standardize the metrics\n",
    "scaler = preprocessing.MinMaxScaler()\n",
    "mood_features_scaled = pd.DataFrame(scaler.fit_transform(mood_features), columns=mood_features.columns)\n",
    "user_features_scaled = pd.DataFrame(scaler.fit_transform(user_features), columns=user_features.columns)\n",
    "\n",
    "mood_target = mood_data['vibe']\n",
    "\n",
    "# split the data into training and testing sets\n",
    "X_train, X_test, y_train, y_test = train_test_split(mood_features_scaled, mood_target, test_size=0.2, random_state=42)\n",
    "\n",
    "# create a logistic regression model and train it\n",
    "logreg = LogisticRegression(multi_class='multinomial', solver='lbfgs', max_iter=500)\n",
    "logreg.fit(X_train, y_train)\n",
    "\n",
    "# make predictions on the user data\n",
    "user_pred = logreg.predict(user_features_scaled)\n",
    "\n",
    "# calculate the accuracy of the model on the test set\n",
    "y_pred = logreg.predict(X_test)\n",
    "accuracy = metrics.accuracy_score(y_test, y_pred)\n",
    "print(\"The accuracy of the model is:\", accuracy)\n"
   ]
  },
  {
   "cell_type": "markdown",
   "id": "a5f700ea-615f-472d-826f-0bda439a7e00",
   "metadata": {},
   "source": [
    "### Random Forest --- Best model"
   ]
  },
  {
   "cell_type": "code",
   "execution_count": 164,
   "id": "aff10e5c-101a-4495-854c-c379d4c63667",
   "metadata": {
    "tags": []
   },
   "outputs": [
    {
     "name": "stdout",
     "output_type": "stream",
     "text": [
      "The accuracy of the model is: 0.8165467625899281\n"
     ]
    }
   ],
   "source": [
    "# import required libraries\n",
    "from sklearn.ensemble import RandomForestClassifier\n",
    "from sklearn.model_selection import train_test_split\n",
    "from sklearn import metrics\n",
    "\n",
    "# subset the relevant columns\n",
    "mood_features = mood_data[['valence', 'danceability', 'tempo', 'energy','loudness','speechiness','instrumentalness','popularity']]\n",
    "user_features = user_data[['valence', 'danceability', 'tempo', 'energy','loudness','speechiness','instrumentalness','popularity']]\n",
    "\n",
    "# scale audio features to standardize the metrics\n",
    "scaler = preprocessing.MinMaxScaler()\n",
    "mood_features_scaled = pd.DataFrame(scaler.fit_transform(mood_features), columns=mood_features.columns)\n",
    "user_features_scaled = pd.DataFrame(scaler.fit_transform(user_features), columns=user_features.columns)\n",
    "\n",
    "mood_target = mood_data['vibe']\n",
    "\n",
    "# split the data into training and testing sets\n",
    "X_train, X_test, y_train, y_test = train_test_split(mood_features_scaled, mood_target, test_size=0.2, random_state=42)\n",
    "\n",
    "# create a random forest classifier and train it\n",
    "rfc = RandomForestClassifier(n_estimators=100, random_state=42)\n",
    "rfc.fit(X_train, y_train)\n",
    "\n",
    "# make predictions on the user data\n",
    "best_user_pred = rfc.predict(user_features_scaled)\n",
    "\n",
    "# calculate the accuracy of the model on the test set\n",
    "best_y_pred = rfc.predict(X_test)\n",
    "best_accuracy = metrics.accuracy_score(y_test, best_y_pred)\n",
    "print(\"The accuracy of the model is:\", best_accuracy)\n"
   ]
  },
  {
   "cell_type": "markdown",
   "id": "24fbd699-b990-4483-9c97-27fab1ca0bc2",
   "metadata": {},
   "source": [
    "### Decision Tree"
   ]
  },
  {
   "cell_type": "code",
   "execution_count": 151,
   "id": "8cfeca7d-3a31-47ab-8f9d-cb2adf7c9557",
   "metadata": {
    "tags": []
   },
   "outputs": [
    {
     "name": "stdout",
     "output_type": "stream",
     "text": [
      "The accuracy of the decision tree model is: 0.7446043165467626\n"
     ]
    }
   ],
   "source": [
    "from sklearn.tree import DecisionTreeClassifier\n",
    "from sklearn import metrics\n",
    "\n",
    "# split the data into training and testing sets\n",
    "X_train, X_test, y_train, y_test = train_test_split(mood_features_scaled, mood_target, test_size=0.2, random_state=42)\n",
    "\n",
    "# create a decision tree classifier model and train it\n",
    "dt = DecisionTreeClassifier(random_state=42)\n",
    "dt.fit(X_train, y_train)\n",
    "\n",
    "# make predictions on the user data\n",
    "user_pred = dt.predict(user_features_scaled)\n",
    "\n",
    "# calculate the accuracy of the model on the test set\n",
    "y_pred = dt.predict(X_test)\n",
    "accuracy = metrics.accuracy_score(y_test, y_pred)\n",
    "print(\"The accuracy of the decision tree model is:\", accuracy)\n"
   ]
  },
  {
   "cell_type": "markdown",
   "id": "019107d6-6748-47ed-9acd-e704b56d8266",
   "metadata": {},
   "source": [
    "### Neural Networks"
   ]
  },
  {
   "cell_type": "code",
   "execution_count": 152,
   "id": "ef2740bb-920b-4f7a-8c77-9139e17749dc",
   "metadata": {
    "tags": []
   },
   "outputs": [
    {
     "name": "stdout",
     "output_type": "stream",
     "text": [
      "The accuracy of the neural network model is: 0.7859712230215827\n"
     ]
    }
   ],
   "source": [
    "from sklearn.neural_network import MLPClassifier\n",
    "\n",
    "# split the data into training and testing sets\n",
    "X_train, X_test, y_train, y_test = train_test_split(mood_features_scaled, mood_target, test_size=0.2, random_state=42)\n",
    "\n",
    "# create a neural network classifier model and train it\n",
    "nn = MLPClassifier(hidden_layer_sizes=(100,), activation='relu', solver='adam', max_iter=500)\n",
    "nn.fit(X_train, y_train)\n",
    "\n",
    "# make predictions on the user data\n",
    "user_pred = nn.predict(user_features_scaled)\n",
    "\n",
    "# calculate the accuracy of the model on the test set\n",
    "y_pred = nn.predict(X_test)\n",
    "accuracy = metrics.accuracy_score(y_test, y_pred)\n",
    "print(\"The accuracy of the neural network model is:\", accuracy)\n"
   ]
  },
  {
   "cell_type": "code",
   "execution_count": 165,
   "id": "6b3ef6b0-3a19-42f4-a577-8f3b66f382a5",
   "metadata": {
    "tags": []
   },
   "outputs": [
    {
     "name": "stdout",
     "output_type": "stream",
     "text": [
      "Upbeat percent: 24 %\n",
      "Sad percent: 37 %\n",
      "Chill percent: 39 %\n",
      "The accuracy of the model is: 0.8165467625899281\n"
     ]
    }
   ],
   "source": [
    "### Calculate the proportion of different moods within the user's playlist\n",
    "\n",
    "total = len(best_user_pred)\n",
    "upbeat_count = np.count_nonzero(best_user_pred == 'upbeat')\n",
    "upbeat_per = round((upbeat_count / total) * 100)\n",
    "\n",
    "sad_count = np.count_nonzero(best_user_pred == 'sad')\n",
    "sad_per = round((sad_count / total) * 100)\n",
    "\n",
    "chill_count = np.count_nonzero(best_user_pred == 'chill')\n",
    "chill_per = round((chill_count / total) * 100)\n",
    "\n",
    "print(\"Upbeat percent:\", upbeat_per, \"%\")\n",
    "print(\"Sad percent:\", sad_per , \"%\")\n",
    "print(\"Chill percent:\", chill_per, \"%\")\n",
    "\n",
    "print(\"The accuracy of the model is:\", best_accuracy)"
   ]
  },
  {
   "cell_type": "code",
   "execution_count": 162,
   "id": "dc054667-62b4-4a2f-954e-2ba4b2fbb890",
   "metadata": {
    "tags": []
   },
   "outputs": [],
   "source": [
    "user_data['predicted_mood'] = best_user_pred"
   ]
  },
  {
   "cell_type": "code",
   "execution_count": 163,
   "id": "e5fd8ef2-0203-46fc-a08b-14af290b7c9a",
   "metadata": {
    "tags": []
   },
   "outputs": [
    {
     "data": {
      "text/html": [
       "<div>\n",
       "<style scoped>\n",
       "    .dataframe tbody tr th:only-of-type {\n",
       "        vertical-align: middle;\n",
       "    }\n",
       "\n",
       "    .dataframe tbody tr th {\n",
       "        vertical-align: top;\n",
       "    }\n",
       "\n",
       "    .dataframe thead th {\n",
       "        text-align: right;\n",
       "    }\n",
       "</style>\n",
       "<table border=\"1\" class=\"dataframe\">\n",
       "  <thead>\n",
       "    <tr style=\"text-align: right;\">\n",
       "      <th></th>\n",
       "      <th>track_uri</th>\n",
       "      <th>popularity</th>\n",
       "      <th>danceability</th>\n",
       "      <th>energy</th>\n",
       "      <th>loudness</th>\n",
       "      <th>valence</th>\n",
       "      <th>speechiness</th>\n",
       "      <th>instrumentalness</th>\n",
       "      <th>tempo</th>\n",
       "      <th>predicted_mood</th>\n",
       "    </tr>\n",
       "  </thead>\n",
       "  <tbody>\n",
       "    <tr>\n",
       "      <th>0</th>\n",
       "      <td>4FFSK1xgCLkTZJLUERLZKG</td>\n",
       "      <td>61</td>\n",
       "      <td>0.712</td>\n",
       "      <td>0.440</td>\n",
       "      <td>-11.566</td>\n",
       "      <td>0.312</td>\n",
       "      <td>0.0413</td>\n",
       "      <td>0.000000</td>\n",
       "      <td>123.958</td>\n",
       "      <td>chill</td>\n",
       "    </tr>\n",
       "    <tr>\n",
       "      <th>1</th>\n",
       "      <td>5enxwA8aAbwZbf5qCHORXi</td>\n",
       "      <td>85</td>\n",
       "      <td>0.631</td>\n",
       "      <td>0.518</td>\n",
       "      <td>-8.771</td>\n",
       "      <td>0.205</td>\n",
       "      <td>0.0303</td>\n",
       "      <td>0.000000</td>\n",
       "      <td>93.023</td>\n",
       "      <td>upbeat</td>\n",
       "    </tr>\n",
       "    <tr>\n",
       "      <th>2</th>\n",
       "      <td>0T482F5L30d7ChNbLqsKa7</td>\n",
       "      <td>43</td>\n",
       "      <td>0.414</td>\n",
       "      <td>0.235</td>\n",
       "      <td>-15.252</td>\n",
       "      <td>0.137</td>\n",
       "      <td>0.0429</td>\n",
       "      <td>0.907000</td>\n",
       "      <td>144.467</td>\n",
       "      <td>sad</td>\n",
       "    </tr>\n",
       "    <tr>\n",
       "      <th>3</th>\n",
       "      <td>3EZTyh1wJEmreJH1aULPCj</td>\n",
       "      <td>62</td>\n",
       "      <td>0.323</td>\n",
       "      <td>0.106</td>\n",
       "      <td>-10.374</td>\n",
       "      <td>0.158</td>\n",
       "      <td>0.0323</td>\n",
       "      <td>0.000059</td>\n",
       "      <td>91.455</td>\n",
       "      <td>sad</td>\n",
       "    </tr>\n",
       "    <tr>\n",
       "      <th>4</th>\n",
       "      <td>5Mw9bXG1dLNhbjofkVS2oR</td>\n",
       "      <td>69</td>\n",
       "      <td>0.262</td>\n",
       "      <td>0.361</td>\n",
       "      <td>-10.187</td>\n",
       "      <td>0.056</td>\n",
       "      <td>0.0333</td>\n",
       "      <td>0.002680</td>\n",
       "      <td>126.786</td>\n",
       "      <td>sad</td>\n",
       "    </tr>\n",
       "    <tr>\n",
       "      <th>...</th>\n",
       "      <td>...</td>\n",
       "      <td>...</td>\n",
       "      <td>...</td>\n",
       "      <td>...</td>\n",
       "      <td>...</td>\n",
       "      <td>...</td>\n",
       "      <td>...</td>\n",
       "      <td>...</td>\n",
       "      <td>...</td>\n",
       "      <td>...</td>\n",
       "    </tr>\n",
       "    <tr>\n",
       "      <th>831</th>\n",
       "      <td>2cOUlop2ZakjOKe4WinesN</td>\n",
       "      <td>77</td>\n",
       "      <td>0.735</td>\n",
       "      <td>0.425</td>\n",
       "      <td>-6.648</td>\n",
       "      <td>0.848</td>\n",
       "      <td>0.0464</td>\n",
       "      <td>0.000000</td>\n",
       "      <td>85.896</td>\n",
       "      <td>upbeat</td>\n",
       "    </tr>\n",
       "    <tr>\n",
       "      <th>832</th>\n",
       "      <td>0k6LV1ohcK2hlNPwu1nVw9</td>\n",
       "      <td>63</td>\n",
       "      <td>0.641</td>\n",
       "      <td>0.512</td>\n",
       "      <td>-4.935</td>\n",
       "      <td>0.395</td>\n",
       "      <td>0.0285</td>\n",
       "      <td>0.000000</td>\n",
       "      <td>116.059</td>\n",
       "      <td>chill</td>\n",
       "    </tr>\n",
       "    <tr>\n",
       "      <th>833</th>\n",
       "      <td>6yhLR2sVn1IfsScVrR4ocr</td>\n",
       "      <td>60</td>\n",
       "      <td>0.416</td>\n",
       "      <td>0.341</td>\n",
       "      <td>-10.749</td>\n",
       "      <td>0.776</td>\n",
       "      <td>0.0391</td>\n",
       "      <td>0.000000</td>\n",
       "      <td>177.229</td>\n",
       "      <td>chill</td>\n",
       "    </tr>\n",
       "    <tr>\n",
       "      <th>834</th>\n",
       "      <td>4pbG9SUmWIvsROVLF0zF9s</td>\n",
       "      <td>74</td>\n",
       "      <td>0.490</td>\n",
       "      <td>0.715</td>\n",
       "      <td>-5.549</td>\n",
       "      <td>0.866</td>\n",
       "      <td>0.0476</td>\n",
       "      <td>0.000000</td>\n",
       "      <td>130.726</td>\n",
       "      <td>upbeat</td>\n",
       "    </tr>\n",
       "    <tr>\n",
       "      <th>835</th>\n",
       "      <td>6h2YXTAX6QN83w0gOTjDZa</td>\n",
       "      <td>44</td>\n",
       "      <td>0.473</td>\n",
       "      <td>0.468</td>\n",
       "      <td>-7.439</td>\n",
       "      <td>0.448</td>\n",
       "      <td>0.0503</td>\n",
       "      <td>0.000000</td>\n",
       "      <td>119.680</td>\n",
       "      <td>chill</td>\n",
       "    </tr>\n",
       "  </tbody>\n",
       "</table>\n",
       "<p>836 rows × 10 columns</p>\n",
       "</div>"
      ],
      "text/plain": [
       "                  track_uri  popularity  danceability  energy  loudness   \n",
       "0    4FFSK1xgCLkTZJLUERLZKG          61         0.712   0.440   -11.566  \\\n",
       "1    5enxwA8aAbwZbf5qCHORXi          85         0.631   0.518    -8.771   \n",
       "2    0T482F5L30d7ChNbLqsKa7          43         0.414   0.235   -15.252   \n",
       "3    3EZTyh1wJEmreJH1aULPCj          62         0.323   0.106   -10.374   \n",
       "4    5Mw9bXG1dLNhbjofkVS2oR          69         0.262   0.361   -10.187   \n",
       "..                      ...         ...           ...     ...       ...   \n",
       "831  2cOUlop2ZakjOKe4WinesN          77         0.735   0.425    -6.648   \n",
       "832  0k6LV1ohcK2hlNPwu1nVw9          63         0.641   0.512    -4.935   \n",
       "833  6yhLR2sVn1IfsScVrR4ocr          60         0.416   0.341   -10.749   \n",
       "834  4pbG9SUmWIvsROVLF0zF9s          74         0.490   0.715    -5.549   \n",
       "835  6h2YXTAX6QN83w0gOTjDZa          44         0.473   0.468    -7.439   \n",
       "\n",
       "     valence  speechiness  instrumentalness    tempo predicted_mood  \n",
       "0      0.312       0.0413          0.000000  123.958          chill  \n",
       "1      0.205       0.0303          0.000000   93.023         upbeat  \n",
       "2      0.137       0.0429          0.907000  144.467            sad  \n",
       "3      0.158       0.0323          0.000059   91.455            sad  \n",
       "4      0.056       0.0333          0.002680  126.786            sad  \n",
       "..       ...          ...               ...      ...            ...  \n",
       "831    0.848       0.0464          0.000000   85.896         upbeat  \n",
       "832    0.395       0.0285          0.000000  116.059          chill  \n",
       "833    0.776       0.0391          0.000000  177.229          chill  \n",
       "834    0.866       0.0476          0.000000  130.726         upbeat  \n",
       "835    0.448       0.0503          0.000000  119.680          chill  \n",
       "\n",
       "[836 rows x 10 columns]"
      ]
     },
     "execution_count": 163,
     "metadata": {},
     "output_type": "execute_result"
    }
   ],
   "source": [
    "user_data"
   ]
  },
  {
   "cell_type": "markdown",
   "id": "7580680a-a9f0-4ffe-9e34-173056b0e62b",
   "metadata": {
    "tags": []
   },
   "source": [
    "### Get images that represent different moods and assign the appropriate cat to the user's data"
   ]
  },
  {
   "cell_type": "code",
   "execution_count": 159,
   "id": "d659a1ee-fe23-4519-9c74-74a769562c65",
   "metadata": {
    "tags": []
   },
   "outputs": [],
   "source": [
    "\n",
    "# Define image URLs\n",
    "upbeat_image_url = 'https://github.com/lphan1812/spotify-project/blob/main/upbeat_img.jpg?raw=true'\n",
    "sad_image_url = 'https://github.com/lphan1812/spotify-project/blob/main/sad_img.jpg?raw=true'\n",
    "chill_image_url = 'https://github.com/lphan1812/spotify-project/blob/main/chill_img.jpg?raw=true'\n",
    "confused_url = 'https://github.com/lphan1812/spotify-project/blob/main/confused_cat.png?raw=true'\n",
    "\n",
    "# Read images from URLs\n",
    "response = requests.get(upbeat_image_url)\n",
    "upbeat_image = Image.open(BytesIO(response.content))\n",
    "\n",
    "response = requests.get(sad_image_url)\n",
    "sad_image = Image.open(BytesIO(response.content))\n",
    "\n",
    "response = requests.get(chill_image_url)\n",
    "chill_image = Image.open(BytesIO(response.content))\n",
    "\n",
    "response = requests.get(confused_url)\n",
    "confused_image = Image.open(BytesIO(response.content))"
   ]
  },
  {
   "cell_type": "code",
   "execution_count": 160,
   "id": "d3ae63cb-7175-4ee2-965b-04bdbee90bb0",
   "metadata": {
    "tags": []
   },
   "outputs": [
    {
     "data": {
      "image/png": "[encoded data removed]",
      "text/plain": [
       "<Figure size 640x480 with 1 Axes>"
      ]
     },
     "metadata": {},
     "output_type": "display_data"
    }
   ],
   "source": [
    "# Find the highest percentage\n",
    "max_percent = max(upbeat_per, sad_per, chill_per)\n",
    "\n",
    "style = {'font-family': 'Andale Mono','font-size': '10px'}\n",
    "# Find the highest percentage category\n",
    "max_per = max(upbeat_per, sad_per, chill_per)\n",
    "if (upbeat_per < 50 and sad_per <50 and chill_per < 50): \n",
    "    image_file = confused_image\n",
    "    category = 'chaotic'\n",
    "    punchline = pn.pane.Markdown(\"# Jeez.. your moods are all over the place. Happy. Chill. Emo. Whatever. Just pick one!\",style=style)\n",
    "elif max_per == upbeat_per:\n",
    "    image_file = upbeat_image\n",
    "    category = 'upbeat'\n",
    "    punchline = pn.pane.Markdown(\"# Congratulations, you're not depressed!!!\",style=style)\n",
    "elif max_per == sad_per:\n",
    "    image_file = sad_image\n",
    "    category = 'sad'\n",
    "    punchline = pn.pane.Markdown(\"# LMAO who hurt you?\",style=style)\n",
    "else:\n",
    "    image_file = chill_image\n",
    "    category = 'chill'\n",
    "    punchline = pn.pane.Markdown(\"# Ah yes, the classic 'I'm so cool, I only listen to lo-fi beats vibe.' It's okay. Same here. We're chillin\",style=style)\n",
    "\n",
    "# Load and display the image\n",
    "# image = plt.imread(image_file, format = None)\n",
    "plt.imshow(image_file)\n",
    "plt.axis('off')\n",
    "plt.title(f\"You're {category}\")\n",
    "plt.show()\n"
   ]
  },
  {
   "cell_type": "code",
   "execution_count": 161,
   "id": "e912ddc9-1c35-4685-9271-bdb8f72fee24",
   "metadata": {
    "tags": []
   },
   "outputs": [
    {
     "data": {},
     "metadata": {},
     "output_type": "display_data"
    },
    {
     "data": {
      "application/vnd.holoviews_exec.v0+json": "",
      "text/html": [
       "<div id='6464'>\n",
       "  <div class=\"bk-root\" id=\"a73426a8-8c16-4d8e-abe9-facd1d60e959\" data-root-id=\"6464\"></div>\n",
       "</div>\n",
       "<script type=\"application/javascript\">(function(root) {\n",
       "  function embed_document(root) {\n",
       "    var docs_json = {\"20452a2e-5993-497e-87ac-738e55f5d56b\":{\"defs\":[{\"extends\":null,\"module\":null,\"name\":\"ReactiveHTML1\",\"overrides\":[],\"properties\":[]},{\"extends\":null,\"module\":null,\"name\":\"FlexBox1\",\"overrides\":[],\"properties\":[{\"default\":\"flex-start\",\"kind\":null,\"name\":\"align_content\"},{\"default\":\"flex-start\",\"kind\":null,\"name\":\"align_items\"},{\"default\":\"row\",\"kind\":null,\"name\":\"flex_direction\"},{\"default\":\"wrap\",\"kind\":null,\"name\":\"flex_wrap\"},{\"default\":\"flex-start\",\"kind\":null,\"name\":\"justify_content\"}]},{\"extends\":null,\"module\":null,\"name\":\"GridStack1\",\"overrides\":[],\"properties\":[{\"default\":\"warn\",\"kind\":null,\"name\":\"mode\"},{\"default\":null,\"kind\":null,\"name\":\"ncols\"},{\"default\":null,\"kind\":null,\"name\":\"nrows\"},{\"default\":true,\"kind\":null,\"name\":\"allow_resize\"},{\"default\":true,\"kind\":null,\"name\":\"allow_drag\"},{\"default\":[],\"kind\":null,\"name\":\"state\"}]},{\"extends\":null,\"module\":null,\"name\":\"click1\",\"overrides\":[],\"properties\":[{\"default\":\"\",\"kind\":null,\"name\":\"terminal_output\"},{\"default\":\"\",\"kind\":null,\"name\":\"debug_name\"},{\"default\":0,\"kind\":null,\"name\":\"clears\"}]},{\"extends\":null,\"module\":null,\"name\":\"NotificationAreaBase1\",\"overrides\":[],\"properties\":[{\"default\":\"bottom-right\",\"kind\":null,\"name\":\"position\"},{\"default\":0,\"kind\":null,\"name\":\"_clear\"}]},{\"extends\":null,\"module\":null,\"name\":\"NotificationArea1\",\"overrides\":[],\"properties\":[{\"default\":[],\"kind\":null,\"name\":\"notifications\"},{\"default\":\"bottom-right\",\"kind\":null,\"name\":\"position\"},{\"default\":0,\"kind\":null,\"name\":\"_clear\"},{\"default\":[{\"background\":\"#ffc107\",\"icon\":{\"className\":\"fas fa-exclamation-triangle\",\"color\":\"white\",\"tagName\":\"i\"},\"type\":\"warning\"},{\"background\":\"#007bff\",\"icon\":{\"className\":\"fas fa-info-circle\",\"color\":\"white\",\"tagName\":\"i\"},\"type\":\"info\"}],\"kind\":null,\"name\":\"types\"}]},{\"extends\":null,\"module\":null,\"name\":\"Notification\",\"overrides\":[],\"properties\":[{\"default\":null,\"kind\":null,\"name\":\"background\"},{\"default\":3000,\"kind\":null,\"name\":\"duration\"},{\"default\":null,\"kind\":null,\"name\":\"icon\"},{\"default\":\"\",\"kind\":null,\"name\":\"message\"},{\"default\":null,\"kind\":null,\"name\":\"notification_type\"},{\"default\":false,\"kind\":null,\"name\":\"_destroyed\"}]},{\"extends\":null,\"module\":null,\"name\":\"TemplateActions1\",\"overrides\":[],\"properties\":[{\"default\":0,\"kind\":null,\"name\":\"open_modal\"},{\"default\":0,\"kind\":null,\"name\":\"close_modal\"}]},{\"extends\":null,\"module\":null,\"name\":\"MaterialTemplateActions1\",\"overrides\":[],\"properties\":[{\"default\":0,\"kind\":null,\"name\":\"open_modal\"},{\"default\":0,\"kind\":null,\"name\":\"close_modal\"}]}],\"roots\":{\"references\":[{\"attributes\":{\"css_classes\":[\"markdown\"],\"margin\":[5,5,5,5],\"name\":\"Markdown01284\",\"sizing_mode\":\"stretch_width\",\"style\":{\"font-family\":\"Andale Mono\",\"font-size\":\"10px\"},\"text\":\"&lt;h1&gt;Jeez.. your moods are all over the place. Happy. Chill. Emo. Whatever. Just pick one!&lt;/h1&gt;\"},\"id\":\"6464\",\"type\":\"panel.models.markup.HTML\"},{\"attributes\":{\"client_comm_id\":\"7efc1fba71984d61bfb3c4ac2ab81092\",\"comm_id\":\"a3e59ed372674ba596d82242dea4d0d0\",\"plot_id\":\"6464\"},\"id\":\"6465\",\"type\":\"panel.models.comm_manager.CommManager\"}],\"root_ids\":[\"6464\",\"6465\"]},\"title\":\"Bokeh Application\",\"version\":\"2.4.3\"}};\n",
       "    var render_items = [{\"docid\":\"20452a2e-5993-497e-87ac-738e55f5d56b\",\"root_ids\":[\"6464\"],\"roots\":{\"6464\":\"a73426a8-8c16-4d8e-abe9-facd1d60e959\"}}];\n",
       "    root.Bokeh.embed.embed_items_notebook(docs_json, render_items);\n",
       "    for (const render_item of render_items) {\n",
       "      for (const root_id of render_item.root_ids) {\n",
       "\tconst id_el = document.getElementById(root_id)\n",
       "\tif (id_el.children.length && (id_el.children[0].className === 'bk-root')) {\n",
       "\t  const root_el = id_el.children[0]\n",
       "\t  root_el.id = root_el.id + '-rendered'\n",
       "\t}\n",
       "      }\n",
       "    }\n",
       "  }\n",
       "  if (root.Bokeh !== undefined && root.Bokeh.Panel !== undefined && ( root['Tabulator'] !== undefined) && ( root['Tabulator'] !== undefined) && ( root['Tabulator'] !== undefined)) {\n",
       "    embed_document(root);\n",
       "  } else {\n",
       "    var attempts = 0;\n",
       "    var timer = setInterval(function(root) {\n",
       "      if (root.Bokeh !== undefined && root.Bokeh.Panel !== undefined && (root['Tabulator'] !== undefined) && (root['Tabulator'] !== undefined) && (root['Tabulator'] !== undefined)) {\n",
       "        clearInterval(timer);\n",
       "        embed_document(root);\n",
       "      } else if (document.readyState == \"complete\") {\n",
       "        attempts++;\n",
       "        if (attempts > 200) {\n",
       "          clearInterval(timer);\n",
       "          console.log(\"Bokeh: ERROR: Unable to run BokehJS code because BokehJS library is missing\");\n",
       "        }\n",
       "      }\n",
       "    }, 25, root)\n",
       "  }\n",
       "})(window);</script>"
      ],
      "text/plain": [
       "Markdown(str, sizing_mode='stretch_width', style={'font-family': 'Andale Mo...})"
      ]
     },
     "execution_count": 161,
     "metadata": {
      "application/vnd.holoviews_exec.v0+json": {
       "id": "6464"
      }
     },
     "output_type": "execute_result"
    }
   ],
   "source": [
    "punchline"
   ]
  },
  {
   "cell_type": "markdown",
   "id": "da1f2746-354b-479f-ba37-7633a0265fb9",
   "metadata": {},
   "source": [
    "# Create visualizations"
   ]
  },
  {
   "cell_type": "code",
   "execution_count": 29,
   "id": "f35880e2-148b-4a6d-9f53-e7840441f153",
   "metadata": {
    "tags": []
   },
   "outputs": [],
   "source": [
    "## PREDEFINE COLOR CODE USED IN THE DASHBOARD\n",
    "# the predefined are color provided by Spotiy\n",
    "pre_defined_bgcolor = '#191414'\n",
    "# \"#d5e7e1\"\n",
    "\n",
    "pre_defined_green ='#1db954'\n",
    "# '#2d856a'\n",
    "\n",
    "titlecol ='#ffffff'\n",
    "darkgray = '#212121'\n",
    "midgray ='#535353'\n",
    "lightgray ='#b3b3b3'\n",
    "pale ='#d5e7e1'\n",
    "\n",
    "# pre_defined_bgcolor ='#2d856a'\n",
    "# predefineed_green = \"#a2c3d1\""
   ]
  },
  {
   "cell_type": "markdown",
   "id": "f4620419-9885-47f3-96db-4f4e0fb994e6",
   "metadata": {},
   "source": [
    "### Audio Features"
   ]
  },
  {
   "cell_type": "code",
   "execution_count": 31,
   "id": "76dc63c2-850e-4375-a26e-81c288e0ea56",
   "metadata": {
    "tags": []
   },
   "outputs": [],
   "source": [
    "my_features = mood_data[['danceability', 'energy', 'loudness','speechiness',\n",
    "                             'valence', 'tempo', 'popularity']]\n",
    "\n",
    "music_feature_me = pd.DataFrame(scaler.fit_transform(my_features), columns=my_features.columns)"
   ]
  },
  {
   "cell_type": "code",
   "execution_count": 32,
   "id": "1c591843-e464-4fbd-933a-27f20afbabd9",
   "metadata": {
    "tags": []
   },
   "outputs": [],
   "source": [
    "#allow plotly to show up in jupyter lab\n",
    "pio.renderers.default = 'iframe'"
   ]
  },
  {
   "cell_type": "code",
   "execution_count": 35,
   "id": "a13e2edd-805d-4d6c-b60f-347273267471",
   "metadata": {
    "tags": []
   },
   "outputs": [
    {
     "data": {
      "text/html": [
       "<iframe\n",
       "    scrolling=\"no\"\n",
       "    width=\"100%\"\n",
       "    height=\"545px\"\n",
       "    src=\"iframe_figures/figure_35.html\"\n",
       "    frameborder=\"0\"\n",
       "    allowfullscreen\n",
       "></iframe>\n"
      ]
     },
     "metadata": {},
     "output_type": "display_data"
    }
   ],
   "source": [
    "radarchart = go.Figure(data=go.Scatterpolar(\n",
    "    r=list(round(music_feature_me.median(),2)),\n",
    "    theta=['Danceability', 'Energy', 'Loudness', 'Speechiness', 'Valence','Tempo','Popularity'],\n",
    "    fill='toself',\n",
    "    # fillcolor = '#1ed760',\n",
    "    line=dict(color=pre_defined_green)\n",
    "))\n",
    "\n",
    "# Update chart layout\n",
    "radarchart.update_layout(\n",
    "    polar=dict(\n",
    "        bgcolor=pre_defined_bgcolor,\n",
    "        radialaxis=dict(\n",
    "            visible=True,\n",
    "            range=[0,1],\n",
    "            gridcolor = lightgray,\n",
    "            tickfont=dict(color=pre_defined_green)\n",
    "        )),\n",
    "    showlegend=False,\n",
    "        title={\n",
    "        'text': \"YOUR AUDIO FEATURES\", \n",
    "        'x': 0.5, \n",
    "        'y': 0.98, \n",
    "        'xanchor': 'center',\n",
    "        'yanchor': 'top',\n",
    "        'font': {'color': titlecol,'family': 'Andale Mono', 'size':25}\n",
    "    },\n",
    "    margin=dict(l=0, r=0, t=60, b=0),\n",
    "    font=dict(size=14, color=titlecol),\n",
    "    # plot_bgcolor='#191414',\n",
    "    paper_bgcolor=pre_defined_bgcolor\n",
    ")\n",
    "\n",
    "radarchart.show()\n"
   ]
  },
  {
   "cell_type": "code",
   "execution_count": 82,
   "id": "f2d5ac26-7384-4d23-9be8-6b1399b0bb9c",
   "metadata": {
    "tags": []
   },
   "outputs": [
    {
     "name": "stdout",
     "output_type": "stream",
     "text": [
      "Percentage of popular songs: 65.82%\n"
     ]
    }
   ],
   "source": [
    "\n",
    "num_popular_songs = sum(1 for score in my_features['popularity'] if score > 60)\n",
    "percent_popular_songs = num_popular_songs / len(my_features['popularity']) * 100\n",
    "print(f\"Percentage of popular songs: {percent_popular_songs:.2f}%\")"
   ]
  },
  {
   "cell_type": "code",
   "execution_count": 104,
   "id": "0a2f974c-1bb1-4dbe-a1c6-4f0f6f6f7008",
   "metadata": {
    "tags": []
   },
   "outputs": [],
   "source": [
    "popularity = pd.DataFrame()\n",
    "popularity['popularity'] = my_features['popularity']\n",
    "popularity['popularity_label'] = my_features['popularity'].apply(lambda x: 'Basic' if x >= 60 else 'Lowkey')"
   ]
  },
  {
   "cell_type": "code",
   "execution_count": 144,
   "id": "435a47e2-dd25-4c6e-ab44-ae3b0fe39600",
   "metadata": {
    "tags": []
   },
   "outputs": [
    {
     "data": {
      "text/html": [
       "<iframe\n",
       "    scrolling=\"no\"\n",
       "    width=\"320px\"\n",
       "    height=\"170\"\n",
       "    src=\"iframe_figures/figure_144.html\"\n",
       "    frameborder=\"0\"\n",
       "    allowfullscreen\n",
       "></iframe>\n"
      ]
     },
     "metadata": {},
     "output_type": "display_data"
    }
   ],
   "source": [
    "if percent_popular_songs >=60:\n",
    "    basicness = \"Oh that's right..YA BASIC!\"\n",
    "else:\n",
    "    basicness = \"Huh.. NOT SURE IF YOU LIKE THIS OR NOT BUT YOU'RE NOT THAT BASIC\"\n",
    "    \n",
    "basic = px.histogram(popularity, x=\"popularity\", nbins=10,color ='popularity_label',color_discrete_sequence =[pre_defined_green,titlecol],             height=150,\n",
    "                        width = 300,)\n",
    "basic.update_layout(\n",
    "    paper_bgcolor=pre_defined_bgcolor, margin = dict(l=0,r=5,t=60,b=0),\n",
    "    yaxis_title=\"\", \n",
    "    xaxis_title=\"\",\n",
    "    showlegend=False,\n",
    "    plot_bgcolor=pre_defined_bgcolor,\n",
    "    title={\n",
    "        'text': basicness, \n",
    "        'x': 0.5, \n",
    "        'y': 0.95, \n",
    "        'xanchor': 'center',\n",
    "        'yanchor': 'top',\n",
    "        'font': {'color': titlecol,'family': 'Andale Mono', 'size':18}\n",
    "    },\n",
    "    yaxis_gridcolor=midgray,\n",
    "    font_color=titlecol\n",
    ")\n",
    "basic.update_xaxes(range=[0, 100], showgrid=False, showticklabels=False)\n",
    "basic.update_yaxes(showticklabels=False, showgrid=False)\n",
    "\n",
    "basic.show()"
   ]
  },
  {
   "cell_type": "code",
   "execution_count": null,
   "id": "4aee99a3-d2a3-489f-a8b4-a17d8ebf7d41",
   "metadata": {},
   "outputs": [],
   "source": []
  },
  {
   "cell_type": "markdown",
   "id": "ce3cd591-3eec-48e2-aefc-42930fef927f",
   "metadata": {
    "tags": []
   },
   "source": [
    "## Genres"
   ]
  },
  {
   "cell_type": "code",
   "execution_count": 475,
   "id": "f0db8538-fa2d-414d-95ec-9f48ad32de99",
   "metadata": {
    "tags": []
   },
   "outputs": [],
   "source": [
    "plotly_template = pn.widgets.Select(options=sorted(pio.templates))"
   ]
  },
  {
   "cell_type": "code",
   "execution_count": 39,
   "id": "36f0cceb-5ed2-43ae-af01-c5d2aaf5a9e2",
   "metadata": {
    "tags": []
   },
   "outputs": [],
   "source": [
    "# group the DataFrame by the 'fruit' column and count the number of occurrences of each fruit\n",
    "freq = user_six_mos.groupby('master_metadata_album_artist_name').size().reset_index(name='count').sort_values('count',ascending=False)\n",
    "freq_top = freq.head(40)\n",
    "# convert the 'freq' DataFrame to a dictionary to use as input to the WordCloud object\n",
    "freq_dict = dict(zip(freq_top['master_metadata_album_artist_name'], freq_top['count']))\n"
   ]
  },
  {
   "cell_type": "code",
   "execution_count": 41,
   "id": "c5d66baf-4fdc-434c-ba42-58aa7ae892f5",
   "metadata": {
    "tags": []
   },
   "outputs": [],
   "source": [
    "# freq2 = user_six_mos.groupby('master_metadata_album_artist_name').size().reset_index(name='count').sort_values('count',ascending=False)\n",
    "for i in range(10):\n",
    "    if 'Taylor Swift' in freq_top.iloc[i]['master_metadata_album_artist_name']:\n",
    "        top_artist = \"We got ourself a SWIFTIE\"\n",
    "    elif 'SZA' in freq_top.iloc[i]['master_metadata_album_artist_name']:\n",
    "        top_artist = \"LMAO SZA\"\n",
    "    elif 'Nicki Minaj' in freq_top.iloc[i]['master_metadata_album_artist_name']:\n",
    "        top_artist = \"Are you a Nicki Fan?..am I a Nicki Fan..pull up in the Sri Lanka whattt\"\n",
    "        break\n",
    "    elif i==0:\n",
    "        top_artist = str(freq_top.iloc[i][\"master_metadata_album_artist_name\"])\n",
    "        # print(artist)\n",
    "# artist_titles "
   ]
  },
  {
   "cell_type": "code",
   "execution_count": 42,
   "id": "566126a5-6c4c-4c1a-ba4e-1c282ab4d708",
   "metadata": {
    "tags": []
   },
   "outputs": [
    {
     "data": {
      "text/plain": [
       "'We got ourself a SWIFTIE'"
      ]
     },
     "execution_count": 42,
     "metadata": {},
     "output_type": "execute_result"
    }
   ],
   "source": [
    "top_artist"
   ]
  },
  {
   "cell_type": "code",
   "execution_count": 48,
   "id": "7a7115a0-8f7e-4770-b276-4f00fd3e8e25",
   "metadata": {
    "tags": []
   },
   "outputs": [
    {
     "data": {
      "text/html": [
       "<iframe\n",
       "    scrolling=\"no\"\n",
       "    width=\"100%\"\n",
       "    height=\"545px\"\n",
       "    src=\"iframe_figures/figure_48.html\"\n",
       "    frameborder=\"0\"\n",
       "    allowfullscreen\n",
       "></iframe>\n"
      ]
     },
     "metadata": {},
     "output_type": "display_data"
    }
   ],
   "source": [
    "# create a WordCloud object with relative scaling set to 0\n",
    "wordcloud = WordCloud(width=1000, height=500, relative_scaling=0,colormap='Greens',background_color=pre_defined_bgcolor).generate_from_frequencies(freq_dict)\n",
    "# convert the WordCloud object into an image that can be plotted in Plotly\n",
    "img = wordcloud.to_image()\n",
    "\n",
    "# create a Plotly figure and add the word cloud image to it\n",
    "artist_chart = px.imshow(img)\n",
    "artist_chart.update_layout(\n",
    "    title={\n",
    "        'text': \"'\"+top_artist+\"'\",\n",
    "        'y':0.98,\n",
    "        'x':0.5,\n",
    "        'xanchor': 'center',\n",
    "        'yanchor': 'top',\n",
    "        'font': {'color': titlecol,'family': 'Andale Mono', 'size':35}},\n",
    "        # title_font_color='black',\n",
    "    margin={'l': 0, 'r': 0, 'b': 0, 't': 60},\n",
    "    xaxis=dict(visible=False),\n",
    "    yaxis = dict(visible=False))\n",
    "\n",
    "# show the Plotly figure\n",
    "artist_chart.update_layout(paper_bgcolor=pre_defined_bgcolor)\n",
    "artist_chart.show()"
   ]
  },
  {
   "cell_type": "markdown",
   "id": "d96a3cb0-4ad7-4bef-842d-2d0640469d60",
   "metadata": {},
   "source": [
    "## Day of week"
   ]
  },
  {
   "cell_type": "code",
   "execution_count": 180,
   "id": "89bdcd2d-62ec-485d-8060-fd0676a32d3b",
   "metadata": {
    "tags": []
   },
   "outputs": [
    {
     "data": {
      "text/html": [
       "<iframe\n",
       "    scrolling=\"no\"\n",
       "    width=\"100%\"\n",
       "    height=\"545px\"\n",
       "    src=\"iframe_figures/figure_180.html\"\n",
       "    frameborder=\"0\"\n",
       "    allowfullscreen\n",
       "></iframe>\n"
      ]
     },
     "metadata": {},
     "output_type": "display_data"
    }
   ],
   "source": [
    "time = pd.read_csv('https://raw.githubusercontent.com/lphan1812/spotify-project/main/franklin_six_months.csv')\n",
    "# Convert msPlayed into minutes listened\n",
    "time = pd.merge(time, user_data, on='track_uri', how='left')\n",
    "time['Minutes Listened'] = time['ms_played'] / 60000\n",
    "\n",
    "# Convert End Time (UTC) to End Time (Adj) in the user's time zone\n",
    "time['End Time (Adj)'] = pd.to_datetime(time['ts'])\n",
    "time.loc[time['End Time (Adj)'] < '2020-03-08', 'End Time (Adj)'] -= pd.Timedelta(hours=5)\n",
    "time.loc[(time['End Time (Adj)'] >= '2020-03-08') & (time['End Time (Adj)'] < '2020-11-01'), 'End Time (Adj)'] -= pd.Timedelta(hours=4)\n",
    "time.loc[time['End Time (Adj)'] >= '2020-11-01', 'End Time (Adj)'] -= pd.Timedelta(hours=5)\n",
    "\n",
    "# Extract the day of the week from the End Time (Adj) column\n",
    "time['Day of Week'] = time['End Time (Adj)'].dt.day_name()\n",
    "\n",
    "# Calculate the total minutes listened per day of the week\n",
    "total_minutes_per_day = time.groupby('Day of Week')['Minutes Listened'].sum().reset_index()\n",
    "# Create a bar chart to visualize the results\n",
    "dayofweek = px.bar(total_minutes_per_day, x='Day of Week', y='Minutes Listened', title='Total Minutes Listened per Day of the Week')\n",
    "dayofweek.update_traces(hovertemplate='Day of Week: %{x}<br>Total Minutes Listened: %{y:.2f} minutes')\n",
    "dayofweek = px.bar(total_minutes_per_day, x='Day of Week', y='Minutes Listened', title='You love listening to music on the weekends',\n",
    "             category_orders={'Day of Week': ['Sunday', 'Monday', 'Tuesday', 'Wednesday', 'Thursday', 'Friday', 'Saturday']})\n",
    "dayofweek.update_layout(title={\n",
    "        'text': \"MUSIC USAGE BY DAY\", \n",
    "        'x': 0.5, \n",
    "        'y': 0.95, \n",
    "        'xanchor': 'center',\n",
    "        'yanchor': 'top',\n",
    "        'font': {'color': 'white','family': 'Andale Mono', 'size':25}\n",
    "    },\n",
    "                  plot_bgcolor=pre_defined_bgcolor,\n",
    "                  paper_bgcolor=pre_defined_bgcolor,\n",
    "                  font_color=titlecol,\n",
    "                  yaxis_gridcolor=midgray\n",
    ")\n",
    "dayofweek.update_traces(marker_color=pre_defined_green)\n",
    "dayofweek.show()\n"
   ]
  },
  {
   "cell_type": "code",
   "execution_count": 238,
   "id": "82aba9eb-c978-4f77-ba75-fcd1e612eea8",
   "metadata": {
    "collapsed": true,
    "jupyter": {
     "outputs_hidden": true
    },
    "tags": []
   },
   "outputs": [
    {
     "ename": "TypeError",
     "evalue": "incompatible index of inserted column with frame index",
     "output_type": "error",
     "traceback": [
      "\u001b[0;31m---------------------------------------------------------------------------\u001b[0m",
      "\u001b[0;31mValueError\u001b[0m                                Traceback (most recent call last)",
      "File \u001b[0;32m~/Documents/Spotify/spotify_dashboard/lib/python3.9/site-packages/pandas/core/frame.py:11615\u001b[0m, in \u001b[0;36m_reindex_for_setitem\u001b[0;34m(value, index)\u001b[0m\n\u001b[1;32m  11614\u001b[0m \u001b[38;5;28;01mtry\u001b[39;00m:\n\u001b[0;32m> 11615\u001b[0m     reindexed_value \u001b[38;5;241m=\u001b[39m \u001b[43mvalue\u001b[49m\u001b[38;5;241;43m.\u001b[39;49m\u001b[43mreindex\u001b[49m\u001b[43m(\u001b[49m\u001b[43mindex\u001b[49m\u001b[43m)\u001b[49m\u001b[38;5;241m.\u001b[39m_values\n\u001b[1;32m  11616\u001b[0m \u001b[38;5;28;01mexcept\u001b[39;00m \u001b[38;5;167;01mValueError\u001b[39;00m \u001b[38;5;28;01mas\u001b[39;00m err:\n\u001b[1;32m  11617\u001b[0m     \u001b[38;5;66;03m# raised in MultiIndex.from_tuples, see test_insert_error_msmgs\u001b[39;00m\n",
      "File \u001b[0;32m~/Documents/Spotify/spotify_dashboard/lib/python3.9/site-packages/pandas/core/series.py:4914\u001b[0m, in \u001b[0;36mSeries.reindex\u001b[0;34m(self, index, axis, method, copy, level, fill_value, limit, tolerance)\u001b[0m\n\u001b[1;32m   4897\u001b[0m \u001b[38;5;129m@doc\u001b[39m(\n\u001b[1;32m   4898\u001b[0m     NDFrame\u001b[38;5;241m.\u001b[39mreindex,  \u001b[38;5;66;03m# type: ignore[has-type]\u001b[39;00m\n\u001b[1;32m   4899\u001b[0m     klass\u001b[38;5;241m=\u001b[39m_shared_doc_kwargs[\u001b[38;5;124m\"\u001b[39m\u001b[38;5;124mklass\u001b[39m\u001b[38;5;124m\"\u001b[39m],\n\u001b[0;32m   (...)\u001b[0m\n\u001b[1;32m   4912\u001b[0m     tolerance\u001b[38;5;241m=\u001b[39m\u001b[38;5;28;01mNone\u001b[39;00m,\n\u001b[1;32m   4913\u001b[0m ) \u001b[38;5;241m-\u001b[39m\u001b[38;5;241m>\u001b[39m Series:\n\u001b[0;32m-> 4914\u001b[0m     \u001b[38;5;28;01mreturn\u001b[39;00m \u001b[38;5;28;43msuper\u001b[39;49m\u001b[43m(\u001b[49m\u001b[43m)\u001b[49m\u001b[38;5;241;43m.\u001b[39;49m\u001b[43mreindex\u001b[49m\u001b[43m(\u001b[49m\n\u001b[1;32m   4915\u001b[0m \u001b[43m        \u001b[49m\u001b[43mindex\u001b[49m\u001b[38;5;241;43m=\u001b[39;49m\u001b[43mindex\u001b[49m\u001b[43m,\u001b[49m\n\u001b[1;32m   4916\u001b[0m \u001b[43m        \u001b[49m\u001b[43mmethod\u001b[49m\u001b[38;5;241;43m=\u001b[39;49m\u001b[43mmethod\u001b[49m\u001b[43m,\u001b[49m\n\u001b[1;32m   4917\u001b[0m \u001b[43m        \u001b[49m\u001b[43mcopy\u001b[49m\u001b[38;5;241;43m=\u001b[39;49m\u001b[43mcopy\u001b[49m\u001b[43m,\u001b[49m\n\u001b[1;32m   4918\u001b[0m \u001b[43m        \u001b[49m\u001b[43mlevel\u001b[49m\u001b[38;5;241;43m=\u001b[39;49m\u001b[43mlevel\u001b[49m\u001b[43m,\u001b[49m\n\u001b[1;32m   4919\u001b[0m \u001b[43m        \u001b[49m\u001b[43mfill_value\u001b[49m\u001b[38;5;241;43m=\u001b[39;49m\u001b[43mfill_value\u001b[49m\u001b[43m,\u001b[49m\n\u001b[1;32m   4920\u001b[0m \u001b[43m        \u001b[49m\u001b[43mlimit\u001b[49m\u001b[38;5;241;43m=\u001b[39;49m\u001b[43mlimit\u001b[49m\u001b[43m,\u001b[49m\n\u001b[1;32m   4921\u001b[0m \u001b[43m        \u001b[49m\u001b[43mtolerance\u001b[49m\u001b[38;5;241;43m=\u001b[39;49m\u001b[43mtolerance\u001b[49m\u001b[43m,\u001b[49m\n\u001b[1;32m   4922\u001b[0m \u001b[43m    \u001b[49m\u001b[43m)\u001b[49m\n",
      "File \u001b[0;32m~/Documents/Spotify/spotify_dashboard/lib/python3.9/site-packages/pandas/core/generic.py:5360\u001b[0m, in \u001b[0;36mNDFrame.reindex\u001b[0;34m(self, labels, index, columns, axis, method, copy, level, fill_value, limit, tolerance)\u001b[0m\n\u001b[1;32m   5359\u001b[0m \u001b[38;5;66;03m# perform the reindex on the axes\u001b[39;00m\n\u001b[0;32m-> 5360\u001b[0m \u001b[38;5;28;01mreturn\u001b[39;00m \u001b[38;5;28;43mself\u001b[39;49m\u001b[38;5;241;43m.\u001b[39;49m\u001b[43m_reindex_axes\u001b[49m\u001b[43m(\u001b[49m\n\u001b[1;32m   5361\u001b[0m \u001b[43m    \u001b[49m\u001b[43maxes\u001b[49m\u001b[43m,\u001b[49m\u001b[43m \u001b[49m\u001b[43mlevel\u001b[49m\u001b[43m,\u001b[49m\u001b[43m \u001b[49m\u001b[43mlimit\u001b[49m\u001b[43m,\u001b[49m\u001b[43m \u001b[49m\u001b[43mtolerance\u001b[49m\u001b[43m,\u001b[49m\u001b[43m \u001b[49m\u001b[43mmethod\u001b[49m\u001b[43m,\u001b[49m\u001b[43m \u001b[49m\u001b[43mfill_value\u001b[49m\u001b[43m,\u001b[49m\u001b[43m \u001b[49m\u001b[43mcopy\u001b[49m\n\u001b[1;32m   5362\u001b[0m \u001b[43m\u001b[49m\u001b[43m)\u001b[49m\u001b[38;5;241m.\u001b[39m__finalize__(\u001b[38;5;28mself\u001b[39m, method\u001b[38;5;241m=\u001b[39m\u001b[38;5;124m\"\u001b[39m\u001b[38;5;124mreindex\u001b[39m\u001b[38;5;124m\"\u001b[39m)\n",
      "File \u001b[0;32m~/Documents/Spotify/spotify_dashboard/lib/python3.9/site-packages/pandas/core/generic.py:5375\u001b[0m, in \u001b[0;36mNDFrame._reindex_axes\u001b[0;34m(self, axes, level, limit, tolerance, method, fill_value, copy)\u001b[0m\n\u001b[1;32m   5374\u001b[0m ax \u001b[38;5;241m=\u001b[39m \u001b[38;5;28mself\u001b[39m\u001b[38;5;241m.\u001b[39m_get_axis(a)\n\u001b[0;32m-> 5375\u001b[0m new_index, indexer \u001b[38;5;241m=\u001b[39m \u001b[43max\u001b[49m\u001b[38;5;241;43m.\u001b[39;49m\u001b[43mreindex\u001b[49m\u001b[43m(\u001b[49m\n\u001b[1;32m   5376\u001b[0m \u001b[43m    \u001b[49m\u001b[43mlabels\u001b[49m\u001b[43m,\u001b[49m\u001b[43m \u001b[49m\u001b[43mlevel\u001b[49m\u001b[38;5;241;43m=\u001b[39;49m\u001b[43mlevel\u001b[49m\u001b[43m,\u001b[49m\u001b[43m \u001b[49m\u001b[43mlimit\u001b[49m\u001b[38;5;241;43m=\u001b[39;49m\u001b[43mlimit\u001b[49m\u001b[43m,\u001b[49m\u001b[43m \u001b[49m\u001b[43mtolerance\u001b[49m\u001b[38;5;241;43m=\u001b[39;49m\u001b[43mtolerance\u001b[49m\u001b[43m,\u001b[49m\u001b[43m \u001b[49m\u001b[43mmethod\u001b[49m\u001b[38;5;241;43m=\u001b[39;49m\u001b[43mmethod\u001b[49m\n\u001b[1;32m   5377\u001b[0m \u001b[43m\u001b[49m\u001b[43m)\u001b[49m\n\u001b[1;32m   5379\u001b[0m axis \u001b[38;5;241m=\u001b[39m \u001b[38;5;28mself\u001b[39m\u001b[38;5;241m.\u001b[39m_get_axis_number(a)\n",
      "File \u001b[0;32m~/Documents/Spotify/spotify_dashboard/lib/python3.9/site-packages/pandas/core/indexes/base.py:4278\u001b[0m, in \u001b[0;36mIndex.reindex\u001b[0;34m(self, target, method, level, limit, tolerance)\u001b[0m\n\u001b[1;32m   4276\u001b[0m             indexer, _ \u001b[38;5;241m=\u001b[39m \u001b[38;5;28mself\u001b[39m\u001b[38;5;241m.\u001b[39mget_indexer_non_unique(target)\n\u001b[0;32m-> 4278\u001b[0m target \u001b[38;5;241m=\u001b[39m \u001b[38;5;28;43mself\u001b[39;49m\u001b[38;5;241;43m.\u001b[39;49m\u001b[43m_wrap_reindex_result\u001b[49m\u001b[43m(\u001b[49m\u001b[43mtarget\u001b[49m\u001b[43m,\u001b[49m\u001b[43m \u001b[49m\u001b[43mindexer\u001b[49m\u001b[43m,\u001b[49m\u001b[43m \u001b[49m\u001b[43mpreserve_names\u001b[49m\u001b[43m)\u001b[49m\n\u001b[1;32m   4279\u001b[0m \u001b[38;5;28;01mreturn\u001b[39;00m target, indexer\n",
      "File \u001b[0;32m~/Documents/Spotify/spotify_dashboard/lib/python3.9/site-packages/pandas/core/indexes/multi.py:2490\u001b[0m, in \u001b[0;36mMultiIndex._wrap_reindex_result\u001b[0;34m(self, target, indexer, preserve_names)\u001b[0m\n\u001b[1;32m   2489\u001b[0m \u001b[38;5;28;01mtry\u001b[39;00m:\n\u001b[0;32m-> 2490\u001b[0m     target \u001b[38;5;241m=\u001b[39m \u001b[43mMultiIndex\u001b[49m\u001b[38;5;241;43m.\u001b[39;49m\u001b[43mfrom_tuples\u001b[49m\u001b[43m(\u001b[49m\u001b[43mtarget\u001b[49m\u001b[43m)\u001b[49m\n\u001b[1;32m   2491\u001b[0m \u001b[38;5;28;01mexcept\u001b[39;00m \u001b[38;5;167;01mTypeError\u001b[39;00m:\n\u001b[1;32m   2492\u001b[0m     \u001b[38;5;66;03m# not all tuples, see test_constructor_dict_multiindex_reindex_flat\u001b[39;00m\n",
      "File \u001b[0;32m~/Documents/Spotify/spotify_dashboard/lib/python3.9/site-packages/pandas/core/indexes/multi.py:211\u001b[0m, in \u001b[0;36mnames_compat.<locals>.new_meth\u001b[0;34m(self_or_cls, *args, **kwargs)\u001b[0m\n\u001b[1;32m    209\u001b[0m     kwargs[\u001b[38;5;124m\"\u001b[39m\u001b[38;5;124mnames\u001b[39m\u001b[38;5;124m\"\u001b[39m] \u001b[38;5;241m=\u001b[39m kwargs\u001b[38;5;241m.\u001b[39mpop(\u001b[38;5;124m\"\u001b[39m\u001b[38;5;124mname\u001b[39m\u001b[38;5;124m\"\u001b[39m)\n\u001b[0;32m--> 211\u001b[0m \u001b[38;5;28;01mreturn\u001b[39;00m \u001b[43mmeth\u001b[49m\u001b[43m(\u001b[49m\u001b[43mself_or_cls\u001b[49m\u001b[43m,\u001b[49m\u001b[43m \u001b[49m\u001b[38;5;241;43m*\u001b[39;49m\u001b[43margs\u001b[49m\u001b[43m,\u001b[49m\u001b[43m \u001b[49m\u001b[38;5;241;43m*\u001b[39;49m\u001b[38;5;241;43m*\u001b[39;49m\u001b[43mkwargs\u001b[49m\u001b[43m)\u001b[49m\n",
      "File \u001b[0;32m~/Documents/Spotify/spotify_dashboard/lib/python3.9/site-packages/pandas/core/indexes/multi.py:590\u001b[0m, in \u001b[0;36mMultiIndex.from_tuples\u001b[0;34m(cls, tuples, sortorder, names)\u001b[0m\n\u001b[1;32m    588\u001b[0m         tuples \u001b[38;5;241m=\u001b[39m np\u001b[38;5;241m.\u001b[39masarray(tuples\u001b[38;5;241m.\u001b[39m_values)\n\u001b[0;32m--> 590\u001b[0m     arrays \u001b[38;5;241m=\u001b[39m \u001b[38;5;28mlist\u001b[39m(\u001b[43mlib\u001b[49m\u001b[38;5;241;43m.\u001b[39;49m\u001b[43mtuples_to_object_array\u001b[49m\u001b[43m(\u001b[49m\u001b[43mtuples\u001b[49m\u001b[43m)\u001b[49m\u001b[38;5;241m.\u001b[39mT)\n\u001b[1;32m    591\u001b[0m \u001b[38;5;28;01melif\u001b[39;00m \u001b[38;5;28misinstance\u001b[39m(tuples, \u001b[38;5;28mlist\u001b[39m):\n",
      "File \u001b[0;32m~/Documents/Spotify/spotify_dashboard/lib/python3.9/site-packages/pandas/_libs/lib.pyx:2894\u001b[0m, in \u001b[0;36mpandas._libs.lib.tuples_to_object_array\u001b[0;34m()\u001b[0m\n",
      "\u001b[0;31mValueError\u001b[0m: Buffer dtype mismatch, expected 'Python object' but got 'long'",
      "\nThe above exception was the direct cause of the following exception:\n",
      "\u001b[0;31mTypeError\u001b[0m                                 Traceback (most recent call last)",
      "\u001b[0;32m/var/folders/nz/r8sk6s0j5834grgx7jvks9wr0000gp/T/ipykernel_1940/3162742629.py\u001b[0m in \u001b[0;36m?\u001b[0;34m()\u001b[0m\n\u001b[0;32m----> 1\u001b[0;31m \u001b[0mday_mood_minutes\u001b[0m\u001b[0;34m[\u001b[0m\u001b[0;34m'Percentage'\u001b[0m\u001b[0;34m]\u001b[0m \u001b[0;34m=\u001b[0m \u001b[0mday_mood_minutes\u001b[0m\u001b[0;34m.\u001b[0m\u001b[0mgroupby\u001b[0m\u001b[0;34m(\u001b[0m\u001b[0;34m'predicted_mood'\u001b[0m\u001b[0;34m)\u001b[0m\u001b[0;34m[\u001b[0m\u001b[0;34m'Minutes Listened'\u001b[0m\u001b[0;34m]\u001b[0m\u001b[0;34m.\u001b[0m\u001b[0mapply\u001b[0m\u001b[0;34m(\u001b[0m\u001b[0;32mlambda\u001b[0m \u001b[0mx\u001b[0m\u001b[0;34m:\u001b[0m \u001b[0mx\u001b[0m \u001b[0;34m/\u001b[0m \u001b[0mx\u001b[0m\u001b[0;34m.\u001b[0m\u001b[0msum\u001b[0m\u001b[0;34m(\u001b[0m\u001b[0;34m)\u001b[0m \u001b[0;34m*\u001b[0m \u001b[0;36m100\u001b[0m\u001b[0;34m)\u001b[0m\u001b[0;34m\u001b[0m\u001b[0;34m\u001b[0m\u001b[0m\n\u001b[0m",
      "\u001b[0;32m~/Documents/Spotify/spotify_dashboard/lib/python3.9/site-packages/pandas/core/frame.py\u001b[0m in \u001b[0;36m?\u001b[0;34m(self, key, value)\u001b[0m\n\u001b[1;32m   3956\u001b[0m             \u001b[0;31m# Column to set is duplicated\u001b[0m\u001b[0;34m\u001b[0m\u001b[0;34m\u001b[0m\u001b[0m\n\u001b[1;32m   3957\u001b[0m             \u001b[0mself\u001b[0m\u001b[0;34m.\u001b[0m\u001b[0m_setitem_array\u001b[0m\u001b[0;34m(\u001b[0m\u001b[0;34m[\u001b[0m\u001b[0mkey\u001b[0m\u001b[0;34m]\u001b[0m\u001b[0;34m,\u001b[0m \u001b[0mvalue\u001b[0m\u001b[0;34m)\u001b[0m\u001b[0;34m\u001b[0m\u001b[0;34m\u001b[0m\u001b[0m\n\u001b[1;32m   3958\u001b[0m         \u001b[0;32melse\u001b[0m\u001b[0;34m:\u001b[0m\u001b[0;34m\u001b[0m\u001b[0;34m\u001b[0m\u001b[0m\n\u001b[1;32m   3959\u001b[0m             \u001b[0;31m# set column\u001b[0m\u001b[0;34m\u001b[0m\u001b[0;34m\u001b[0m\u001b[0m\n\u001b[0;32m-> 3960\u001b[0;31m             \u001b[0mself\u001b[0m\u001b[0;34m.\u001b[0m\u001b[0m_set_item\u001b[0m\u001b[0;34m(\u001b[0m\u001b[0mkey\u001b[0m\u001b[0;34m,\u001b[0m \u001b[0mvalue\u001b[0m\u001b[0;34m)\u001b[0m\u001b[0;34m\u001b[0m\u001b[0;34m\u001b[0m\u001b[0m\n\u001b[0m",
      "\u001b[0;32m~/Documents/Spotify/spotify_dashboard/lib/python3.9/site-packages/pandas/core/frame.py\u001b[0m in \u001b[0;36m?\u001b[0;34m(self, key, value)\u001b[0m\n\u001b[1;32m   4149\u001b[0m \u001b[0;34m\u001b[0m\u001b[0m\n\u001b[1;32m   4150\u001b[0m         \u001b[0mSeries\u001b[0m\u001b[0;34m/\u001b[0m\u001b[0mTimeSeries\u001b[0m \u001b[0mwill\u001b[0m \u001b[0mbe\u001b[0m \u001b[0mconformed\u001b[0m \u001b[0mto\u001b[0m \u001b[0mthe\u001b[0m \u001b[0mDataFrames\u001b[0m \u001b[0mindex\u001b[0m \u001b[0mto\u001b[0m\u001b[0;34m\u001b[0m\u001b[0;34m\u001b[0m\u001b[0m\n\u001b[1;32m   4151\u001b[0m         \u001b[0mensure\u001b[0m \u001b[0mhomogeneity\u001b[0m\u001b[0;34m.\u001b[0m\u001b[0;34m\u001b[0m\u001b[0;34m\u001b[0m\u001b[0m\n\u001b[1;32m   4152\u001b[0m         \"\"\"\n\u001b[0;32m-> 4153\u001b[0;31m         \u001b[0mvalue\u001b[0m \u001b[0;34m=\u001b[0m \u001b[0mself\u001b[0m\u001b[0;34m.\u001b[0m\u001b[0m_sanitize_column\u001b[0m\u001b[0;34m(\u001b[0m\u001b[0mvalue\u001b[0m\u001b[0;34m)\u001b[0m\u001b[0;34m\u001b[0m\u001b[0;34m\u001b[0m\u001b[0m\n\u001b[0m\u001b[1;32m   4154\u001b[0m \u001b[0;34m\u001b[0m\u001b[0m\n\u001b[1;32m   4155\u001b[0m         if (\n\u001b[1;32m   4156\u001b[0m             \u001b[0mkey\u001b[0m \u001b[0;32min\u001b[0m \u001b[0mself\u001b[0m\u001b[0;34m.\u001b[0m\u001b[0mcolumns\u001b[0m\u001b[0;34m\u001b[0m\u001b[0;34m\u001b[0m\u001b[0m\n",
      "\u001b[0;32m~/Documents/Spotify/spotify_dashboard/lib/python3.9/site-packages/pandas/core/frame.py\u001b[0m in \u001b[0;36m?\u001b[0;34m(self, value)\u001b[0m\n\u001b[1;32m   4873\u001b[0m         \u001b[0;31m# or through loc single_block_path\u001b[0m\u001b[0;34m\u001b[0m\u001b[0;34m\u001b[0m\u001b[0m\n\u001b[1;32m   4874\u001b[0m         \u001b[0;32mif\u001b[0m \u001b[0misinstance\u001b[0m\u001b[0;34m(\u001b[0m\u001b[0mvalue\u001b[0m\u001b[0;34m,\u001b[0m \u001b[0mDataFrame\u001b[0m\u001b[0;34m)\u001b[0m\u001b[0;34m:\u001b[0m\u001b[0;34m\u001b[0m\u001b[0;34m\u001b[0m\u001b[0m\n\u001b[1;32m   4875\u001b[0m             \u001b[0;32mreturn\u001b[0m \u001b[0m_reindex_for_setitem\u001b[0m\u001b[0;34m(\u001b[0m\u001b[0mvalue\u001b[0m\u001b[0;34m,\u001b[0m \u001b[0mself\u001b[0m\u001b[0;34m.\u001b[0m\u001b[0mindex\u001b[0m\u001b[0;34m)\u001b[0m\u001b[0;34m\u001b[0m\u001b[0;34m\u001b[0m\u001b[0m\n\u001b[1;32m   4876\u001b[0m         \u001b[0;32melif\u001b[0m \u001b[0mis_dict_like\u001b[0m\u001b[0;34m(\u001b[0m\u001b[0mvalue\u001b[0m\u001b[0;34m)\u001b[0m\u001b[0;34m:\u001b[0m\u001b[0;34m\u001b[0m\u001b[0;34m\u001b[0m\u001b[0m\n\u001b[0;32m-> 4877\u001b[0;31m             \u001b[0;32mreturn\u001b[0m \u001b[0m_reindex_for_setitem\u001b[0m\u001b[0;34m(\u001b[0m\u001b[0mSeries\u001b[0m\u001b[0;34m(\u001b[0m\u001b[0mvalue\u001b[0m\u001b[0;34m)\u001b[0m\u001b[0;34m,\u001b[0m \u001b[0mself\u001b[0m\u001b[0;34m.\u001b[0m\u001b[0mindex\u001b[0m\u001b[0;34m)\u001b[0m\u001b[0;34m\u001b[0m\u001b[0;34m\u001b[0m\u001b[0m\n\u001b[0m\u001b[1;32m   4878\u001b[0m \u001b[0;34m\u001b[0m\u001b[0m\n\u001b[1;32m   4879\u001b[0m         \u001b[0;32mif\u001b[0m \u001b[0mis_list_like\u001b[0m\u001b[0;34m(\u001b[0m\u001b[0mvalue\u001b[0m\u001b[0;34m)\u001b[0m\u001b[0;34m:\u001b[0m\u001b[0;34m\u001b[0m\u001b[0;34m\u001b[0m\u001b[0m\n\u001b[1;32m   4880\u001b[0m             \u001b[0mcom\u001b[0m\u001b[0;34m.\u001b[0m\u001b[0mrequire_length_match\u001b[0m\u001b[0;34m(\u001b[0m\u001b[0mvalue\u001b[0m\u001b[0;34m,\u001b[0m \u001b[0mself\u001b[0m\u001b[0;34m.\u001b[0m\u001b[0mindex\u001b[0m\u001b[0;34m)\u001b[0m\u001b[0;34m\u001b[0m\u001b[0;34m\u001b[0m\u001b[0m\n",
      "\u001b[0;32m~/Documents/Spotify/spotify_dashboard/lib/python3.9/site-packages/pandas/core/frame.py\u001b[0m in \u001b[0;36m?\u001b[0;34m(value, index)\u001b[0m\n\u001b[1;32m  11618\u001b[0m         \u001b[0;32mif\u001b[0m \u001b[0;32mnot\u001b[0m \u001b[0mvalue\u001b[0m\u001b[0;34m.\u001b[0m\u001b[0mindex\u001b[0m\u001b[0;34m.\u001b[0m\u001b[0mis_unique\u001b[0m\u001b[0;34m:\u001b[0m\u001b[0;34m\u001b[0m\u001b[0;34m\u001b[0m\u001b[0m\n\u001b[1;32m  11619\u001b[0m             \u001b[0;31m# duplicate axis\u001b[0m\u001b[0;34m\u001b[0m\u001b[0;34m\u001b[0m\u001b[0m\n\u001b[1;32m  11620\u001b[0m             \u001b[0;32mraise\u001b[0m \u001b[0merr\u001b[0m\u001b[0;34m\u001b[0m\u001b[0;34m\u001b[0m\u001b[0m\n\u001b[1;32m  11621\u001b[0m \u001b[0;34m\u001b[0m\u001b[0m\n\u001b[0;32m> 11622\u001b[0;31m         raise TypeError(\n\u001b[0m\u001b[1;32m  11623\u001b[0m             \u001b[0;34m\"incompatible index of inserted column with frame index\"\u001b[0m\u001b[0;34m\u001b[0m\u001b[0;34m\u001b[0m\u001b[0m\n\u001b[1;32m  11624\u001b[0m         ) from err\n\u001b[1;32m  11625\u001b[0m     \u001b[0;32mreturn\u001b[0m \u001b[0mreindexed_value\u001b[0m\u001b[0;34m\u001b[0m\u001b[0;34m\u001b[0m\u001b[0m\n",
      "\u001b[0;31mTypeError\u001b[0m: incompatible index of inserted column with frame index"
     ]
    }
   ],
   "source": [
    "total_minutes_per_day = day_mood_minutes.groupby('Day of Week')['Minutes Listened'].sum().reset_index()\n",
    "\n",
    "# Add a new column with the percentage of each mood on each day\n",
    "day_mood_minutes['Percentage'] = day_mood_minutes.groupby('Day of Week')['Minutes Listened'].apply(lambda x: x / x.sum() * 100)\n"
   ]
  },
  {
   "cell_type": "code",
   "execution_count": 236,
   "id": "557d60b6-99ed-4f08-bd38-9b4e7c0a6583",
   "metadata": {
    "tags": []
   },
   "outputs": [
    {
     "data": {
      "text/html": [
       "<iframe\n",
       "    scrolling=\"no\"\n",
       "    width=\"100%\"\n",
       "    height=\"545px\"\n",
       "    src=\"iframe_figures/figure_236.html\"\n",
       "    frameborder=\"0\"\n",
       "    allowfullscreen\n",
       "></iframe>\n"
      ]
     },
     "metadata": {},
     "output_type": "display_data"
    }
   ],
   "source": [
    "# Group the data by day of week and predicted mood, and calculate the total minutes for each group\n",
    "day_mood_minutes = time.groupby(['Day of Week', 'predicted_mood'])['Minutes Listened'].sum().reset_index()\n",
    "\n",
    "\n",
    "# Create a stacked bar chart to visualize the results\n",
    "stacked_bar = px.bar(day_mood_minutes, x='Day of Week', y='Minutes Listened', color='predicted_mood', \n",
    "                     category_orders={'Day of Week': ['Sunday', 'Monday', 'Tuesday', 'Wednesday', 'Thursday', 'Friday', 'Saturday']}, \n",
    "                     barmode='stack',\n",
    "                     # text = round(day_mood_minutes[''],0).astype(str) + '%' ,\n",
    "             color_discrete_map={\n",
    "                            'chill': titlecol,\n",
    "                            'upbeat': pre_defined_green,\n",
    "                            'sad': lightgray\n",
    "                        }\n",
    ")\n",
    "stacked_bar.update_layout(\n",
    "    title={\n",
    "        'text': \"MUSIC USAGE BY DAY AND MOOD\", \n",
    "        'x': 0.5, \n",
    "        'y': 0.95, \n",
    "        'xanchor': 'center',\n",
    "        'yanchor': 'top',\n",
    "        'font': {'color': 'white','family': 'Andale Mono', 'size':25}\n",
    "    },\n",
    "        xaxis_title=\"\", \n",
    "    yaxis_title=\"\",\n",
    "    showlegend=False,\n",
    "    plot_bgcolor=pre_defined_bgcolor,\n",
    "    paper_bgcolor=pre_defined_bgcolor,\n",
    "    font_color=titlecol,\n",
    "    yaxis_gridcolor=midgray,\n",
    "    # color_discrete_sequence=[titlecol, pre_defined_green, lightgray]\n",
    ")\n",
    "\n",
    "# stacked_bar.update_xaxes(range=[0, 100], showgrid=False, showticklabels=False)\n",
    "# stacked_bar.update_yaxes(showticklabels=False, showgrid=False)\n",
    "\n",
    "\n",
    "stacked_bar.show()\n"
   ]
  },
  {
   "cell_type": "code",
   "execution_count": null,
   "id": "e2548d87-3558-4e51-9384-365982926cd6",
   "metadata": {},
   "outputs": [],
   "source": []
  },
  {
   "cell_type": "code",
   "execution_count": 50,
   "id": "92e0089f-f749-49fd-967c-a6b80dd00f88",
   "metadata": {
    "tags": []
   },
   "outputs": [
    {
     "data": {
      "text/html": [
       "<iframe\n",
       "    scrolling=\"no\"\n",
       "    width=\"100%\"\n",
       "    height=\"545px\"\n",
       "    src=\"iframe_figures/figure_50.html\"\n",
       "    frameborder=\"0\"\n",
       "    allowfullscreen\n",
       "></iframe>\n"
      ]
     },
     "metadata": {},
     "output_type": "display_data"
    }
   ],
   "source": [
    "# Filter the rows where skipped is True and group by track name\n",
    "skipped_tracks = time[time['skipped'] == True].groupby('master_metadata_track_name').count()\n",
    "\n",
    "# Sort by the number of skips in descending order and select the top 10\n",
    "top_skipped_tracks = skipped_tracks.sort_values(by='skipped', ascending=True).tail(10)\n",
    "\n",
    "# Plot the top 10 skipped tracks using a horizontal bar chart\n",
    "skip = px.bar(top_skipped_tracks, x='skipped', y=top_skipped_tracks.index, orientation='h', color_discrete_sequence=[pre_defined_green])\n",
    "# Update the chart layout to remove the y-axis title\n",
    "skip.update_layout(yaxis_title='',\n",
    "                    xaxis_title = \"# of Times Skipped\",\n",
    "                      title={\n",
    "        'text': \"You must be SICK of these songs..\", \n",
    "        'x': 0.5, \n",
    "        'y': 0.95, \n",
    "        'xanchor': 'center',\n",
    "        'yanchor': 'top',\n",
    "        'font': {'color': titlecol,'family': 'Andale Mono', 'size':25}\n",
    "    },\n",
    "                  plot_bgcolor=pre_defined_bgcolor,\n",
    "                  paper_bgcolor=pre_defined_bgcolor,\n",
    "                  font_color=titlecol,\n",
    "                  xaxis_gridcolor=midgray\n",
    ")\n",
    "skip.show()\n"
   ]
  },
  {
   "cell_type": "code",
   "execution_count": 128,
   "id": "52f6d100-f5fe-435d-aeab-bf90913525c9",
   "metadata": {
    "tags": []
   },
   "outputs": [
    {
     "data": {
      "text/html": [
       "<iframe\n",
       "    scrolling=\"no\"\n",
       "    width=\"100%\"\n",
       "    height=\"545px\"\n",
       "    src=\"iframe_figures/figure_128.html\"\n",
       "    frameborder=\"0\"\n",
       "    allowfullscreen\n",
       "></iframe>\n"
      ]
     },
     "metadata": {},
     "output_type": "display_data"
    }
   ],
   "source": [
    "track_list_ms = time.groupby(['master_metadata_track_name'],as_index=False).sum('ms_played').sort_values('ms_played',ascending = False)\n",
    "\n",
    "#track_list_ms = pd.merge(track_list_ms, time[['master_metadata_track_name', 'master_metadata_album_artist_name','album','track_uri']].drop_duplicates(),how='inner',on=['track_uri'])\n",
    "\n",
    "track_list_ms['minutes'] = round(track_list_ms['ms_played']/60000,1)\n",
    "track_list_ms['hours'] = round(track_list_ms['minutes']/60,1)\n",
    "\n",
    "### most played songs\n",
    "top_10_tracks = track_list_ms.head(10)\n",
    "top_10_tracks\n",
    "#top_10_tracks[['trackName','artistName','msPlayed','minutes','hours']]\n",
    "\n",
    "# Sort the DataFrame by the 'minutes' column in descending order\n",
    "top_10_tracks = top_10_tracks.sort_values(by=\"minutes\", ascending=True)\n",
    "\n",
    "tracks = px.bar(top_10_tracks, x=\"minutes\", y=\"master_metadata_track_name\", orientation=\"h\", color_discrete_sequence=[pre_defined_green])\n",
    "\n",
    "# Set the chart title and axis labels\n",
    "tracks.update_layout(\n",
    "    title={\n",
    "        'text': \"TOP TRACKS\", \n",
    "        'x': 0.5, \n",
    "        'y': 0.95, \n",
    "        'xanchor': 'center',\n",
    "        'yanchor': 'top',\n",
    "        'font': {'color': titlecol,'family': 'Andale Mono', 'size':25}\n",
    "    },\n",
    "    xaxis_title=\"Minutes Played\",\n",
    "    yaxis_title=\"Song Title\",\n",
    "                  plot_bgcolor=pre_defined_bgcolor,\n",
    "                  paper_bgcolor=pre_defined_bgcolor,\n",
    "                  font_color=titlecol,\n",
    "                  xaxis_gridcolor=midgray\n",
    ")\n",
    "tracks.show()"
   ]
  },
  {
   "cell_type": "code",
   "execution_count": 52,
   "id": "6de97ff0-a963-4db0-a2cd-23a2de4aeaf2",
   "metadata": {
    "tags": []
   },
   "outputs": [
    {
     "data": {
      "text/html": [
       "<iframe\n",
       "    scrolling=\"no\"\n",
       "    width=\"100%\"\n",
       "    height=\"545px\"\n",
       "    src=\"iframe_figures/figure_52.html\"\n",
       "    frameborder=\"0\"\n",
       "    allowfullscreen\n",
       "></iframe>\n"
      ]
     },
     "metadata": {},
     "output_type": "display_data"
    }
   ],
   "source": [
    "genre = pd.read_csv(\"https://raw.githubusercontent.com/lphan1812/spotify-project/main/franklin_6mo_genres.csv\")\n",
    "genre\n",
    "top_genres = genre.groupby('genres').size().reset_index(name='count').sort_values('count',ascending=False)\n",
    "top_genres = top_genres.loc[top_genres['genres'] != 'singer-songwriter']\n",
    "\n",
    "top_genres.head(10)\n",
    "\n",
    "genres = px.bar(top_genres.head(10), x='genres', y='count', color_discrete_sequence=[pre_defined_green])\n",
    "genres.update_layout(\n",
    "                title={\n",
    "                        'text': \"TOP GENRES\", \n",
    "                        'x': 0.5, \n",
    "                        'y': 0.95, \n",
    "                        'xanchor': 'center',\n",
    "                        'yanchor': 'top',\n",
    "                        'font': {'color': titlecol,'family': 'Andale Mono', 'size':25}\n",
    "                    },\n",
    "                  xaxis_title=\"\",\n",
    "                  yaxis_title=\"\",\n",
    "                  plot_bgcolor=pre_defined_bgcolor,\n",
    "                  paper_bgcolor=pre_defined_bgcolor,\n",
    "                  font_color=titlecol,\n",
    "                  yaxis_gridcolor=midgray\n",
    ")\n",
    "genres.show()"
   ]
  },
  {
   "cell_type": "markdown",
   "id": "59c448dd-0198-42cf-a243-51a0ce73c3da",
   "metadata": {},
   "source": [
    "## Adding everything to Dashboard"
   ]
  },
  {
   "cell_type": "code",
   "execution_count": 53,
   "id": "7220e9d9-c3d5-4e4a-9fa7-de830c08743e",
   "metadata": {
    "tags": []
   },
   "outputs": [],
   "source": [
    "spotify_logo = \"https://storage.googleapis.com/pr-newsroom-wp/1/2018/11/Spotify_Logo_RGB_Green.png\""
   ]
  },
  {
   "cell_type": "code",
   "execution_count": 54,
   "id": "114d8d15-f632-4f6f-8b7b-7560557bdb0e",
   "metadata": {
    "tags": []
   },
   "outputs": [],
   "source": [
    "spotify_logo_black = 'https://storage.googleapis.com/pr-newsroom-wp/1/2018/11/Spotify_Logo_RGB_Black.png'"
   ]
  },
  {
   "cell_type": "markdown",
   "id": "556d62dc-f5c2-47e1-964f-44d0aa2829a2",
   "metadata": {},
   "source": [
    "### Sidebar content"
   ]
  },
  {
   "cell_type": "code",
   "execution_count": 55,
   "id": "100d03fb-d62d-44fb-913d-a1aa3991c1a3",
   "metadata": {
    "tags": []
   },
   "outputs": [
    {
     "data": {
      "text/html": [
       "<div>\n",
       "<style scoped>\n",
       "    .dataframe tbody tr th:only-of-type {\n",
       "        vertical-align: middle;\n",
       "    }\n",
       "\n",
       "    .dataframe tbody tr th {\n",
       "        vertical-align: top;\n",
       "    }\n",
       "\n",
       "    .dataframe thead th {\n",
       "        text-align: right;\n",
       "    }\n",
       "</style>\n",
       "<table border=\"1\" class=\"dataframe\">\n",
       "  <thead>\n",
       "    <tr style=\"text-align: right;\">\n",
       "      <th></th>\n",
       "      <th>Vibe</th>\n",
       "      <th>Value</th>\n",
       "      <th>x</th>\n",
       "    </tr>\n",
       "  </thead>\n",
       "  <tbody>\n",
       "    <tr>\n",
       "      <th>0</th>\n",
       "      <td>Chill</td>\n",
       "      <td>46</td>\n",
       "      <td>Vibe</td>\n",
       "    </tr>\n",
       "    <tr>\n",
       "      <th>2</th>\n",
       "      <td>Sad</td>\n",
       "      <td>28</td>\n",
       "      <td>Vibe</td>\n",
       "    </tr>\n",
       "    <tr>\n",
       "      <th>1</th>\n",
       "      <td>Upbeat</td>\n",
       "      <td>26</td>\n",
       "      <td>Vibe</td>\n",
       "    </tr>\n",
       "  </tbody>\n",
       "</table>\n",
       "</div>"
      ],
      "text/plain": [
       "     Vibe  Value     x\n",
       "0   Chill     46  Vibe\n",
       "2     Sad     28  Vibe\n",
       "1  Upbeat     26  Vibe"
      ]
     },
     "execution_count": 55,
     "metadata": {},
     "output_type": "execute_result"
    }
   ],
   "source": [
    "vibes = ['Chill', 'Upbeat', 'Sad']\n",
    "values = [chill_per, upbeat_per, sad_per]\n",
    "\n",
    "vibe_df = pd.DataFrame({'Vibe': vibes, 'Value': values}).sort_values(by='Value', ascending = False)\n",
    "vibe_df['x']=\"Vibe\"\n",
    "vibe_df"
   ]
  },
  {
   "cell_type": "code",
   "execution_count": 205,
   "id": "6be4cd12-f240-4a13-b195-1ea95de4f83f",
   "metadata": {
    "tags": []
   },
   "outputs": [
    {
     "data": {
      "text/html": [
       "<iframe\n",
       "    scrolling=\"no\"\n",
       "    width=\"320px\"\n",
       "    height=\"170\"\n",
       "    src=\"iframe_figures/figure_205.html\"\n",
       "    frameborder=\"0\"\n",
       "    allowfullscreen\n",
       "></iframe>\n"
      ]
     },
     "metadata": {},
     "output_type": "display_data"
    }
   ],
   "source": [
    "\n",
    "# vibe_df = px.data.tips()\n",
    "vibe_breakdown = px.bar(vibe_df, x=\"Value\", y=\"x\", color='Vibe', orientation='h',\n",
    "             \n",
    "             # hover_data=[\"tip\", \"size\"],\n",
    "             height=150,\n",
    "                        width = 300,\n",
    "             # title='Your Vibe',\n",
    "            barmode='stack',\n",
    "             color_discrete_map={\n",
    "                            'Chill': titlecol,\n",
    "                            'Upbeat': pre_defined_green,\n",
    "                            'Sad': lightgray\n",
    "                        },text=vibe_df['Value'].astype(str) + '%' + \" \" + vibe_df['Vibe'].astype(str)\n",
    "                        # ,\n",
    "            )\n",
    "# vibe_breakdown.update_layout(legend=dict(        title='Your Vibe Breakdown',\n",
    "#         title_font=dict(color=pre_defined_green),\n",
    "        # font=dict(color=pre_defined_green),orientation='h', yanchor='top', y=1.02, xanchor='right', x=1))\n",
    "vibe_breakdown.update_layout(\n",
    "    paper_bgcolor=pre_defined_bgcolor, margin = dict(l=0,r=5,t=60,b=0),\n",
    "    xaxis_title=\"\", \n",
    "    yaxis_title=\"\",\n",
    "    showlegend=False,\n",
    "    plot_bgcolor=pre_defined_bgcolor,\n",
    "    title={\n",
    "        'text': \"You're..\", \n",
    "        'x': 0.5, \n",
    "        'y': 0.8, \n",
    "        'xanchor': 'center',\n",
    "        'yanchor': 'top',\n",
    "        'font': {'color': titlecol,'family': 'Andale Mono', 'size':25}\n",
    "    },\n",
    ")\n",
    "\n",
    "vibe_breakdown.update_xaxes(range=[0, 100], showgrid=False, showticklabels=False)\n",
    "vibe_breakdown.update_yaxes(showticklabels=False, showgrid=False)\n",
    "vibe_breakdown.update_traces(\n",
    "    marker=dict(line=dict(color=lightgray, width=2)),\n",
    "    textposition='inside', \n",
    "    textfont=dict(color=darkgray, size=20)\n",
    ")\n",
    "\n",
    "vibe_breakdown.show()"
   ]
  },
  {
   "cell_type": "code",
   "execution_count": 147,
   "id": "79f583b6-4fa3-420c-8aea-fc6203ab026a",
   "metadata": {
    "tags": []
   },
   "outputs": [
    {
     "name": "stderr",
     "output_type": "stream",
     "text": [
      "WARNING:param.FastListTemplate01248: Setting non-parameter attribute sizing_mode=stretch_both using a mechanism intended only for parameters\n"
     ]
    },
    {
     "name": "stdout",
     "output_type": "stream",
     "text": [
      "Launching server at http://localhost:53066\n"
     ]
    }
   ],
   "source": [
    "#Layout using Template\n",
    "# vibe_breakdown_col = pn.Column(\n",
    "#     pn.pane.Markdown(\"### Your Vibe Breakdown\"),\n",
    "#     vibe_breakdown,\n",
    "#     sizing_mode='stretch_both')\n",
    "\n",
    "testdash2 = pn.template.FastListTemplate(\n",
    "    logo = spotify_logo_black,\n",
    "    title= \"YOUR FAVORITE BURRITO...YOU KNOW..LIKE A WRAP (NO PUN INTENDED..HAHA)\", \n",
    "    sidebar=[punchline, \n",
    "             pn.pane.PNG(image_file, sizing_mode='scale_width'),\n",
    "             vibe_breakdown,\n",
    "             pn.pane.Markdown(\"## ..what's more\",style=style),\n",
    "             basic,\n",
    "             pn.pane.Markdown(\"## But most importantly, how compatible are your to Barb and Linh?\",style=style),\n",
    "             # co2_table.panel(width=500)\n",
    "            ],\n",
    "    main=[\n",
    "        pn.Row(pn.Column(\n",
    "                           tracks),\n",
    "                 # pn.Column(pn.Row(\n",
    "                 #           pn.pane.Markdown(\"## Minutes listened\")),\n",
    "                 #     pn.Row(pn.pane.Markdown(\"## 60,000\"))),\n",
    "                 pn.Column(\n",
    "                           genres),\n",
    "               pn.pane.Markdown(\"## In the past XXX months you listened to blah blah \", sizing_mode='stretch_both',background = pre_defined_bgcolor),\n",
    "              #                   pn.Column(pn.Row(\n",
    "              #              pn.pane.Markdown(\"## Minutes listened\")),\n",
    "              #        pn.Row(pn.pane.Markdown(\"## 60,000\"))\n",
    "              # ),\n",
    "               sizing_mode ='stretch_both', background = pre_defined_bgcolor ), \n",
    "        pn.Row(pn.Column(artist_chart),\n",
    "               pn.Column(skip)),   \n",
    "          pn.Row(pn.Column(radarchart), \n",
    "                 pn.Column(dayofweek),\n",
    "                 # pn.Column(dayofweek),\n",
    "                 sizing_mode ='stretch_both')\n",
    "],\n",
    "    accent_base_color=pre_defined_bgcolor,\n",
    "    shadow = False,\n",
    "    # background_color ='#191414',\n",
    "    background_color = pre_defined_bgcolor,\n",
    "    header_background=pre_defined_green,\n",
    "    sizing_mode ='stretch_both'\n",
    "\n",
    ")\n",
    "# template.show()\n",
    "testdash2.show();"
   ]
  },
  {
   "cell_type": "code",
   "execution_count": null,
   "id": "bf882ae1-3819-43fc-a2aa-b31422cdfb3c",
   "metadata": {},
   "outputs": [],
   "source": []
  }
 ],
 "metadata": {
  "kernelspec": {
   "display_name": "Python 3 (ipykernel)",
   "language": "python",
   "name": "python3"
  },
  "language_info": {
   "codemirror_mode": {
    "name": "ipython",
    "version": 3
   },
   "file_extension": ".py",
   "mimetype": "text/x-python",
   "name": "python",
   "nbconvert_exporter": "python",
   "pygments_lexer": "ipython3",
   "version": "3.9.13"
  }
 },
 "nbformat": 4,
 "nbformat_minor": 5
}
