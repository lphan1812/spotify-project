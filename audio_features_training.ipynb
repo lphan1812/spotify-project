{
 "cells": [
  {
   "cell_type": "markdown",
   "metadata": {},
   "source": [
    "### danceability\n",
    "\n",
    "Danceability describes how suitable a track is for dancing based on a combination of musical elements including tempo, rhythm stability, beat strength, and overall regularity. A value of 0.0 is least danceable and 1.0 is most danceable.\n",
    "\n",
    "### energy\n",
    "\n",
    "Energy is a measure from 0.0 to 1.0 and represents a perceptual measure of intensity and activity. Typically, energetic tracks feel fast, loud, and noisy. For example, death metal has high energy, while a Bach prelude scores low on the scale. Perceptual features contributing to this attribute include dynamic range, perceived loudness, timbre, onset rate, and general entropy.\n",
    "\n",
    "### loudness\n",
    "\n",
    "The overall loudness of a track in decibels (dB). Loudness values are averaged across the entire track and are useful for comparing relative loudness of tracks. Loudness is the quality of a sound that is the primary psychological correlate of physical strength (amplitude). Values typically range between -60 and 0 db.\n",
    "\n",
    "### valence\n",
    "\n",
    "A measure from 0.0 to 1.0 describing the musical positiveness conveyed by a track. Tracks with high valence sound more positive (e.g. happy, cheerful, euphoric), while tracks with low valence sound more negative (e.g. sad, depressed, angry).\n",
    "\n",
    "### speechiness\n",
    "\n",
    "Speechiness detects the presence of spoken words in a track. The more exclusively speech-like the recording (e.g. talk show, audio book, poetry), the closer to 1.0 the attribute value. Values above 0.66 describe tracks that are probably made entirely of spoken words. Values between 0.33 and 0.66 describe tracks that may contain both music and speech, either in sections or layered, including such cases as rap music. Values below 0.33 most likely represent music and other non-speech-like tracks."
   ]
  },
  {
   "cell_type": "code",
   "execution_count": null,
   "metadata": {},
   "outputs": [],
   "source": [
    "# get a list of playlists containing different moods for training for personality \n"
   ]
  },
  {
   "cell_type": "code",
   "execution_count": 1,
   "metadata": {},
   "outputs": [],
   "source": [
    "import pandas as pd\n",
    "import numpy as np\n",
    "import requests\n",
    "import spotipy\n",
    "from spotipy.oauth2 import SpotifyClientCredentials\n"
   ]
  },
  {
   "cell_type": "code",
   "execution_count": 2,
   "metadata": {},
   "outputs": [],
   "source": [
    "# save your IDs from new project in Spotify Developer Dashboard\n",
    "CLIENT_ID = '08923f56c32e46c1ae4b4ff05260b76f'\n",
    "CLIENT_SECRET = '226fd5b07d874db0a61e720c750d646c'\n",
    "# generate access token\n",
    "\n",
    "# authentication URL\n",
    "AUTH_URL = 'https://accounts.spotify.com/api/token'\n",
    "\n",
    "# POST\n",
    "auth_response = requests.post(AUTH_URL, {\n",
    "    'grant_type': 'client_credentials',\n",
    "    'client_id': CLIENT_ID,\n",
    "    'client_secret': CLIENT_SECRET,\n",
    "})\n",
    "\n",
    "# convert the response to JSON\n",
    "auth_response_data = auth_response.json()\n",
    "\n",
    "# save the access token\n",
    "access_token = auth_response_data['access_token']\n",
    "\n",
    "# used for authenticating all API calls\n",
    "headers = {'Authorization': 'Bearer {token}'.format(token=access_token)}\n",
    "\n",
    "# base URL of all Spotify API endpoints\n",
    "BASE_URL = 'https://api.spotify.com/v1/'"
   ]
  },
  {
   "cell_type": "code",
   "execution_count": null,
   "metadata": {},
   "outputs": [],
   "source": [
    "#pip install spotipy --upgrade -q"
   ]
  },
  {
   "cell_type": "code",
   "execution_count": 3,
   "metadata": {},
   "outputs": [],
   "source": [
    "\n",
    "#!pip install spotipy --upgrade -q\n",
    "\n",
    "client_credentials_manager = SpotifyClientCredentials(client_id=CLIENT_ID, client_secret=CLIENT_SECRET)\n",
    "sp = spotipy.Spotify(client_credentials_manager = client_credentials_manager)\n",
    "def call_playlist(creator_id, playlist_url, limit, offset):\n",
    "    # NOTE: use playlist_url instead of playlist_id. playlist_id doesn't accept limit and offset parameters for some reason?\n",
    "    \n",
    "    # create an empty list and an empty df\n",
    "    playlist_features_list = ['artist', 'album', 'track_name', 'track_id', 'danceability', 'energy', 'key', 'loudness', 'mode', \n",
    "                              'speechiness', 'instrumentalness', 'liveness', 'valence', 'tempo', 'duration_ms', 'time_signature', 'acousticness']\n",
    "    playlist_df = pd.DataFrame(columns = playlist_features_list)\n",
    "    \n",
    "    # loop through the specified playlist and extract wanted features\n",
    "    playlist = sp.user_playlist_tracks(creator_id, playlist_url, limit=limit, offset=offset)[\"items\"]\n",
    "    for track in playlist:\n",
    "\n",
    "        # create empty dict\n",
    "        playlist_features = {}\n",
    "\n",
    "        # get metadata\n",
    "        playlist_features['artist'] = track['track']['album']['artists'][0]['name']\n",
    "        playlist_features['album'] = track['track']['album']['name']\n",
    "        playlist_features[\"track_name\"] = track[\"track\"][\"name\"]\n",
    "        playlist_features[\"track_id\"] = track[\"track\"][\"id\"]\n",
    "        # playlist_features[\"explicit\"] = track[\"track\"][\"explicit\"]\n",
    "        playlist_features[\"popularity\"] = track[\"track\"][\"popularity\"]\n",
    "        playlist_features[\"album_release_date\"] = track[\"track\"][\"album\"][\"release_date\"]\n",
    "        playlist_features[\"duration_ms\"] = track[\"track\"][\"duration_ms\"]\n",
    "        # playlist_features['added_by'] = track[\"added_by\"][\"id\"]\n",
    "        # playlist_features['added_at'] = track[\"added_at\"]\n",
    "        \n",
    "        # get audio features\n",
    "        audio_features = sp.audio_features(playlist_features[\"track_id\"])[0]\n",
    "        for feature in playlist_features_list[4:]:\n",
    "            playlist_features[feature] = audio_features[feature]\n",
    "        \n",
    "        # concat dfs\n",
    "        track_df = pd.DataFrame(playlist_features, index = [0])\n",
    "        playlist_df = pd.concat([playlist_df, track_df], ignore_index = True)\n",
    "\n",
    "    # return df\n",
    "    return playlist_df\n"
   ]
  },
  {
   "cell_type": "code",
   "execution_count": 4,
   "metadata": {},
   "outputs": [],
   "source": [
    "from sklearn import preprocessing\n",
    "scaler = preprocessing.MinMaxScaler()\n"
   ]
  },
  {
   "cell_type": "code",
   "execution_count": 5,
   "metadata": {},
   "outputs": [
    {
     "name": "stderr",
     "output_type": "stream",
     "text": [
      "Couldn't write token to cache at: .cache\n",
      "Couldn't write token to cache at: .cache\n",
      "Couldn't write token to cache at: .cache\n",
      "Couldn't write token to cache at: .cache\n",
      "Couldn't write token to cache at: .cache\n",
      "Couldn't write token to cache at: .cache\n",
      "Couldn't write token to cache at: .cache\n",
      "Couldn't write token to cache at: .cache\n",
      "Couldn't write token to cache at: .cache\n",
      "Couldn't write token to cache at: .cache\n",
      "Couldn't write token to cache at: .cache\n",
      "Couldn't write token to cache at: .cache\n",
      "Couldn't write token to cache at: .cache\n",
      "Couldn't write token to cache at: .cache\n",
      "Couldn't write token to cache at: .cache\n",
      "Couldn't write token to cache at: .cache\n",
      "Couldn't write token to cache at: .cache\n",
      "Couldn't write token to cache at: .cache\n",
      "Couldn't write token to cache at: .cache\n",
      "Couldn't write token to cache at: .cache\n",
      "Couldn't write token to cache at: .cache\n",
      "Couldn't write token to cache at: .cache\n",
      "Couldn't write token to cache at: .cache\n",
      "Couldn't write token to cache at: .cache\n",
      "Couldn't write token to cache at: .cache\n",
      "Couldn't write token to cache at: .cache\n",
      "Couldn't write token to cache at: .cache\n",
      "Couldn't write token to cache at: .cache\n",
      "Couldn't write token to cache at: .cache\n",
      "Couldn't write token to cache at: .cache\n",
      "Couldn't write token to cache at: .cache\n",
      "Couldn't write token to cache at: .cache\n",
      "Couldn't write token to cache at: .cache\n",
      "Couldn't write token to cache at: .cache\n",
      "Couldn't write token to cache at: .cache\n",
      "Couldn't write token to cache at: .cache\n",
      "Couldn't write token to cache at: .cache\n",
      "Couldn't write token to cache at: .cache\n",
      "Couldn't write token to cache at: .cache\n",
      "Couldn't write token to cache at: .cache\n",
      "Couldn't write token to cache at: .cache\n",
      "Couldn't write token to cache at: .cache\n",
      "Couldn't write token to cache at: .cache\n",
      "Couldn't write token to cache at: .cache\n",
      "Couldn't write token to cache at: .cache\n",
      "Couldn't write token to cache at: .cache\n",
      "Couldn't write token to cache at: .cache\n",
      "Couldn't write token to cache at: .cache\n",
      "Couldn't write token to cache at: .cache\n",
      "Couldn't write token to cache at: .cache\n",
      "Couldn't write token to cache at: .cache\n",
      "Couldn't write token to cache at: .cache\n",
      "Couldn't write token to cache at: .cache\n",
      "Couldn't write token to cache at: .cache\n",
      "Couldn't write token to cache at: .cache\n",
      "Couldn't write token to cache at: .cache\n",
      "Couldn't write token to cache at: .cache\n",
      "Couldn't write token to cache at: .cache\n",
      "Couldn't write token to cache at: .cache\n",
      "Couldn't write token to cache at: .cache\n",
      "Couldn't write token to cache at: .cache\n",
      "Couldn't write token to cache at: .cache\n",
      "Couldn't write token to cache at: .cache\n",
      "Couldn't write token to cache at: .cache\n",
      "Couldn't write token to cache at: .cache\n",
      "Couldn't write token to cache at: .cache\n",
      "Couldn't write token to cache at: .cache\n",
      "Couldn't write token to cache at: .cache\n",
      "Couldn't write token to cache at: .cache\n",
      "Couldn't write token to cache at: .cache\n",
      "Couldn't write token to cache at: .cache\n",
      "Couldn't write token to cache at: .cache\n",
      "Couldn't write token to cache at: .cache\n",
      "Couldn't write token to cache at: .cache\n",
      "Couldn't write token to cache at: .cache\n",
      "Couldn't write token to cache at: .cache\n",
      "Couldn't write token to cache at: .cache\n",
      "Couldn't write token to cache at: .cache\n",
      "Couldn't write token to cache at: .cache\n",
      "Couldn't write token to cache at: .cache\n",
      "Couldn't write token to cache at: .cache\n",
      "Couldn't write token to cache at: .cache\n",
      "Couldn't write token to cache at: .cache\n",
      "Couldn't write token to cache at: .cache\n",
      "Couldn't write token to cache at: .cache\n",
      "Couldn't write token to cache at: .cache\n",
      "Couldn't write token to cache at: .cache\n",
      "Couldn't write token to cache at: .cache\n",
      "Couldn't write token to cache at: .cache\n",
      "Couldn't write token to cache at: .cache\n",
      "Couldn't write token to cache at: .cache\n",
      "Couldn't write token to cache at: .cache\n",
      "Couldn't write token to cache at: .cache\n",
      "Couldn't write token to cache at: .cache\n",
      "Couldn't write token to cache at: .cache\n",
      "Couldn't write token to cache at: .cache\n",
      "Couldn't write token to cache at: .cache\n",
      "Couldn't write token to cache at: .cache\n",
      "Couldn't write token to cache at: .cache\n",
      "Couldn't write token to cache at: .cache\n",
      "Couldn't write token to cache at: .cache\n",
      "Couldn't write token to cache at: .cache\n",
      "Couldn't write token to cache at: .cache\n",
      "Couldn't write token to cache at: .cache\n",
      "Couldn't write token to cache at: .cache\n",
      "Couldn't write token to cache at: .cache\n",
      "Couldn't write token to cache at: .cache\n",
      "Couldn't write token to cache at: .cache\n",
      "Couldn't write token to cache at: .cache\n",
      "Couldn't write token to cache at: .cache\n",
      "Couldn't write token to cache at: .cache\n",
      "Couldn't write token to cache at: .cache\n",
      "Couldn't write token to cache at: .cache\n",
      "Couldn't write token to cache at: .cache\n",
      "Couldn't write token to cache at: .cache\n",
      "Couldn't write token to cache at: .cache\n",
      "Couldn't write token to cache at: .cache\n",
      "Couldn't write token to cache at: .cache\n",
      "Couldn't write token to cache at: .cache\n",
      "Couldn't write token to cache at: .cache\n",
      "Couldn't write token to cache at: .cache\n",
      "Couldn't write token to cache at: .cache\n",
      "Couldn't write token to cache at: .cache\n",
      "Couldn't write token to cache at: .cache\n",
      "Couldn't write token to cache at: .cache\n",
      "Couldn't write token to cache at: .cache\n",
      "Couldn't write token to cache at: .cache\n",
      "Couldn't write token to cache at: .cache\n",
      "Couldn't write token to cache at: .cache\n",
      "Couldn't write token to cache at: .cache\n",
      "Couldn't write token to cache at: .cache\n",
      "Couldn't write token to cache at: .cache\n",
      "Couldn't write token to cache at: .cache\n",
      "Couldn't write token to cache at: .cache\n",
      "Couldn't write token to cache at: .cache\n",
      "Couldn't write token to cache at: .cache\n",
      "Couldn't write token to cache at: .cache\n",
      "Couldn't write token to cache at: .cache\n",
      "Couldn't write token to cache at: .cache\n",
      "Couldn't write token to cache at: .cache\n",
      "Couldn't write token to cache at: .cache\n",
      "Couldn't write token to cache at: .cache\n",
      "Couldn't write token to cache at: .cache\n",
      "Couldn't write token to cache at: .cache\n",
      "Couldn't write token to cache at: .cache\n",
      "Couldn't write token to cache at: .cache\n",
      "Couldn't write token to cache at: .cache\n",
      "Couldn't write token to cache at: .cache\n",
      "Couldn't write token to cache at: .cache\n",
      "Couldn't write token to cache at: .cache\n",
      "Couldn't write token to cache at: .cache\n",
      "Couldn't write token to cache at: .cache\n",
      "Couldn't write token to cache at: .cache\n",
      "Couldn't write token to cache at: .cache\n",
      "Couldn't write token to cache at: .cache\n",
      "Couldn't write token to cache at: .cache\n",
      "Couldn't write token to cache at: .cache\n",
      "Couldn't write token to cache at: .cache\n",
      "Couldn't write token to cache at: .cache\n",
      "Couldn't write token to cache at: .cache\n",
      "Couldn't write token to cache at: .cache\n",
      "Couldn't write token to cache at: .cache\n",
      "Couldn't write token to cache at: .cache\n",
      "Couldn't write token to cache at: .cache\n",
      "Couldn't write token to cache at: .cache\n",
      "Couldn't write token to cache at: .cache\n",
      "Couldn't write token to cache at: .cache\n",
      "Couldn't write token to cache at: .cache\n",
      "Couldn't write token to cache at: .cache\n",
      "Couldn't write token to cache at: .cache\n",
      "Couldn't write token to cache at: .cache\n",
      "Couldn't write token to cache at: .cache\n",
      "Couldn't write token to cache at: .cache\n",
      "Couldn't write token to cache at: .cache\n",
      "Couldn't write token to cache at: .cache\n",
      "Couldn't write token to cache at: .cache\n",
      "Couldn't write token to cache at: .cache\n",
      "Couldn't write token to cache at: .cache\n",
      "Couldn't write token to cache at: .cache\n",
      "Couldn't write token to cache at: .cache\n",
      "Couldn't write token to cache at: .cache\n",
      "Couldn't write token to cache at: .cache\n",
      "Couldn't write token to cache at: .cache\n",
      "Couldn't write token to cache at: .cache\n",
      "Couldn't write token to cache at: .cache\n",
      "Couldn't write token to cache at: .cache\n",
      "Couldn't write token to cache at: .cache\n",
      "Couldn't write token to cache at: .cache\n",
      "Couldn't write token to cache at: .cache\n",
      "Couldn't write token to cache at: .cache\n",
      "Couldn't write token to cache at: .cache\n",
      "Couldn't write token to cache at: .cache\n",
      "Couldn't write token to cache at: .cache\n",
      "Couldn't write token to cache at: .cache\n",
      "Couldn't write token to cache at: .cache\n",
      "Couldn't write token to cache at: .cache\n",
      "Couldn't write token to cache at: .cache\n",
      "Couldn't write token to cache at: .cache\n",
      "Couldn't write token to cache at: .cache\n",
      "Couldn't write token to cache at: .cache\n",
      "Couldn't write token to cache at: .cache\n",
      "Couldn't write token to cache at: .cache\n",
      "Couldn't write token to cache at: .cache\n",
      "Couldn't write token to cache at: .cache\n",
      "Couldn't write token to cache at: .cache\n",
      "Couldn't write token to cache at: .cache\n",
      "Couldn't write token to cache at: .cache\n",
      "Couldn't write token to cache at: .cache\n",
      "Couldn't write token to cache at: .cache\n",
      "Couldn't write token to cache at: .cache\n",
      "Couldn't write token to cache at: .cache\n",
      "Couldn't write token to cache at: .cache\n",
      "Couldn't write token to cache at: .cache\n",
      "Couldn't write token to cache at: .cache\n",
      "Couldn't write token to cache at: .cache\n",
      "Couldn't write token to cache at: .cache\n",
      "Couldn't write token to cache at: .cache\n",
      "Couldn't write token to cache at: .cache\n",
      "Couldn't write token to cache at: .cache\n",
      "Couldn't write token to cache at: .cache\n",
      "Couldn't write token to cache at: .cache\n",
      "Couldn't write token to cache at: .cache\n",
      "Couldn't write token to cache at: .cache\n",
      "Couldn't write token to cache at: .cache\n",
      "Couldn't write token to cache at: .cache\n",
      "Couldn't write token to cache at: .cache\n",
      "Couldn't write token to cache at: .cache\n",
      "Couldn't write token to cache at: .cache\n",
      "Couldn't write token to cache at: .cache\n",
      "Couldn't write token to cache at: .cache\n",
      "Couldn't write token to cache at: .cache\n",
      "Couldn't write token to cache at: .cache\n",
      "Couldn't write token to cache at: .cache\n",
      "Couldn't write token to cache at: .cache\n",
      "Couldn't write token to cache at: .cache\n",
      "Couldn't write token to cache at: .cache\n",
      "Couldn't write token to cache at: .cache\n",
      "Couldn't write token to cache at: .cache\n",
      "Couldn't write token to cache at: .cache\n",
      "Couldn't write token to cache at: .cache\n",
      "Couldn't write token to cache at: .cache\n",
      "Couldn't write token to cache at: .cache\n",
      "Couldn't write token to cache at: .cache\n",
      "Couldn't write token to cache at: .cache\n",
      "Couldn't write token to cache at: .cache\n",
      "Couldn't write token to cache at: .cache\n",
      "Couldn't write token to cache at: .cache\n",
      "Couldn't write token to cache at: .cache\n",
      "Couldn't write token to cache at: .cache\n",
      "Couldn't write token to cache at: .cache\n",
      "Couldn't write token to cache at: .cache\n",
      "Couldn't write token to cache at: .cache\n",
      "Couldn't write token to cache at: .cache\n",
      "Couldn't write token to cache at: .cache\n",
      "Couldn't write token to cache at: .cache\n",
      "Couldn't write token to cache at: .cache\n",
      "Couldn't write token to cache at: .cache\n",
      "Couldn't write token to cache at: .cache\n",
      "Couldn't write token to cache at: .cache\n",
      "Couldn't write token to cache at: .cache\n",
      "Couldn't write token to cache at: .cache\n",
      "Couldn't write token to cache at: .cache\n",
      "Couldn't write token to cache at: .cache\n",
      "Couldn't write token to cache at: .cache\n",
      "Couldn't write token to cache at: .cache\n",
      "Couldn't write token to cache at: .cache\n",
      "Couldn't write token to cache at: .cache\n",
      "Couldn't write token to cache at: .cache\n",
      "Couldn't write token to cache at: .cache\n",
      "Couldn't write token to cache at: .cache\n",
      "Couldn't write token to cache at: .cache\n",
      "Couldn't write token to cache at: .cache\n",
      "Couldn't write token to cache at: .cache\n",
      "Couldn't write token to cache at: .cache\n",
      "Couldn't write token to cache at: .cache\n",
      "Couldn't write token to cache at: .cache\n",
      "Couldn't write token to cache at: .cache\n",
      "Couldn't write token to cache at: .cache\n",
      "Couldn't write token to cache at: .cache\n",
      "Couldn't write token to cache at: .cache\n",
      "Couldn't write token to cache at: .cache\n",
      "Couldn't write token to cache at: .cache\n",
      "Couldn't write token to cache at: .cache\n",
      "Couldn't write token to cache at: .cache\n",
      "Couldn't write token to cache at: .cache\n",
      "Couldn't write token to cache at: .cache\n",
      "Couldn't write token to cache at: .cache\n",
      "Couldn't write token to cache at: .cache\n",
      "Couldn't write token to cache at: .cache\n",
      "Couldn't write token to cache at: .cache\n",
      "Couldn't write token to cache at: .cache\n",
      "Couldn't write token to cache at: .cache\n",
      "Couldn't write token to cache at: .cache\n",
      "Couldn't write token to cache at: .cache\n",
      "Couldn't write token to cache at: .cache\n",
      "Couldn't write token to cache at: .cache\n",
      "Couldn't write token to cache at: .cache\n",
      "Couldn't write token to cache at: .cache\n",
      "Couldn't write token to cache at: .cache\n",
      "Couldn't write token to cache at: .cache\n",
      "Couldn't write token to cache at: .cache\n",
      "Couldn't write token to cache at: .cache\n",
      "Couldn't write token to cache at: .cache\n",
      "Couldn't write token to cache at: .cache\n",
      "Couldn't write token to cache at: .cache\n",
      "Couldn't write token to cache at: .cache\n",
      "Couldn't write token to cache at: .cache\n",
      "Couldn't write token to cache at: .cache\n",
      "Couldn't write token to cache at: .cache\n",
      "Couldn't write token to cache at: .cache\n",
      "Couldn't write token to cache at: .cache\n",
      "Couldn't write token to cache at: .cache\n",
      "Couldn't write token to cache at: .cache\n",
      "Couldn't write token to cache at: .cache\n",
      "Couldn't write token to cache at: .cache\n",
      "Couldn't write token to cache at: .cache\n",
      "Couldn't write token to cache at: .cache\n",
      "Couldn't write token to cache at: .cache\n",
      "Couldn't write token to cache at: .cache\n",
      "Couldn't write token to cache at: .cache\n",
      "Couldn't write token to cache at: .cache\n",
      "Couldn't write token to cache at: .cache\n",
      "Couldn't write token to cache at: .cache\n",
      "Couldn't write token to cache at: .cache\n",
      "Couldn't write token to cache at: .cache\n",
      "Couldn't write token to cache at: .cache\n",
      "Couldn't write token to cache at: .cache\n",
      "Couldn't write token to cache at: .cache\n",
      "Couldn't write token to cache at: .cache\n",
      "Couldn't write token to cache at: .cache\n",
      "Couldn't write token to cache at: .cache\n",
      "Couldn't write token to cache at: .cache\n",
      "Couldn't write token to cache at: .cache\n",
      "Couldn't write token to cache at: .cache\n",
      "Couldn't write token to cache at: .cache\n",
      "Couldn't write token to cache at: .cache\n",
      "Couldn't write token to cache at: .cache\n",
      "Couldn't write token to cache at: .cache\n",
      "Couldn't write token to cache at: .cache\n",
      "Couldn't write token to cache at: .cache\n",
      "Couldn't write token to cache at: .cache\n",
      "Couldn't write token to cache at: .cache\n",
      "Couldn't write token to cache at: .cache\n",
      "Couldn't write token to cache at: .cache\n",
      "Couldn't write token to cache at: .cache\n",
      "Couldn't write token to cache at: .cache\n",
      "Couldn't write token to cache at: .cache\n",
      "Couldn't write token to cache at: .cache\n",
      "Couldn't write token to cache at: .cache\n",
      "Couldn't write token to cache at: .cache\n",
      "Couldn't write token to cache at: .cache\n",
      "Couldn't write token to cache at: .cache\n",
      "Couldn't write token to cache at: .cache\n",
      "Couldn't write token to cache at: .cache\n",
      "Couldn't write token to cache at: .cache\n",
      "Couldn't write token to cache at: .cache\n",
      "Couldn't write token to cache at: .cache\n",
      "Couldn't write token to cache at: .cache\n",
      "Couldn't write token to cache at: .cache\n",
      "Couldn't write token to cache at: .cache\n",
      "Couldn't write token to cache at: .cache\n",
      "Couldn't write token to cache at: .cache\n",
      "Couldn't write token to cache at: .cache\n",
      "Couldn't write token to cache at: .cache\n",
      "Couldn't write token to cache at: .cache\n",
      "Couldn't write token to cache at: .cache\n",
      "Couldn't write token to cache at: .cache\n",
      "Couldn't write token to cache at: .cache\n",
      "Couldn't write token to cache at: .cache\n",
      "Couldn't write token to cache at: .cache\n",
      "Couldn't write token to cache at: .cache\n",
      "Couldn't write token to cache at: .cache\n",
      "Couldn't write token to cache at: .cache\n",
      "Couldn't write token to cache at: .cache\n",
      "Couldn't write token to cache at: .cache\n",
      "Couldn't write token to cache at: .cache\n",
      "Couldn't write token to cache at: .cache\n",
      "Couldn't write token to cache at: .cache\n",
      "Couldn't write token to cache at: .cache\n",
      "Couldn't write token to cache at: .cache\n",
      "Couldn't write token to cache at: .cache\n",
      "Couldn't write token to cache at: .cache\n",
      "Couldn't write token to cache at: .cache\n",
      "Couldn't write token to cache at: .cache\n",
      "Couldn't write token to cache at: .cache\n",
      "Couldn't write token to cache at: .cache\n",
      "Couldn't write token to cache at: .cache\n",
      "Couldn't write token to cache at: .cache\n",
      "Couldn't write token to cache at: .cache\n",
      "Couldn't write token to cache at: .cache\n",
      "Couldn't write token to cache at: .cache\n",
      "Couldn't write token to cache at: .cache\n",
      "Couldn't write token to cache at: .cache\n",
      "Couldn't write token to cache at: .cache\n",
      "Couldn't write token to cache at: .cache\n",
      "Couldn't write token to cache at: .cache\n",
      "Couldn't write token to cache at: .cache\n",
      "Couldn't write token to cache at: .cache\n",
      "Couldn't write token to cache at: .cache\n",
      "Couldn't write token to cache at: .cache\n",
      "Couldn't write token to cache at: .cache\n",
      "Couldn't write token to cache at: .cache\n",
      "Couldn't write token to cache at: .cache\n",
      "Couldn't write token to cache at: .cache\n",
      "Couldn't write token to cache at: .cache\n",
      "Couldn't write token to cache at: .cache\n",
      "Couldn't write token to cache at: .cache\n",
      "Couldn't write token to cache at: .cache\n",
      "Couldn't write token to cache at: .cache\n",
      "Couldn't write token to cache at: .cache\n",
      "Couldn't write token to cache at: .cache\n",
      "Couldn't write token to cache at: .cache\n",
      "Couldn't write token to cache at: .cache\n",
      "Couldn't write token to cache at: .cache\n",
      "Couldn't write token to cache at: .cache\n",
      "Couldn't write token to cache at: .cache\n",
      "Couldn't write token to cache at: .cache\n",
      "Couldn't write token to cache at: .cache\n",
      "Couldn't write token to cache at: .cache\n",
      "Couldn't write token to cache at: .cache\n",
      "Couldn't write token to cache at: .cache\n",
      "Couldn't write token to cache at: .cache\n",
      "Couldn't write token to cache at: .cache\n",
      "Couldn't write token to cache at: .cache\n",
      "Couldn't write token to cache at: .cache\n",
      "Couldn't write token to cache at: .cache\n",
      "Couldn't write token to cache at: .cache\n",
      "Couldn't write token to cache at: .cache\n",
      "Couldn't write token to cache at: .cache\n",
      "Couldn't write token to cache at: .cache\n",
      "Couldn't write token to cache at: .cache\n",
      "Couldn't write token to cache at: .cache\n",
      "Couldn't write token to cache at: .cache\n",
      "Couldn't write token to cache at: .cache\n",
      "Couldn't write token to cache at: .cache\n",
      "Couldn't write token to cache at: .cache\n",
      "Couldn't write token to cache at: .cache\n",
      "Couldn't write token to cache at: .cache\n",
      "Couldn't write token to cache at: .cache\n",
      "Couldn't write token to cache at: .cache\n",
      "Couldn't write token to cache at: .cache\n",
      "Couldn't write token to cache at: .cache\n",
      "Couldn't write token to cache at: .cache\n",
      "Couldn't write token to cache at: .cache\n",
      "Couldn't write token to cache at: .cache\n",
      "Couldn't write token to cache at: .cache\n",
      "Couldn't write token to cache at: .cache\n",
      "Couldn't write token to cache at: .cache\n",
      "Couldn't write token to cache at: .cache\n",
      "Couldn't write token to cache at: .cache\n",
      "Couldn't write token to cache at: .cache\n",
      "Couldn't write token to cache at: .cache\n",
      "Couldn't write token to cache at: .cache\n",
      "Couldn't write token to cache at: .cache\n",
      "Couldn't write token to cache at: .cache\n",
      "Couldn't write token to cache at: .cache\n",
      "Couldn't write token to cache at: .cache\n",
      "Couldn't write token to cache at: .cache\n",
      "Couldn't write token to cache at: .cache\n",
      "Couldn't write token to cache at: .cache\n",
      "Couldn't write token to cache at: .cache\n",
      "Couldn't write token to cache at: .cache\n",
      "Couldn't write token to cache at: .cache\n",
      "Couldn't write token to cache at: .cache\n",
      "Couldn't write token to cache at: .cache\n",
      "Couldn't write token to cache at: .cache\n",
      "Couldn't write token to cache at: .cache\n",
      "Couldn't write token to cache at: .cache\n",
      "Couldn't write token to cache at: .cache\n",
      "Couldn't write token to cache at: .cache\n",
      "Couldn't write token to cache at: .cache\n",
      "Couldn't write token to cache at: .cache\n",
      "Couldn't write token to cache at: .cache\n",
      "Couldn't write token to cache at: .cache\n",
      "Couldn't write token to cache at: .cache\n",
      "Couldn't write token to cache at: .cache\n",
      "Couldn't write token to cache at: .cache\n",
      "Couldn't write token to cache at: .cache\n",
      "Couldn't write token to cache at: .cache\n",
      "Couldn't write token to cache at: .cache\n",
      "Couldn't write token to cache at: .cache\n",
      "Couldn't write token to cache at: .cache\n",
      "Couldn't write token to cache at: .cache\n",
      "Couldn't write token to cache at: .cache\n",
      "Couldn't write token to cache at: .cache\n",
      "Couldn't write token to cache at: .cache\n",
      "Couldn't write token to cache at: .cache\n",
      "Couldn't write token to cache at: .cache\n",
      "Couldn't write token to cache at: .cache\n",
      "Couldn't write token to cache at: .cache\n",
      "Couldn't write token to cache at: .cache\n",
      "Couldn't write token to cache at: .cache\n",
      "Couldn't write token to cache at: .cache\n",
      "Couldn't write token to cache at: .cache\n",
      "Couldn't write token to cache at: .cache\n",
      "Couldn't write token to cache at: .cache\n",
      "Couldn't write token to cache at: .cache\n",
      "Couldn't write token to cache at: .cache\n",
      "Couldn't write token to cache at: .cache\n",
      "Couldn't write token to cache at: .cache\n",
      "Couldn't write token to cache at: .cache\n",
      "Couldn't write token to cache at: .cache\n",
      "Couldn't write token to cache at: .cache\n",
      "Couldn't write token to cache at: .cache\n",
      "Couldn't write token to cache at: .cache\n",
      "Couldn't write token to cache at: .cache\n",
      "Couldn't write token to cache at: .cache\n",
      "Couldn't write token to cache at: .cache\n",
      "Couldn't write token to cache at: .cache\n",
      "Couldn't write token to cache at: .cache\n",
      "Couldn't write token to cache at: .cache\n",
      "Couldn't write token to cache at: .cache\n",
      "Couldn't write token to cache at: .cache\n",
      "Couldn't write token to cache at: .cache\n",
      "Couldn't write token to cache at: .cache\n",
      "Couldn't write token to cache at: .cache\n",
      "Couldn't write token to cache at: .cache\n",
      "Couldn't write token to cache at: .cache\n",
      "Couldn't write token to cache at: .cache\n",
      "Couldn't write token to cache at: .cache\n",
      "Couldn't write token to cache at: .cache\n",
      "Couldn't write token to cache at: .cache\n",
      "Couldn't write token to cache at: .cache\n",
      "Couldn't write token to cache at: .cache\n",
      "Couldn't write token to cache at: .cache\n",
      "Couldn't write token to cache at: .cache\n",
      "Couldn't write token to cache at: .cache\n",
      "Couldn't write token to cache at: .cache\n",
      "Couldn't write token to cache at: .cache\n",
      "Couldn't write token to cache at: .cache\n",
      "Couldn't write token to cache at: .cache\n",
      "Couldn't write token to cache at: .cache\n",
      "Couldn't write token to cache at: .cache\n",
      "Couldn't write token to cache at: .cache\n",
      "Couldn't write token to cache at: .cache\n",
      "Couldn't write token to cache at: .cache\n",
      "Couldn't write token to cache at: .cache\n",
      "Couldn't write token to cache at: .cache\n",
      "Couldn't write token to cache at: .cache\n",
      "Couldn't write token to cache at: .cache\n",
      "Couldn't write token to cache at: .cache\n",
      "Couldn't write token to cache at: .cache\n",
      "Couldn't write token to cache at: .cache\n",
      "Couldn't write token to cache at: .cache\n",
      "Couldn't write token to cache at: .cache\n",
      "Couldn't write token to cache at: .cache\n",
      "Couldn't write token to cache at: .cache\n",
      "Couldn't write token to cache at: .cache\n",
      "Couldn't write token to cache at: .cache\n",
      "Couldn't write token to cache at: .cache\n",
      "Couldn't write token to cache at: .cache\n",
      "Couldn't write token to cache at: .cache\n",
      "Couldn't write token to cache at: .cache\n",
      "Couldn't write token to cache at: .cache\n",
      "Couldn't write token to cache at: .cache\n",
      "Couldn't write token to cache at: .cache\n",
      "Couldn't write token to cache at: .cache\n",
      "Couldn't write token to cache at: .cache\n",
      "Couldn't write token to cache at: .cache\n",
      "Couldn't write token to cache at: .cache\n",
      "Couldn't write token to cache at: .cache\n",
      "Couldn't write token to cache at: .cache\n",
      "Couldn't write token to cache at: .cache\n",
      "Couldn't write token to cache at: .cache\n",
      "Couldn't write token to cache at: .cache\n",
      "Couldn't write token to cache at: .cache\n",
      "Couldn't write token to cache at: .cache\n",
      "Couldn't write token to cache at: .cache\n",
      "Couldn't write token to cache at: .cache\n",
      "Couldn't write token to cache at: .cache\n",
      "Couldn't write token to cache at: .cache\n",
      "Couldn't write token to cache at: .cache\n",
      "Couldn't write token to cache at: .cache\n",
      "Couldn't write token to cache at: .cache\n",
      "Couldn't write token to cache at: .cache\n",
      "Couldn't write token to cache at: .cache\n",
      "Couldn't write token to cache at: .cache\n",
      "Couldn't write token to cache at: .cache\n",
      "Couldn't write token to cache at: .cache\n",
      "Couldn't write token to cache at: .cache\n",
      "Couldn't write token to cache at: .cache\n",
      "Couldn't write token to cache at: .cache\n",
      "Couldn't write token to cache at: .cache\n",
      "Couldn't write token to cache at: .cache\n",
      "Couldn't write token to cache at: .cache\n",
      "Couldn't write token to cache at: .cache\n",
      "Couldn't write token to cache at: .cache\n",
      "Couldn't write token to cache at: .cache\n",
      "Couldn't write token to cache at: .cache\n",
      "Couldn't write token to cache at: .cache\n",
      "Couldn't write token to cache at: .cache\n",
      "Couldn't write token to cache at: .cache\n",
      "Couldn't write token to cache at: .cache\n",
      "Couldn't write token to cache at: .cache\n",
      "Couldn't write token to cache at: .cache\n",
      "Couldn't write token to cache at: .cache\n",
      "Couldn't write token to cache at: .cache\n",
      "Couldn't write token to cache at: .cache\n",
      "Couldn't write token to cache at: .cache\n",
      "Couldn't write token to cache at: .cache\n",
      "Couldn't write token to cache at: .cache\n",
      "Couldn't write token to cache at: .cache\n",
      "Couldn't write token to cache at: .cache\n",
      "Couldn't write token to cache at: .cache\n",
      "Couldn't write token to cache at: .cache\n",
      "Couldn't write token to cache at: .cache\n",
      "Couldn't write token to cache at: .cache\n",
      "Couldn't write token to cache at: .cache\n",
      "Couldn't write token to cache at: .cache\n",
      "Couldn't write token to cache at: .cache\n",
      "Couldn't write token to cache at: .cache\n",
      "Couldn't write token to cache at: .cache\n",
      "Couldn't write token to cache at: .cache\n",
      "Couldn't write token to cache at: .cache\n",
      "Couldn't write token to cache at: .cache\n",
      "Couldn't write token to cache at: .cache\n",
      "Couldn't write token to cache at: .cache\n",
      "Couldn't write token to cache at: .cache\n",
      "Couldn't write token to cache at: .cache\n",
      "Couldn't write token to cache at: .cache\n",
      "Couldn't write token to cache at: .cache\n",
      "Couldn't write token to cache at: .cache\n",
      "Couldn't write token to cache at: .cache\n",
      "Couldn't write token to cache at: .cache\n",
      "Couldn't write token to cache at: .cache\n",
      "Couldn't write token to cache at: .cache\n",
      "Couldn't write token to cache at: .cache\n",
      "Couldn't write token to cache at: .cache\n",
      "Couldn't write token to cache at: .cache\n",
      "Couldn't write token to cache at: .cache\n",
      "Couldn't write token to cache at: .cache\n",
      "Couldn't write token to cache at: .cache\n",
      "Couldn't write token to cache at: .cache\n",
      "Couldn't write token to cache at: .cache\n",
      "Couldn't write token to cache at: .cache\n",
      "Couldn't write token to cache at: .cache\n",
      "Couldn't write token to cache at: .cache\n",
      "Couldn't write token to cache at: .cache\n",
      "Couldn't write token to cache at: .cache\n",
      "Couldn't write token to cache at: .cache\n",
      "Couldn't write token to cache at: .cache\n",
      "Couldn't write token to cache at: .cache\n",
      "Couldn't write token to cache at: .cache\n",
      "Couldn't write token to cache at: .cache\n",
      "Couldn't write token to cache at: .cache\n",
      "Couldn't write token to cache at: .cache\n",
      "Couldn't write token to cache at: .cache\n",
      "Couldn't write token to cache at: .cache\n",
      "Couldn't write token to cache at: .cache\n",
      "Couldn't write token to cache at: .cache\n",
      "Couldn't write token to cache at: .cache\n",
      "Couldn't write token to cache at: .cache\n",
      "Couldn't write token to cache at: .cache\n",
      "Couldn't write token to cache at: .cache\n",
      "Couldn't write token to cache at: .cache\n",
      "Couldn't write token to cache at: .cache\n",
      "Couldn't write token to cache at: .cache\n",
      "Couldn't write token to cache at: .cache\n",
      "Couldn't write token to cache at: .cache\n",
      "Couldn't write token to cache at: .cache\n",
      "Couldn't write token to cache at: .cache\n",
      "Couldn't write token to cache at: .cache\n",
      "Couldn't write token to cache at: .cache\n",
      "Couldn't write token to cache at: .cache\n",
      "Couldn't write token to cache at: .cache\n",
      "Couldn't write token to cache at: .cache\n",
      "Couldn't write token to cache at: .cache\n",
      "Couldn't write token to cache at: .cache\n",
      "Couldn't write token to cache at: .cache\n",
      "Couldn't write token to cache at: .cache\n",
      "Couldn't write token to cache at: .cache\n",
      "Couldn't write token to cache at: .cache\n",
      "Couldn't write token to cache at: .cache\n",
      "Couldn't write token to cache at: .cache\n",
      "Couldn't write token to cache at: .cache\n",
      "Couldn't write token to cache at: .cache\n",
      "Couldn't write token to cache at: .cache\n",
      "Couldn't write token to cache at: .cache\n",
      "Couldn't write token to cache at: .cache\n",
      "Couldn't write token to cache at: .cache\n",
      "Couldn't write token to cache at: .cache\n",
      "Couldn't write token to cache at: .cache\n",
      "Couldn't write token to cache at: .cache\n",
      "Couldn't write token to cache at: .cache\n",
      "Couldn't write token to cache at: .cache\n",
      "Couldn't write token to cache at: .cache\n",
      "Couldn't write token to cache at: .cache\n",
      "Couldn't write token to cache at: .cache\n",
      "Couldn't write token to cache at: .cache\n",
      "Couldn't write token to cache at: .cache\n",
      "Couldn't write token to cache at: .cache\n",
      "Couldn't write token to cache at: .cache\n",
      "Couldn't write token to cache at: .cache\n",
      "Couldn't write token to cache at: .cache\n",
      "Couldn't write token to cache at: .cache\n",
      "Couldn't write token to cache at: .cache\n",
      "Couldn't write token to cache at: .cache\n",
      "Couldn't write token to cache at: .cache\n",
      "Couldn't write token to cache at: .cache\n",
      "Couldn't write token to cache at: .cache\n",
      "Couldn't write token to cache at: .cache\n",
      "Couldn't write token to cache at: .cache\n",
      "Couldn't write token to cache at: .cache\n",
      "Couldn't write token to cache at: .cache\n",
      "Couldn't write token to cache at: .cache\n",
      "Couldn't write token to cache at: .cache\n",
      "Couldn't write token to cache at: .cache\n",
      "Couldn't write token to cache at: .cache\n",
      "Couldn't write token to cache at: .cache\n",
      "Couldn't write token to cache at: .cache\n",
      "Couldn't write token to cache at: .cache\n",
      "Couldn't write token to cache at: .cache\n",
      "Couldn't write token to cache at: .cache\n",
      "Couldn't write token to cache at: .cache\n",
      "Couldn't write token to cache at: .cache\n",
      "Couldn't write token to cache at: .cache\n",
      "Couldn't write token to cache at: .cache\n",
      "Couldn't write token to cache at: .cache\n",
      "Couldn't write token to cache at: .cache\n",
      "Couldn't write token to cache at: .cache\n",
      "Couldn't write token to cache at: .cache\n",
      "Couldn't write token to cache at: .cache\n",
      "Couldn't write token to cache at: .cache\n",
      "Couldn't write token to cache at: .cache\n",
      "Couldn't write token to cache at: .cache\n",
      "Couldn't write token to cache at: .cache\n",
      "Couldn't write token to cache at: .cache\n",
      "Couldn't write token to cache at: .cache\n",
      "Couldn't write token to cache at: .cache\n",
      "Couldn't write token to cache at: .cache\n",
      "Couldn't write token to cache at: .cache\n",
      "Couldn't write token to cache at: .cache\n",
      "Couldn't write token to cache at: .cache\n",
      "Couldn't write token to cache at: .cache\n",
      "Couldn't write token to cache at: .cache\n",
      "Couldn't write token to cache at: .cache\n",
      "Couldn't write token to cache at: .cache\n",
      "Couldn't write token to cache at: .cache\n",
      "Couldn't write token to cache at: .cache\n",
      "Couldn't write token to cache at: .cache\n",
      "Couldn't write token to cache at: .cache\n",
      "Couldn't write token to cache at: .cache\n",
      "Couldn't write token to cache at: .cache\n",
      "Couldn't write token to cache at: .cache\n",
      "Couldn't write token to cache at: .cache\n",
      "Couldn't write token to cache at: .cache\n",
      "Couldn't write token to cache at: .cache\n",
      "Couldn't write token to cache at: .cache\n",
      "Couldn't write token to cache at: .cache\n",
      "Couldn't write token to cache at: .cache\n",
      "Couldn't write token to cache at: .cache\n",
      "Couldn't write token to cache at: .cache\n",
      "Couldn't write token to cache at: .cache\n",
      "Couldn't write token to cache at: .cache\n",
      "Couldn't write token to cache at: .cache\n",
      "Couldn't write token to cache at: .cache\n",
      "Couldn't write token to cache at: .cache\n",
      "Couldn't write token to cache at: .cache\n",
      "Couldn't write token to cache at: .cache\n",
      "Couldn't write token to cache at: .cache\n",
      "Couldn't write token to cache at: .cache\n",
      "Couldn't write token to cache at: .cache\n",
      "Couldn't write token to cache at: .cache\n",
      "Couldn't write token to cache at: .cache\n",
      "Couldn't write token to cache at: .cache\n",
      "Couldn't write token to cache at: .cache\n",
      "Couldn't write token to cache at: .cache\n",
      "Couldn't write token to cache at: .cache\n",
      "Couldn't write token to cache at: .cache\n",
      "Couldn't write token to cache at: .cache\n",
      "Couldn't write token to cache at: .cache\n",
      "Couldn't write token to cache at: .cache\n",
      "Couldn't write token to cache at: .cache\n",
      "Couldn't write token to cache at: .cache\n",
      "Couldn't write token to cache at: .cache\n",
      "Couldn't write token to cache at: .cache\n",
      "Couldn't write token to cache at: .cache\n",
      "Couldn't write token to cache at: .cache\n",
      "Couldn't write token to cache at: .cache\n",
      "Couldn't write token to cache at: .cache\n",
      "Couldn't write token to cache at: .cache\n",
      "Couldn't write token to cache at: .cache\n",
      "Couldn't write token to cache at: .cache\n",
      "Couldn't write token to cache at: .cache\n",
      "Couldn't write token to cache at: .cache\n",
      "Couldn't write token to cache at: .cache\n",
      "Couldn't write token to cache at: .cache\n",
      "Couldn't write token to cache at: .cache\n",
      "Couldn't write token to cache at: .cache\n",
      "Couldn't write token to cache at: .cache\n",
      "Couldn't write token to cache at: .cache\n",
      "Couldn't write token to cache at: .cache\n",
      "Couldn't write token to cache at: .cache\n",
      "Couldn't write token to cache at: .cache\n",
      "Couldn't write token to cache at: .cache\n",
      "Couldn't write token to cache at: .cache\n",
      "Couldn't write token to cache at: .cache\n",
      "Couldn't write token to cache at: .cache\n",
      "Couldn't write token to cache at: .cache\n",
      "Couldn't write token to cache at: .cache\n",
      "Couldn't write token to cache at: .cache\n",
      "Couldn't write token to cache at: .cache\n",
      "Couldn't write token to cache at: .cache\n",
      "Couldn't write token to cache at: .cache\n",
      "Couldn't write token to cache at: .cache\n",
      "Couldn't write token to cache at: .cache\n",
      "Couldn't write token to cache at: .cache\n",
      "Couldn't write token to cache at: .cache\n",
      "Couldn't write token to cache at: .cache\n",
      "Couldn't write token to cache at: .cache\n",
      "Couldn't write token to cache at: .cache\n",
      "Couldn't write token to cache at: .cache\n",
      "Couldn't write token to cache at: .cache\n",
      "Couldn't write token to cache at: .cache\n",
      "Couldn't write token to cache at: .cache\n",
      "Couldn't write token to cache at: .cache\n",
      "Couldn't write token to cache at: .cache\n",
      "Couldn't write token to cache at: .cache\n",
      "Couldn't write token to cache at: .cache\n",
      "Couldn't write token to cache at: .cache\n",
      "Couldn't write token to cache at: .cache\n",
      "Couldn't write token to cache at: .cache\n",
      "Couldn't write token to cache at: .cache\n",
      "Couldn't write token to cache at: .cache\n",
      "Couldn't write token to cache at: .cache\n",
      "Couldn't write token to cache at: .cache\n",
      "Couldn't write token to cache at: .cache\n",
      "Couldn't write token to cache at: .cache\n",
      "Couldn't write token to cache at: .cache\n",
      "Couldn't write token to cache at: .cache\n",
      "Couldn't write token to cache at: .cache\n",
      "Couldn't write token to cache at: .cache\n",
      "Couldn't write token to cache at: .cache\n",
      "Couldn't write token to cache at: .cache\n",
      "Couldn't write token to cache at: .cache\n",
      "Couldn't write token to cache at: .cache\n",
      "Couldn't write token to cache at: .cache\n",
      "Couldn't write token to cache at: .cache\n",
      "Couldn't write token to cache at: .cache\n",
      "Couldn't write token to cache at: .cache\n",
      "Couldn't write token to cache at: .cache\n",
      "Couldn't write token to cache at: .cache\n",
      "Couldn't write token to cache at: .cache\n",
      "Couldn't write token to cache at: .cache\n",
      "Couldn't write token to cache at: .cache\n",
      "Couldn't write token to cache at: .cache\n",
      "Couldn't write token to cache at: .cache\n",
      "Couldn't write token to cache at: .cache\n",
      "Couldn't write token to cache at: .cache\n",
      "Couldn't write token to cache at: .cache\n",
      "Couldn't write token to cache at: .cache\n",
      "Couldn't write token to cache at: .cache\n",
      "Couldn't write token to cache at: .cache\n",
      "Couldn't write token to cache at: .cache\n",
      "Couldn't write token to cache at: .cache\n",
      "Couldn't write token to cache at: .cache\n",
      "Couldn't write token to cache at: .cache\n",
      "Couldn't write token to cache at: .cache\n",
      "Couldn't write token to cache at: .cache\n",
      "Couldn't write token to cache at: .cache\n",
      "Couldn't write token to cache at: .cache\n",
      "Couldn't write token to cache at: .cache\n",
      "Couldn't write token to cache at: .cache\n",
      "Couldn't write token to cache at: .cache\n",
      "Couldn't write token to cache at: .cache\n",
      "Couldn't write token to cache at: .cache\n",
      "Couldn't write token to cache at: .cache\n",
      "Couldn't write token to cache at: .cache\n",
      "Couldn't write token to cache at: .cache\n",
      "Couldn't write token to cache at: .cache\n",
      "Couldn't write token to cache at: .cache\n",
      "Couldn't write token to cache at: .cache\n",
      "Couldn't write token to cache at: .cache\n",
      "Couldn't write token to cache at: .cache\n",
      "Couldn't write token to cache at: .cache\n",
      "Couldn't write token to cache at: .cache\n",
      "Couldn't write token to cache at: .cache\n",
      "Couldn't write token to cache at: .cache\n",
      "Couldn't write token to cache at: .cache\n",
      "Couldn't write token to cache at: .cache\n",
      "Couldn't write token to cache at: .cache\n",
      "Couldn't write token to cache at: .cache\n",
      "Couldn't write token to cache at: .cache\n",
      "Couldn't write token to cache at: .cache\n",
      "Couldn't write token to cache at: .cache\n",
      "Couldn't write token to cache at: .cache\n",
      "Couldn't write token to cache at: .cache\n",
      "Couldn't write token to cache at: .cache\n",
      "Couldn't write token to cache at: .cache\n",
      "Couldn't write token to cache at: .cache\n",
      "Couldn't write token to cache at: .cache\n",
      "Couldn't write token to cache at: .cache\n",
      "Couldn't write token to cache at: .cache\n",
      "Couldn't write token to cache at: .cache\n",
      "Couldn't write token to cache at: .cache\n",
      "Couldn't write token to cache at: .cache\n",
      "Couldn't write token to cache at: .cache\n",
      "Couldn't write token to cache at: .cache\n",
      "Couldn't write token to cache at: .cache\n",
      "Couldn't write token to cache at: .cache\n",
      "Couldn't write token to cache at: .cache\n",
      "Couldn't write token to cache at: .cache\n",
      "Couldn't write token to cache at: .cache\n",
      "Couldn't write token to cache at: .cache\n"
     ]
    }
   ],
   "source": [
    "username = 'Spotify'\n",
    "\n",
    "## usually takes 1m44s to load\n",
    "upbeat_pls = [\n",
    "    'https://open.spotify.com/playlist/37i9dQZF1DX3rxVfibe1L0', # mood booster\n",
    "    'https://open.spotify.com/playlist/37i9dQZF1DX66m4icL86Ru', #BBE\n",
    "    'https://open.spotify.com/playlist/37i9dQZF1DWYBO1MoTDhZI', # good vibes\n",
    "    'https://open.spotify.com/playlist/37i9dQZF1DWSf2RDTDayIx', # happy beats\n",
    "    'https://open.spotify.com/playlist/37i9dQZF1DX7KNKjOK0o75', # have a great day\n",
    "    'https://open.spotify.com/playlist/37i9dQZF1DXdPec7aLTmlC', # happy hits\n",
    "    'https://open.spotify.com/playlist/37i9dQZF1DX0Uv9tZ47pWo', #girls night\n",
    "    'https://open.spotify.com/playlist/37i9dQZF1DWXti3N4Wp5xy', #pop party\n",
    "    'https://open.spotify.com/playlist/37i9dQZF1DWSqmBTGDYngZ', #sing in the shower\n",
    "    'https://open.spotify.com/playlist/37i9dQZF1DWZixSclZdoFE' #energy boost\n",
    "]\n",
    "\n",
    "\n",
    "# call the call_playlist function for each playlist URL and concatenate the results\n",
    "upbeats = pd.concat([call_playlist(username, url, 100, 0) for url in upbeat_pls], ignore_index=True)\n",
    "upbeats['vibe']='upbeat'\n"
   ]
  },
  {
   "cell_type": "code",
   "execution_count": 6,
   "metadata": {},
   "outputs": [],
   "source": [
    "import os\n",
    "os.chdir('/Users/lphan/Documents/Spotify')"
   ]
  },
  {
   "cell_type": "code",
   "execution_count": 7,
   "metadata": {},
   "outputs": [],
   "source": [
    "\n",
    "# upbeats['vibe']='upbeat'\n",
    "upbeats.to_csv('upbeats.csv',index=False)"
   ]
  },
  {
   "cell_type": "code",
   "execution_count": 8,
   "metadata": {},
   "outputs": [],
   "source": [
    "#usually takes \n",
    "sad_pls = [\n",
    "    'https://open.spotify.com/playlist/37i9dQZF1DX7qK8ma5wgG1',\n",
    "    'https://open.spotify.com/playlist/37i9dQZF1DX3YSRoSdA634', #life sucks\n",
    "    'https://open.spotify.com/playlist/37i9dQZF1DWSqBruwoIXkA',#sad hours\n",
    "    'https://open.spotify.com/playlist/37i9dQZF1DX64Y3du11rR1',\n",
    "    'https://open.spotify.com/playlist/37i9dQZF1DX46zHlTTyolY', #heartache\n",
    "    'https://open.spotify.com/playlist/37i9dQZF1DX3bgBpcV2oGY', #sad guitar instrumental\n",
    "    'https://open.spotify.com/playlist/37i9dQZF1DX15JKV0q7shD', #classics for crying\n",
    "    'https://open.spotify.com/playlist/37i9dQZF1DWVV27DiNWxkR', #sad indie\n",
    "    'https://open.spotify.com/playlist/37i9dQZF1EIfAoIM3ht61G', #mellow mix\n",
    "    'https://open.spotify.com/playlist/37i9dQZF1EIg6gLNLe52Bd' #lonely sad mix\n",
    "    ]     \n",
    "sads = pd.concat([call_playlist(username, url, 100, 0) for url in sad_pls], ignore_index=True)\n",
    "sads['vibe']='sad'\n"
   ]
  },
  {
   "cell_type": "code",
   "execution_count": 12,
   "metadata": {},
   "outputs": [],
   "source": [
    "from sklearn import preprocessing\n",
    "scaler = preprocessing.MinMaxScaler()\n",
    "import plotly.graph_objs as go"
   ]
  },
  {
   "cell_type": "code",
   "execution_count": 22,
   "metadata": {},
   "outputs": [],
   "source": [
    "upbeats_feature = upbeats[['danceability', 'energy', 'loudness','speechiness',\n",
    "                             'valence', 'tempo', 'popularity']]\n",
    "\n",
    "music_feature_upbeats = pd.DataFrame(scaler.fit_transform(upbeats_feature), columns=upbeats_feature.columns)"
   ]
  },
  {
   "cell_type": "code",
   "execution_count": 23,
   "metadata": {},
   "outputs": [],
   "source": [
    "sads_feature = sads[['danceability', 'energy', 'loudness','speechiness',\n",
    "                             'valence', 'tempo', 'popularity']]\n",
    "\n",
    "music_feature_sads = pd.DataFrame(scaler.fit_transform(sads_feature), columns=sads_feature.columns)"
   ]
  },
  {
   "cell_type": "code",
   "execution_count": 28,
   "metadata": {},
   "outputs": [
    {
     "data": {
      "application/vnd.plotly.v1+json": {
       "config": {
        "plotlyServerURL": "https://plot.ly"
       },
       "data": [
        {
         "fill": "toself",
         "r": [
          0.59,
          0.71,
          0.8,
          0.05,
          0.6,
          0.4,
          0.81
         ],
         "theta": [
          "Danceability",
          "Energy",
          "Loudness",
          "Speechiness",
          "Valence",
          "Tempo",
          "Popularity"
         ],
         "type": "scatterpolar"
        }
       ],
       "layout": {
        "font": {
         "size": 14
        },
        "margin": {
         "b": 0,
         "l": 0,
         "r": 0,
         "t": 60
        },
        "polar": {
         "radialaxis": {
          "range": [
           0,
           1
          ],
          "tickfont": {
           "color": "slategrey"
          },
          "visible": true
         }
        },
        "showlegend": false,
        "template": {
         "data": {
          "bar": [
           {
            "error_x": {
             "color": "#2a3f5f"
            },
            "error_y": {
             "color": "#2a3f5f"
            },
            "marker": {
             "line": {
              "color": "#E5ECF6",
              "width": 0.5
             },
             "pattern": {
              "fillmode": "overlay",
              "size": 10,
              "solidity": 0.2
             }
            },
            "type": "bar"
           }
          ],
          "barpolar": [
           {
            "marker": {
             "line": {
              "color": "#E5ECF6",
              "width": 0.5
             },
             "pattern": {
              "fillmode": "overlay",
              "size": 10,
              "solidity": 0.2
             }
            },
            "type": "barpolar"
           }
          ],
          "carpet": [
           {
            "aaxis": {
             "endlinecolor": "#2a3f5f",
             "gridcolor": "white",
             "linecolor": "white",
             "minorgridcolor": "white",
             "startlinecolor": "#2a3f5f"
            },
            "baxis": {
             "endlinecolor": "#2a3f5f",
             "gridcolor": "white",
             "linecolor": "white",
             "minorgridcolor": "white",
             "startlinecolor": "#2a3f5f"
            },
            "type": "carpet"
           }
          ],
          "choropleth": [
           {
            "colorbar": {
             "outlinewidth": 0,
             "ticks": ""
            },
            "type": "choropleth"
           }
          ],
          "contour": [
           {
            "colorbar": {
             "outlinewidth": 0,
             "ticks": ""
            },
            "colorscale": [
             [
              0,
              "#0d0887"
             ],
             [
              0.1111111111111111,
              "#46039f"
             ],
             [
              0.2222222222222222,
              "#7201a8"
             ],
             [
              0.3333333333333333,
              "#9c179e"
             ],
             [
              0.4444444444444444,
              "#bd3786"
             ],
             [
              0.5555555555555556,
              "#d8576b"
             ],
             [
              0.6666666666666666,
              "#ed7953"
             ],
             [
              0.7777777777777778,
              "#fb9f3a"
             ],
             [
              0.8888888888888888,
              "#fdca26"
             ],
             [
              1,
              "#f0f921"
             ]
            ],
            "type": "contour"
           }
          ],
          "contourcarpet": [
           {
            "colorbar": {
             "outlinewidth": 0,
             "ticks": ""
            },
            "type": "contourcarpet"
           }
          ],
          "heatmap": [
           {
            "colorbar": {
             "outlinewidth": 0,
             "ticks": ""
            },
            "colorscale": [
             [
              0,
              "#0d0887"
             ],
             [
              0.1111111111111111,
              "#46039f"
             ],
             [
              0.2222222222222222,
              "#7201a8"
             ],
             [
              0.3333333333333333,
              "#9c179e"
             ],
             [
              0.4444444444444444,
              "#bd3786"
             ],
             [
              0.5555555555555556,
              "#d8576b"
             ],
             [
              0.6666666666666666,
              "#ed7953"
             ],
             [
              0.7777777777777778,
              "#fb9f3a"
             ],
             [
              0.8888888888888888,
              "#fdca26"
             ],
             [
              1,
              "#f0f921"
             ]
            ],
            "type": "heatmap"
           }
          ],
          "heatmapgl": [
           {
            "colorbar": {
             "outlinewidth": 0,
             "ticks": ""
            },
            "colorscale": [
             [
              0,
              "#0d0887"
             ],
             [
              0.1111111111111111,
              "#46039f"
             ],
             [
              0.2222222222222222,
              "#7201a8"
             ],
             [
              0.3333333333333333,
              "#9c179e"
             ],
             [
              0.4444444444444444,
              "#bd3786"
             ],
             [
              0.5555555555555556,
              "#d8576b"
             ],
             [
              0.6666666666666666,
              "#ed7953"
             ],
             [
              0.7777777777777778,
              "#fb9f3a"
             ],
             [
              0.8888888888888888,
              "#fdca26"
             ],
             [
              1,
              "#f0f921"
             ]
            ],
            "type": "heatmapgl"
           }
          ],
          "histogram": [
           {
            "marker": {
             "pattern": {
              "fillmode": "overlay",
              "size": 10,
              "solidity": 0.2
             }
            },
            "type": "histogram"
           }
          ],
          "histogram2d": [
           {
            "colorbar": {
             "outlinewidth": 0,
             "ticks": ""
            },
            "colorscale": [
             [
              0,
              "#0d0887"
             ],
             [
              0.1111111111111111,
              "#46039f"
             ],
             [
              0.2222222222222222,
              "#7201a8"
             ],
             [
              0.3333333333333333,
              "#9c179e"
             ],
             [
              0.4444444444444444,
              "#bd3786"
             ],
             [
              0.5555555555555556,
              "#d8576b"
             ],
             [
              0.6666666666666666,
              "#ed7953"
             ],
             [
              0.7777777777777778,
              "#fb9f3a"
             ],
             [
              0.8888888888888888,
              "#fdca26"
             ],
             [
              1,
              "#f0f921"
             ]
            ],
            "type": "histogram2d"
           }
          ],
          "histogram2dcontour": [
           {
            "colorbar": {
             "outlinewidth": 0,
             "ticks": ""
            },
            "colorscale": [
             [
              0,
              "#0d0887"
             ],
             [
              0.1111111111111111,
              "#46039f"
             ],
             [
              0.2222222222222222,
              "#7201a8"
             ],
             [
              0.3333333333333333,
              "#9c179e"
             ],
             [
              0.4444444444444444,
              "#bd3786"
             ],
             [
              0.5555555555555556,
              "#d8576b"
             ],
             [
              0.6666666666666666,
              "#ed7953"
             ],
             [
              0.7777777777777778,
              "#fb9f3a"
             ],
             [
              0.8888888888888888,
              "#fdca26"
             ],
             [
              1,
              "#f0f921"
             ]
            ],
            "type": "histogram2dcontour"
           }
          ],
          "mesh3d": [
           {
            "colorbar": {
             "outlinewidth": 0,
             "ticks": ""
            },
            "type": "mesh3d"
           }
          ],
          "parcoords": [
           {
            "line": {
             "colorbar": {
              "outlinewidth": 0,
              "ticks": ""
             }
            },
            "type": "parcoords"
           }
          ],
          "pie": [
           {
            "automargin": true,
            "type": "pie"
           }
          ],
          "scatter": [
           {
            "fillpattern": {
             "fillmode": "overlay",
             "size": 10,
             "solidity": 0.2
            },
            "type": "scatter"
           }
          ],
          "scatter3d": [
           {
            "line": {
             "colorbar": {
              "outlinewidth": 0,
              "ticks": ""
             }
            },
            "marker": {
             "colorbar": {
              "outlinewidth": 0,
              "ticks": ""
             }
            },
            "type": "scatter3d"
           }
          ],
          "scattercarpet": [
           {
            "marker": {
             "colorbar": {
              "outlinewidth": 0,
              "ticks": ""
             }
            },
            "type": "scattercarpet"
           }
          ],
          "scattergeo": [
           {
            "marker": {
             "colorbar": {
              "outlinewidth": 0,
              "ticks": ""
             }
            },
            "type": "scattergeo"
           }
          ],
          "scattergl": [
           {
            "marker": {
             "colorbar": {
              "outlinewidth": 0,
              "ticks": ""
             }
            },
            "type": "scattergl"
           }
          ],
          "scattermapbox": [
           {
            "marker": {
             "colorbar": {
              "outlinewidth": 0,
              "ticks": ""
             }
            },
            "type": "scattermapbox"
           }
          ],
          "scatterpolar": [
           {
            "marker": {
             "colorbar": {
              "outlinewidth": 0,
              "ticks": ""
             }
            },
            "type": "scatterpolar"
           }
          ],
          "scatterpolargl": [
           {
            "marker": {
             "colorbar": {
              "outlinewidth": 0,
              "ticks": ""
             }
            },
            "type": "scatterpolargl"
           }
          ],
          "scatterternary": [
           {
            "marker": {
             "colorbar": {
              "outlinewidth": 0,
              "ticks": ""
             }
            },
            "type": "scatterternary"
           }
          ],
          "surface": [
           {
            "colorbar": {
             "outlinewidth": 0,
             "ticks": ""
            },
            "colorscale": [
             [
              0,
              "#0d0887"
             ],
             [
              0.1111111111111111,
              "#46039f"
             ],
             [
              0.2222222222222222,
              "#7201a8"
             ],
             [
              0.3333333333333333,
              "#9c179e"
             ],
             [
              0.4444444444444444,
              "#bd3786"
             ],
             [
              0.5555555555555556,
              "#d8576b"
             ],
             [
              0.6666666666666666,
              "#ed7953"
             ],
             [
              0.7777777777777778,
              "#fb9f3a"
             ],
             [
              0.8888888888888888,
              "#fdca26"
             ],
             [
              1,
              "#f0f921"
             ]
            ],
            "type": "surface"
           }
          ],
          "table": [
           {
            "cells": {
             "fill": {
              "color": "#EBF0F8"
             },
             "line": {
              "color": "white"
             }
            },
            "header": {
             "fill": {
              "color": "#C8D4E3"
             },
             "line": {
              "color": "white"
             }
            },
            "type": "table"
           }
          ]
         },
         "layout": {
          "annotationdefaults": {
           "arrowcolor": "#2a3f5f",
           "arrowhead": 0,
           "arrowwidth": 1
          },
          "autotypenumbers": "strict",
          "coloraxis": {
           "colorbar": {
            "outlinewidth": 0,
            "ticks": ""
           }
          },
          "colorscale": {
           "diverging": [
            [
             0,
             "#8e0152"
            ],
            [
             0.1,
             "#c51b7d"
            ],
            [
             0.2,
             "#de77ae"
            ],
            [
             0.3,
             "#f1b6da"
            ],
            [
             0.4,
             "#fde0ef"
            ],
            [
             0.5,
             "#f7f7f7"
            ],
            [
             0.6,
             "#e6f5d0"
            ],
            [
             0.7,
             "#b8e186"
            ],
            [
             0.8,
             "#7fbc41"
            ],
            [
             0.9,
             "#4d9221"
            ],
            [
             1,
             "#276419"
            ]
           ],
           "sequential": [
            [
             0,
             "#0d0887"
            ],
            [
             0.1111111111111111,
             "#46039f"
            ],
            [
             0.2222222222222222,
             "#7201a8"
            ],
            [
             0.3333333333333333,
             "#9c179e"
            ],
            [
             0.4444444444444444,
             "#bd3786"
            ],
            [
             0.5555555555555556,
             "#d8576b"
            ],
            [
             0.6666666666666666,
             "#ed7953"
            ],
            [
             0.7777777777777778,
             "#fb9f3a"
            ],
            [
             0.8888888888888888,
             "#fdca26"
            ],
            [
             1,
             "#f0f921"
            ]
           ],
           "sequentialminus": [
            [
             0,
             "#0d0887"
            ],
            [
             0.1111111111111111,
             "#46039f"
            ],
            [
             0.2222222222222222,
             "#7201a8"
            ],
            [
             0.3333333333333333,
             "#9c179e"
            ],
            [
             0.4444444444444444,
             "#bd3786"
            ],
            [
             0.5555555555555556,
             "#d8576b"
            ],
            [
             0.6666666666666666,
             "#ed7953"
            ],
            [
             0.7777777777777778,
             "#fb9f3a"
            ],
            [
             0.8888888888888888,
             "#fdca26"
            ],
            [
             1,
             "#f0f921"
            ]
           ]
          },
          "colorway": [
           "#636efa",
           "#EF553B",
           "#00cc96",
           "#ab63fa",
           "#FFA15A",
           "#19d3f3",
           "#FF6692",
           "#B6E880",
           "#FF97FF",
           "#FECB52"
          ],
          "font": {
           "color": "#2a3f5f"
          },
          "geo": {
           "bgcolor": "white",
           "lakecolor": "white",
           "landcolor": "#E5ECF6",
           "showlakes": true,
           "showland": true,
           "subunitcolor": "white"
          },
          "hoverlabel": {
           "align": "left"
          },
          "hovermode": "closest",
          "mapbox": {
           "style": "light"
          },
          "paper_bgcolor": "white",
          "plot_bgcolor": "#E5ECF6",
          "polar": {
           "angularaxis": {
            "gridcolor": "white",
            "linecolor": "white",
            "ticks": ""
           },
           "bgcolor": "#E5ECF6",
           "radialaxis": {
            "gridcolor": "white",
            "linecolor": "white",
            "ticks": ""
           }
          },
          "scene": {
           "xaxis": {
            "backgroundcolor": "#E5ECF6",
            "gridcolor": "white",
            "gridwidth": 2,
            "linecolor": "white",
            "showbackground": true,
            "ticks": "",
            "zerolinecolor": "white"
           },
           "yaxis": {
            "backgroundcolor": "#E5ECF6",
            "gridcolor": "white",
            "gridwidth": 2,
            "linecolor": "white",
            "showbackground": true,
            "ticks": "",
            "zerolinecolor": "white"
           },
           "zaxis": {
            "backgroundcolor": "#E5ECF6",
            "gridcolor": "white",
            "gridwidth": 2,
            "linecolor": "white",
            "showbackground": true,
            "ticks": "",
            "zerolinecolor": "white"
           }
          },
          "shapedefaults": {
           "line": {
            "color": "#2a3f5f"
           }
          },
          "ternary": {
           "aaxis": {
            "gridcolor": "white",
            "linecolor": "white",
            "ticks": ""
           },
           "baxis": {
            "gridcolor": "white",
            "linecolor": "white",
            "ticks": ""
           },
           "bgcolor": "#E5ECF6",
           "caxis": {
            "gridcolor": "white",
            "linecolor": "white",
            "ticks": ""
           }
          },
          "title": {
           "x": 0.05
          },
          "xaxis": {
           "automargin": true,
           "gridcolor": "white",
           "linecolor": "white",
           "ticks": "",
           "title": {
            "standoff": 15
           },
           "zerolinecolor": "white",
           "zerolinewidth": 2
          },
          "yaxis": {
           "automargin": true,
           "gridcolor": "white",
           "linecolor": "white",
           "ticks": "",
           "title": {
            "standoff": 15
           },
           "zerolinecolor": "white",
           "zerolinewidth": 2
          }
         }
        },
        "title": {
         "text": "Your Audio Features",
         "x": 0.5,
         "y": 0.95
        }
       }
      }
     },
     "metadata": {},
     "output_type": "display_data"
    }
   ],
   "source": [
    "# Create radar chart\n",
    "fig1 = go.Figure(data=go.Scatterpolar(\n",
    "    r=list(round(music_feature_upbeats.median(),2)),\n",
    "    theta=['Danceability', 'Energy', 'Loudness', 'Speechiness', 'Valence','Tempo','Popularity'],\n",
    "    fill='toself'\n",
    "))\n",
    "\n",
    "# Update chart layout\n",
    "fig1.update_layout(\n",
    "    polar=dict(\n",
    "        radialaxis=dict(\n",
    "            # gridcolor=\"skyblue\",\n",
    "            visible=True,\n",
    "            range=[0,1],\n",
    "            tickfont=dict(color='slategrey')\n",
    "        )),\n",
    "    showlegend=False,\n",
    "    title={'text': \"Your Audio Features\", 'x': 0.5, 'y': 0.95},\n",
    "    margin=dict(l=0, r=0, t=60, b=0),\n",
    "    font=dict(size=14)\n",
    ")\n",
    "# sandybrown, seagreen, seashell, sienna, silver,\n",
    "#             skyblue, slateblue, slategray, slategrey, snow,\n",
    "#             springgreen, steelblue, tan, teal, thistle, tomato,\n",
    "#             turquoise, violet, wheat, white, whitesmoke,\n",
    "#             yellow, yellowgreen\n",
    "# Show chart\n",
    "fig1.show()\n",
    "\n",
    "#change the website color\n",
    "# from IPython.display import display, HTML\n",
    "# display(HTML('<style>body{background-color: white;}</style>'))\n"
   ]
  },
  {
   "cell_type": "code",
   "execution_count": 29,
   "metadata": {},
   "outputs": [
    {
     "data": {
      "application/vnd.plotly.v1+json": {
       "config": {
        "plotlyServerURL": "https://plot.ly"
       },
       "data": [
        {
         "fill": "toself",
         "r": [
          0.52,
          0.34,
          0.74,
          0.03,
          0.26,
          0.45,
          0.74
         ],
         "theta": [
          "Danceability",
          "Energy",
          "Loudness",
          "Speechiness",
          "Valence",
          "Tempo",
          "Popularity"
         ],
         "type": "scatterpolar"
        }
       ],
       "layout": {
        "font": {
         "size": 14
        },
        "margin": {
         "b": 0,
         "l": 0,
         "r": 0,
         "t": 60
        },
        "polar": {
         "radialaxis": {
          "range": [
           0,
           1
          ],
          "tickfont": {
           "color": "slategrey"
          },
          "visible": true
         }
        },
        "showlegend": false,
        "template": {
         "data": {
          "bar": [
           {
            "error_x": {
             "color": "#2a3f5f"
            },
            "error_y": {
             "color": "#2a3f5f"
            },
            "marker": {
             "line": {
              "color": "#E5ECF6",
              "width": 0.5
             },
             "pattern": {
              "fillmode": "overlay",
              "size": 10,
              "solidity": 0.2
             }
            },
            "type": "bar"
           }
          ],
          "barpolar": [
           {
            "marker": {
             "line": {
              "color": "#E5ECF6",
              "width": 0.5
             },
             "pattern": {
              "fillmode": "overlay",
              "size": 10,
              "solidity": 0.2
             }
            },
            "type": "barpolar"
           }
          ],
          "carpet": [
           {
            "aaxis": {
             "endlinecolor": "#2a3f5f",
             "gridcolor": "white",
             "linecolor": "white",
             "minorgridcolor": "white",
             "startlinecolor": "#2a3f5f"
            },
            "baxis": {
             "endlinecolor": "#2a3f5f",
             "gridcolor": "white",
             "linecolor": "white",
             "minorgridcolor": "white",
             "startlinecolor": "#2a3f5f"
            },
            "type": "carpet"
           }
          ],
          "choropleth": [
           {
            "colorbar": {
             "outlinewidth": 0,
             "ticks": ""
            },
            "type": "choropleth"
           }
          ],
          "contour": [
           {
            "colorbar": {
             "outlinewidth": 0,
             "ticks": ""
            },
            "colorscale": [
             [
              0,
              "#0d0887"
             ],
             [
              0.1111111111111111,
              "#46039f"
             ],
             [
              0.2222222222222222,
              "#7201a8"
             ],
             [
              0.3333333333333333,
              "#9c179e"
             ],
             [
              0.4444444444444444,
              "#bd3786"
             ],
             [
              0.5555555555555556,
              "#d8576b"
             ],
             [
              0.6666666666666666,
              "#ed7953"
             ],
             [
              0.7777777777777778,
              "#fb9f3a"
             ],
             [
              0.8888888888888888,
              "#fdca26"
             ],
             [
              1,
              "#f0f921"
             ]
            ],
            "type": "contour"
           }
          ],
          "contourcarpet": [
           {
            "colorbar": {
             "outlinewidth": 0,
             "ticks": ""
            },
            "type": "contourcarpet"
           }
          ],
          "heatmap": [
           {
            "colorbar": {
             "outlinewidth": 0,
             "ticks": ""
            },
            "colorscale": [
             [
              0,
              "#0d0887"
             ],
             [
              0.1111111111111111,
              "#46039f"
             ],
             [
              0.2222222222222222,
              "#7201a8"
             ],
             [
              0.3333333333333333,
              "#9c179e"
             ],
             [
              0.4444444444444444,
              "#bd3786"
             ],
             [
              0.5555555555555556,
              "#d8576b"
             ],
             [
              0.6666666666666666,
              "#ed7953"
             ],
             [
              0.7777777777777778,
              "#fb9f3a"
             ],
             [
              0.8888888888888888,
              "#fdca26"
             ],
             [
              1,
              "#f0f921"
             ]
            ],
            "type": "heatmap"
           }
          ],
          "heatmapgl": [
           {
            "colorbar": {
             "outlinewidth": 0,
             "ticks": ""
            },
            "colorscale": [
             [
              0,
              "#0d0887"
             ],
             [
              0.1111111111111111,
              "#46039f"
             ],
             [
              0.2222222222222222,
              "#7201a8"
             ],
             [
              0.3333333333333333,
              "#9c179e"
             ],
             [
              0.4444444444444444,
              "#bd3786"
             ],
             [
              0.5555555555555556,
              "#d8576b"
             ],
             [
              0.6666666666666666,
              "#ed7953"
             ],
             [
              0.7777777777777778,
              "#fb9f3a"
             ],
             [
              0.8888888888888888,
              "#fdca26"
             ],
             [
              1,
              "#f0f921"
             ]
            ],
            "type": "heatmapgl"
           }
          ],
          "histogram": [
           {
            "marker": {
             "pattern": {
              "fillmode": "overlay",
              "size": 10,
              "solidity": 0.2
             }
            },
            "type": "histogram"
           }
          ],
          "histogram2d": [
           {
            "colorbar": {
             "outlinewidth": 0,
             "ticks": ""
            },
            "colorscale": [
             [
              0,
              "#0d0887"
             ],
             [
              0.1111111111111111,
              "#46039f"
             ],
             [
              0.2222222222222222,
              "#7201a8"
             ],
             [
              0.3333333333333333,
              "#9c179e"
             ],
             [
              0.4444444444444444,
              "#bd3786"
             ],
             [
              0.5555555555555556,
              "#d8576b"
             ],
             [
              0.6666666666666666,
              "#ed7953"
             ],
             [
              0.7777777777777778,
              "#fb9f3a"
             ],
             [
              0.8888888888888888,
              "#fdca26"
             ],
             [
              1,
              "#f0f921"
             ]
            ],
            "type": "histogram2d"
           }
          ],
          "histogram2dcontour": [
           {
            "colorbar": {
             "outlinewidth": 0,
             "ticks": ""
            },
            "colorscale": [
             [
              0,
              "#0d0887"
             ],
             [
              0.1111111111111111,
              "#46039f"
             ],
             [
              0.2222222222222222,
              "#7201a8"
             ],
             [
              0.3333333333333333,
              "#9c179e"
             ],
             [
              0.4444444444444444,
              "#bd3786"
             ],
             [
              0.5555555555555556,
              "#d8576b"
             ],
             [
              0.6666666666666666,
              "#ed7953"
             ],
             [
              0.7777777777777778,
              "#fb9f3a"
             ],
             [
              0.8888888888888888,
              "#fdca26"
             ],
             [
              1,
              "#f0f921"
             ]
            ],
            "type": "histogram2dcontour"
           }
          ],
          "mesh3d": [
           {
            "colorbar": {
             "outlinewidth": 0,
             "ticks": ""
            },
            "type": "mesh3d"
           }
          ],
          "parcoords": [
           {
            "line": {
             "colorbar": {
              "outlinewidth": 0,
              "ticks": ""
             }
            },
            "type": "parcoords"
           }
          ],
          "pie": [
           {
            "automargin": true,
            "type": "pie"
           }
          ],
          "scatter": [
           {
            "fillpattern": {
             "fillmode": "overlay",
             "size": 10,
             "solidity": 0.2
            },
            "type": "scatter"
           }
          ],
          "scatter3d": [
           {
            "line": {
             "colorbar": {
              "outlinewidth": 0,
              "ticks": ""
             }
            },
            "marker": {
             "colorbar": {
              "outlinewidth": 0,
              "ticks": ""
             }
            },
            "type": "scatter3d"
           }
          ],
          "scattercarpet": [
           {
            "marker": {
             "colorbar": {
              "outlinewidth": 0,
              "ticks": ""
             }
            },
            "type": "scattercarpet"
           }
          ],
          "scattergeo": [
           {
            "marker": {
             "colorbar": {
              "outlinewidth": 0,
              "ticks": ""
             }
            },
            "type": "scattergeo"
           }
          ],
          "scattergl": [
           {
            "marker": {
             "colorbar": {
              "outlinewidth": 0,
              "ticks": ""
             }
            },
            "type": "scattergl"
           }
          ],
          "scattermapbox": [
           {
            "marker": {
             "colorbar": {
              "outlinewidth": 0,
              "ticks": ""
             }
            },
            "type": "scattermapbox"
           }
          ],
          "scatterpolar": [
           {
            "marker": {
             "colorbar": {
              "outlinewidth": 0,
              "ticks": ""
             }
            },
            "type": "scatterpolar"
           }
          ],
          "scatterpolargl": [
           {
            "marker": {
             "colorbar": {
              "outlinewidth": 0,
              "ticks": ""
             }
            },
            "type": "scatterpolargl"
           }
          ],
          "scatterternary": [
           {
            "marker": {
             "colorbar": {
              "outlinewidth": 0,
              "ticks": ""
             }
            },
            "type": "scatterternary"
           }
          ],
          "surface": [
           {
            "colorbar": {
             "outlinewidth": 0,
             "ticks": ""
            },
            "colorscale": [
             [
              0,
              "#0d0887"
             ],
             [
              0.1111111111111111,
              "#46039f"
             ],
             [
              0.2222222222222222,
              "#7201a8"
             ],
             [
              0.3333333333333333,
              "#9c179e"
             ],
             [
              0.4444444444444444,
              "#bd3786"
             ],
             [
              0.5555555555555556,
              "#d8576b"
             ],
             [
              0.6666666666666666,
              "#ed7953"
             ],
             [
              0.7777777777777778,
              "#fb9f3a"
             ],
             [
              0.8888888888888888,
              "#fdca26"
             ],
             [
              1,
              "#f0f921"
             ]
            ],
            "type": "surface"
           }
          ],
          "table": [
           {
            "cells": {
             "fill": {
              "color": "#EBF0F8"
             },
             "line": {
              "color": "white"
             }
            },
            "header": {
             "fill": {
              "color": "#C8D4E3"
             },
             "line": {
              "color": "white"
             }
            },
            "type": "table"
           }
          ]
         },
         "layout": {
          "annotationdefaults": {
           "arrowcolor": "#2a3f5f",
           "arrowhead": 0,
           "arrowwidth": 1
          },
          "autotypenumbers": "strict",
          "coloraxis": {
           "colorbar": {
            "outlinewidth": 0,
            "ticks": ""
           }
          },
          "colorscale": {
           "diverging": [
            [
             0,
             "#8e0152"
            ],
            [
             0.1,
             "#c51b7d"
            ],
            [
             0.2,
             "#de77ae"
            ],
            [
             0.3,
             "#f1b6da"
            ],
            [
             0.4,
             "#fde0ef"
            ],
            [
             0.5,
             "#f7f7f7"
            ],
            [
             0.6,
             "#e6f5d0"
            ],
            [
             0.7,
             "#b8e186"
            ],
            [
             0.8,
             "#7fbc41"
            ],
            [
             0.9,
             "#4d9221"
            ],
            [
             1,
             "#276419"
            ]
           ],
           "sequential": [
            [
             0,
             "#0d0887"
            ],
            [
             0.1111111111111111,
             "#46039f"
            ],
            [
             0.2222222222222222,
             "#7201a8"
            ],
            [
             0.3333333333333333,
             "#9c179e"
            ],
            [
             0.4444444444444444,
             "#bd3786"
            ],
            [
             0.5555555555555556,
             "#d8576b"
            ],
            [
             0.6666666666666666,
             "#ed7953"
            ],
            [
             0.7777777777777778,
             "#fb9f3a"
            ],
            [
             0.8888888888888888,
             "#fdca26"
            ],
            [
             1,
             "#f0f921"
            ]
           ],
           "sequentialminus": [
            [
             0,
             "#0d0887"
            ],
            [
             0.1111111111111111,
             "#46039f"
            ],
            [
             0.2222222222222222,
             "#7201a8"
            ],
            [
             0.3333333333333333,
             "#9c179e"
            ],
            [
             0.4444444444444444,
             "#bd3786"
            ],
            [
             0.5555555555555556,
             "#d8576b"
            ],
            [
             0.6666666666666666,
             "#ed7953"
            ],
            [
             0.7777777777777778,
             "#fb9f3a"
            ],
            [
             0.8888888888888888,
             "#fdca26"
            ],
            [
             1,
             "#f0f921"
            ]
           ]
          },
          "colorway": [
           "#636efa",
           "#EF553B",
           "#00cc96",
           "#ab63fa",
           "#FFA15A",
           "#19d3f3",
           "#FF6692",
           "#B6E880",
           "#FF97FF",
           "#FECB52"
          ],
          "font": {
           "color": "#2a3f5f"
          },
          "geo": {
           "bgcolor": "white",
           "lakecolor": "white",
           "landcolor": "#E5ECF6",
           "showlakes": true,
           "showland": true,
           "subunitcolor": "white"
          },
          "hoverlabel": {
           "align": "left"
          },
          "hovermode": "closest",
          "mapbox": {
           "style": "light"
          },
          "paper_bgcolor": "white",
          "plot_bgcolor": "#E5ECF6",
          "polar": {
           "angularaxis": {
            "gridcolor": "white",
            "linecolor": "white",
            "ticks": ""
           },
           "bgcolor": "#E5ECF6",
           "radialaxis": {
            "gridcolor": "white",
            "linecolor": "white",
            "ticks": ""
           }
          },
          "scene": {
           "xaxis": {
            "backgroundcolor": "#E5ECF6",
            "gridcolor": "white",
            "gridwidth": 2,
            "linecolor": "white",
            "showbackground": true,
            "ticks": "",
            "zerolinecolor": "white"
           },
           "yaxis": {
            "backgroundcolor": "#E5ECF6",
            "gridcolor": "white",
            "gridwidth": 2,
            "linecolor": "white",
            "showbackground": true,
            "ticks": "",
            "zerolinecolor": "white"
           },
           "zaxis": {
            "backgroundcolor": "#E5ECF6",
            "gridcolor": "white",
            "gridwidth": 2,
            "linecolor": "white",
            "showbackground": true,
            "ticks": "",
            "zerolinecolor": "white"
           }
          },
          "shapedefaults": {
           "line": {
            "color": "#2a3f5f"
           }
          },
          "ternary": {
           "aaxis": {
            "gridcolor": "white",
            "linecolor": "white",
            "ticks": ""
           },
           "baxis": {
            "gridcolor": "white",
            "linecolor": "white",
            "ticks": ""
           },
           "bgcolor": "#E5ECF6",
           "caxis": {
            "gridcolor": "white",
            "linecolor": "white",
            "ticks": ""
           }
          },
          "title": {
           "x": 0.05
          },
          "xaxis": {
           "automargin": true,
           "gridcolor": "white",
           "linecolor": "white",
           "ticks": "",
           "title": {
            "standoff": 15
           },
           "zerolinecolor": "white",
           "zerolinewidth": 2
          },
          "yaxis": {
           "automargin": true,
           "gridcolor": "white",
           "linecolor": "white",
           "ticks": "",
           "title": {
            "standoff": 15
           },
           "zerolinecolor": "white",
           "zerolinewidth": 2
          }
         }
        },
        "title": {
         "text": "Your Audio Features",
         "x": 0.5,
         "y": 0.95
        }
       }
      }
     },
     "metadata": {},
     "output_type": "display_data"
    }
   ],
   "source": [
    "# Create radar chart\n",
    "fig2 = go.Figure(data=go.Scatterpolar(\n",
    "    r=list(round(music_feature_sads.median(),2)),\n",
    "    theta=['Danceability', 'Energy', 'Loudness', 'Speechiness', 'Valence','Tempo','Popularity'],\n",
    "    fill='toself'\n",
    "))\n",
    "\n",
    "# Update chart layout\n",
    "fig2.update_layout(\n",
    "    polar=dict(\n",
    "        radialaxis=dict(\n",
    "            # gridcolor=\"skyblue\",\n",
    "            visible=True,\n",
    "            range=[0,1],\n",
    "            tickfont=dict(color='slategrey')\n",
    "        )),\n",
    "    showlegend=False,\n",
    "    title={'text': \"Your Audio Features\", 'x': 0.5, 'y': 0.95},\n",
    "    margin=dict(l=0, r=0, t=60, b=0),\n",
    "    font=dict(size=14)\n",
    ")\n",
    "fig2.show()\n",
    "\n"
   ]
  },
  {
   "cell_type": "markdown",
   "metadata": {},
   "source": [
    "### Findings:\n",
    "Upbeat: High energy, high valence, high loudness\n",
    "\n",
    "Sad: Low energy, low valence, high loudness"
   ]
  },
  {
   "cell_type": "code",
   "execution_count": 17,
   "metadata": {},
   "outputs": [],
   "source": [
    "my_songs = pd.read_csv('AudioFeaturesTable.csv')"
   ]
  },
  {
   "cell_type": "code",
   "execution_count": 30,
   "metadata": {},
   "outputs": [],
   "source": [
    "my_features = my_songs[['danceability', 'energy', 'loudness','speechiness',\n",
    "                             'valence', 'tempo', 'popularity']]\n",
    "\n",
    "music_feature_me = pd.DataFrame(scaler.fit_transform(my_features), columns=my_features.columns)"
   ]
  },
  {
   "cell_type": "code",
   "execution_count": 31,
   "metadata": {},
   "outputs": [
    {
     "data": {
      "application/vnd.plotly.v1+json": {
       "config": {
        "plotlyServerURL": "https://plot.ly"
       },
       "data": [
        {
         "fill": "toself",
         "r": [
          0.57,
          0.57,
          0.78,
          0.05,
          0.35,
          0.45,
          0.58
         ],
         "theta": [
          "Danceability",
          "Energy",
          "Loudness",
          "Speechiness",
          "Valence",
          "Tempo",
          "Popularity"
         ],
         "type": "scatterpolar"
        }
       ],
       "layout": {
        "font": {
         "size": 14
        },
        "margin": {
         "b": 0,
         "l": 0,
         "r": 0,
         "t": 60
        },
        "polar": {
         "radialaxis": {
          "range": [
           0,
           1
          ],
          "tickfont": {
           "color": "slategrey"
          },
          "visible": true
         }
        },
        "showlegend": false,
        "template": {
         "data": {
          "bar": [
           {
            "error_x": {
             "color": "#2a3f5f"
            },
            "error_y": {
             "color": "#2a3f5f"
            },
            "marker": {
             "line": {
              "color": "#E5ECF6",
              "width": 0.5
             },
             "pattern": {
              "fillmode": "overlay",
              "size": 10,
              "solidity": 0.2
             }
            },
            "type": "bar"
           }
          ],
          "barpolar": [
           {
            "marker": {
             "line": {
              "color": "#E5ECF6",
              "width": 0.5
             },
             "pattern": {
              "fillmode": "overlay",
              "size": 10,
              "solidity": 0.2
             }
            },
            "type": "barpolar"
           }
          ],
          "carpet": [
           {
            "aaxis": {
             "endlinecolor": "#2a3f5f",
             "gridcolor": "white",
             "linecolor": "white",
             "minorgridcolor": "white",
             "startlinecolor": "#2a3f5f"
            },
            "baxis": {
             "endlinecolor": "#2a3f5f",
             "gridcolor": "white",
             "linecolor": "white",
             "minorgridcolor": "white",
             "startlinecolor": "#2a3f5f"
            },
            "type": "carpet"
           }
          ],
          "choropleth": [
           {
            "colorbar": {
             "outlinewidth": 0,
             "ticks": ""
            },
            "type": "choropleth"
           }
          ],
          "contour": [
           {
            "colorbar": {
             "outlinewidth": 0,
             "ticks": ""
            },
            "colorscale": [
             [
              0,
              "#0d0887"
             ],
             [
              0.1111111111111111,
              "#46039f"
             ],
             [
              0.2222222222222222,
              "#7201a8"
             ],
             [
              0.3333333333333333,
              "#9c179e"
             ],
             [
              0.4444444444444444,
              "#bd3786"
             ],
             [
              0.5555555555555556,
              "#d8576b"
             ],
             [
              0.6666666666666666,
              "#ed7953"
             ],
             [
              0.7777777777777778,
              "#fb9f3a"
             ],
             [
              0.8888888888888888,
              "#fdca26"
             ],
             [
              1,
              "#f0f921"
             ]
            ],
            "type": "contour"
           }
          ],
          "contourcarpet": [
           {
            "colorbar": {
             "outlinewidth": 0,
             "ticks": ""
            },
            "type": "contourcarpet"
           }
          ],
          "heatmap": [
           {
            "colorbar": {
             "outlinewidth": 0,
             "ticks": ""
            },
            "colorscale": [
             [
              0,
              "#0d0887"
             ],
             [
              0.1111111111111111,
              "#46039f"
             ],
             [
              0.2222222222222222,
              "#7201a8"
             ],
             [
              0.3333333333333333,
              "#9c179e"
             ],
             [
              0.4444444444444444,
              "#bd3786"
             ],
             [
              0.5555555555555556,
              "#d8576b"
             ],
             [
              0.6666666666666666,
              "#ed7953"
             ],
             [
              0.7777777777777778,
              "#fb9f3a"
             ],
             [
              0.8888888888888888,
              "#fdca26"
             ],
             [
              1,
              "#f0f921"
             ]
            ],
            "type": "heatmap"
           }
          ],
          "heatmapgl": [
           {
            "colorbar": {
             "outlinewidth": 0,
             "ticks": ""
            },
            "colorscale": [
             [
              0,
              "#0d0887"
             ],
             [
              0.1111111111111111,
              "#46039f"
             ],
             [
              0.2222222222222222,
              "#7201a8"
             ],
             [
              0.3333333333333333,
              "#9c179e"
             ],
             [
              0.4444444444444444,
              "#bd3786"
             ],
             [
              0.5555555555555556,
              "#d8576b"
             ],
             [
              0.6666666666666666,
              "#ed7953"
             ],
             [
              0.7777777777777778,
              "#fb9f3a"
             ],
             [
              0.8888888888888888,
              "#fdca26"
             ],
             [
              1,
              "#f0f921"
             ]
            ],
            "type": "heatmapgl"
           }
          ],
          "histogram": [
           {
            "marker": {
             "pattern": {
              "fillmode": "overlay",
              "size": 10,
              "solidity": 0.2
             }
            },
            "type": "histogram"
           }
          ],
          "histogram2d": [
           {
            "colorbar": {
             "outlinewidth": 0,
             "ticks": ""
            },
            "colorscale": [
             [
              0,
              "#0d0887"
             ],
             [
              0.1111111111111111,
              "#46039f"
             ],
             [
              0.2222222222222222,
              "#7201a8"
             ],
             [
              0.3333333333333333,
              "#9c179e"
             ],
             [
              0.4444444444444444,
              "#bd3786"
             ],
             [
              0.5555555555555556,
              "#d8576b"
             ],
             [
              0.6666666666666666,
              "#ed7953"
             ],
             [
              0.7777777777777778,
              "#fb9f3a"
             ],
             [
              0.8888888888888888,
              "#fdca26"
             ],
             [
              1,
              "#f0f921"
             ]
            ],
            "type": "histogram2d"
           }
          ],
          "histogram2dcontour": [
           {
            "colorbar": {
             "outlinewidth": 0,
             "ticks": ""
            },
            "colorscale": [
             [
              0,
              "#0d0887"
             ],
             [
              0.1111111111111111,
              "#46039f"
             ],
             [
              0.2222222222222222,
              "#7201a8"
             ],
             [
              0.3333333333333333,
              "#9c179e"
             ],
             [
              0.4444444444444444,
              "#bd3786"
             ],
             [
              0.5555555555555556,
              "#d8576b"
             ],
             [
              0.6666666666666666,
              "#ed7953"
             ],
             [
              0.7777777777777778,
              "#fb9f3a"
             ],
             [
              0.8888888888888888,
              "#fdca26"
             ],
             [
              1,
              "#f0f921"
             ]
            ],
            "type": "histogram2dcontour"
           }
          ],
          "mesh3d": [
           {
            "colorbar": {
             "outlinewidth": 0,
             "ticks": ""
            },
            "type": "mesh3d"
           }
          ],
          "parcoords": [
           {
            "line": {
             "colorbar": {
              "outlinewidth": 0,
              "ticks": ""
             }
            },
            "type": "parcoords"
           }
          ],
          "pie": [
           {
            "automargin": true,
            "type": "pie"
           }
          ],
          "scatter": [
           {
            "fillpattern": {
             "fillmode": "overlay",
             "size": 10,
             "solidity": 0.2
            },
            "type": "scatter"
           }
          ],
          "scatter3d": [
           {
            "line": {
             "colorbar": {
              "outlinewidth": 0,
              "ticks": ""
             }
            },
            "marker": {
             "colorbar": {
              "outlinewidth": 0,
              "ticks": ""
             }
            },
            "type": "scatter3d"
           }
          ],
          "scattercarpet": [
           {
            "marker": {
             "colorbar": {
              "outlinewidth": 0,
              "ticks": ""
             }
            },
            "type": "scattercarpet"
           }
          ],
          "scattergeo": [
           {
            "marker": {
             "colorbar": {
              "outlinewidth": 0,
              "ticks": ""
             }
            },
            "type": "scattergeo"
           }
          ],
          "scattergl": [
           {
            "marker": {
             "colorbar": {
              "outlinewidth": 0,
              "ticks": ""
             }
            },
            "type": "scattergl"
           }
          ],
          "scattermapbox": [
           {
            "marker": {
             "colorbar": {
              "outlinewidth": 0,
              "ticks": ""
             }
            },
            "type": "scattermapbox"
           }
          ],
          "scatterpolar": [
           {
            "marker": {
             "colorbar": {
              "outlinewidth": 0,
              "ticks": ""
             }
            },
            "type": "scatterpolar"
           }
          ],
          "scatterpolargl": [
           {
            "marker": {
             "colorbar": {
              "outlinewidth": 0,
              "ticks": ""
             }
            },
            "type": "scatterpolargl"
           }
          ],
          "scatterternary": [
           {
            "marker": {
             "colorbar": {
              "outlinewidth": 0,
              "ticks": ""
             }
            },
            "type": "scatterternary"
           }
          ],
          "surface": [
           {
            "colorbar": {
             "outlinewidth": 0,
             "ticks": ""
            },
            "colorscale": [
             [
              0,
              "#0d0887"
             ],
             [
              0.1111111111111111,
              "#46039f"
             ],
             [
              0.2222222222222222,
              "#7201a8"
             ],
             [
              0.3333333333333333,
              "#9c179e"
             ],
             [
              0.4444444444444444,
              "#bd3786"
             ],
             [
              0.5555555555555556,
              "#d8576b"
             ],
             [
              0.6666666666666666,
              "#ed7953"
             ],
             [
              0.7777777777777778,
              "#fb9f3a"
             ],
             [
              0.8888888888888888,
              "#fdca26"
             ],
             [
              1,
              "#f0f921"
             ]
            ],
            "type": "surface"
           }
          ],
          "table": [
           {
            "cells": {
             "fill": {
              "color": "#EBF0F8"
             },
             "line": {
              "color": "white"
             }
            },
            "header": {
             "fill": {
              "color": "#C8D4E3"
             },
             "line": {
              "color": "white"
             }
            },
            "type": "table"
           }
          ]
         },
         "layout": {
          "annotationdefaults": {
           "arrowcolor": "#2a3f5f",
           "arrowhead": 0,
           "arrowwidth": 1
          },
          "autotypenumbers": "strict",
          "coloraxis": {
           "colorbar": {
            "outlinewidth": 0,
            "ticks": ""
           }
          },
          "colorscale": {
           "diverging": [
            [
             0,
             "#8e0152"
            ],
            [
             0.1,
             "#c51b7d"
            ],
            [
             0.2,
             "#de77ae"
            ],
            [
             0.3,
             "#f1b6da"
            ],
            [
             0.4,
             "#fde0ef"
            ],
            [
             0.5,
             "#f7f7f7"
            ],
            [
             0.6,
             "#e6f5d0"
            ],
            [
             0.7,
             "#b8e186"
            ],
            [
             0.8,
             "#7fbc41"
            ],
            [
             0.9,
             "#4d9221"
            ],
            [
             1,
             "#276419"
            ]
           ],
           "sequential": [
            [
             0,
             "#0d0887"
            ],
            [
             0.1111111111111111,
             "#46039f"
            ],
            [
             0.2222222222222222,
             "#7201a8"
            ],
            [
             0.3333333333333333,
             "#9c179e"
            ],
            [
             0.4444444444444444,
             "#bd3786"
            ],
            [
             0.5555555555555556,
             "#d8576b"
            ],
            [
             0.6666666666666666,
             "#ed7953"
            ],
            [
             0.7777777777777778,
             "#fb9f3a"
            ],
            [
             0.8888888888888888,
             "#fdca26"
            ],
            [
             1,
             "#f0f921"
            ]
           ],
           "sequentialminus": [
            [
             0,
             "#0d0887"
            ],
            [
             0.1111111111111111,
             "#46039f"
            ],
            [
             0.2222222222222222,
             "#7201a8"
            ],
            [
             0.3333333333333333,
             "#9c179e"
            ],
            [
             0.4444444444444444,
             "#bd3786"
            ],
            [
             0.5555555555555556,
             "#d8576b"
            ],
            [
             0.6666666666666666,
             "#ed7953"
            ],
            [
             0.7777777777777778,
             "#fb9f3a"
            ],
            [
             0.8888888888888888,
             "#fdca26"
            ],
            [
             1,
             "#f0f921"
            ]
           ]
          },
          "colorway": [
           "#636efa",
           "#EF553B",
           "#00cc96",
           "#ab63fa",
           "#FFA15A",
           "#19d3f3",
           "#FF6692",
           "#B6E880",
           "#FF97FF",
           "#FECB52"
          ],
          "font": {
           "color": "#2a3f5f"
          },
          "geo": {
           "bgcolor": "white",
           "lakecolor": "white",
           "landcolor": "#E5ECF6",
           "showlakes": true,
           "showland": true,
           "subunitcolor": "white"
          },
          "hoverlabel": {
           "align": "left"
          },
          "hovermode": "closest",
          "mapbox": {
           "style": "light"
          },
          "paper_bgcolor": "white",
          "plot_bgcolor": "#E5ECF6",
          "polar": {
           "angularaxis": {
            "gridcolor": "white",
            "linecolor": "white",
            "ticks": ""
           },
           "bgcolor": "#E5ECF6",
           "radialaxis": {
            "gridcolor": "white",
            "linecolor": "white",
            "ticks": ""
           }
          },
          "scene": {
           "xaxis": {
            "backgroundcolor": "#E5ECF6",
            "gridcolor": "white",
            "gridwidth": 2,
            "linecolor": "white",
            "showbackground": true,
            "ticks": "",
            "zerolinecolor": "white"
           },
           "yaxis": {
            "backgroundcolor": "#E5ECF6",
            "gridcolor": "white",
            "gridwidth": 2,
            "linecolor": "white",
            "showbackground": true,
            "ticks": "",
            "zerolinecolor": "white"
           },
           "zaxis": {
            "backgroundcolor": "#E5ECF6",
            "gridcolor": "white",
            "gridwidth": 2,
            "linecolor": "white",
            "showbackground": true,
            "ticks": "",
            "zerolinecolor": "white"
           }
          },
          "shapedefaults": {
           "line": {
            "color": "#2a3f5f"
           }
          },
          "ternary": {
           "aaxis": {
            "gridcolor": "white",
            "linecolor": "white",
            "ticks": ""
           },
           "baxis": {
            "gridcolor": "white",
            "linecolor": "white",
            "ticks": ""
           },
           "bgcolor": "#E5ECF6",
           "caxis": {
            "gridcolor": "white",
            "linecolor": "white",
            "ticks": ""
           }
          },
          "title": {
           "x": 0.05
          },
          "xaxis": {
           "automargin": true,
           "gridcolor": "white",
           "linecolor": "white",
           "ticks": "",
           "title": {
            "standoff": 15
           },
           "zerolinecolor": "white",
           "zerolinewidth": 2
          },
          "yaxis": {
           "automargin": true,
           "gridcolor": "white",
           "linecolor": "white",
           "ticks": "",
           "title": {
            "standoff": 15
           },
           "zerolinecolor": "white",
           "zerolinewidth": 2
          }
         }
        },
        "title": {
         "text": "Your Audio Features",
         "x": 0.5,
         "y": 0.95
        }
       }
      }
     },
     "metadata": {},
     "output_type": "display_data"
    }
   ],
   "source": [
    "# Create radar chart\n",
    "fig3 = go.Figure(data=go.Scatterpolar(\n",
    "    r=list(round(music_feature_me.median(),2)),\n",
    "    theta=['Danceability', 'Energy', 'Loudness', 'Speechiness', 'Valence','Tempo','Popularity'],\n",
    "    fill='toself'\n",
    "))\n",
    "\n",
    "# Update chart layout\n",
    "fig3.update_layout(\n",
    "    polar=dict(\n",
    "        radialaxis=dict(\n",
    "            # gridcolor=\"skyblue\",\n",
    "            visible=True,\n",
    "            range=[0,1],\n",
    "            tickfont=dict(color='slategrey')\n",
    "        )),\n",
    "    showlegend=False,\n",
    "    title={'text': \"Your Audio Features\", 'x': 0.5, 'y': 0.95},\n",
    "    margin=dict(l=0, r=0, t=60, b=0),\n",
    "    font=dict(size=14)\n",
    ")\n",
    "fig3.show()\n",
    "\n"
   ]
  },
  {
   "cell_type": "code",
   "execution_count": null,
   "metadata": {},
   "outputs": [],
   "source": [
    "import pandas as pd\n",
    "from sklearn.preprocessing import StandardScaler\n",
    "from sklearn.cluster import KMeans\n",
    "from sklearn.metrics.pairwise import cosine_similarity\n",
    "my_features = my_songs[['danceability', 'energy', 'loudness','speechiness',\n",
    "                             'valence', 'tempo']]\n",
    "sad_features = sads[['danceability', 'energy', 'loudness','speechiness',\n",
    "                             'valence', 'tempo']]\n",
    "sad_features = pd.DataFrame(scaler.fit_transform(sad_features), columns=features_only.columns)\n",
    "\n",
    "upbeat_features = upbeats[['danceability', 'energy', 'loudness','speechiness',\n",
    "                             'valence', 'tempo']]\n",
    "upbeat_features = pd.DataFrame(scaler.fit_transform(upbeat_features), columns=features_only.columns)\n",
    "# df_person = pd.read_csv('AudioFeaturesTable.csv')\n",
    "\n",
    "# Normalize audio feature\n",
    "my_features = pd.DataFrame(scaler.fit_transform(my_features), columns=features_only.columns)\n",
    "# Load audio features for person's playlist into a DataFrame\n",
    "# Cluster songs in person's playlist\n",
    "kmeans = KMeans(n_clusters=5)\n",
    "kmeans.fit(my_features)\n",
    "clusters = kmeans.predict(my_features)\n",
    "centroids = kmeans.cluster_centers_\n",
    "\n",
    "# Compute centroids for reference playlists\n",
    "\n",
    "centroid_upbeats = upbeat_features.mean(axis=0).values\n",
    "\n",
    "\n",
    "\n",
    "centroid_sads = sad_features.mean(axis=0).values\n",
    "\n",
    "# Compute similarity scores for reference playlists\n",
    "similarity_upbeats = cosine_similarity(centroids, centroid_upbeats.reshape(1, -1))\n",
    "similarity_sads = cosine_similarity(centroids, centroid_sads.reshape(1, -1))\n",
    "\n",
    "print('Similarity to reference playlist 1:', similarity_upbeats.sum())\n",
    "print('Similarity to reference playlist 2:', similarity_sads.sum())\n"
   ]
  },
  {
   "cell_type": "code",
   "execution_count": null,
   "metadata": {},
   "outputs": [],
   "source": []
  },
  {
   "cell_type": "code",
   "execution_count": null,
   "metadata": {},
   "outputs": [],
   "source": []
  }
 ],
 "metadata": {
  "kernelspec": {
   "display_name": "Python 3.9.13 ('base')",
   "language": "python",
   "name": "python3"
  },
  "language_info": {
   "codemirror_mode": {
    "name": "ipython",
    "version": 3
   },
   "file_extension": ".py",
   "mimetype": "text/x-python",
   "name": "python",
   "nbconvert_exporter": "python",
   "pygments_lexer": "ipython3",
   "version": "3.9.13"
  },
  "orig_nbformat": 4,
  "vscode": {
   "interpreter": {
    "hash": "1542a82b483d5ad2ca83ce0c398d44a22c02bec3316a4ca71b48491dc2ff12f4"
   }
  }
 },
 "nbformat": 4,
 "nbformat_minor": 2
}
